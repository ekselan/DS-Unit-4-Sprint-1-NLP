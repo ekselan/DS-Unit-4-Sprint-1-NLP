{
 "cells": [
  {
   "cell_type": "markdown",
   "metadata": {
    "toc-hr-collapsed": false
   },
   "source": [
    "Lambda School Data Science\n",
    "\n",
    "*Unit 4, Sprint 1, Module 1*\n",
    "\n",
    "---\n",
    "<h1 id=\"moduleTitle\"> Natural Language Processing Introduction (Prepare)</h1>\n",
    "\n",
    "\"Natural\" meaning - not computer languages but spoken/written human languages. The hard thing about NLP is that human languages are far less structured or consistent than computer languages. This is perhaps the largest source of difficulty when trying to get computers to \"understand\" human languages. How do you get a machine to understand sarcasm, and irony, and synonyms, connotation, denotation, nuance, and tone of voice --all without it having lived a lifetime of experience for context? If you think about it, our human brains have been exposed to quite a lot of training data to help us interpret languages, and even then we misunderstand each other pretty frequently. \n",
    "    \n",
    "\n",
    "<h2 id='moduleObjectives'>Learning Objectives</h2>\n",
    "\n",
    "By the end of end of this module, a student should be able to:\n",
    "* <a href=\"#p1\">Objective 1</a>: Tokenize text\n",
    "* <a href=\"#p1\">Objective 2</a>: Remove stop words from text\n",
    "* <a href=\"#p3\">Objective 3</a>: Perform stemming and lemmatization on tokens\n",
    "\n",
    "## Conda Environments\n",
    "\n",
    "You will be completing each module this sprint on your machine. We will be using conda environments to manage the packages and their dependencies for this sprint's content. In a classroom setting, instructors typically abstract away environment for you. However, environment management is an important professional data science skill. We showed you how to manage environments using pipvirtual env during Unit 3, but in this sprint, we will introduce an environment management tool common in the data science community: \n",
    "\n",
    "> __conda__: Package, dependency and environment management for any language—Python, R, Ruby, Lua, Scala, Java, JavaScript, C/ C++, FORTRAN, and more.\n",
    "\n",
    "The easiest way to install conda on your machine is via the [Anaconda Distribution](https://www.anaconda.com/distribution/) of Python & R. Once you have conda installed, read [\"A Guide to Conda Environments\"](https://towardsdatascience.com/a-guide-to-conda-environments-bc6180fc533). This article will provide an introduce into some of the conda basics. If you need some additional help getting started, the official [\"Setting started with conda\"](https://conda.io/projects/conda/en/latest/user-guide/getting-started.html) guide will point you in the right direction. \n",
    "\n",
    ":snake: \n",
    "\n",
    "To get the sprint environment setup: \n",
    "\n",
    "1. Open your command line tool (Terminal for MacOS, Anaconda Prompt for Windows)\n",
    "2. Navigate to the folder with this sprint's content. There should be a `requirements.txt`\n",
    "3. Run `conda create -n U4-S1-NLP python==3.7` => You can also rename the environment if you would like. Once the command completes, your conda environment should be ready.\n",
    "4. Now, we are going to add in the require python packages for this sprint. You will need to 'activate' the conda environment: `source activate U4-S1-NLP` on Terminal or `conda activate U4-S1-NLP` on Anaconda Prompt. Once your environment is activate, run `pip install -r requirements.txt` which will install the required packages into your environment.\n",
    "5. We are going to also add an Ipython Kernel reference to your conda environment, so we can use it from JupyterLab. \n",
    "6. Next run `python -m ipykernel install --user --name U4-S1-NLP --display-name \"U4-S1-NLP (Python3)\"` => This will add a json object to an ipython file, so JupterLab will know that it can use this isolated instance of Python. :) \n",
    "7. Last step, we need to install the models for Spacy. Run these commands `python -m spacy download en_core_web_md` and `python -m spacy download en_core_web_lg`\n",
    "8. Deactivate your conda environment and launch JupyterLab. You should know see \"U4-S1-NLP (Python3)\" in the list of available kernels on launch screen. "
   ]
  },
  {
   "cell_type": "markdown",
   "metadata": {
    "toc-hr-collapsed": false
   },
   "source": [
    "# Tokenze Text (Learn)\n",
    "<a id=\"p1\"></a>"
   ]
  },
  {
   "cell_type": "markdown",
   "metadata": {
    "toc-hr-collapsed": true
   },
   "source": [
    "## Overview\n",
    "\n",
    "> **token**: an instance of a sequence of characters in some particular document that are grouped together as a useful semantic unit for processing\n",
    "\n",
    "> [_*Introduction to Information Retrival*_](https://nlp.stanford.edu/IR-book/)\n",
    "\n",
    "\n",
    "### The attributes of good tokens\n",
    "\n",
    "* Should be stored in an iterable data structure\n",
    "  - Allows analysis of the \"semantic unit\"\n",
    "* Should be all the same case\n",
    "  - Reduces the complexity of our data\n",
    "* Should be free of non-alphanumeric characters (ie punctuation, whitespace)\n",
    "  - Removes information that is probably not relevant to the analysis"
   ]
  },
  {
   "cell_type": "markdown",
   "metadata": {},
   "source": [
    "Let's pretend we are trying analyze the random sequence here. Question: what is the most common character in this sequence?"
   ]
  },
  {
   "cell_type": "code",
   "execution_count": 1,
   "metadata": {},
   "outputs": [],
   "source": [
    "random_seq = \"AABAAFBBBBCGCDDEEEFCFFDFFAFFZFGGGGHEAFJAAZBBFCZ\""
   ]
  },
  {
   "cell_type": "markdown",
   "metadata": {},
   "source": [
    "A useful unit of analysis for us is going to be a letter or character"
   ]
  },
  {
   "cell_type": "code",
<<<<<<< HEAD
   "execution_count": 46,
=======
   "execution_count": 2,
>>>>>>> 69e847c7c406c8aa7f2f0cfa29bc02ed60834a4f
   "metadata": {},
   "outputs": [
    {
     "name": "stdout",
     "output_type": "stream",
     "text": [
      "['A', 'A', 'B', 'A', 'A', 'F', 'B', 'B', 'B', 'B', 'C', 'G', 'C', 'D', 'D', 'E', 'E', 'E', 'F', 'C', 'F', 'F', 'D', 'F', 'F', 'A', 'F', 'F', 'Z', 'F', 'G', 'G', 'G', 'G', 'H', 'E', 'A', 'F', 'J', 'A', 'A', 'Z', 'B', 'B', 'F', 'C', 'Z']\n"
     ]
    }
   ],
   "source": [
    "tokens = list(random_seq)\n",
    "print(tokens)"
   ]
  },
  {
   "cell_type": "markdown",
   "metadata": {},
   "source": [
    "Our tokens are already \"good\": in an iterable datastructure, all the same case, and free of noise characters (punctuation, whitespace), so we can jump straight into analysis."
   ]
  },
  {
   "cell_type": "code",
<<<<<<< HEAD
   "execution_count": 3,
   "metadata": {},
   "outputs": [
    {
     "data": {
      "image/png": "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\n",
      "text/plain": [
       "<Figure size 432x288 with 1 Axes>"
      ]
     },
     "metadata": {
      "needs_background": "light"
     },
     "output_type": "display_data"
    }
   ],
=======
   "execution_count": null,
   "metadata": {},
   "outputs": [],
>>>>>>> 69e847c7c406c8aa7f2f0cfa29bc02ed60834a4f
   "source": [
    "import seaborn as sns\n",
    "\n",
    "sns.countplot(tokens);"
   ]
  },
  {
   "cell_type": "markdown",
   "metadata": {},
   "source": [
    "The most common character in our sequence is  \"F\". We can't just glance at the the sequence to know which character is the most common. We (humans) struggle to subitize complex data (like random text sequences).\n",
    "\n",
    "> __Subitize__ is the ability to tell the number of objects in a set, quickly, without counting.  \n",
    "\n",
    "We need to chunk the data into countable pieces \"tokens\" for us to analyze them. This inability subitize text data is the motivation for our discussion today."
   ]
  },
  {
   "cell_type": "markdown",
   "metadata": {
    "toc-hr-collapsed": true
   },
   "source": [
    "### Tokenizing with Pure Python"
   ]
  },
  {
   "cell_type": "code",
<<<<<<< HEAD
   "execution_count": 4,
=======
   "execution_count": null,
>>>>>>> 69e847c7c406c8aa7f2f0cfa29bc02ed60834a4f
   "metadata": {},
   "outputs": [],
   "source": [
    "sample = \"Friends, Romans, countrymen, lend me your ears;\""
   ]
  },
  {
   "cell_type": "markdown",
   "metadata": {},
   "source": [
    "##### Iterable Tokens\n",
    "\n",
    "A string object in Python is already iterable. However, the item you iterate over is a character not a token:\n",
    "\n",
    "```\n",
    "from time import sleep\n",
    "for num, character in enumerate(sample):\n",
    "    sleep(.5)\n",
    "    print(f\"Char {num} - {character}\", end=\"\\r\")\n",
    "```\n",
    "\n",
    "If we instead care about the words in our sample (our semantic unit), we can use the string method `.split()` to separate the whitespace and create iterable units. :)"
   ]
  },
  {
   "cell_type": "code",
<<<<<<< HEAD
   "execution_count": 5,
   "metadata": {},
   "outputs": [
    {
     "data": {
      "text/plain": [
       "['Friends,', 'Romans,', 'countrymen,', 'lend', 'me', 'your', 'ears;']"
      ]
     },
     "execution_count": 5,
     "metadata": {},
     "output_type": "execute_result"
    }
   ],
=======
   "execution_count": null,
   "metadata": {},
   "outputs": [],
>>>>>>> 69e847c7c406c8aa7f2f0cfa29bc02ed60834a4f
   "source": [
    "sample.split(\" \")"
   ]
  },
  {
   "cell_type": "markdown",
   "metadata": {},
   "source": [
    "##### Case Normalization\n",
    "A common data cleaning data cleaning task with token is to standardize or normalize the case. Normalizing case reduces the chance that you have duplicate records for things which have practically the same semantic meaning. You can use either the `.lower()` or `.upper()` string methods to normalize case.\n",
    "\n",
    "Consider the following example: "
   ]
  },
  {
   "cell_type": "code",
<<<<<<< HEAD
   "execution_count": 1,
=======
   "execution_count": null,
>>>>>>> 69e847c7c406c8aa7f2f0cfa29bc02ed60834a4f
   "metadata": {},
   "outputs": [],
   "source": [
    "import pandas as pd\n",
<<<<<<< HEAD
    "df = pd.read_csv('/Users/ekselan/Desktop/LAMBDA/Datafiniti_Amazon_Consumer_Reviews_of_Amazon_Products_May19.csv')"
=======
    "df = pd.read_csv('./data/Datafiniti_Amazon_Consumer_Reviews_of_Amazon_Products_May19.csv')"
>>>>>>> 69e847c7c406c8aa7f2f0cfa29bc02ed60834a4f
   ]
  },
  {
   "cell_type": "code",
<<<<<<< HEAD
   "execution_count": 49,
   "metadata": {},
   "outputs": [
    {
     "data": {
      "text/plain": [
       "Amazon          16153\n",
       "Amazonbasics    12169\n",
       "AmazonBasics       10\n",
       "Name: brand, dtype: int64"
      ]
     },
     "execution_count": 49,
     "metadata": {},
     "output_type": "execute_result"
    }
   ],
=======
   "execution_count": null,
   "metadata": {},
   "outputs": [],
>>>>>>> 69e847c7c406c8aa7f2f0cfa29bc02ed60834a4f
   "source": [
    "# Notice anything odd here? \n",
    "df['brand'].value_counts()"
   ]
  },
  {
   "cell_type": "code",
<<<<<<< HEAD
   "execution_count": 50,
   "metadata": {},
   "outputs": [
    {
     "data": {
      "text/plain": [
       "amazon          16153\n",
       "amazonbasics    12179\n",
       "Name: brand, dtype: int64"
      ]
     },
     "execution_count": 50,
     "metadata": {},
     "output_type": "execute_result"
    }
   ],
=======
   "execution_count": null,
   "metadata": {},
   "outputs": [],
>>>>>>> 69e847c7c406c8aa7f2f0cfa29bc02ed60834a4f
   "source": [
    "# Much cleaner\n",
    "df['brand'] = df['brand'].apply(lambda x: x.lower())\n",
    "df['brand'].value_counts()"
   ]
  },
  {
   "cell_type": "markdown",
   "metadata": {},
   "source": [
    "##### Keep Only Alphanumeric Characters\n",
    "Yes, we only want letters and numbers. Everything else is probably noise: punctuation, whitespace, and other notation. This one is little bit more complicated than our previous example. Here we will have to import the base package `re` (regular expressions). \n",
    "\n",
    "The only regex expression pattern you need for this is `'[^a-zA-Z 0-9]'` which keeps lower case letters, upper case letters, spaces, and numbers."
   ]
  },
  {
   "cell_type": "code",
<<<<<<< HEAD
   "execution_count": 51,
   "metadata": {},
   "outputs": [
    {
     "name": "stdout",
     "output_type": "stream",
     "text": [
      "Friends, Romans, countrymen, lend me your ears; 911\n"
     ]
    }
   ],
=======
   "execution_count": null,
   "metadata": {},
   "outputs": [],
>>>>>>> 69e847c7c406c8aa7f2f0cfa29bc02ed60834a4f
   "source": [
    "sample = sample+\" 911\"\n",
    "print(sample)"
   ]
  },
  {
   "cell_type": "code",
<<<<<<< HEAD
   "execution_count": 54,
   "metadata": {},
   "outputs": [
    {
     "data": {
      "text/plain": [
       "'Friends Romans countrymen lend me your ears 911'"
      ]
     },
     "execution_count": 54,
     "metadata": {},
     "output_type": "execute_result"
    }
   ],
=======
   "execution_count": null,
   "metadata": {},
   "outputs": [],
>>>>>>> 69e847c7c406c8aa7f2f0cfa29bc02ed60834a4f
   "source": [
    "import re\n",
    "\n",
    "re.sub('[^a-zA-Z 0-9]', '', sample)"
   ]
  },
  {
   "cell_type": "markdown",
   "metadata": {},
   "source": [
    "#### Two Minute Challenge \n",
    "- Complete the function `tokenize` below\n",
    "- Combine the methods which we discussed above to clean text before we analyze it\n",
    "- You can put the methods in any order you want"
   ]
  },
  {
   "cell_type": "code",
<<<<<<< HEAD
   "execution_count": 55,
=======
   "execution_count": null,
>>>>>>> 69e847c7c406c8aa7f2f0cfa29bc02ed60834a4f
   "metadata": {},
   "outputs": [],
   "source": [
    "def tokenize(text):\n",
    "    \"\"\"Parses a string into a list of semantic units (words)\n",
    "\n",
    "    Args:\n",
    "        text (str): The string that the function will tokenize.\n",
    "\n",
    "    Returns:\n",
    "        list: tokens parsed out by the mechanics of your choice\n",
    "    \"\"\"\n",
    "    \n",
    "    tokens = re.sub('[^a-zA-Z 0-9]', '', text)\n",
    "    tokens = tokens.lower().split()\n",
    "    \n",
    "    return tokens"
   ]
  },
  {
   "cell_type": "code",
<<<<<<< HEAD
   "execution_count": 91,
   "metadata": {},
   "outputs": [
    {
     "data": {
      "text/plain": [
       "['friends', 'romans', 'countrymen', 'lend', 'me', 'your', 'ears', '911']"
      ]
     },
     "execution_count": 91,
     "metadata": {},
     "output_type": "execute_result"
    }
   ],
=======
   "execution_count": null,
   "metadata": {},
   "outputs": [],
>>>>>>> 69e847c7c406c8aa7f2f0cfa29bc02ed60834a4f
   "source": [
    "tokenize(sample)"
   ]
  },
  {
   "cell_type": "markdown",
   "metadata": {
    "toc-hr-collapsed": true
   },
   "source": [
    "## Follow Along\n",
    "\n",
    "Our inability to analyze text data becomes quickly amplified in a business context. Consider the following: \n",
    "\n",
    "A business which sells widgets also collects customer reviews of those widgets. When the business first started out, they had a human read the reviews to look for patterns. Now, the business sells thousands of widgets a month. The human readers can't keep up with the pace of reviews to synthesize an accurate analysis. They need some science to help them analyze their data.\n",
    "\n",
    "Now, let's pretend that business is Amazon, and the widgets are Amazon products such as the Alexa, Echo, or other AmazonBasics products. Let's analyze their reviews with some counts. This dataset is available on [Kaggle](https://www.kaggle.com/datafiniti/consumer-reviews-of-amazon-products/)."
   ]
  },
  {
   "cell_type": "code",
<<<<<<< HEAD
   "execution_count": 56,
=======
   "execution_count": null,
>>>>>>> 69e847c7c406c8aa7f2f0cfa29bc02ed60834a4f
   "metadata": {},
   "outputs": [],
   "source": [
    "\"\"\"\n",
    "Import Statements\n",
    "\"\"\"\n",
    "\n",
    "# Base\n",
    "from collections import Counter\n",
    "import re\n",
    " \n",
    "import pandas as pd\n",
    "\n",
    "# Plotting\n",
    "import squarify\n",
    "import matplotlib.pyplot as plt\n",
    "import seaborn as sns\n",
    "\n",
    "# NLP Libraries\n",
    "import spacy\n",
    "from spacy.tokenizer import Tokenizer\n",
    "from nltk.stem import PorterStemmer\n",
    "\n",
    "nlp = spacy.load(\"en_core_web_lg\")"
   ]
  },
  {
   "cell_type": "code",
<<<<<<< HEAD
   "execution_count": 57,
   "metadata": {},
   "outputs": [
    {
     "data": {
      "text/html": [
       "<div>\n",
       "<style scoped>\n",
       "    .dataframe tbody tr th:only-of-type {\n",
       "        vertical-align: middle;\n",
       "    }\n",
       "\n",
       "    .dataframe tbody tr th {\n",
       "        vertical-align: top;\n",
       "    }\n",
       "\n",
       "    .dataframe thead th {\n",
       "        text-align: right;\n",
       "    }\n",
       "</style>\n",
       "<table border=\"1\" class=\"dataframe\">\n",
       "  <thead>\n",
       "    <tr style=\"text-align: right;\">\n",
       "      <th></th>\n",
       "      <th>id</th>\n",
       "      <th>dateAdded</th>\n",
       "      <th>dateUpdated</th>\n",
       "      <th>name</th>\n",
       "      <th>asins</th>\n",
       "      <th>brand</th>\n",
       "      <th>categories</th>\n",
       "      <th>primaryCategories</th>\n",
       "      <th>imageURLs</th>\n",
       "      <th>keys</th>\n",
       "      <th>...</th>\n",
       "      <th>reviews.didPurchase</th>\n",
       "      <th>reviews.doRecommend</th>\n",
       "      <th>reviews.id</th>\n",
       "      <th>reviews.numHelpful</th>\n",
       "      <th>reviews.rating</th>\n",
       "      <th>reviews.sourceURLs</th>\n",
       "      <th>reviews.text</th>\n",
       "      <th>reviews.title</th>\n",
       "      <th>reviews.username</th>\n",
       "      <th>sourceURLs</th>\n",
       "    </tr>\n",
       "  </thead>\n",
       "  <tbody>\n",
       "    <tr>\n",
       "      <th>0</th>\n",
       "      <td>AVpgNzjwLJeJML43Kpxn</td>\n",
       "      <td>2015-10-30T08:59:32Z</td>\n",
       "      <td>2019-04-25T09:08:16Z</td>\n",
       "      <td>AmazonBasics AAA Performance Alkaline Batterie...</td>\n",
       "      <td>B00QWO9P0O,B00LH3DMUO</td>\n",
       "      <td>amazonbasics</td>\n",
       "      <td>AA,AAA,Health,Electronics,Health &amp; Household,C...</td>\n",
       "      <td>Health &amp; Beauty</td>\n",
       "      <td>https://images-na.ssl-images-amazon.com/images...</td>\n",
       "      <td>amazonbasics/hl002619,amazonbasicsaaaperforman...</td>\n",
       "      <td>...</td>\n",
       "      <td>NaN</td>\n",
       "      <td>NaN</td>\n",
       "      <td>NaN</td>\n",
       "      <td>NaN</td>\n",
       "      <td>3</td>\n",
       "      <td>https://www.amazon.com/product-reviews/B00QWO9...</td>\n",
       "      <td>I order 3 of them and one of the item is bad q...</td>\n",
       "      <td>... 3 of them and one of the item is bad quali...</td>\n",
       "      <td>Byger yang</td>\n",
       "      <td>https://www.barcodable.com/upc/841710106442,ht...</td>\n",
       "    </tr>\n",
       "    <tr>\n",
       "      <th>1</th>\n",
       "      <td>AVpgNzjwLJeJML43Kpxn</td>\n",
       "      <td>2015-10-30T08:59:32Z</td>\n",
       "      <td>2019-04-25T09:08:16Z</td>\n",
       "      <td>AmazonBasics AAA Performance Alkaline Batterie...</td>\n",
       "      <td>B00QWO9P0O,B00LH3DMUO</td>\n",
       "      <td>amazonbasics</td>\n",
       "      <td>AA,AAA,Health,Electronics,Health &amp; Household,C...</td>\n",
       "      <td>Health &amp; Beauty</td>\n",
       "      <td>https://images-na.ssl-images-amazon.com/images...</td>\n",
       "      <td>amazonbasics/hl002619,amazonbasicsaaaperforman...</td>\n",
       "      <td>...</td>\n",
       "      <td>NaN</td>\n",
       "      <td>NaN</td>\n",
       "      <td>NaN</td>\n",
       "      <td>NaN</td>\n",
       "      <td>4</td>\n",
       "      <td>https://www.amazon.com/product-reviews/B00QWO9...</td>\n",
       "      <td>Bulk is always the less expensive way to go fo...</td>\n",
       "      <td>... always the less expensive way to go for pr...</td>\n",
       "      <td>ByMG</td>\n",
       "      <td>https://www.barcodable.com/upc/841710106442,ht...</td>\n",
       "    </tr>\n",
       "  </tbody>\n",
       "</table>\n",
       "<p>2 rows × 24 columns</p>\n",
       "</div>"
      ],
      "text/plain": [
       "                     id             dateAdded           dateUpdated  \\\n",
       "0  AVpgNzjwLJeJML43Kpxn  2015-10-30T08:59:32Z  2019-04-25T09:08:16Z   \n",
       "1  AVpgNzjwLJeJML43Kpxn  2015-10-30T08:59:32Z  2019-04-25T09:08:16Z   \n",
       "\n",
       "                                                name                  asins  \\\n",
       "0  AmazonBasics AAA Performance Alkaline Batterie...  B00QWO9P0O,B00LH3DMUO   \n",
       "1  AmazonBasics AAA Performance Alkaline Batterie...  B00QWO9P0O,B00LH3DMUO   \n",
       "\n",
       "          brand                                         categories  \\\n",
       "0  amazonbasics  AA,AAA,Health,Electronics,Health & Household,C...   \n",
       "1  amazonbasics  AA,AAA,Health,Electronics,Health & Household,C...   \n",
       "\n",
       "  primaryCategories                                          imageURLs  \\\n",
       "0   Health & Beauty  https://images-na.ssl-images-amazon.com/images...   \n",
       "1   Health & Beauty  https://images-na.ssl-images-amazon.com/images...   \n",
       "\n",
       "                                                keys  ... reviews.didPurchase  \\\n",
       "0  amazonbasics/hl002619,amazonbasicsaaaperforman...  ...                 NaN   \n",
       "1  amazonbasics/hl002619,amazonbasicsaaaperforman...  ...                 NaN   \n",
       "\n",
       "  reviews.doRecommend reviews.id reviews.numHelpful reviews.rating  \\\n",
       "0                 NaN        NaN                NaN              3   \n",
       "1                 NaN        NaN                NaN              4   \n",
       "\n",
       "                                  reviews.sourceURLs  \\\n",
       "0  https://www.amazon.com/product-reviews/B00QWO9...   \n",
       "1  https://www.amazon.com/product-reviews/B00QWO9...   \n",
       "\n",
       "                                        reviews.text  \\\n",
       "0  I order 3 of them and one of the item is bad q...   \n",
       "1  Bulk is always the less expensive way to go fo...   \n",
       "\n",
       "                                       reviews.title  reviews.username  \\\n",
       "0  ... 3 of them and one of the item is bad quali...        Byger yang   \n",
       "1  ... always the less expensive way to go for pr...              ByMG   \n",
       "\n",
       "                                          sourceURLs  \n",
       "0  https://www.barcodable.com/upc/841710106442,ht...  \n",
       "1  https://www.barcodable.com/upc/841710106442,ht...  \n",
       "\n",
       "[2 rows x 24 columns]"
      ]
     },
     "execution_count": 57,
     "metadata": {},
     "output_type": "execute_result"
    }
   ],
=======
   "execution_count": null,
   "metadata": {},
   "outputs": [],
>>>>>>> 69e847c7c406c8aa7f2f0cfa29bc02ed60834a4f
   "source": [
    "df.head(2)"
   ]
  },
  {
   "cell_type": "code",
<<<<<<< HEAD
   "execution_count": 58,
   "metadata": {},
   "outputs": [
    {
     "data": {
      "text/plain": [
       "(28332, 24)"
      ]
     },
     "execution_count": 58,
     "metadata": {},
     "output_type": "execute_result"
    }
   ],
=======
   "execution_count": null,
   "metadata": {},
   "outputs": [],
>>>>>>> 69e847c7c406c8aa7f2f0cfa29bc02ed60834a4f
   "source": [
    "df.shape"
   ]
  },
  {
   "cell_type": "code",
<<<<<<< HEAD
   "execution_count": 59,
   "metadata": {},
   "outputs": [
    {
     "data": {
      "text/plain": [
       "good                0.002118\n",
       "great               0.001729\n",
       "Good                0.001482\n",
       "Great               0.001341\n",
       "ok                  0.001165\n",
       "Great price         0.001059\n",
       "great price         0.000988\n",
       "Excellent           0.000988\n",
       "Great value         0.000953\n",
       "good price          0.000812\n",
       "great value         0.000777\n",
       "Great price!        0.000635\n",
       "good value          0.000600\n",
       "Great value.        0.000565\n",
       "good deal           0.000565\n",
       "OK                  0.000529\n",
       "Great product       0.000529\n",
       "As expected         0.000529\n",
       "Good deal           0.000529\n",
       "Great deal          0.000529\n",
       "Good batteries      0.000494\n",
       "Good value          0.000494\n",
       "So far so good      0.000459\n",
       "Great value!        0.000459\n",
       "great deal          0.000459\n",
       "Great batteries.    0.000459\n",
       "Good price          0.000459\n",
       "Good buy            0.000424\n",
       "Work great          0.000424\n",
       "good batteries      0.000388\n",
       "Great buy           0.000388\n",
       "excellent           0.000388\n",
       "Great batteries     0.000388\n",
       "very good           0.000388\n",
       "Good value.         0.000388\n",
       "As described        0.000388\n",
       "as expected         0.000388\n",
       "Great price.        0.000388\n",
       "Great!              0.000388\n",
       "Great deal!         0.000388\n",
       "Perfect!            0.000353\n",
       "Nice                0.000353\n",
       "good product        0.000353\n",
       "great batteries     0.000353\n",
       "Work great.         0.000353\n",
       "Ok                  0.000353\n",
       "So far so good.     0.000318\n",
       "Very good           0.000318\n",
       "Long lasting        0.000318\n",
       "Great buy!          0.000318\n",
       "Name: reviews.text, dtype: float64"
      ]
     },
     "execution_count": 59,
     "metadata": {},
     "output_type": "execute_result"
    }
   ],
=======
   "execution_count": null,
   "metadata": {},
   "outputs": [],
>>>>>>> 69e847c7c406c8aa7f2f0cfa29bc02ed60834a4f
   "source": [
    "# How can we count the raw text?\n",
    "df['reviews.text'].value_counts(normalize=True)[:50]"
   ]
  },
  {
   "cell_type": "code",
<<<<<<< HEAD
   "execution_count": 60,
=======
   "execution_count": null,
>>>>>>> 69e847c7c406c8aa7f2f0cfa29bc02ed60834a4f
   "metadata": {},
   "outputs": [],
   "source": [
    "df['tokens'] = df['reviews.text'].apply(tokenize)"
   ]
  },
  {
   "cell_type": "code",
<<<<<<< HEAD
   "execution_count": 61,
   "metadata": {},
   "outputs": [
    {
     "data": {
      "text/plain": [
       "0    [i, order, 3, of, them, and, one, of, the, ite...\n",
       "1    [bulk, is, always, the, less, expensive, way, ...\n",
       "2    [well, they, are, not, duracell, but, for, the...\n",
       "3    [seem, to, work, as, well, as, name, brand, ba...\n",
       "4    [these, batteries, are, very, long, lasting, t...\n",
       "Name: tokens, dtype: object"
      ]
     },
     "execution_count": 61,
     "metadata": {},
     "output_type": "execute_result"
    }
   ],
=======
   "execution_count": null,
   "metadata": {},
   "outputs": [],
>>>>>>> 69e847c7c406c8aa7f2f0cfa29bc02ed60834a4f
   "source": [
    "df['tokens'].head()"
   ]
  },
  {
   "cell_type": "code",
<<<<<<< HEAD
   "execution_count": 62,
   "metadata": {},
   "outputs": [
    {
     "data": {
      "text/html": [
       "<div>\n",
       "<style scoped>\n",
       "    .dataframe tbody tr th:only-of-type {\n",
       "        vertical-align: middle;\n",
       "    }\n",
       "\n",
       "    .dataframe tbody tr th {\n",
       "        vertical-align: top;\n",
       "    }\n",
       "\n",
       "    .dataframe thead th {\n",
       "        text-align: right;\n",
       "    }\n",
       "</style>\n",
       "<table border=\"1\" class=\"dataframe\">\n",
       "  <thead>\n",
       "    <tr style=\"text-align: right;\">\n",
       "      <th></th>\n",
       "      <th>reviews.text</th>\n",
       "      <th>tokens</th>\n",
       "    </tr>\n",
       "  </thead>\n",
       "  <tbody>\n",
       "    <tr>\n",
       "      <th>0</th>\n",
       "      <td>I order 3 of them and one of the item is bad q...</td>\n",
       "      <td>[i, order, 3, of, them, and, one, of, the, ite...</td>\n",
       "    </tr>\n",
       "    <tr>\n",
       "      <th>1</th>\n",
       "      <td>Bulk is always the less expensive way to go fo...</td>\n",
       "      <td>[bulk, is, always, the, less, expensive, way, ...</td>\n",
       "    </tr>\n",
       "    <tr>\n",
       "      <th>2</th>\n",
       "      <td>Well they are not Duracell but for the price i...</td>\n",
       "      <td>[well, they, are, not, duracell, but, for, the...</td>\n",
       "    </tr>\n",
       "    <tr>\n",
       "      <th>3</th>\n",
       "      <td>Seem to work as well as name brand batteries a...</td>\n",
       "      <td>[seem, to, work, as, well, as, name, brand, ba...</td>\n",
       "    </tr>\n",
       "    <tr>\n",
       "      <th>4</th>\n",
       "      <td>These batteries are very long lasting the pric...</td>\n",
       "      <td>[these, batteries, are, very, long, lasting, t...</td>\n",
       "    </tr>\n",
       "    <tr>\n",
       "      <th>5</th>\n",
       "      <td>Bought a lot of batteries for Christmas and th...</td>\n",
       "      <td>[bought, a, lot, of, batteries, for, christmas...</td>\n",
       "    </tr>\n",
       "    <tr>\n",
       "      <th>6</th>\n",
       "      <td>ive not had any problame with these batteries ...</td>\n",
       "      <td>[ive, not, had, any, problame, with, these, ba...</td>\n",
       "    </tr>\n",
       "    <tr>\n",
       "      <th>7</th>\n",
       "      <td>Well if you are looking for cheap non-recharge...</td>\n",
       "      <td>[well, if, you, are, looking, for, cheap, nonr...</td>\n",
       "    </tr>\n",
       "    <tr>\n",
       "      <th>8</th>\n",
       "      <td>These do not hold the amount of high power jui...</td>\n",
       "      <td>[these, do, not, hold, the, amount, of, high, ...</td>\n",
       "    </tr>\n",
       "    <tr>\n",
       "      <th>9</th>\n",
       "      <td>AmazonBasics AA AAA batteries have done well b...</td>\n",
       "      <td>[amazonbasics, aa, aaa, batteries, have, done,...</td>\n",
       "    </tr>\n",
       "  </tbody>\n",
       "</table>\n",
       "</div>"
      ],
      "text/plain": [
       "                                        reviews.text  \\\n",
       "0  I order 3 of them and one of the item is bad q...   \n",
       "1  Bulk is always the less expensive way to go fo...   \n",
       "2  Well they are not Duracell but for the price i...   \n",
       "3  Seem to work as well as name brand batteries a...   \n",
       "4  These batteries are very long lasting the pric...   \n",
       "5  Bought a lot of batteries for Christmas and th...   \n",
       "6  ive not had any problame with these batteries ...   \n",
       "7  Well if you are looking for cheap non-recharge...   \n",
       "8  These do not hold the amount of high power jui...   \n",
       "9  AmazonBasics AA AAA batteries have done well b...   \n",
       "\n",
       "                                              tokens  \n",
       "0  [i, order, 3, of, them, and, one, of, the, ite...  \n",
       "1  [bulk, is, always, the, less, expensive, way, ...  \n",
       "2  [well, they, are, not, duracell, but, for, the...  \n",
       "3  [seem, to, work, as, well, as, name, brand, ba...  \n",
       "4  [these, batteries, are, very, long, lasting, t...  \n",
       "5  [bought, a, lot, of, batteries, for, christmas...  \n",
       "6  [ive, not, had, any, problame, with, these, ba...  \n",
       "7  [well, if, you, are, looking, for, cheap, nonr...  \n",
       "8  [these, do, not, hold, the, amount, of, high, ...  \n",
       "9  [amazonbasics, aa, aaa, batteries, have, done,...  "
      ]
     },
     "execution_count": 62,
     "metadata": {},
     "output_type": "execute_result"
    }
   ],
=======
   "execution_count": null,
   "metadata": {},
   "outputs": [],
>>>>>>> 69e847c7c406c8aa7f2f0cfa29bc02ed60834a4f
   "source": [
    "df[['reviews.text', 'tokens']][:10]"
   ]
  },
  {
   "cell_type": "code",
<<<<<<< HEAD
   "execution_count": 63,
   "metadata": {},
   "outputs": [
    {
     "data": {
      "text/plain": [
       "Electronics                    13995\n",
       "Health & Beauty                12071\n",
       "Toys & Games,Electronics        1676\n",
       "Office Supplies,Electronics      386\n",
       "Electronics,Media                185\n",
       "Office Supplies                    9\n",
       "Animals & Pet Supplies             6\n",
       "Electronics,Furniture              2\n",
       "Home & Garden                      2\n",
       "Name: primaryCategories, dtype: int64"
      ]
     },
     "execution_count": 63,
     "metadata": {},
     "output_type": "execute_result"
    }
   ],
=======
   "execution_count": null,
   "metadata": {},
   "outputs": [],
>>>>>>> 69e847c7c406c8aa7f2f0cfa29bc02ed60834a4f
   "source": [
    "df['primaryCategories'].value_counts()"
   ]
  },
  {
   "cell_type": "code",
   "execution_count": null,
   "metadata": {},
   "outputs": [],
   "source": [
    "df = df[df['primaryCategories'] == 'Electronics'].copy()"
   ]
  },
  {
   "cell_type": "code",
   "execution_count": null,
   "metadata": {},
   "outputs": [],
   "source": [
    "df.head()"
   ]
  },
  {
   "cell_type": "markdown",
   "metadata": {},
   "source": [
    "#### Analyzing Tokens"
   ]
  },
  {
   "cell_type": "code",
<<<<<<< HEAD
   "execution_count": 64,
   "metadata": {},
   "outputs": [
    {
     "data": {
      "text/plain": [
       "[('the', 28836),\n",
       " ('and', 22302),\n",
       " ('i', 20588),\n",
       " ('to', 19537),\n",
       " ('for', 17918),\n",
       " ('a', 17599),\n",
       " ('it', 16793),\n",
       " ('is', 11482),\n",
       " ('my', 11149),\n",
       " ('this', 10420)]"
      ]
     },
     "execution_count": 64,
     "metadata": {},
     "output_type": "execute_result"
    }
   ],
=======
   "execution_count": null,
   "metadata": {},
   "outputs": [],
>>>>>>> 69e847c7c406c8aa7f2f0cfa29bc02ed60834a4f
   "source": [
    "# Object from Base Python\n",
    "from collections import Counter\n",
    "\n",
    "# The object `Counter` takes an iterable, but you can instaniate an empty one and update it. \n",
    "word_counts = Counter()\n",
    "\n",
    "# Update it based on a split of each of our documents\n",
    "df['tokens'].apply(lambda x: word_counts.update(x))\n",
    "\n",
    "# Print out the 10 most common words\n",
    "word_counts.most_common(10)"
   ]
  },
  {
   "cell_type": "markdown",
   "metadata": {},
   "source": [
    "Let's create a fuction which takes a corpus of document and returns and dataframe of word counts for us to analyze."
   ]
  },
  {
   "cell_type": "code",
<<<<<<< HEAD
   "execution_count": 65,
=======
   "execution_count": null,
>>>>>>> 69e847c7c406c8aa7f2f0cfa29bc02ed60834a4f
   "metadata": {},
   "outputs": [],
   "source": [
    "def count(docs):\n",
    "\n",
    "        word_counts = Counter()\n",
    "        appears_in = Counter()\n",
    "        \n",
    "        total_docs = len(docs)\n",
    "\n",
    "        for doc in docs:\n",
    "            word_counts.update(doc)\n",
    "            appears_in.update(set(doc))\n",
    "\n",
    "        temp = zip(word_counts.keys(), word_counts.values())\n",
    "        \n",
    "        wc = pd.DataFrame(temp, columns = ['word', 'count'])\n",
    "\n",
    "        wc['rank'] = wc['count'].rank(method='first', ascending=False)\n",
    "        total = wc['count'].sum()\n",
    "\n",
    "        wc['pct_total'] = wc['count'].apply(lambda x: x / total)\n",
    "        \n",
    "        wc = wc.sort_values(by='rank')\n",
    "        wc['cul_pct_total'] = wc['pct_total'].cumsum()\n",
    "\n",
    "        t2 = zip(appears_in.keys(), appears_in.values())\n",
    "        ac = pd.DataFrame(t2, columns=['word', 'appears_in'])\n",
    "        wc = ac.merge(wc, on='word')\n",
    "\n",
    "        wc['appears_in_pct'] = wc['appears_in'].apply(lambda x: x / total_docs)\n",
    "        \n",
    "        return wc.sort_values(by='rank')"
   ]
  },
  {
   "cell_type": "code",
<<<<<<< HEAD
   "execution_count": 66,
=======
   "execution_count": null,
>>>>>>> 69e847c7c406c8aa7f2f0cfa29bc02ed60834a4f
   "metadata": {},
   "outputs": [],
   "source": [
    "# Use the Function\n",
    "wc = count(df['tokens'])"
   ]
  },
  {
   "cell_type": "code",
<<<<<<< HEAD
   "execution_count": 67,
   "metadata": {},
   "outputs": [
    {
     "data": {
      "text/html": [
       "<div>\n",
       "<style scoped>\n",
       "    .dataframe tbody tr th:only-of-type {\n",
       "        vertical-align: middle;\n",
       "    }\n",
       "\n",
       "    .dataframe tbody tr th {\n",
       "        vertical-align: top;\n",
       "    }\n",
       "\n",
       "    .dataframe thead th {\n",
       "        text-align: right;\n",
       "    }\n",
       "</style>\n",
       "<table border=\"1\" class=\"dataframe\">\n",
       "  <thead>\n",
       "    <tr style=\"text-align: right;\">\n",
       "      <th></th>\n",
       "      <th>word</th>\n",
       "      <th>appears_in</th>\n",
       "      <th>count</th>\n",
       "      <th>rank</th>\n",
       "      <th>pct_total</th>\n",
       "      <th>cul_pct_total</th>\n",
       "      <th>appears_in_pct</th>\n",
       "    </tr>\n",
       "  </thead>\n",
       "  <tbody>\n",
       "    <tr>\n",
       "      <th>10</th>\n",
       "      <td>the</td>\n",
       "      <td>13185</td>\n",
       "      <td>28836</td>\n",
       "      <td>1.0</td>\n",
       "      <td>0.039350</td>\n",
       "      <td>0.039350</td>\n",
       "      <td>0.465375</td>\n",
       "    </tr>\n",
       "    <tr>\n",
       "      <th>9</th>\n",
       "      <td>and</td>\n",
       "      <td>13731</td>\n",
       "      <td>22302</td>\n",
       "      <td>2.0</td>\n",
       "      <td>0.030434</td>\n",
       "      <td>0.069784</td>\n",
       "      <td>0.484646</td>\n",
       "    </tr>\n",
       "    <tr>\n",
       "      <th>16</th>\n",
       "      <td>i</td>\n",
       "      <td>10301</td>\n",
       "      <td>20588</td>\n",
       "      <td>3.0</td>\n",
       "      <td>0.028095</td>\n",
       "      <td>0.097879</td>\n",
       "      <td>0.363582</td>\n",
       "    </tr>\n",
       "    <tr>\n",
       "      <th>2</th>\n",
       "      <td>to</td>\n",
       "      <td>11312</td>\n",
       "      <td>19537</td>\n",
       "      <td>4.0</td>\n",
       "      <td>0.026661</td>\n",
       "      <td>0.124539</td>\n",
       "      <td>0.399266</td>\n",
       "    </tr>\n",
       "    <tr>\n",
       "      <th>31</th>\n",
       "      <td>for</td>\n",
       "      <td>12101</td>\n",
       "      <td>17918</td>\n",
       "      <td>5.0</td>\n",
       "      <td>0.024451</td>\n",
       "      <td>0.148990</td>\n",
       "      <td>0.427114</td>\n",
       "    </tr>\n",
       "  </tbody>\n",
       "</table>\n",
       "</div>"
      ],
      "text/plain": [
       "   word  appears_in  count  rank  pct_total  cul_pct_total  appears_in_pct\n",
       "10  the       13185  28836   1.0   0.039350       0.039350        0.465375\n",
       "9   and       13731  22302   2.0   0.030434       0.069784        0.484646\n",
       "16    i       10301  20588   3.0   0.028095       0.097879        0.363582\n",
       "2    to       11312  19537   4.0   0.026661       0.124539        0.399266\n",
       "31  for       12101  17918   5.0   0.024451       0.148990        0.427114"
      ]
     },
     "execution_count": 67,
     "metadata": {},
     "output_type": "execute_result"
    }
   ],
=======
   "execution_count": null,
   "metadata": {},
   "outputs": [],
>>>>>>> 69e847c7c406c8aa7f2f0cfa29bc02ed60834a4f
   "source": [
    "wc.head()"
   ]
  },
  {
   "cell_type": "code",
<<<<<<< HEAD
   "execution_count": 68,
   "metadata": {},
   "outputs": [
    {
     "data": {
      "image/png": "iVBORw0KGgoAAAANSUhEUgAAAYIAAAEGCAYAAABo25JHAAAABHNCSVQICAgIfAhkiAAAAAlwSFlzAAALEgAACxIB0t1+/AAAADh0RVh0U29mdHdhcmUAbWF0cGxvdGxpYiB2ZXJzaW9uMy4yLjEsIGh0dHA6Ly9tYXRwbG90bGliLm9yZy+j8jraAAAew0lEQVR4nO3de5RcZZnv8e9Tl74l3UmHhKRJJyTBCESMJvRhRJ0ZDngBZGBUxgGdAyqKHg+OHi9zcHQxysysNY6H8egZFHFA0aUi4C1Lw+ANxwODQAckkIRAEy5JSKRzT/peVc/5Y+/q3l19raR3VXf277NWrdr73e/e/dSu5H3q3Zd3m7sjIiLJlap2ACIiUl1KBCIiCadEICKScEoEIiIJp0QgIpJwmWoHcDTmz5/vy5Ytq3YYIiIzyoYNG/a4+4LS8hmZCJYtW0Z7e3u1wxARmVHM7PnRynVoSEQk4ZQIREQSTolARCThlAhERBJOiUBEJOFiTQRmdquZvWRmT4yx3Mzsy2bWYWYbzWxtnPGIiMhIcfcIvgmcP87yC4CV4etq4KsxxyMiIiVivY/A3X9rZsvGqXIJ8C0PxsL+nZnNNbMWd98VZ1wiIlGFgpMrOAV38gUn706hEJ1mlLLgPV8YWp6PbqO07uCysbc1VEbJ9oemL3n1SbzsxMYp/fzVvqFsMbA9Mr8jLBuRCMzsaoJeA0uXLq1IcCLHk3zBGcgXwpeTyxfozxfI5X2wLLp8IF8gVyjQnwumRzRsk2i4ig3sUF3GaWwj2xmtsY00urlCYVjdEdssNt6jNtrDG/d8YWY9k+WMxXOOu0Qwae5+M3AzQFtb28z65uS4lC84fbk8fQMF+nIF+nJ5BvJBw5krFMZuXPNe0gBHlxXoL5nOFesUnIFcIWygnf5c8B78zaHpoe0H2y1OV6u9S6cseFnwnrKhspQNf48uH142tI1UChoyGVIpI11SNzXs7xjpFOP8nXC5BetlRl0/WsaoMQ2VMSzOwXqjbDNad7zPObLMYvmOqp0IdgJLIvOtYZnIpA3kC3T35+kdyNPTn6dnIJgOGucCfZHpofLhDXjvQFiWK4Tlo6wf3WYuz0B+6ltWM8imU9SkU2TSRjadIpsyspkUmVQwXxOZrs+maarLkAnXyaaNTDoVrBeun0lbsL1UimymOB1sMxuWZVKpcNtD09H1s+E606XhkqlV7USwDrjGzG4H/gg4qPMDxy93p7s/z5G+HId7c3T15ThSfPVGpvtydPfl6I406sXpnuh7OJ07hp+6NZkUtZkUtZk0ddmh6dpwurkhS22mNijLpKjNpqgbXB6WZVLUZdPUZIoN6NgNak24fLBxjizPplOk1XBKFcSaCMzse8A5wHwz2wH8HZAFcPebgPXAhUAH0A28J8545Nj1DuQ50D3A/u5+9nf3c6B7YHD+QDh/uKRR7yo29P05JvOI7GzamFWboSGbpq4mTX02eM2uzbBgdi31NWkaatLUheWD05G6ddmhhnuokU8Pa+hr0in9YhUh/quGLp9guQP/I84YZHzuzoHuATqP9NF5OPKKzO/rChr5/d0D9Azkx9xWXTZFc0MNjXUZZtdmaKrPctLcOmbXZphVm6GxNsPsumB6dm2GxroMs2qCssbaLLNq08yuy1CbSVdwD4hItQ8NScy6+3O8eKCXFw/0sPNAz7D3Fw/0sutgz6jHumsyKU5srGX+7Fpa5tRxeksTzQ1ZmmfVMLchS3PD0Htxui6rBlxkJlIiOA70DuTZ1tnFs3u6eG5vF9s6g/fn9nSxt6t/WN2UwaKmOhY317Nm6VwunNPCiY21LCh5NdZmMNNhE5EkUCKYYf5wqJfNuw6xZdchtuw6zJZdh3h2T9ewa6EXNtWyfP4s3vSKhSyZ18DiufWcFL4WNtaSSWuIKREZokQwjfXl8jyx8xCPvrCfR17YzyPPH2D3od7B5Yvn1nN6SxMXnLGIUxc1snz+LJadMItZtfpaRWTy1GJMI+5Ox0tH+O3Te/h/T3fy4LZ9gydnW5vrOWv5PNYsncuqliZOa2liTn22yhGLyPFAiaDK8gXnoWf3cfcTu/j5pj8M/uJfMX8W72hr5exTTmDt0mZObKqrcqQicrxSIqgCd2fD8/v54aM7+fmm3ew50k9dNsWfvnwBHz11Ja9fOZ/W5oZqhykiCaFEUEH7uvr5wYYd3P7wCzzT2UVDTZpzTzuRC1/ZwjmnLqChRl+HiFSeWp4KeGFvN/923zbuaN9O70CBM09u5guXnsJbVreo8ReRqlMrFKPt+7q54edbWffYi6RTxlvXLOZ9f7yCly+c2iFkRUSOhRJBDI705fjSL5/itv98nlQK3vfHK7jq9ctZqBO+IjINKRFMsfs79vA3d23kxYM9XLq2lY+/6VQWzVECEJHpS4lgigzkC/zT3U9yy33PsmL+LO764NmcefK8aoclIjIhJYIp0Hm4j2u++wgPPruPK84+mb+98HQNwCYiM4YSwTHa1nmE/3bLQ+zt6uOLf/kq3rqmtdohiYiURYngGDyx8yBX3voQAHd+4LW8snVOlSMSESmfEsFRenL3Id759d/RWJfl21edxYoFs6sdkojIUVEiOArb93VzxS0PUV+T5vsfeI2GgxCRGU2JoEwHewa48taH6MsVuPODZysJiMiMpyeUlKFQcD5+x+95YV83X7+iTXcIi8hxQYmgDF/9j2f45ZaX+MxbTues5bpHQESOD0oEk7Rl1yG++IuneMvqFq587bJqhyMiMmWUCCYhly/wybseY25Dlr+/5Aw91F1Ejis6WTwJtz+8nSd2HuLGd65l3qyaaocjIjKl1COYwOHeAb74i6c4a/k8LnzlomqHIyIy5dQjmMBN//EMe7v6+cZbTtchIRE5LqlHMI4D3f188/7nuGh1C6tb51Y7HBGRWCgRjOOb//kcXf15PnzuymqHIiISGyWCMRzpy/GN+5/jjasWcuoi3TgmIscvJYIx/OiRHRzsGeBD55xS7VBERGKlRDAKd+c7D77AGYubWLO0udrhiIjESolgFL/ffoAndx/m8rOWVjsUEZHYxZ4IzOx8M9tqZh1mdu0oy5ea2b1m9qiZbTSzC+OOaSLfe+gFGmrSXPLqxdUORUQkdrEmAjNLAzcCFwCrgMvNbFVJtc8Ad7j7GuAy4CtxxjSRvlyeu5/YzQVntDC7VrdZiMjxL+4ewVlAh7tvc/d+4HbgkpI6DjSF03OAF2OOaVz3d+zhcG+Oi1a3VDMMEZGKiTsRLAa2R+Z3hGVRnwX+ysx2AOuBD4+2ITO72szazay9s7MzjlgBWP/4bhrrMrzuZfNj+xsiItPJdDhZfDnwTXdvBS4Evm1mI+Jy95vdvc3d2xYsWBBLIP25Aj/ftJs3rlpITWY67BoRkfjF3drtBJZE5lvDsqirgDsA3P0BoA6oys/x9uf3cag3x5tfocHlRCQ54k4EDwMrzWy5mdUQnAxeV1LnBeA8ADM7nSARxHfsZxz3Pb2HdMp47SknVOPPi4hURayJwN1zwDXAPcAWgquDNpnZ9WZ2cVjt48D7zewx4HvAu93d44xrLPd17GHt0rk01mWr8edFRKoi9usj3X09wUngaNl1kenNwOvijmMi+7v6eXznQT563surHYqISEXpjGjogW17cYfXr9TVQiKSLEoEoYef20d9Ns3q1jnVDkVEpKKUCEKPPL+fVy2ZQzatXSIiyaJWD+jpz7PpxUOcebJGGhWR5FEiADbuOECu4KzVkNMikkBKBMCGF/YD6NkDIpJISgTApp2HWDKvnnmzaqodiohIxSkRAFt2HWJVS9PEFUVEjkOJTwTd/Tme3dvFqhZdNioiyZT4RPDk7sO4w+ktjdUORUSkKhKfCDa/eAiAVSfp0JCIJFPiE8GWXYdoqsuweG59tUMREamKxCeCJ3cf5rRFTZhZtUMREamKxCeCbZ1HOOXE2dUOQ0SkahKdCPZ19bO/e4BTFsyqdigiIlWT6ESwrfMIACuUCEQkwRKeCLoAWDFfh4ZEJLkSnQie2XOEbNpobdYVQyKSXIlOBDv29dDa3EBGzyAQkQRLdAu462APLXPqqh2GiEhVJToR7D7YyyIlAhFJuMQmgnzB+cPhPvUIRCTxEpsI9hzpI19wFs3RiWIRSbbMRBXMbO14y939kakLp3J2HewFoKVJPQIRSbYJEwFwwzjLHDh3imKpqN0HewBomatEICLJNmEicPf/WolAKq3zcB8ACxprqxyJiEh1TaZHMMjMzgBWAYM/o939W1MdVCXs7eoHoLlBzykWkWSbdCIws78DziFIBOuBC4D7gBmZCPZ19TO3IUtWN5OJSMKV0wpeCpwH7Hb39wCvAmbsg373Huln3iz1BkREykkEPe5eAHJm1gS8BCyJJ6z47e3q4wQlAhGRss4RtJvZXODrwAbgCPBALFFVwL6ufpbP1/DTIiKTTgTu/qFw8iYz+3egyd03xhNW/PYe6adt2bxqhyEiUnWTPjRkZr8qTrv7c+6+MVo2znrnm9lWM+sws2vHqPMOM9tsZpvM7LuTjeloFQrO/u5+HRoSEWFydxbXAQ3AfDNrBopPeW8CFk+wbhq4EXgjsAN42MzWufvmSJ2VwKeA17n7fjM78ag+SRkO9AxQcHSyWESEyR0a+gDwUeAkIDqcxCHgXydY9yygw923AZjZ7cAlwOZInfcDN7r7fgB3f2lyoR+9fV3BzWRKBCIik7uz+EvAl8zsw+7+f8vc/mJge2R+B/BHJXVeDmBm9wNp4LPu/u9l/p2yHOzJAdBUn43zz4iIzAjlXDX0NTP7a+BPwvnfAF9z94EpiGElwc1qrcBvzeyV7n4gWsnMrgauBli6dOkx/cHDvUHITXVl3VgtInJcKuc+gq8AZ4bvxemvTrDOTobfa9AalkXtANa5+4C7Pws8RZAYhnH3m929zd3bFixYUEbYIx3uDXoEjXXqEYiIlPOT+L+4+6si8782s8cmWOdhYKWZLSdIAJcB7yyp82PgcuAbZjaf4FDRtjLiKttQIlCPQESknB5B3sxOKc6Y2QogP94K7p4DrgHuAbYAd7j7JjO73swuDqvdA+w1s83AvcAn3X1vOR+iXMVDQ+oRiIiU1yP4JHCvmW0juIT0ZOC9E63k7usJBqmLll0XmXbgY+GrIg735kgZzKpJV+pPiohMW+UkgvsIjt2fGs5vnfpwKuNw7wCzazOY2cSVRUSOc+UcGnrA3fvcfWP46mOGjjV0uDenw0IiIqHJ3Fm8iOB+gHozW8PwO4sbYowtNod6czpRLCISmkxr+Gbg3QSXft7AUCI4BPxtPGHF60jfAE3qEYiIAJO7s/g24DYze7u7/2CsemZ2ZVh32jvcm2Nhkx5aLyICZZwjGC8JhD5yjLFUTHd/ngZdMSQiApR3sngiM+YSnB4lAhGRQVOZCHwKtxWrnoE89VklAhERSGqPYCBPfY2uGhIRgfKeULZ8grL7pySimOULTn+uoB6BiEionB7BaCeL7ypOuPs1xx5O/HoHguGR6mumsjMkIjJzTeaGstOAVwBzzOxtkUVNwIy7BrOnmAjUIxARASZ3Q9mpwEXAXODPIuWHCR4zOaP09AeJoE6JQEQEmNwNZT8BfmJmZ7v7jBxbKGro0JASgYgIlHeO4INmNrc4Y2bNZnZrDDHFSoeGRESGKycRrI4+R9jd9wNrpj6keBUPDSkRiIgEykkEKTNrLs6Y2TzKe57BtFDsEdTp0JCICFBeQ34D8ICZ3Ulw89ilwD/GElWMenVoSERkmEknAnf/lpm1A+cSDCfxNnffHFtkMenWoSERkWHKvauqDkiH6824ewggcrJYh4ZERIDyhpi4DrgNaAbmA98ws8/EFVhcdB+BiMhw5ZwjeBfwKnfvBTCzfwJ+D/xDHIHFRecIRESGK+fQ0IsMPxxUC+yc2nDi1ztQIGWQTc+YwVJFRGJVTo/gILDJzH5BcLL4jcBDZvZlAHf/6xjim3L9+QI1mRRmSgQiIlBeIvhR+Cr6zdSGUhn9uQI1aY08KiJSVM7lo+M+mN7MfuDubz/2kOLVlytQk9H5ARGRoqn8abxiCrcVm/5cgdqMegQiIkWJe2Zxf76gE8UiIhGJ+2k8kAtOFouISCBxD68vXjUkIiKBqWwR/9cUbis2umpIRGS4yTyz+HFGP/5vgLv7aoKJn09xbLHo16EhEZFhJnP56EWxR1FB/fkCjdkZ9xgFEZHYTPjT2N2fH+810fpmdr6ZbTWzDjO7dpx6bzczN7O2cj9EOXT5qIjIcJP+aWxmhxk6RFQDZIEud28aZ500cCPBcBQ7gIfNbF3pcwzMrBH4CPBgeeGXTyeLRUSGm3SL6O6N7t4UNvz1wNuBr0yw2llAh7tvc/d+4HbgklHq/T3weaB3svEcLZ0sFhEZ7qhaRA/8GHjzBFUXA9sj8zvCskFmthZY4u4/G29DZna1mbWbWXtnZ+fRhA3AQL5AVolARGRQOYeG3haZTQFtHOMveDNLAf8CvHuiuu5+M3AzQFtb21HfxTyQdzJKBCIig8q5fObPItM54Dng4gnW2Qksicy3MvwZBo3AGcBvwmGhFwHrzOxid28vI7ZJyxcKZFIz4t43EZGKKCcRpICPuPsBADNrBm4A3jvOOg8DK81sOUECuAx4Z3Ghux8keOwl4TZ/A3wiriQAkCs4aSUCEZFB5RwjWV1MAgDuvh9YM94K7p4DrgHuAbYAd7j7JjO73swm6k3EolBw9QhERCLK6hGYWXOYADCzeZNZ393XA+tLyq4bo+45ZcRzVHIFJ63RR0VEBpWTCG4AHjCzO8P5vwD+cepDildePQIRkWHKeULZt8ysHTg3LHpb6Y1h0527h+cIdNWQiEhRWYPuhA3/jGr8owrhRafqEYiIDEnUT+NcoQCgq4ZERCISlQjyYZdAPQIRkSGJSgS5MBGoRyAiMiRRiSCfV49ARKRUohLBYI9AYw2JiAxKVIuocwQiIiMlKhEMXjVkSgQiIkWJSgR5nSwWERkhkYkgo7GGREQGJTIRqEcgIjIkUYkgp5PFIiIjJCoRDPUIEvWxRUTGlagWUT0CEZGREpUI8hp0TkRkhEQlgpyGmBARGSFRiUBXDYmIjJSsROBBIkgpEYiIDEpUIig+oUx5QERkSKISgYc9AtNYQyIigxKWCIJ3pQERkSHJSgSE5wjUIxARGZSoRBDeRoDygIjIkEQlgvDIkHoEIiIRiUoEheJJAhERGZSoROCDl4+qRyAiUpSwRFC8fLTKgYiITCPJSgThu3oEIiJDEpUICuoRiIiMkKhE4BpiQkRkhNgTgZmdb2ZbzazDzK4dZfnHzGyzmW00s1+Z2clxxTJ01ZAygYhIUayJwMzSwI3ABcAq4HIzW1VS7VGgzd1XA3cB/xxnTKAegYhIVNw9grOADnff5u79wO3AJdEK7n6vu3eHs78DWuMKpqBB50RERog7ESwGtkfmd4RlY7kKuHu0BWZ2tZm1m1l7Z2fnUQWjcwQiIiNNm5PFZvZXQBvwhdGWu/vN7t7m7m0LFiw4qr9RGBx9VJlARKQoE/P2dwJLIvOtYdkwZvYG4NPAn7p7X1zB6IYyEZGR4u4RPAysNLPlZlYDXAasi1YwszXA14CL3f2lOIMZfB6BEoGIyKBYE4G754BrgHuALcAd7r7JzK43s4vDal8AZgN3mtnvzWzdGJs79nj0PAIRkRHiPjSEu68H1peUXReZfkPcMRQV1CMQERlh2pwsrgSNPioiMlKiEsHgfQRVjkNEZDpJVCIYHGBCPQIRkUHJSgS6fFREZISEJYLgXecIRESGJCoR6ByBiMhIiUoE6hGIiIyUqEQw+DwC5QERkUGJSgRFGn1URGRIohKBnkcgIjJSohKBnkcgIjJSohKBnkcgIjJSohJBcfRRHRkSERmSrESg0UdFREZIWCLQ8whEREolKhEUdBuBiMgIiUoEurNYRGSkRCWCgkYfFREZIVGJQM8jEBEZKVmJwF29ARGREglLBDo/ICJSKlGJoOCuK4ZEREokKhE46hGIiJRKVCIouOsmAhGREolKBLhGHhURKZWoRBCcI1AmEBGJSlQicNfNZCIipRKVCE5raeL8VyyqdhgiItNKptoBVNKlZ7Zy6Zmt1Q5DRGRaSVSPQERERlIiEBFJOCUCEZGEiz0RmNn5ZrbVzDrM7NpRltea2ffD5Q+a2bK4YxIRkSGxJgIzSwM3AhcAq4DLzWxVSbWrgP3u/jLgi8Dn44xJRESGi7tHcBbQ4e7b3L0fuB24pKTOJcBt4fRdwHmmBwaIiFRM3IlgMbA9Mr8jLBu1jrvngIPACaUbMrOrzazdzNo7OztjCldEJHlmzMlid7/Z3dvcvW3BggXVDkdE5LgR9w1lO4ElkfnWsGy0OjvMLAPMAfaOt9ENGzbsMbPnjzKm+cCeo1y32mZy7DCz41fs1aHYp9bJoxXGnQgeBlaa2XKCBv8y4J0lddYBVwIPAJcCv3Z3ZxzuftRdAjNrd/e2o12/mmZy7DCz41fs1aHYKyPWRODuOTO7BrgHSAO3uvsmM7seaHf3dcAtwLfNrAPYR5AsRESkQmIfa8jd1wPrS8qui0z3An8RdxwiIjK6GXOyeArdXO0AjsFMjh1mdvyKvToUewXYBIfjRUTkOJfEHoGIiEQoEYiIJFyiEsFEA+BVg5ktMbN7zWyzmW0ys4+E5fPM7Bdm9nT43hyWm5l9OfwMG81sbWRbV4b1nzazKyv4GdJm9qiZ/TScXx4OINgRDihYE5aPOcCgmX0qLN9qZm+uUNxzzewuM3vSzLaY2dkzZb+b2f8M/708YWbfM7O66bzfzexWM3vJzJ6IlE3ZvjazM83s8XCdL0/lMDVjxP6F8N/NRjP7kZnNjSwbdZ+O1f6M9b1VlLsn4kVw+eozwAqgBngMWDUN4moB1obTjcBTBAP0/TNwbVh+LfD5cPpC4G7AgNcAD4bl84Bt4XtzON1coc/wMeC7wE/D+TuAy8Lpm4D/Hk5/CLgpnL4M+H44vSr8PmqB5eH3lK5A3LcB7wuna4C5M2G/EwzL8ixQH9nf757O+x34E2At8ESkbMr2NfBQWNfCdS+IOfY3AZlw+vOR2Efdp4zT/oz1vVXyVdE/Vs0XcDZwT2T+U8Cnqh3XKHH+BHgjsBVoCctagK3h9NeAyyP1t4bLLwe+FikfVi/GeFuBXwHnAj8N/yPuifwnGdzvBPeTnB1OZ8J6VvpdROvFGPccgsbUSsqn/X5naHyueeF+/Cnw5um+34FlJY3plOzrcNmTkfJh9eKIvWTZW4HvhNOj7lPGaH/G+/9SyVeSDg1NZgC8qgq77GuAB4GF7r4rXLQbWBhOj/U5qvX5/g/wN0AhnD8BOODBAIKlcYw1wGA1Yl8OdALfCA9r/ZuZzWIG7Hd33wn8b+AFYBfBftzAzNjvUVO1rxeH06XllfJegl4IlB/7eP9fKiZJiWBaM7PZwA+Aj7r7oegyD34qTLvrfM3sIuAld99Q7ViOQoagu/9Vd18DdBEcnhg0jfd7M8Hw7cuBk4BZwPlVDeoYTdd9PREz+zSQA75T7ViORZISwWQGwKsKM8sSJIHvuPsPw+I/mFlLuLwFeCksH+tzVOPzvQ642MyeI3jWxLnAl4C5FgwgWBrHYIw2fIDBasS+A9jh7g+G83cRJIaZsN/fADzr7p3uPgD8kOC7mAn7PWqq9vXOcLq0PFZm9m7gIuBdYSJjghhHK9/L2N9bxSQpEQwOgBeelb+MYMC7qgqvbrgF2OLu/xJZVByMj/D9J5HyK8IrK14DHAy71/cAbzKz5vAX45vCsti4+6fcvdXdlxHsz1+7+7uAewkGEBwt9uJnig4wuA64LLy6ZTmwkuDkX5yx7wa2m9mpYdF5wGZmwH4nOCT0GjNrCP/9FGOf9vu9xJTs63DZITN7Tbg/rohsKxZmdj7BIdGL3b275DONtk9HbX/C72Gs761yKn1SopovgqsRniI4e//pascTxvR6gi7xRuD34etCgmOHvwKeBn4JzAvrG8HjP58BHgfaItt6L9ARvt5T4c9xDkNXDa0g+MffAdwJ1IbldeF8R7h8RWT9T4efaStTeMXHBDG/GmgP9/2PCa5EmRH7Hfgc8CTwBPBtgqtUpu1+B75HcD5jgKA3dtVU7mugLdwXzwD/SslFADHE3kFwzL/4f/amifYpY7Q/Y31vlXxpiAkRkYRL0qEhEREZhRKBiEjCKRGIiCScEoGISMIpEYiIJJwSgUgFmNlnzewT1Y5DZDRKBCJlCm900v8dOW7oH7PIJJjZsnAs+W8R3Lh0i5m1W/BMgM9F6j1nZp8zs0fC8fFPG2Vb7zezu82svpKfQWQsmYmriEhoJXClu//OzOa5+z4zSwO/MrPV7r4xrLfH3dea2YeATwDvK27AzK4hGGb8z929r+KfQGQU6hGITN7z7v67cPodZvYI8CjwCoIHkhQVBw7cQDCOfdEVwAXApUoCMp0oEYhMXhcEjxYk+KV/nruvBn5GMJ5PUbGRzzO81/04QWKIjpQpUnVKBCLlayJICgfNbCHBr/zJeBT4ALDOzE6KKziRcikRiJTJ3R8jaNSfJHhW8/1lrHsfQW/iZ2Y2P54IRcqj0UdFRBJOPQIRkYRTIhARSTglAhGRhFMiEBFJOCUCEZGEUyIQEUk4JQIRkYT7/3IRJQ/3YCXvAAAAAElFTkSuQmCC\n",
      "text/plain": [
       "<Figure size 432x288 with 1 Axes>"
      ]
     },
     "metadata": {
      "needs_background": "light"
     },
     "output_type": "display_data"
    }
   ],
=======
   "execution_count": null,
   "metadata": {},
   "outputs": [],
>>>>>>> 69e847c7c406c8aa7f2f0cfa29bc02ed60834a4f
   "source": [
    "import seaborn as sns\n",
    "\n",
    "# Cumulative Distribution Plot\n",
    "sns.lineplot(x='rank', y='cul_pct_total', data=wc);"
   ]
  },
  {
   "cell_type": "code",
<<<<<<< HEAD
   "execution_count": 69,
   "metadata": {},
   "outputs": [
    {
     "data": {
      "text/plain": [
       "0.6012123263182888"
      ]
     },
     "execution_count": 69,
     "metadata": {},
     "output_type": "execute_result"
    }
   ],
=======
   "execution_count": null,
   "metadata": {},
   "outputs": [],
>>>>>>> 69e847c7c406c8aa7f2f0cfa29bc02ed60834a4f
   "source": [
    "wc[wc['rank'] <= 100]['cul_pct_total'].max()"
   ]
  },
  {
   "cell_type": "code",
<<<<<<< HEAD
   "execution_count": 70,
   "metadata": {},
   "outputs": [
    {
     "data": {
      "image/png": "iVBORw0KGgoAAAANSUhEUgAAAV0AAADnCAYAAAC9roUQAAAABHNCSVQICAgIfAhkiAAAAAlwSFlzAAALEgAACxIB0t1+/AAAADh0RVh0U29mdHdhcmUAbWF0cGxvdGxpYiB2ZXJzaW9uMy4yLjEsIGh0dHA6Ly9tYXRwbG90bGliLm9yZy+j8jraAAAf70lEQVR4nO3deXwU9f0/8PfM7H1lN5vNfRNCSLiNYAVF8S4qrVftobZqW3to1Z9Xbe1Xq3igxXpXrVKtVkGpikZplYrcCBg5cofcIffe91y/P2yQIuEIZGYXXs+/NjOzO6/dPPa1n3xmssPIskwAAKAMVu0AAAAnEpQuAICCULoAAApC6QIAKAilCwCgIM3BVpYsenyrUkFgZDqv2gmS0yPXL1E7wphriGWpHeGY2eYrUDvCMfPGKS9UjrQOI10AAAWhdAEAFITSBQBQEEoXAEBBKF0AAAWhdAEAFITSBQBQEEoXAEBBKF0AAAWhdAEAFITSBQBQEEoX4Cj99vstJX63wPndAvf2X/pdw8u3/MdvvfsHLSVqZoPEg9IFOEoPvVHcbEvViH6vyH28zJOudp7DFfLEuf+82OoiIqpbPWB97potR/QBse61dqe7O6Idm3SHz9/u1X1w+dIKtXMcLpQuwCG8trg3Y+nT/elERE/e1ZV32yXNpUREmz/xWx/4WVvRj79VN9ndz2tefrAnd7CH1//inIbyZ37XnUtEFItI3P/9uLX4+rn1FQ/8rK1IlhLnmoQhL899vrxr1B8SX6zoSfP2RFUv3WRz0K92BACiyadYgu+8OJBBRP2tdRGTEJdZPi4xuzaHLOWV5kDzzoiFiOjau7O67r++zfjcxxNqib6aXuhsjhmfrCppSc/R8bcsaC6rXhe0zDjdGlT1Cf3X+4sacr29Uf2i+evKWY6VdQZWevGn24oH2sLGrFJL+MdPTWtlWIbeX9SQ1bBuyC7ERTavIiX4g0cnt299d4+jtzloevOuncUaPSv95q1T6vQmjWqfKLIk04Z7VhW46wYshlRT/IwnLmhufqfO2VrV6JIEiTFnWWKzHzynVeJF5qMfvl2+YMUPdzIsQ3wozlZdsWzSRe9+f2ewy6/b8si6/LgvquH0Gmnm3ae1O0rTosc6K0a6AIdQXmkKtzdGzQGfwGq0rFwy2RSs2RI21VeHrVNOtRy0QAvLDKHMfD3PcgzljzeEezviOqVyH8pFd0zosmcaYndUzamdf+v4rr6WkPGSP0zsvGvlnBrPnqi+ccOQhYjojOsK+29bcWrdXStPq+FjIvvlh70pJ1+S48kssYSvfHhyyx1Vc2rVLFwionBv0FB6xaT+C9++skZr0YmtHzY5Cs4r8Vzw+mV185deUWvNt0cal+1K06cYxJQiR3jPhg4rEVHHJy0prulZPk7LyZ8vXFNQefvsjm+/cXndtBtndW1dtC5/LLJipAtwCFodK6dlamMf/t2dVjrVGCyaaIhsXx+0DnTH9ePKDQcdCWm0zN4yYjkiUZSZsU88OlmllpAzz8QTEWWON4eHOiM6IqL6NYPWNa+0ZwoxiY0EBE36OEtkOpFP3bT/y+gyxdImZ0SIiBylznCoJ6D3NAwa17ywLYcPxTkxKnDpM7J8RER584o9HR/vduTMKQh0rGpJHX9p+UA8GGc9jYOW9Xd/Mm74MSVBGpPfFUoX4DBMmGEKfvjaUMYv7s9uK5lkivz9sebc/FJDmGG/fl+arawYDUtJ+9cjp2W//oBgGZJEiYlHROaDRY0FNy6dVZuWb+JXPNyQLcQS7zmyWm5vdoZlZFmU2C0PrS2a/dDZzWmTMiKNy3Y5+6t7rERE+eeM8+56+YucqDvC+Vrcpuw5+X4hxLMak06Yv/SK2jHPOtY7gOQXG+rXNT/7QEXXP5cUNj9z/6TOt14qCjTutLa8/Keypmf+OCnU3mxqeuaPk/iAT0NEJEsSNT399c/Hg8kzLQGfW9BO+ZYllJalFTRaRp54kul/phYcLq1YMtkY/Pm8horhA2mJzGjViPGIeNAO4KNfrbem6YRIgGdrV/c7htfpTJwYDQjcWOccLSEqsKZ0Cy/yItP+ye7U4eU6i06yl6SGtjyyNj+jMsfHcizpbHrJlG6Ot7zf4CAikmWZBnf1Gcci13HzpoCxxfs9hpzvXN1iyMxta3np0Ym+mm3Oop/cWu+v+cI+uOHjLFvZ1CHv9k2prjnn9Qeadtn0aRkRrTVFUDv3sTLrHFvg3cbJXwz//NLasl3Dt/+2ceLO4dv3vFjYuu/9Tp5nCwzfvuWxvI6xznkkrGl6MbciJfjw+WsrNDpOMju0/P7bmB06cfqFmQOPzl9fYU7VCdll1tDwupMWZA++u7Cu4IPHGlQ/kHYgE6+euufj696dqLPpBceEtKAQ4fd+QOSfVez5fOGa4tP/dF7D8LJT/ziv5fOH1xbUvbY9SxIkJnduoTtt0ldTFscSI8sjv064MGViUPvClLGhfl3Hm38pHf+rP+wiIupc/nKhpWiC3zFjtjs22KfrWr6kJO+K65s633qpZNzP7qzrXPZisW3SSUMp5TNUnffDhSmTCy5MCbAPhvt6FMMwDDEarfzfH0iWJUbnSOM5k1kINO2yRvv3mG1lUxPqQAtAokDpwjFjnzJzoKdqaZGlpMLNsAk71QegKpQuHDMpFTN8ksBzjunfGlI7C0CiwoE0OCS9Mz1ecsPdNcM/517yk7YDrYt0txv1zvSwISPnmP8XD8DxAqULx0T/6qpM344trqwLr2w99NYAJ67jfnqh88+Plamd4USQfsb83vE33bvTUlyWEN8rAJCojvvSzbv5tnq1MwAADDvuS7fl93dOVzsDAMCw4750AQASCUoXAEBBOHsBjlvPnDRT7Qhj7uwNnWpHgCOE0gVIYk9vnqd2hGMnYb9peBROGXkVphcAABR03Jdu8QOPVKudAQBg2HFfugAAiQSlCwCgIJQuAICCULoAAApC6QIAKAilCwCgIPxzRBKwze1XO0Jyek7tAADfhJEuAICCULoAAApC6QLsJy5FuZbodtfBtgmJXt1a/1sVB1q3MfDeBLfQazrY/Zuj1emCzOP9dwLCLx1gP7wc5brjjeljuY+uWH2GmMClu+f/njihL3PF9wzouu949IAfqkcLB9IA9lMf+Tw3KgX16/xvl9s1GYGg6DEKMs/JJDHjDNP3ZOtKvEREMkn0RfDjoqDkMZlYW2Sa+aw2DaOV9n2svnibbXe0OlsiiTGyltgU85ltHbGatLgc0X4erCrVMnrhFOvFjeo805Fl3/cbXOZqjKB0AfZTZpzZ9UXoY+Mc22W1kiyRKPOsltVLMSms2RRYUZalHeclIopIQUO5cXZbmjY39GVoVWFrdIdrvPGkvuHHiUlhTUtse9ZM6/xGDaOTGiNbM1ui1RkTjLN6OmP1GTMt8xv1rElQ75mOrONn90zPf+H+6vD2OqvvvVXZrNnE870DRl1uZth109WtDJNY38PoebMqK7R1l5MzG3nObovrCrLDxikT/EOvvFMgxwVWk2aPpf38yjbOZhFjze3GAy2PNrSahpYsLyQiMpQV+8cqa8L+eQOQGGSmPrIpd63/rfItwQ9L43JEF5VDGiIiHWOMp2lzQ0RE2bqSIa/Yb9n3nm6hxxyW/IZNgRVl6/xvl/fyLc6IFNKp8SyOBr+n35h61YLOnEdurxGGvProribLoe+lnGh9iyn8Zb0je+EtNRl3/LQp3tlrJiIafPGtIvtl53flPHJbrTY7I+J5a2X2wZYPvby8MPUHF3XkPHxb7VjmxUgX4CA64/WpcTmqmW29pI5lOHm1743JkiywRN/8zu0Djf0cXIZ/huXc1rFPOnZ0eZkhbbqTJyLS5WSEhYGhhPrgiNa3WIxTSr2sXieTnmTjpPFeKRZnpWiMM00tCxIRWc6YOTT49OvFYjDMHXB5IMRJ0RhnnDLhq+WnVQ5Fa3enjEVejHQB9qNhdOLwQS5BjnM6xsCzDCf38x3WmBzeWzgxOaIb4rvNREQ98d2pdi49uO/jODRZIZ84aAmIHv1/H4sNiG49ERHHaERejifH+0+jkffeZlmSRSmx5haSTHL80gEUpGdNoo1LC671v1UREN2mgOg2r/W/Vb4n3uQ0stbo8HZG1hJtj9Wmr/Evq+DluKbQMGVg38cxsCahwjS7bUfo0+K1/rfKNwbeKwuIbgMRUbZu/OC20L9KNwVWlCr9/I43hrLiYHRnU4oUizNSOMpGaprsrF4nsUa9GNnRYCEiCn62xakryQ9yFpN4wOVWs8ga9GJkZ+NXy9dtSx2rvJheADiAw5kSON32vZoDLf+WdUHD8O10bUEgXVtQt/824wzT+scZpuH/u48BQ1lx2DC51Lfn7sUVnMXMa7NcEdZkENOuv7x16JV3Ctyvv89qnPZY2g1XthERjbTcee2lbV8dSGPG9EAaI8vyiCtLFj2+dax2DIcvbSrem6Nhv3Lg0BslufrHx6sd4dg5ikkLKRxlWZNBkqIxtvf+ZyakXnNJu6G0MHzswh2ZtmvurBxpHUa6AJD0Bl9YWsD3DhplQWDMs6YOqVm4h4LSBYCkl37zNUlzhggOpAEAKAilCwCgIJQuAICCULpwxHb+8uUT+huoAI4GSheO2ORnr8U3UAGMEs5egCO25eLHpp+84rbqWJ9P2/TAO8ViJM7JkswU/vKcdntlcfDQjwBw4jpo6coFCXuqGySAgX/tSLVNK/DlX3dmryxKJEaS5LsEAFSENwmMmmVidmhodW1a+/OrsoMNPUaNxSAd+l4AJzaULoya/eRxwfLHftSgS7PGWxZXFfWu2OZUOxNAosOcLoxapMutM2TZ41mXzhyUeIEJN/eaiGhI7VwAiQylC6Pm29ZibXhvWybDsTKr14gld16cUP+Kyei0akcYU01P5ZCGeLVjHFMu+/F/HBalC0fs5BW3VRMRZS6oHMpcUImRLcARwJwuAICCULoAAApC6QIAKAilCwCgIJQuAICCULoAAApC6QIAKAilCwCgIJQuAICCULoAAApC6QIAKAilCwCgIJQuAICCULoAAApC6QIAKAilCwCgIJQuwDG2O7Qt/bPB1yu2eT8qUnrf8T2DuvabHq843O29H2108gOevZfYcL/9aboUiR1xLwz+7cPs0JY665He70SEK0ckge8XbFE7QlJaSeNV2W9XpN51suOiRhNnS/hr6QTXbk/TF2ZFtC4HT0Tk/2RLhu2sSjdr1B/2lZ1lUaK0H397z9ilPL6gdAGOQlNwS0ZPrCmNiCjbUDoQEryGqBTUb/VWjc82jB8sMVf2Kx5Kkqhn0WtF8c5+kzbLGcm85co299ufZkS2N9mluMAaxuUE02+6vD2wutoR7+wz9T+zvJjRaiTLnCmDoj+k3XPvS6WsxSDkLryhMbi5xuZZvjpbFkRGk2aPZdx8RRtnMkhtNyyabK4sc0dq22z2b5/aG97elGKaMcFnO3OGJ1LXZhp6dWWeFIuznMUopN94eZvWZefdy1enB1Z/4WI4VtZmOqNZd13VosTLUXvXm+P4oaBO4kU248JpfVnfPXmwaeF7haHWfjNDjJw2r3ww96o5iv2eULoAo+SO95h6Ys3OUx2X1ckk0wbP8olTrPNa3PyelFn2BY16ziSokUsY8BpcP13QZppaEupd/Gahd8U6l/3iOf1pV53fQ0TU8+jrRcH1O1NsZ87w+D/+PN151fmdxomFYSIi/8dbMrLvva5R47AKgieg8b67Jivn3usbWZNeGnrj40zP8tUZw4/DWkxC/uKb6oiIwtubUoiIZF5gBpdU5WfddVWzJtUm+FdtdQz9fWVO5q1Xtvk+2phZ8OxtO1mdVhb9IU6p12P8nRe1aR1mUYzEmR2/XFJumZAdjntC2ulLfl5DRMT7woplIULpAoyam99jcenyvRpWJxERpevyPW6+W/V5Tc5uiZumloSIiKynTxvyfbQxXZPhiPmqNmTKcYGVwlGNLjc9QkS+gz1OpLbVzPe6DV2/+0sZEZEsiIy+OHvv5Xqtc6d59r9PrKNXz/cOGffcv6SUiIgkmTibmSci0uW4Ir2P/aPIXFnmtcyZ6j12z/jgupdtyvB+3mInIuLdIa0siEy8369vfrQqz3HKOF/q7FK/UlmIULoAxz+GoaG/ryzIXfjzWm2mkx985aNsOS4c+mCZTGQoK/Bn3fmj1gOtZg0HmPeVidFmOiN5i35Vv/+q7D9c2xT+stEa2lKf4n1/fVb+47+pYTRjO8j0bG62+nd0Wic/fU09Z9RJO298ZYIUF9gpL1xX617faOur+tI19Fl9aunvv9M2pkH2gbMXAEbJqc0ODsQ77IIUZwUpzg7EOxyp2pyA2rlEb1AX3rnbTEQUWLc91VCaFyQi4uxWQQxH2dC2esfwtoxBJ0rh6N7mY/U6UQpHWSIiY3lhKNbSbYl39umJiKRwjI219+oPtm9dQWZUCkY0w/uXeYGJ7u42yJJEfJ9bZz6pLOC67sJuKRLj9t3vWBGCMU5j1oucUSeFdvcZwi39Zt4b1pAkUfq5k735P5nbHW4dMI11jn2d0CPd1qvvnV706r3VaueA5OTQZYWz9CVDGzxvTyT66kCaQ5cZUTuXxmWP+lZuSh944T2TNtMZtV80Z0AMRbmOW56o4GxmQV+YGRre1nr6tMHBJVUFQ6/9S8p96Bd11rnTBnseerWUSzHHcxfe0Oj66YK2vieWFcuCyBAROS47s1tfkBkbad+sViNn3HzF7sElVfmDkRgnSzKTcs7MPn1+RqzvyWVFciTOybLM2M6q7OdsZnGsXwvnnFJf/4dfuqqv+UuFPsseNRWnh+KDAW3NLa9PkGWZISLKu+a0rrHOsS9GluURV45bunCrglkUlyyle9PUT9WOkJRWzlXnlDGlND2Vo3aEY85lDx56oySw8dyHK0dal/Qj3Z4HlowTPH6dLIis7eyZffaL5gy2Xn3vdOuZlf2RHc0pjFYjZd55VbPGmSLEuwd0/U8uLZZiPGuaOl6xiXwAgGFJX7rpN17exqVYRCkaZ7rufLrcctpUjxwXWENpXjDtJxd2D/z1vVzfyo0u5w/P7xl8+f1867zKgZTzThnyvPuZS+3sAHDiSfrS9b63JiNc3WgnIhK9QS3f1W8gjpXNp07xERHpi3NCkR3NNiKieGu3Jeuuq3cTEdnOnjnk/eenueolB4ATUVKXbuiLBmukttWa8+Av6lmjXur+3XMTpLjAMhwrMwxDREQMy5AsSczeOzHMyJPYAABjLKlPGZNCEY41GUTWqJdibT2GWHuv+WDb64pygv7/bE0lIgqs2uJUJiUAwNeSunTNsyp8JElMx01/qnC/tjJHX/D1qTAHknbtRR2BVVvSO25+vFxw+7UH2xYAYCyc0KeMJQucMjY6OGUs+ZwIp4wl9UgXACDZoHQBABSE0gUAUBBKFwBAQShdAAAFoXQBABSE0gUAUBBKFwBAQShdAAAFoXQBABSE0gUAUFBSf7UjwMH0LyhVO8KYSvlE2f09+NsXld1hUnt4xDUY6cKoPPrdzWVERP2tId36N7tS1c4DkCxQujAqt78zq56IaKA9oq/+qA+lC3CYULowKrdP/3Q6EVHVn3fndOwKWB789sbylU+3pKudCyDRYU4Xjsr8m8d1f7qkPePXr5zUrHYWgGSAkS4AgIJQugAACkLpwlExWDRiLCxyaucASBYoXTgqBVNsEZZl5IUX4EAawOHAgTQYlUerz6wmItLoWPmWpSc3qp0HIFlgpAsAoCCULgCAglC6AAAKQukCACgIpQswhoRoiOv9cpWLiMjXUWtt/OCZkgNt17Lq1YLwYKdB2XQnjlXv+OxNuyIJ8fqidAHGkBANcUMNmw95Kl3xWVe3m9LyokpkSnYCLx/xfTb8O2BvrYsZxyDOEcMpYwBjqGvTe7nxoFdfs+zhcoZlZVajlZo/er446h0wGlOzwsXnXtvKMAzVv/v4hJxZF3daMgrDrateLYy4e8xEJKeWnDSYddJ5/Wo/DyW9+FBf1roPA06rneNTMzTxknJDeOuaoL2wVB9u2B6xzD7f5p4xxxx4/oG+vFhEYq0pnHDHn3PaMnK0/PK/DqX9+22fS+BlJiNXG7vn2dzWuuqwsXp9yF7/ZcS67PmhrHuey91dMF4fU+v5oXQBxlDuKQu6dv/rr8aKK+6q9XXUWltXvTpu4qW3t+isDr7+n4vLAl0NFlteWXB4+1Bfu4kPB7QV37u7huirkbJ66ZW3Y3PItHlV0PH8v4trBF5mfvHtlvKSckOYiEjgZeb5f42r4+My85tLWifc/1JeszNDK3z0psfx4oN9Ob9/Jrdt3oIUz6XXOweJiJ69rzf73SXutO//Oq1/+myzd9Y8i+/cy+0edZ/hIUq39NedSuWAg1mrdgA4Voyp2SG9zckTERlSM8OxwJBu3/V6e3osHvLo21b/Iy8lv8JnL5rsVyepOnZuDlsq51q8BiMrk5HkGXPM3uF1Z1yc4iYiaqmP6ve0xo13/rCjlIhIkmSyOzU8EVHTrqjx1ccHcsJBkYtFZG7yLJNPnWcyMox0ARTEcNzeCUmGYUmWJGbf9VqjRSy/7I5ab9tO22DdBpenpTq1+OwftykeNAEZzaxEREQyMdmFusizVcX1+2/zxN09Rb9/Nqd54nRT5N2/uZ07N4etigc9BBxIAxhDnM4oinz8sN9nfNivkWWZnKUzvdkz53dH3L2mscyXaCbPMgW3rQmmRCMSEwqIbPX6sH3/bYrK9NGAV9RUrw+ZiYj4uMw07vzqzIRoRGJdWVqej8vMZx/4917RxGhmxXBQSoi+w0gXYAxpTVbR7MoN1ix9sILhNJLGYOYPtn0s4NZ2rFlaKMsyQ0SUXXl+lzJJE8OUWeZw5VyL72fntlTYHByfW6yLmG2suO82Oj0r//apnN3P3deXHw5KnCTKzIU/cvSVTjZGv3eDc89vvts20ZrCCSWTDMFISOKIiM5cYHM/dU9vYdU/PBm/f1bdA2mMLI98+sUFrhu2KpgFRnD+WlyUYTReXTxf7QjHFaWuBhwKiKzZykmRkMTefEnrhJsWZrVXVJrCiuz8GDmvqLZypHUY6QJAQll0y56C7ra4kY/LzNwLbUPJVriHgtIFgIRy31/zWtXOMJYSYmIZAOBEgdIFAFAQShcAQEEoXQAABaF0AQAUhNIFAFAQShcAQEEoXQAABaF0AQAUhNIFAFAQShcAQEEoXQAABeELb5LAe786W+0ISSmFDvyVqc+/8qTCSZLfhkgh9Qrf+D5xGAWMdAEAFITSBQBQEEoXAEBBKF0AAAWhdAEAFITSBQBQEEoXAEBBKF0AAAWhdAEAFITSBQBQEEoXAEBBKF0AAAWhdAEAFITSBQBQEEoXAEBBKF0AAAWhdAEAFITSBQBQEEoXAEBBKF0AAAUlfenGpSjXEq52ERH1x9utn/tWlKidCQBgJElfurwU5bqi9elq5wAAOBxJfwn2+tDG3KgU1K/1vFnOECtzjEba6qsqDok+o0WTGp5hPa+VYRhy8z2m+tDGPFEWWC2jF6Za57UZOSuvdn4AOLEk/Ui3zPytLgNriZ3muLK21DyrKyh4jOWW0zpPd1xZExWD+iG+yyLJIlMXXJ8/w3re7tMcV9TlGEoH60ObctTODgAnnqQf6e7PqnGGTJyNJyKyaBzhsOjXaRm9EBZ9xi3+90uJiGRZJh1rxCgXABR33JUuy7Dy8G2GGJJJYmQixsSlRGY7LqtXMxsAQNJPL2hYnSjKwkGfh1WTGuXlqGYw3mUmIpJkkfHxAwZlEgIAfC3pR7p61iTatK7gGvcbFSzDSTrW8I1pA47RyFOtZ++uC63Prw2t42RZZvKN5X0pWldUjcwAcOJK+tIlIjrJdn7rgZZPsc7rGL7t0GZGTrVf2qBcKgCAb0r66QVQRzwe4trbVrvUzpGsnn0ikD7v1P6KG651F6mdBZR1XIx0QXkCH+Z6eramFxSeMaB2lmT09tKI629vpDbmF2gOeRYNz8uk1TJKxAIFoHRhVJqbq3KjUa9+86Y/ldvtxX4iIo9ndwoRyfkFc3uys0/2qBwxYd16oye/t0fUX/cj9/gLv2Mc+mJr3NLTLer1Bka6/5GU9mnTdZEH7/Nnd3UI+j3doj49k4u98LfUA06hncgWXVM7zjsQ1wlxiT3z+5l9F1yXPah2psOB6QUYlZKS+V0Ggz0265T/V2tLyQ8Gg73GWafcWjNt+k8bW1v+nRuNerRqZ0xUi59ydKQ6Wf4fy52N3V2irmyiNvzvNem1N99u7b7zFu/e6Ya2VtHwj386G1C4B3bD4vFtD344re7+FVNrP32jL8M3GOfUznQ4MNKFo+bztlnTMya7GYYlgyFFsNnyg15vuykz0+FTO1ui2/Fl3Pr0C45mIqKzzjEE7rnDp/F5JZaI6LQz9F6T6evzzuF/ffB8d8aOzzx2IiLfYFzb3RQxpKTpQmrnOhSULkCCMpoYSe0MierLTz3Whs/91nv/OaXeYOak+y7dMSEelZLiL/ekCAmJR6MxiKIYZ4mIUuyFgYH+XamyLFEs5tf4/Z0Wu70w4UcciWDqdF1g+dKIk4jo01VRq83OCCl2FmV7CGG/wBmtnGgwc1J7bcjQWR82q53pcGGkC6Oi01tFqzUnuGnjYxUOxzif2ZwR2bxpcQURyUXF53QZDHZB7YzJ4I67rXtuvdFbeO7p/eV6AyM9vNiO+dvDUHme07d6aZ/r9nlfVLjyDNG8MlPSfMgzsjzylNEFrhu2KpgFRhCbUqh2hOPK8688qXaEpLMhUqh2hKRyzfgNlSOtw/QCAICCULoAAApC6QIAKAilCwCgIJQuAICCULoAAApC6QIAKAilCwCgIJQuAICCULoAAApC6QIAKAilCwCgIJQuAICCULoAAApC6QIAKAilCwCgIJQuAICCULoAAApC6QIAKAilCwCgIJQuAICCULoAAApC6QIAKAilCwCgIJQuAICCULoAAApC6QIAKAilCwCgIJQuAICCULoAAApiZFlWOwMAwAkDI10AAAWhdAEAFITSBQBQEEoXAEBBKF0AAAWhdAEAFPT/ARZx/+D/QwA+AAAAAElFTkSuQmCC\n",
      "text/plain": [
       "<Figure size 432x288 with 1 Axes>"
      ]
     },
     "metadata": {
      "needs_background": "light"
     },
     "output_type": "display_data"
    }
   ],
=======
   "execution_count": null,
   "metadata": {},
   "outputs": [],
>>>>>>> 69e847c7c406c8aa7f2f0cfa29bc02ed60834a4f
   "source": [
    "import squarify\n",
    "import matplotlib.pyplot as plt\n",
    "\n",
    "wc_top20 = wc[wc['rank'] <= 20]\n",
    "\n",
    "squarify.plot(sizes=wc_top20['pct_total'], label=wc_top20['word'], alpha=.8 )\n",
    "plt.axis('off')\n",
    "plt.show()"
   ]
  },
  {
   "cell_type": "markdown",
   "metadata": {},
   "source": [
    "### Processing Raw Text with Spacy\n",
    "\n",
    "Spacy's datamodel for documents is unique among NLP libraries. Instead of storing the documents components in various data structures, Spacy indexes components and simply stores the lookup information. \n",
    "\n",
    "This is often why Spacy is considered to be more production grade than library like NLTK."
   ]
  },
  {
   "cell_type": "code",
<<<<<<< HEAD
   "execution_count": 9,
=======
   "execution_count": null,
>>>>>>> 69e847c7c406c8aa7f2f0cfa29bc02ed60834a4f
   "metadata": {},
   "outputs": [],
   "source": [
    "import spacy\n",
    "from spacy.tokenizer import Tokenizer\n",
    "\n",
    "nlp = spacy.load(\"en_core_web_lg\")\n",
    "\n",
    "# Tokenizer\n",
    "tokenizer = Tokenizer(nlp.vocab)"
   ]
  },
  {
   "cell_type": "code",
<<<<<<< HEAD
   "execution_count": 10,
   "metadata": {},
   "outputs": [],
   "source": [
    "sample = \"Friends, Romans, countrymen, lend me your ears;\"\n",
    "doc = nlp(sample)"
   ]
  },
  {
   "cell_type": "code",
   "execution_count": 11,
   "metadata": {},
   "outputs": [
    {
     "name": "stdout",
     "output_type": "stream",
     "text": [
      "Friends\n",
      ",\n",
      "Romans\n",
      ",\n",
      "countrymen\n",
      ",\n",
      "lend\n",
      "me\n",
      "your\n",
      "ears\n",
      ";\n"
     ]
    }
   ],
   "source": [
    "for token in doc:\n",
    "    print(token)"
   ]
  },
  {
   "cell_type": "code",
   "execution_count": 12,
   "metadata": {},
   "outputs": [
    {
     "data": {
      "text/plain": [
       "['Friends,', 'Romans,', 'countrymen,', 'lend', 'me', 'your', 'ears;']"
      ]
     },
     "execution_count": 12,
     "metadata": {},
     "output_type": "execute_result"
    }
   ],
   "source": [
=======
   "execution_count": null,
   "metadata": {},
   "outputs": [],
   "source": [
>>>>>>> 69e847c7c406c8aa7f2f0cfa29bc02ed60834a4f
    "# Print out list of tokens\n",
    "sample = \"Friends, Romans, countrymen, lend me your ears;\"\n",
    "[token.text for token in tokenizer(sample)]"
   ]
  },
  {
   "cell_type": "code",
<<<<<<< HEAD
   "execution_count": 73,
   "metadata": {},
   "outputs": [
    {
     "data": {
      "text/plain": [
       "AmazonBasics AAA Performance Alkaline Batteries (36 Count)                               8343\n",
       "AmazonBasics AA Performance Alkaline Batteries (48 Count) - Packaging May Vary           3728\n",
       "Fire HD 8 Tablet with Alexa, 8 HD Display, 16 GB, Tangerine - with Special Offers        2443\n",
       "All-New Fire HD 8 Tablet, 8 HD Display, Wi-Fi, 16 GB - Includes Special Offers, Black    2370\n",
       "Fire Kids Edition Tablet, 7 Display, Wi-Fi, 16 GB, Pink Kid-Proof Case                   1676\n",
       "                                                                                         ... \n",
       "Two Door Top Load Pet Kennel Travel Crate Dog Cat Pet Cage Carrier Box Tray 23\"             1\n",
       "AmazonBasics Silicone Hot Handle Cover/Holder - Red                                         1\n",
       "AmazonBasics Single-Door Folding Metal Dog Crate - Large (42x28x30 Inches)                  1\n",
       "Amazon Echo Show - Black                                                                    1\n",
       "AmazonBasics Nespresso Pod Storage Drawer - 50 Capsule Capacity                             1\n",
       "Name: name, Length: 65, dtype: int64"
      ]
     },
     "execution_count": 73,
     "metadata": {},
     "output_type": "execute_result"
    }
   ],
   "source": [
    "df['name'].value_counts()"
   ]
  },
  {
   "cell_type": "code",
   "execution_count": 87,
   "metadata": {},
   "outputs": [
    {
     "data": {
      "text/plain": [
       "'AmazonBasics AA Performance Alkaline Batteries (48 Count) - Packaging May Vary'"
      ]
     },
     "execution_count": 87,
     "metadata": {},
     "output_type": "execute_result"
    }
   ],
   "source": [
    "df['name'][9000]"
   ]
  },
  {
   "cell_type": "code",
   "execution_count": 92,
   "metadata": {},
   "outputs": [],
   "source": [
    "df = df[df['name'] == 'Fire HD 8 Tablet with Alexa, 8 HD Display, 16 GB, Tangerine - with Special Offers'].copy()"
   ]
  },
  {
   "cell_type": "code",
   "execution_count": 93,
=======
   "execution_count": null,
>>>>>>> 69e847c7c406c8aa7f2f0cfa29bc02ed60834a4f
   "metadata": {},
   "outputs": [],
   "source": [
    "# Tokenizer Pipe\n",
    "\n",
    "tokens = []\n",
    "\n",
    "\"\"\" Make them tokens \"\"\"\n",
    "for doc in tokenizer.pipe(df['reviews.text'], batch_size=500):\n",
    "    doc_tokens = [token.text for token in doc]\n",
    "    tokens.append(doc_tokens)\n",
    "\n",
    "df['tokens'] = tokens"
   ]
  },
  {
   "cell_type": "code",
<<<<<<< HEAD
   "execution_count": 94,
   "metadata": {},
   "outputs": [
    {
     "data": {
      "text/plain": [
       "25889    [While, there, are, some, apps, that, are, mis...\n",
       "25890    [I, bought, one, last, year, for, one, cousin,...\n",
       "25891    [I, will, try, again, for, the, 3rd, time, wit...\n",
       "25892    [bought, this, for, my, father,, who, never, d...\n",
       "25893    [This, was, a, request, from, our, 7, yr, old,...\n",
       "Name: tokens, dtype: object"
      ]
     },
     "execution_count": 94,
     "metadata": {},
     "output_type": "execute_result"
    }
   ],
=======
   "execution_count": null,
   "metadata": {},
   "outputs": [],
>>>>>>> 69e847c7c406c8aa7f2f0cfa29bc02ed60834a4f
   "source": [
    "df['tokens'].head()"
   ]
  },
  {
   "cell_type": "code",
<<<<<<< HEAD
   "execution_count": 95,
=======
   "execution_count": null,
>>>>>>> 69e847c7c406c8aa7f2f0cfa29bc02ed60834a4f
   "metadata": {},
   "outputs": [],
   "source": [
    "wc = count(df['tokens'])"
   ]
  },
  {
   "cell_type": "code",
<<<<<<< HEAD
   "execution_count": 99,
   "metadata": {},
   "outputs": [
    {
     "name": "stdout",
     "output_type": "stream",
     "text": [
      "(2443, 25)\n"
     ]
    },
    {
     "data": {
      "text/html": [
       "<div>\n",
       "<style scoped>\n",
       "    .dataframe tbody tr th:only-of-type {\n",
       "        vertical-align: middle;\n",
       "    }\n",
       "\n",
       "    .dataframe tbody tr th {\n",
       "        vertical-align: top;\n",
       "    }\n",
       "\n",
       "    .dataframe thead th {\n",
       "        text-align: right;\n",
       "    }\n",
       "</style>\n",
       "<table border=\"1\" class=\"dataframe\">\n",
       "  <thead>\n",
       "    <tr style=\"text-align: right;\">\n",
       "      <th></th>\n",
       "      <th>word</th>\n",
       "      <th>appears_in</th>\n",
       "      <th>count</th>\n",
       "      <th>rank</th>\n",
       "      <th>pct_total</th>\n",
       "      <th>cul_pct_total</th>\n",
       "      <th>appears_in_pct</th>\n",
       "    </tr>\n",
       "  </thead>\n",
       "  <tbody>\n",
       "    <tr>\n",
       "      <th>19</th>\n",
       "      <td>the</td>\n",
       "      <td>1251</td>\n",
       "      <td>2374</td>\n",
       "      <td>1.0</td>\n",
       "      <td>0.033707</td>\n",
       "      <td>0.033707</td>\n",
       "      <td>0.512075</td>\n",
       "    </tr>\n",
       "    <tr>\n",
       "      <th>15</th>\n",
       "      <td>and</td>\n",
       "      <td>1473</td>\n",
       "      <td>2290</td>\n",
       "      <td>2.0</td>\n",
       "      <td>0.032515</td>\n",
       "      <td>0.066222</td>\n",
       "      <td>0.602947</td>\n",
       "    </tr>\n",
       "    <tr>\n",
       "      <th>23</th>\n",
       "      <td>for</td>\n",
       "      <td>1364</td>\n",
       "      <td>2070</td>\n",
       "      <td>3.0</td>\n",
       "      <td>0.029391</td>\n",
       "      <td>0.095613</td>\n",
       "      <td>0.558330</td>\n",
       "    </tr>\n",
       "    <tr>\n",
       "      <th>52</th>\n",
       "      <td>I</td>\n",
       "      <td>1028</td>\n",
       "      <td>2025</td>\n",
       "      <td>4.0</td>\n",
       "      <td>0.028752</td>\n",
       "      <td>0.124365</td>\n",
       "      <td>0.420794</td>\n",
       "    </tr>\n",
       "    <tr>\n",
       "      <th>3</th>\n",
       "      <td>to</td>\n",
       "      <td>1185</td>\n",
       "      <td>1925</td>\n",
       "      <td>5.0</td>\n",
       "      <td>0.027332</td>\n",
       "      <td>0.151697</td>\n",
       "      <td>0.485059</td>\n",
       "    </tr>\n",
       "  </tbody>\n",
       "</table>\n",
       "</div>"
      ],
      "text/plain": [
       "   word  appears_in  count  rank  pct_total  cul_pct_total  appears_in_pct\n",
       "19  the        1251   2374   1.0   0.033707       0.033707        0.512075\n",
       "15  and        1473   2290   2.0   0.032515       0.066222        0.602947\n",
       "23  for        1364   2070   3.0   0.029391       0.095613        0.558330\n",
       "52    I        1028   2025   4.0   0.028752       0.124365        0.420794\n",
       "3    to        1185   1925   5.0   0.027332       0.151697        0.485059"
      ]
     },
     "execution_count": 99,
     "metadata": {},
     "output_type": "execute_result"
    }
   ],
   "source": [
    "print(df.shape)\n",
=======
   "execution_count": null,
   "metadata": {},
   "outputs": [],
   "source": [
>>>>>>> 69e847c7c406c8aa7f2f0cfa29bc02ed60834a4f
    "wc.head()"
   ]
  },
  {
   "cell_type": "code",
<<<<<<< HEAD
   "execution_count": 97,
   "metadata": {},
   "outputs": [
    {
     "data": {
      "image/png": "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\n",
      "text/plain": [
       "<Figure size 432x288 with 1 Axes>"
      ]
     },
     "metadata": {
      "needs_background": "light"
     },
     "output_type": "display_data"
    }
   ],
=======
   "execution_count": null,
   "metadata": {},
   "outputs": [],
>>>>>>> 69e847c7c406c8aa7f2f0cfa29bc02ed60834a4f
   "source": [
    "wc_top20 = wc[wc['rank'] <= 20]\n",
    "\n",
    "squarify.plot(sizes=wc_top20['pct_total'], label=wc_top20['word'], alpha=.8 )\n",
    "plt.axis('off')\n",
    "plt.show()"
   ]
  },
  {
   "cell_type": "markdown",
   "metadata": {
    "toc-hr-collapsed": true
   },
   "source": [
    "## Challenge\n",
    "\n",
    "In the module project, you will apply tokenization to another set of review data and produce visualizations of those tokens. "
   ]
  },
  {
   "cell_type": "code",
<<<<<<< HEAD
   "execution_count": 100,
   "metadata": {},
   "outputs": [
    {
     "data": {
      "text/plain": [
       "['id',\n",
       " 'dateAdded',\n",
       " 'dateUpdated',\n",
       " 'name',\n",
       " 'asins',\n",
       " 'brand',\n",
       " 'categories',\n",
       " 'primaryCategories',\n",
       " 'imageURLs',\n",
       " 'keys',\n",
       " 'manufacturer',\n",
       " 'manufacturerNumber',\n",
       " 'reviews.date',\n",
       " 'reviews.dateSeen',\n",
       " 'reviews.didPurchase',\n",
       " 'reviews.doRecommend',\n",
       " 'reviews.id',\n",
       " 'reviews.numHelpful',\n",
       " 'reviews.rating',\n",
       " 'reviews.sourceURLs',\n",
       " 'reviews.text',\n",
       " 'reviews.title',\n",
       " 'reviews.username',\n",
       " 'sourceURLs',\n",
       " 'tokens']"
      ]
     },
     "execution_count": 100,
     "metadata": {},
     "output_type": "execute_result"
    }
   ],
=======
   "execution_count": null,
   "metadata": {},
   "outputs": [],
>>>>>>> 69e847c7c406c8aa7f2f0cfa29bc02ed60834a4f
   "source": [
    "list(df)"
   ]
  },
  {
   "cell_type": "markdown",
   "metadata": {
    "toc-hr-collapsed": false
   },
   "source": [
    "# Stop Words (Learn)\n",
    "<a id=\"p2\"></a>"
   ]
  },
  {
   "cell_type": "markdown",
   "metadata": {},
   "source": [
    "## Overview\n",
    "Section Agenda\n",
    "- What are they?\n",
    "- How do we get rid of them using Spacy?\n",
    "- Visualization\n",
    "- Libraries of Stop Words\n",
    "- Extending Stop Words\n",
    "- Statistical trimming\n",
    "\n",
    "If the visualizations above, you began to notice a pattern. Most of the words don't really add much to our understanding of product reviews. Words such as \"I\", \"and\", \"of\", etc. have almost no semantic meaning to us. We call these useless words \"stop words,\" because we should 'stop' ourselves from including them in the analysis. \n",
    "\n",
    "Most NLP libraries have built in lists of stop words that common english words: conjunctions, articles, adverbs, pronouns, and common verbs. The best practice, however, is to extend/customize these standard english stopwords for your problem's domain. If I am studying political science, I may want to exclude the word \"politics\" from my analysis; it's so common it does not add to my understanding. "
   ]
  },
  {
   "cell_type": "markdown",
   "metadata": {
    "toc-hr-collapsed": true
   },
   "source": [
    "## Follow Along \n",
    "\n",
    "### Default Stop Words\n",
    "Let's take a look at the standard stop words that came with our Spacy model:"
   ]
  },
  {
   "cell_type": "code",
<<<<<<< HEAD
   "execution_count": 42,
   "metadata": {},
   "outputs": [
    {
     "data": {
      "text/plain": [
       "{\"'d\",\n",
       " \"'ll\",\n",
       " \"'m\",\n",
       " \"'re\",\n",
       " \"'s\",\n",
       " \"'ve\",\n",
       " 'a',\n",
       " 'about',\n",
       " 'above',\n",
       " 'across',\n",
       " 'after',\n",
       " 'afterwards',\n",
       " 'again',\n",
       " 'against',\n",
       " 'all',\n",
       " 'almost',\n",
       " 'alone',\n",
       " 'along',\n",
       " 'already',\n",
       " 'also',\n",
       " 'although',\n",
       " 'always',\n",
       " 'am',\n",
       " 'among',\n",
       " 'amongst',\n",
       " 'amount',\n",
       " 'an',\n",
       " 'and',\n",
       " 'another',\n",
       " 'any',\n",
       " 'anyhow',\n",
       " 'anyone',\n",
       " 'anything',\n",
       " 'anyway',\n",
       " 'anywhere',\n",
       " 'are',\n",
       " 'around',\n",
       " 'as',\n",
       " 'at',\n",
       " 'back',\n",
       " 'be',\n",
       " 'became',\n",
       " 'because',\n",
       " 'become',\n",
       " 'becomes',\n",
       " 'becoming',\n",
       " 'been',\n",
       " 'before',\n",
       " 'beforehand',\n",
       " 'behind',\n",
       " 'being',\n",
       " 'below',\n",
       " 'beside',\n",
       " 'besides',\n",
       " 'between',\n",
       " 'beyond',\n",
       " 'both',\n",
       " 'bottom',\n",
       " 'but',\n",
       " 'by',\n",
       " 'ca',\n",
       " 'call',\n",
       " 'can',\n",
       " 'cannot',\n",
       " 'could',\n",
       " 'did',\n",
       " 'do',\n",
       " 'does',\n",
       " 'doing',\n",
       " 'done',\n",
       " 'down',\n",
       " 'due',\n",
       " 'during',\n",
       " 'each',\n",
       " 'eight',\n",
       " 'either',\n",
       " 'eleven',\n",
       " 'else',\n",
       " 'elsewhere',\n",
       " 'empty',\n",
       " 'enough',\n",
       " 'even',\n",
       " 'ever',\n",
       " 'every',\n",
       " 'everyone',\n",
       " 'everything',\n",
       " 'everywhere',\n",
       " 'except',\n",
       " 'few',\n",
       " 'fifteen',\n",
       " 'fifty',\n",
       " 'first',\n",
       " 'five',\n",
       " 'for',\n",
       " 'former',\n",
       " 'formerly',\n",
       " 'forty',\n",
       " 'four',\n",
       " 'from',\n",
       " 'front',\n",
       " 'full',\n",
       " 'further',\n",
       " 'get',\n",
       " 'give',\n",
       " 'go',\n",
       " 'had',\n",
       " 'has',\n",
       " 'have',\n",
       " 'he',\n",
       " 'hence',\n",
       " 'her',\n",
       " 'here',\n",
       " 'hereafter',\n",
       " 'hereby',\n",
       " 'herein',\n",
       " 'hereupon',\n",
       " 'hers',\n",
       " 'herself',\n",
       " 'him',\n",
       " 'himself',\n",
       " 'his',\n",
       " 'how',\n",
       " 'however',\n",
       " 'hundred',\n",
       " 'i',\n",
       " 'if',\n",
       " 'in',\n",
       " 'indeed',\n",
       " 'into',\n",
       " 'is',\n",
       " 'it',\n",
       " 'its',\n",
       " 'itself',\n",
       " 'just',\n",
       " 'keep',\n",
       " 'last',\n",
       " 'latter',\n",
       " 'latterly',\n",
       " 'least',\n",
       " 'less',\n",
       " 'made',\n",
       " 'make',\n",
       " 'many',\n",
       " 'may',\n",
       " 'me',\n",
       " 'meanwhile',\n",
       " 'might',\n",
       " 'mine',\n",
       " 'more',\n",
       " 'moreover',\n",
       " 'most',\n",
       " 'mostly',\n",
       " 'move',\n",
       " 'much',\n",
       " 'must',\n",
       " 'my',\n",
       " 'myself',\n",
       " \"n't\",\n",
       " 'name',\n",
       " 'namely',\n",
       " 'neither',\n",
       " 'never',\n",
       " 'nevertheless',\n",
       " 'next',\n",
       " 'nine',\n",
       " 'no',\n",
       " 'nobody',\n",
       " 'none',\n",
       " 'noone',\n",
       " 'nor',\n",
       " 'not',\n",
       " 'nothing',\n",
       " 'now',\n",
       " 'nowhere',\n",
       " 'n‘t',\n",
       " 'n’t',\n",
       " 'of',\n",
       " 'off',\n",
       " 'often',\n",
       " 'on',\n",
       " 'once',\n",
       " 'one',\n",
       " 'only',\n",
       " 'onto',\n",
       " 'or',\n",
       " 'other',\n",
       " 'others',\n",
       " 'otherwise',\n",
       " 'our',\n",
       " 'ours',\n",
       " 'ourselves',\n",
       " 'out',\n",
       " 'over',\n",
       " 'own',\n",
       " 'part',\n",
       " 'per',\n",
       " 'perhaps',\n",
       " 'please',\n",
       " 'put',\n",
       " 'quite',\n",
       " 'rather',\n",
       " 're',\n",
       " 'really',\n",
       " 'regarding',\n",
       " 'same',\n",
       " 'say',\n",
       " 'see',\n",
       " 'seem',\n",
       " 'seemed',\n",
       " 'seeming',\n",
       " 'seems',\n",
       " 'serious',\n",
       " 'several',\n",
       " 'she',\n",
       " 'should',\n",
       " 'show',\n",
       " 'side',\n",
       " 'since',\n",
       " 'six',\n",
       " 'sixty',\n",
       " 'so',\n",
       " 'some',\n",
       " 'somehow',\n",
       " 'someone',\n",
       " 'something',\n",
       " 'sometime',\n",
       " 'sometimes',\n",
       " 'somewhere',\n",
       " 'still',\n",
       " 'such',\n",
       " 'take',\n",
       " 'ten',\n",
       " 'than',\n",
       " 'that',\n",
       " 'the',\n",
       " 'their',\n",
       " 'them',\n",
       " 'themselves',\n",
       " 'then',\n",
       " 'thence',\n",
       " 'there',\n",
       " 'thereafter',\n",
       " 'thereby',\n",
       " 'therefore',\n",
       " 'therein',\n",
       " 'thereupon',\n",
       " 'these',\n",
       " 'they',\n",
       " 'third',\n",
       " 'this',\n",
       " 'those',\n",
       " 'though',\n",
       " 'three',\n",
       " 'through',\n",
       " 'throughout',\n",
       " 'thru',\n",
       " 'thus',\n",
       " 'to',\n",
       " 'together',\n",
       " 'too',\n",
       " 'top',\n",
       " 'toward',\n",
       " 'towards',\n",
       " 'twelve',\n",
       " 'twenty',\n",
       " 'two',\n",
       " 'under',\n",
       " 'unless',\n",
       " 'until',\n",
       " 'up',\n",
       " 'upon',\n",
       " 'us',\n",
       " 'used',\n",
       " 'using',\n",
       " 'various',\n",
       " 'very',\n",
       " 'via',\n",
       " 'was',\n",
       " 'we',\n",
       " 'well',\n",
       " 'were',\n",
       " 'what',\n",
       " 'whatever',\n",
       " 'when',\n",
       " 'whence',\n",
       " 'whenever',\n",
       " 'where',\n",
       " 'whereafter',\n",
       " 'whereas',\n",
       " 'whereby',\n",
       " 'wherein',\n",
       " 'whereupon',\n",
       " 'wherever',\n",
       " 'whether',\n",
       " 'which',\n",
       " 'while',\n",
       " 'whither',\n",
       " 'who',\n",
       " 'whoever',\n",
       " 'whole',\n",
       " 'whom',\n",
       " 'whose',\n",
       " 'why',\n",
       " 'will',\n",
       " 'with',\n",
       " 'within',\n",
       " 'without',\n",
       " 'would',\n",
       " 'yet',\n",
       " 'you',\n",
       " 'your',\n",
       " 'yours',\n",
       " 'yourself',\n",
       " 'yourselves',\n",
       " '‘d',\n",
       " '‘ll',\n",
       " '‘m',\n",
       " '‘re',\n",
       " '‘s',\n",
       " '‘ve',\n",
       " '’d',\n",
       " '’ll',\n",
       " '’m',\n",
       " '’re',\n",
       " '’s',\n",
       " '’ve'}"
      ]
     },
     "execution_count": 42,
     "metadata": {},
     "output_type": "execute_result"
    }
   ],
=======
   "execution_count": null,
   "metadata": {},
   "outputs": [],
>>>>>>> 69e847c7c406c8aa7f2f0cfa29bc02ed60834a4f
   "source": [
    "# Spacy's Default Stop Words\n",
    "nlp.Defaults.stop_words"
   ]
  },
  {
   "cell_type": "code",
<<<<<<< HEAD
   "execution_count": 101,
=======
   "execution_count": null,
>>>>>>> 69e847c7c406c8aa7f2f0cfa29bc02ed60834a4f
   "metadata": {},
   "outputs": [],
   "source": [
    "tokens = []\n",
    "\n",
    "\"\"\" Update those tokens w/o stopwords\"\"\"\n",
    "for doc in tokenizer.pipe(df['reviews.text'], batch_size=500):\n",
    "    \n",
    "    doc_tokens = []\n",
    "    \n",
    "    for token in doc:\n",
    "        if (token.is_stop == False) & (token.is_punct == False):\n",
    "            doc_tokens.append(token.text.lower())\n",
    "\n",
    "    tokens.append(doc_tokens)\n",
    "\n",
    "df['tokens'] = tokens"
   ]
  },
  {
   "cell_type": "code",
<<<<<<< HEAD
   "execution_count": 102,
   "metadata": {},
   "outputs": [
    {
     "data": {
      "text/plain": [
       "25889    [apps, missing, google, play, store, list, min...\n",
       "25890    [bought, year, cousin, continue, year., great,...\n",
       "25891    [try, 3rd, time, new, amazon, fire., nice, upg...\n",
       "25892    [bought, father,, computers, sure, actually, u...\n",
       "25893    [request, 7, yr, old, granddaugter, asked, old...\n",
       "Name: tokens, dtype: object"
      ]
     },
     "execution_count": 102,
     "metadata": {},
     "output_type": "execute_result"
    }
   ],
=======
   "execution_count": null,
   "metadata": {},
   "outputs": [],
>>>>>>> 69e847c7c406c8aa7f2f0cfa29bc02ed60834a4f
   "source": [
    "df.tokens.head()"
   ]
  },
  {
   "cell_type": "code",
<<<<<<< HEAD
   "execution_count": 104,
   "metadata": {},
   "outputs": [
    {
     "data": {
      "image/png": "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\n",
      "text/plain": [
       "<Figure size 432x288 with 1 Axes>"
      ]
     },
     "metadata": {
      "needs_background": "light"
     },
     "output_type": "display_data"
    }
   ],
   "source": [
    "wc = count(df['tokens'])\n",
    "\n",
    "wc_top20 = wc[wc['rank'] <= 30]\n",
=======
   "execution_count": null,
   "metadata": {},
   "outputs": [],
   "source": [
    "wc = count(df['tokens'])\n",
    "\n",
    "wc_top20 = wc[wc['rank'] <= 20]\n",
>>>>>>> 69e847c7c406c8aa7f2f0cfa29bc02ed60834a4f
    "\n",
    "squarify.plot(sizes=wc_top20['pct_total'], label=wc_top20['word'], alpha=.8 )\n",
    "plt.axis('off')\n",
    "plt.show()"
   ]
  },
  {
   "cell_type": "markdown",
   "metadata": {},
   "source": [
    "### Extending Stop Words"
   ]
  },
  {
   "cell_type": "code",
<<<<<<< HEAD
   "execution_count": 105,
   "metadata": {},
   "outputs": [
    {
     "name": "stdout",
     "output_type": "stream",
     "text": [
      "<class 'set'>\n"
     ]
    }
   ],
=======
   "execution_count": null,
   "metadata": {},
   "outputs": [],
>>>>>>> 69e847c7c406c8aa7f2f0cfa29bc02ed60834a4f
   "source": [
    "print(type(nlp.Defaults.stop_words))"
   ]
  },
  {
   "cell_type": "code",
<<<<<<< HEAD
   "execution_count": 106,
   "metadata": {},
   "outputs": [],
   "source": [
    "STOP_WORDS = nlp.Defaults.stop_words.union(['amazon', 'it.'])"
=======
   "execution_count": null,
   "metadata": {},
   "outputs": [],
   "source": [
    "STOP_WORDS = nlp.Defaults.stop_words.union(['batteries','I', 'amazon', 'i', 'Amazon', 'it', \"it's\", 'it.', 'the', 'this',])"
>>>>>>> 69e847c7c406c8aa7f2f0cfa29bc02ed60834a4f
   ]
  },
  {
   "cell_type": "code",
<<<<<<< HEAD
   "execution_count": 107,
   "metadata": {},
   "outputs": [
    {
     "data": {
      "text/plain": [
       "{\"'d\",\n",
       " \"'ll\",\n",
       " \"'m\",\n",
       " \"'re\",\n",
       " \"'s\",\n",
       " \"'ve\",\n",
       " 'a',\n",
       " 'about',\n",
       " 'above',\n",
       " 'across',\n",
       " 'after',\n",
       " 'afterwards',\n",
       " 'again',\n",
       " 'against',\n",
       " 'all',\n",
       " 'almost',\n",
       " 'alone',\n",
       " 'along',\n",
       " 'already',\n",
       " 'also',\n",
       " 'although',\n",
       " 'always',\n",
       " 'am',\n",
       " 'amazon',\n",
       " 'among',\n",
       " 'amongst',\n",
       " 'amount',\n",
       " 'an',\n",
       " 'and',\n",
       " 'another',\n",
       " 'any',\n",
       " 'anyhow',\n",
       " 'anyone',\n",
       " 'anything',\n",
       " 'anyway',\n",
       " 'anywhere',\n",
       " 'are',\n",
       " 'around',\n",
       " 'as',\n",
       " 'at',\n",
       " 'back',\n",
       " 'be',\n",
       " 'became',\n",
       " 'because',\n",
       " 'become',\n",
       " 'becomes',\n",
       " 'becoming',\n",
       " 'been',\n",
       " 'before',\n",
       " 'beforehand',\n",
       " 'behind',\n",
       " 'being',\n",
       " 'below',\n",
       " 'beside',\n",
       " 'besides',\n",
       " 'between',\n",
       " 'beyond',\n",
       " 'both',\n",
       " 'bottom',\n",
       " 'but',\n",
       " 'by',\n",
       " 'ca',\n",
       " 'call',\n",
       " 'can',\n",
       " 'cannot',\n",
       " 'could',\n",
       " 'did',\n",
       " 'do',\n",
       " 'does',\n",
       " 'doing',\n",
       " 'done',\n",
       " 'down',\n",
       " 'due',\n",
       " 'during',\n",
       " 'each',\n",
       " 'eight',\n",
       " 'either',\n",
       " 'eleven',\n",
       " 'else',\n",
       " 'elsewhere',\n",
       " 'empty',\n",
       " 'enough',\n",
       " 'even',\n",
       " 'ever',\n",
       " 'every',\n",
       " 'everyone',\n",
       " 'everything',\n",
       " 'everywhere',\n",
       " 'except',\n",
       " 'few',\n",
       " 'fifteen',\n",
       " 'fifty',\n",
       " 'first',\n",
       " 'five',\n",
       " 'for',\n",
       " 'former',\n",
       " 'formerly',\n",
       " 'forty',\n",
       " 'four',\n",
       " 'from',\n",
       " 'front',\n",
       " 'full',\n",
       " 'further',\n",
       " 'get',\n",
       " 'give',\n",
       " 'go',\n",
       " 'had',\n",
       " 'has',\n",
       " 'have',\n",
       " 'he',\n",
       " 'hence',\n",
       " 'her',\n",
       " 'here',\n",
       " 'hereafter',\n",
       " 'hereby',\n",
       " 'herein',\n",
       " 'hereupon',\n",
       " 'hers',\n",
       " 'herself',\n",
       " 'him',\n",
       " 'himself',\n",
       " 'his',\n",
       " 'how',\n",
       " 'however',\n",
       " 'hundred',\n",
       " 'i',\n",
       " 'if',\n",
       " 'in',\n",
       " 'indeed',\n",
       " 'into',\n",
       " 'is',\n",
       " 'it',\n",
       " 'it.',\n",
       " 'its',\n",
       " 'itself',\n",
       " 'just',\n",
       " 'keep',\n",
       " 'last',\n",
       " 'latter',\n",
       " 'latterly',\n",
       " 'least',\n",
       " 'less',\n",
       " 'made',\n",
       " 'make',\n",
       " 'many',\n",
       " 'may',\n",
       " 'me',\n",
       " 'meanwhile',\n",
       " 'might',\n",
       " 'mine',\n",
       " 'more',\n",
       " 'moreover',\n",
       " 'most',\n",
       " 'mostly',\n",
       " 'move',\n",
       " 'much',\n",
       " 'must',\n",
       " 'my',\n",
       " 'myself',\n",
       " \"n't\",\n",
       " 'name',\n",
       " 'namely',\n",
       " 'neither',\n",
       " 'never',\n",
       " 'nevertheless',\n",
       " 'next',\n",
       " 'nine',\n",
       " 'no',\n",
       " 'nobody',\n",
       " 'none',\n",
       " 'noone',\n",
       " 'nor',\n",
       " 'not',\n",
       " 'nothing',\n",
       " 'now',\n",
       " 'nowhere',\n",
       " 'n‘t',\n",
       " 'n’t',\n",
       " 'of',\n",
       " 'off',\n",
       " 'often',\n",
       " 'on',\n",
       " 'once',\n",
       " 'one',\n",
       " 'only',\n",
       " 'onto',\n",
       " 'or',\n",
       " 'other',\n",
       " 'others',\n",
       " 'otherwise',\n",
       " 'our',\n",
       " 'ours',\n",
       " 'ourselves',\n",
       " 'out',\n",
       " 'over',\n",
       " 'own',\n",
       " 'part',\n",
       " 'per',\n",
       " 'perhaps',\n",
       " 'please',\n",
       " 'put',\n",
       " 'quite',\n",
       " 'rather',\n",
       " 're',\n",
       " 'really',\n",
       " 'regarding',\n",
       " 'same',\n",
       " 'say',\n",
       " 'see',\n",
       " 'seem',\n",
       " 'seemed',\n",
       " 'seeming',\n",
       " 'seems',\n",
       " 'serious',\n",
       " 'several',\n",
       " 'she',\n",
       " 'should',\n",
       " 'show',\n",
       " 'side',\n",
       " 'since',\n",
       " 'six',\n",
       " 'sixty',\n",
       " 'so',\n",
       " 'some',\n",
       " 'somehow',\n",
       " 'someone',\n",
       " 'something',\n",
       " 'sometime',\n",
       " 'sometimes',\n",
       " 'somewhere',\n",
       " 'still',\n",
       " 'such',\n",
       " 'take',\n",
       " 'ten',\n",
       " 'than',\n",
       " 'that',\n",
       " 'the',\n",
       " 'their',\n",
       " 'them',\n",
       " 'themselves',\n",
       " 'then',\n",
       " 'thence',\n",
       " 'there',\n",
       " 'thereafter',\n",
       " 'thereby',\n",
       " 'therefore',\n",
       " 'therein',\n",
       " 'thereupon',\n",
       " 'these',\n",
       " 'they',\n",
       " 'third',\n",
       " 'this',\n",
       " 'those',\n",
       " 'though',\n",
       " 'three',\n",
       " 'through',\n",
       " 'throughout',\n",
       " 'thru',\n",
       " 'thus',\n",
       " 'to',\n",
       " 'together',\n",
       " 'too',\n",
       " 'top',\n",
       " 'toward',\n",
       " 'towards',\n",
       " 'twelve',\n",
       " 'twenty',\n",
       " 'two',\n",
       " 'under',\n",
       " 'unless',\n",
       " 'until',\n",
       " 'up',\n",
       " 'upon',\n",
       " 'us',\n",
       " 'used',\n",
       " 'using',\n",
       " 'various',\n",
       " 'very',\n",
       " 'via',\n",
       " 'was',\n",
       " 'we',\n",
       " 'well',\n",
       " 'were',\n",
       " 'what',\n",
       " 'whatever',\n",
       " 'when',\n",
       " 'whence',\n",
       " 'whenever',\n",
       " 'where',\n",
       " 'whereafter',\n",
       " 'whereas',\n",
       " 'whereby',\n",
       " 'wherein',\n",
       " 'whereupon',\n",
       " 'wherever',\n",
       " 'whether',\n",
       " 'which',\n",
       " 'while',\n",
       " 'whither',\n",
       " 'who',\n",
       " 'whoever',\n",
       " 'whole',\n",
       " 'whom',\n",
       " 'whose',\n",
       " 'why',\n",
       " 'will',\n",
       " 'with',\n",
       " 'within',\n",
       " 'without',\n",
       " 'would',\n",
       " 'yet',\n",
       " 'you',\n",
       " 'your',\n",
       " 'yours',\n",
       " 'yourself',\n",
       " 'yourselves',\n",
       " '‘d',\n",
       " '‘ll',\n",
       " '‘m',\n",
       " '‘re',\n",
       " '‘s',\n",
       " '‘ve',\n",
       " '’d',\n",
       " '’ll',\n",
       " '’m',\n",
       " '’re',\n",
       " '’s',\n",
       " '’ve'}"
      ]
     },
     "execution_count": 107,
     "metadata": {},
     "output_type": "execute_result"
    }
   ],
=======
   "execution_count": null,
   "metadata": {},
   "outputs": [],
>>>>>>> 69e847c7c406c8aa7f2f0cfa29bc02ed60834a4f
   "source": [
    "STOP_WORDS"
   ]
  },
  {
   "cell_type": "code",
<<<<<<< HEAD
   "execution_count": 108,
=======
   "execution_count": null,
>>>>>>> 69e847c7c406c8aa7f2f0cfa29bc02ed60834a4f
   "metadata": {},
   "outputs": [],
   "source": [
    "tokens = []\n",
    "\n",
    "for doc in tokenizer.pipe(df['reviews.text'], batch_size=500):\n",
    "    \n",
    "    doc_tokens = []\n",
    "    \n",
    "    for token in doc: \n",
    "        if token.text.lower() not in STOP_WORDS:\n",
    "            doc_tokens.append(token.text.lower())\n",
    "   \n",
    "    tokens.append(doc_tokens)\n",
    "    \n",
    "df['tokens'] = tokens"
   ]
  },
  {
   "cell_type": "code",
<<<<<<< HEAD
   "execution_count": 109,
   "metadata": {},
   "outputs": [
    {
     "data": {
      "text/html": [
       "<div>\n",
       "<style scoped>\n",
       "    .dataframe tbody tr th:only-of-type {\n",
       "        vertical-align: middle;\n",
       "    }\n",
       "\n",
       "    .dataframe tbody tr th {\n",
       "        vertical-align: top;\n",
       "    }\n",
       "\n",
       "    .dataframe thead th {\n",
       "        text-align: right;\n",
       "    }\n",
       "</style>\n",
       "<table border=\"1\" class=\"dataframe\">\n",
       "  <thead>\n",
       "    <tr style=\"text-align: right;\">\n",
       "      <th></th>\n",
       "      <th>word</th>\n",
       "      <th>appears_in</th>\n",
       "      <th>count</th>\n",
       "      <th>rank</th>\n",
       "      <th>pct_total</th>\n",
       "      <th>cul_pct_total</th>\n",
       "      <th>appears_in_pct</th>\n",
       "    </tr>\n",
       "  </thead>\n",
       "  <tbody>\n",
       "    <tr>\n",
       "      <th>22</th>\n",
       "      <td>tablet</td>\n",
       "      <td>670</td>\n",
       "      <td>823</td>\n",
       "      <td>1.0</td>\n",
       "      <td>0.024452</td>\n",
       "      <td>0.024452</td>\n",
       "      <td>0.274253</td>\n",
       "    </tr>\n",
       "    <tr>\n",
       "      <th>15</th>\n",
       "      <td>great</td>\n",
       "      <td>698</td>\n",
       "      <td>814</td>\n",
       "      <td>2.0</td>\n",
       "      <td>0.024184</td>\n",
       "      <td>0.048636</td>\n",
       "      <td>0.285714</td>\n",
       "    </tr>\n",
       "    <tr>\n",
       "      <th>384</th>\n",
       "      <td>good</td>\n",
       "      <td>363</td>\n",
       "      <td>416</td>\n",
       "      <td>3.0</td>\n",
       "      <td>0.012360</td>\n",
       "      <td>0.060996</td>\n",
       "      <td>0.148588</td>\n",
       "    </tr>\n",
       "    <tr>\n",
       "      <th>47</th>\n",
       "      <td>use</td>\n",
       "      <td>378</td>\n",
       "      <td>411</td>\n",
       "      <td>4.0</td>\n",
       "      <td>0.012211</td>\n",
       "      <td>0.073207</td>\n",
       "      <td>0.154728</td>\n",
       "    </tr>\n",
       "    <tr>\n",
       "      <th>31</th>\n",
       "      <td>bought</td>\n",
       "      <td>380</td>\n",
       "      <td>405</td>\n",
       "      <td>5.0</td>\n",
       "      <td>0.012033</td>\n",
       "      <td>0.085240</td>\n",
       "      <td>0.155546</td>\n",
       "    </tr>\n",
       "  </tbody>\n",
       "</table>\n",
       "</div>"
      ],
      "text/plain": [
       "       word  appears_in  count  rank  pct_total  cul_pct_total  appears_in_pct\n",
       "22   tablet         670    823   1.0   0.024452       0.024452        0.274253\n",
       "15    great         698    814   2.0   0.024184       0.048636        0.285714\n",
       "384    good         363    416   3.0   0.012360       0.060996        0.148588\n",
       "47      use         378    411   4.0   0.012211       0.073207        0.154728\n",
       "31   bought         380    405   5.0   0.012033       0.085240        0.155546"
      ]
     },
     "execution_count": 109,
     "metadata": {},
     "output_type": "execute_result"
    }
   ],
=======
   "execution_count": null,
   "metadata": {},
   "outputs": [],
>>>>>>> 69e847c7c406c8aa7f2f0cfa29bc02ed60834a4f
   "source": [
    "wc = count(df['tokens'])\n",
    "wc.head()"
   ]
  },
  {
   "cell_type": "code",
<<<<<<< HEAD
   "execution_count": 110,
   "metadata": {},
   "outputs": [
    {
     "data": {
      "image/png": "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\n",
      "text/plain": [
       "<Figure size 432x288 with 1 Axes>"
      ]
     },
     "metadata": {
      "needs_background": "light"
     },
     "output_type": "display_data"
    }
   ],
=======
   "execution_count": null,
   "metadata": {},
   "outputs": [],
>>>>>>> 69e847c7c406c8aa7f2f0cfa29bc02ed60834a4f
   "source": [
    "wc_top20 = wc[wc['rank'] <= 20]\n",
    "\n",
    "squarify.plot(sizes=wc_top20['pct_total'], label=wc_top20['word'], alpha=.8 )\n",
    "plt.axis('off')\n",
    "plt.show()"
   ]
  },
  {
   "cell_type": "code",
<<<<<<< HEAD
   "execution_count": 111,
   "metadata": {},
   "outputs": [
    {
     "data": {
      "text/plain": [
       "5    1642\n",
       "4     683\n",
       "3      74\n",
       "2      23\n",
       "1      21\n",
       "Name: reviews.rating, dtype: int64"
      ]
     },
     "execution_count": 111,
     "metadata": {},
     "output_type": "execute_result"
    }
   ],
=======
   "execution_count": null,
   "metadata": {},
   "outputs": [],
>>>>>>> 69e847c7c406c8aa7f2f0cfa29bc02ed60834a4f
   "source": [
    "df['reviews.rating'].value_counts()"
   ]
  },
  {
   "cell_type": "markdown",
   "metadata": {},
   "source": [
    "### Statistical Trimming\n",
    "\n",
    "So far, we have talked about stop word in relation to either broad english words or domain specific stop words. Another common approach to stop word removal is via statistical trimming. The basic idea: preserve the words that give the most about of variation in your data. \n",
    "\n",
    "Do you remember this graph?"
   ]
  },
  {
   "cell_type": "code",
<<<<<<< HEAD
   "execution_count": 112,
   "metadata": {},
   "outputs": [
    {
     "data": {
      "image/png": "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\n",
      "text/plain": [
       "<Figure size 432x288 with 1 Axes>"
      ]
     },
     "metadata": {
      "needs_background": "light"
     },
     "output_type": "display_data"
    }
   ],
=======
   "execution_count": null,
   "metadata": {},
   "outputs": [],
>>>>>>> 69e847c7c406c8aa7f2f0cfa29bc02ed60834a4f
   "source": [
    "sns.lineplot(x='rank', y='cul_pct_total', data=wc);"
   ]
  },
  {
   "cell_type": "markdown",
   "metadata": {},
   "source": [
    "This graph tells us that only a *handful* of words represented 80% of words in the overall corpus. We can interpret this in two ways: \n",
    "1. The words that appear most frequently may not provide any insight into the mean on the documents since they are so prevalent. \n",
    "2. Words that appear infrequency (at the end of the graph) also probably do not add much value, because the are mentioned so rarely. \n",
    "\n",
    "Let's take a look at the words at the bottom and the top and make a decision for ourselves:"
   ]
  },
  {
   "cell_type": "code",
   "execution_count": null,
   "metadata": {},
   "outputs": [],
   "source": [
    "wc.tail(20)"
   ]
  },
  {
   "cell_type": "code",
   "execution_count": null,
   "metadata": {},
   "outputs": [],
   "source": [
    "wc['appears_in_pct'].describe()"
   ]
  },
  {
   "cell_type": "code",
   "execution_count": null,
   "metadata": {},
   "outputs": [],
   "source": [
    "# Frequency of appears in documents\n",
    "sns.distplot(wc['appears_in_pct']);"
   ]
  },
  {
   "cell_type": "code",
   "execution_count": null,
   "metadata": {},
   "outputs": [],
   "source": [
    "# Tree-Map w/ Words that appear in a least 2.5% of documents. \n",
    "\n",
    "wc = wc[wc['appears_in_pct'] >= 0.025]\n",
    "\n",
    "sns.distplot(wc['appears_in_pct']);"
   ]
  },
  {
   "cell_type": "code",
   "execution_count": null,
   "metadata": {},
   "outputs": [],
   "source": [
    "wc.shape"
   ]
  },
  {
   "cell_type": "markdown",
   "metadata": {},
   "source": [
    "## Challenge\n",
    "\n",
    "In the module project, you will apply stop word removal to a new corpus. You will focus on applying dictionary based stop word removal, but as a stretch goal, you should consider applying statistical stopword trimming. "
   ]
  },
  {
   "cell_type": "markdown",
   "metadata": {
    "toc-hr-collapsed": false
   },
   "source": [
    "# Stemming & Lemmatization (Learn)\n",
    "<a id=\"p3\"></a>"
   ]
  },
  {
   "cell_type": "markdown",
   "metadata": {
    "toc-hr-collapsed": false
   },
   "source": [
    "## Overview\n",
    "\n",
    "You can see from our example above there is still some normalization to do to get a clean analysis. You notice that there many words (*i.e.* 'batteries', 'battery') which share the same root word. We can use either the process of stemming or lemmatization to trim our words down to the 'root' word. \n",
    "\n",
    "__Section Agenda__:\n",
    "\n",
    "- Which is which\n",
    "- why use one v. other\n",
    "- show side by side visualizations \n",
    "- how to do it in spacy & nltk\n",
    "- introduce PoS in here as well"
   ]
  },
  {
   "cell_type": "markdown",
   "metadata": {
    "toc-hr-collapsed": true
   },
   "source": [
    "## Follow Along"
   ]
  },
  {
   "cell_type": "markdown",
   "metadata": {
    "toc-hr-collapsed": true
   },
   "source": [
    "### Stemming\n",
    "\n",
    "> *a process for removing the commoner morphological and inflexional endings from words in English. Its main use is as part of a term normalisation process that is usually done when setting up Information Retrieval systems.* - [Martin Porter](https://tartarus.org/martin/PorterStemmer/)\n",
    "\n",
    "Some examples include:\n",
    "- 'ing'\n",
    "- 'ed'\n",
    "- 's'\n",
    "\n",
    "These rules are by no means comprehensive, but they are somewhere to start. Most stemming is done by well documented algorithms such as Porter, Snowball, and Dawson. Porter and its newer version Snowball are the most popular stemming algorithms today. For more information on various stemming algorithms check out [*\"A Comparative Study of Stemming Algorithms\"*](https://pdfs.semanticscholar.org/1c0c/0fa35d4ff8a2f925eb955e48d655494bd167.pdf) \n",
    "\n",
    "\n",
    "Spacy does not do stemming out of the box, but instead uses a different technique called *lemmatization* which we will discuss in the next section. Let's turn to an antique python package `nltk` for stemming. "
   ]
  },
  {
   "cell_type": "code",
<<<<<<< HEAD
   "execution_count": 43,
   "metadata": {},
   "outputs": [
    {
     "name": "stdout",
     "output_type": "stream",
     "text": [
      "wolf\n",
      "wolv\n"
     ]
    }
   ],
=======
   "execution_count": null,
   "metadata": {},
   "outputs": [],
>>>>>>> 69e847c7c406c8aa7f2f0cfa29bc02ed60834a4f
   "source": [
    "from nltk.stem import PorterStemmer\n",
    "\n",
    "ps = PorterStemmer()\n",
    "\n",
    "words = [\"wolf\", \"wolves\"]\n",
    "\n",
    "for word in words:\n",
    "    print(ps.stem(word))"
   ]
  },
  {
   "cell_type": "markdown",
   "metadata": {},
   "source": [
    "### Two Minute Challenge\n",
    "\n",
    "Apply the Porter stemming algorithm to the tokens in the `df` dataframe. Visualize the results in the tree graph we have been using for this session."
   ]
  },
  {
   "cell_type": "code",
   "execution_count": null,
   "metadata": {},
   "outputs": [],
   "source": [
    "# Put in a new column `stems`\n"
   ]
  },
  {
   "cell_type": "code",
   "execution_count": null,
   "metadata": {},
   "outputs": [],
   "source": [
    "wc = count(df['stems'])\n",
    "\n",
    "wc_top20 = wc[wc['rank'] <= 20]\n",
    "\n",
    "squarify.plot(sizes=wc_top20['pct_total'], label=wc_top20['word'], alpha=.8 )\n",
    "plt.axis('off')\n",
    "plt.show()"
   ]
  },
  {
   "cell_type": "markdown",
   "metadata": {
    "toc-hr-collapsed": false
   },
   "source": [
    "### Lemmatization\n",
    "\n",
    "You notice immediately that results are kinda funky - words just oddly chopped off. The Porter algorithm did exactly what it knows to do: chop off endings. Stemming works well in applications where humans don't have to worry about reading the results. Search engines and more broadly information retrieval algorithms use stemming. Why? Because it's fast. \n",
    "\n",
    "Lemmatization on the other hand is more methodical. The goal is to transform a word into its base form called a lemma. Plural nouns with funky spellings get transformed to singular tense. Verbs are all transformed to the transitive. Nice tidy data for a visualization. :) However, this tidy data can come at computational cost. Spacy does a pretty freaking good job of it though. Let's take a look:"
   ]
  },
  {
   "cell_type": "code",
<<<<<<< HEAD
   "execution_count": 44,
   "metadata": {},
   "outputs": [
    {
     "name": "stdout",
     "output_type": "stream",
     "text": [
      "This    this\n",
      "is    be\n",
      "the    the\n",
      "start    start\n",
      "of    of\n",
      "our    -PRON-\n",
      "NLP    NLP\n",
      "adventures    adventure\n",
      ".    .\n",
      "We    -PRON-\n",
      "started    start\n",
      "here    here\n",
      "with    with\n",
      "Spacy    Spacy\n",
      ".    .\n",
      "We    -PRON-\n",
      "are    be\n",
      "starting    start\n",
      "here    here\n",
      "with    with\n",
      "NLP    NLP\n",
      ".    .\n"
     ]
    }
   ],
=======
   "execution_count": null,
   "metadata": {},
   "outputs": [],
>>>>>>> 69e847c7c406c8aa7f2f0cfa29bc02ed60834a4f
   "source": [
    "sent = \"This is the start of our NLP adventures. We started here with Spacy. We are starting here with NLP.\"\n",
    "\n",
    "nlp = spacy.load(\"en_core_web_lg\")\n",
    "\n",
    "doc = nlp(sent)\n",
    "\n",
    "# Lemma Attributes\n",
    "for token in doc:\n",
    "    print(token.text, \"  \", token.lemma_)"
   ]
  },
  {
   "cell_type": "code",
<<<<<<< HEAD
   "execution_count": 114,
=======
   "execution_count": null,
>>>>>>> 69e847c7c406c8aa7f2f0cfa29bc02ed60834a4f
   "metadata": {},
   "outputs": [],
   "source": [
    "# Wrap it all in a function\n",
    "def get_lemmas(text):\n",
    "\n",
    "    lemmas = []\n",
    "    \n",
    "    doc = nlp(text)\n",
    "    \n",
    "    # Something goes here :P\n",
    "    for token in doc: \n",
    "        if ((token.is_stop == False) and (token.is_punct == False)) and (token.pos_ != 'PRON'):\n",
    "            lemmas.append(token.lemma_)\n",
    "    \n",
    "    return lemmas"
   ]
  },
  {
   "cell_type": "code",
<<<<<<< HEAD
   "execution_count": 115,
=======
   "execution_count": null,
>>>>>>> 69e847c7c406c8aa7f2f0cfa29bc02ed60834a4f
   "metadata": {},
   "outputs": [],
   "source": [
    "df['lemmas'] = df['reviews.text'].apply(get_lemmas)"
   ]
  },
  {
   "cell_type": "code",
<<<<<<< HEAD
   "execution_count": 116,
   "metadata": {},
   "outputs": [
    {
     "data": {
      "text/plain": [
       "25889    [app, miss, Google, Play, Store, list, minimal...\n",
       "25890    [buy, year, cousin, continue, year, great, buy...\n",
       "25891    [try, 3rd, time, new, Amazon, Fire, nice, upgr...\n",
       "25892    [buy, father, computer, sure, actually, use, u...\n",
       "25893    [request, 7, yr, old, granddaugter, ask, old, ...\n",
       "Name: lemmas, dtype: object"
      ]
     },
     "execution_count": 116,
     "metadata": {},
     "output_type": "execute_result"
    }
   ],
=======
   "execution_count": null,
   "metadata": {},
   "outputs": [],
>>>>>>> 69e847c7c406c8aa7f2f0cfa29bc02ed60834a4f
   "source": [
    "df['lemmas'].head()"
   ]
  },
  {
   "cell_type": "code",
<<<<<<< HEAD
   "execution_count": 117,
   "metadata": {},
   "outputs": [
    {
     "data": {
      "image/png": "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\n",
      "text/plain": [
       "<Figure size 432x288 with 1 Axes>"
      ]
     },
     "metadata": {
      "needs_background": "light"
     },
     "output_type": "display_data"
    }
   ],
=======
   "execution_count": null,
   "metadata": {},
   "outputs": [],
>>>>>>> 69e847c7c406c8aa7f2f0cfa29bc02ed60834a4f
   "source": [
    "wc = count(df['lemmas'])\n",
    "wc_top20 = wc[wc['rank'] <= 20]\n",
    "\n",
    "squarify.plot(sizes=wc_top20['pct_total'], label=wc_top20['word'], alpha=.8 )\n",
    "plt.axis('off')\n",
    "plt.show()"
   ]
  },
  {
   "cell_type": "markdown",
   "metadata": {},
   "source": [
    "## Challenge\n",
    "\n",
    "You should know how to apply lemmatization with Spacy to a corpus of text. "
   ]
  },
  {
   "cell_type": "markdown",
   "metadata": {},
   "source": [
    "# Review\n",
    "\n",
    "In this module project, you've seen us apply Natural Language Processing techniques (tokenization, stopword removal, and lemmatization) to a corpus of Amazon text reviews. We analyzed those reviews using these techniques and discovered that Amazon customers are generally satisfied with the battery life of Amazon products and generally appear satisfied. \n",
    "\n",
    "You will apply similar techniques to today's [module project assignment](LS_DS_411_Text_Data_Assignment.ipynb) to analyze coffee shop reviews from yelp. Remember that the techniques of processing the text are just the beginning. There are many ways to slice and dice the data. "
   ]
  },
  {
   "cell_type": "markdown",
   "metadata": {},
   "source": [
    "# Sources\n",
    "\n",
    "* Spacy 101 - https://course.spacy.io\n",
    "* NLTK Book - https://www.nltk.org/book/\n",
    "* An Introduction to Information Retrieval - https://nlp.stanford.edu/IR-book/pdf/irbookonlinereading.pdf"
   ]
  },
  {
   "cell_type": "markdown",
   "metadata": {
    "toc-hr-collapsed": true
   },
   "source": [
    "## Advanced Resources & Techniques\n",
    "- Named Entity Recognition (NER)\n",
    "- Dependcy Trees \n",
    "- Generators\n",
    "- the major libraries (NLTK, Spacy, Gensim)"
   ]
  }
 ],
 "metadata": {
  "kernelspec": {
   "display_name": "U4-S1-NLP (Python3)",
   "language": "python",
   "name": "u4-s1-nlp"
  },
  "language_info": {
   "codemirror_mode": {
    "name": "ipython",
    "version": 3
   },
   "file_extension": ".py",
   "mimetype": "text/x-python",
   "name": "python",
   "nbconvert_exporter": "python",
   "pygments_lexer": "ipython3",
   "version": "3.8.0"
  },
  "toc-autonumbering": false,
  "toc-showcode": false,
  "toc-showmarkdowntxt": false
 },
 "nbformat": 4,
 "nbformat_minor": 4
}
