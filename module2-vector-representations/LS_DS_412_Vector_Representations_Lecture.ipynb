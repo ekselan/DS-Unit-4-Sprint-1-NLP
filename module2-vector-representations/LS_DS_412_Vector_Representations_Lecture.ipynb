{
 "cells": [
  {
   "cell_type": "markdown",
   "metadata": {},
   "source": [
    "Lambda School Data Science\n",
    "\n",
    "*Unit 4, Sprint 1, Module 2*\n",
    "\n",
    "---\n",
    "\n",
    "# Vector Representations (Prepare)\n",
    "\n",
    "\n",
    "As we learned yesterday, machines cannot interpret raw text. We need to transform that text into something we/machines can more readily analyze. Yesterday, we did simple counts of counts to summarize the content of Amazon reviews. Today, we'll extend those concepts to talk about vector representations such as Bag of Words (BoW) and word embedding models. We'll use those representations for search, visualization, and prepare for our classification day tomorrow. \n",
    "\n",
    "Processing text data to prepare it for machine learning models often means translating the information from documents into a numerical format. Bag-of-Words approaches (sometimes referred to as Frequency-Based word embeddings) accomplish this by \"vectorizing\" tokenized documents. This is done by representing each document as a row in a DataFrame and creating a column for each unique word in the corpora (group of documents). The presence or lack of a given word in a document is then represented either as a raw count of how many times a given word appears in a document (CountVectorizer) or as that word's TF-IDF score (TfidfVectorizer).\n",
    "\n",
    "On the python side, we will be focusing on `sklearn` and `spacy` today.  \n",
    "\n",
    "## Case Study\n",
    "\n",
    "We're going to pretend we're on the datascience team at the BBC. We want to recommend articles to visitors to on the BBC website based on the article they just read. Our team wants \n",
    "\n",
    "**Dataset:**\n",
    "\n",
    "[D. Greene and P. Cunningham. \"Practical Solutions to the Problem of Diagonal Dominance in Kernel Document Clustering\", Proc. ICML 2006.](http://mlg.ucd.ie/datasets/bbc.html)\n",
    "*Please note that the dataset has been sampled down to tech articles only.* \n",
    "\n",
    "## Learning Objectives\n",
    "* <a href=\"#p1\">Part 1</a>: Represent a document as a vector\n",
    "* <a href=\"#p2\">Part 2</a>: Query Documents by Similarity\n",
    "* <a href=\"#p3\">Part 3</a>: Apply word embedding models to create document vectors"
   ]
  },
  {
   "cell_type": "markdown",
   "metadata": {},
   "source": [
    "# Represent a document as a vector (Learn)\n",
    "<a id=\"p1\"></a>"
   ]
  },
  {
   "cell_type": "markdown",
   "metadata": {},
   "source": [
    "## Overview\n",
    "\n",
    "In this section, we are going to create Document Term Matrices (DTM). Each column represents a word. Each row represents a document. The value in each cell can be range of different things. The most traditional: counts of appearances of words, does the word appear at all (binary), and term-frequency inverse-document frequency (TF-IDF). \n",
    "\n",
    "**Discussion:** Don't we loose all the context and grammar if we do this? So Why does it work?"
   ]
  },
  {
   "cell_type": "markdown",
   "metadata": {
    "toc-hr-collapsed": true
   },
   "source": [
    "## Follow Along"
   ]
  },
  {
   "cell_type": "code",
   "execution_count": 1,
   "metadata": {},
   "outputs": [],
   "source": [
    "\"\"\" Import Statements \"\"\"\n",
    "\n",
    "# Classics\n",
    "import pandas as pd\n",
    "import seaborn as sns\n",
    "import matplotlib.pyplot as plt\n",
    "\n",
    "from sklearn.feature_extraction.text import CountVectorizer, TfidfVectorizer\n",
    "from sklearn.metrics.pairwise import cosine_similarity\n",
    "from sklearn.neighbors import NearestNeighbors\n",
    "from sklearn.decomposition import PCA\n",
    "\n",
    "import spacy\n",
    "nlp = spacy.load(\"en_core_web_lg\")"
   ]
  },
  {
   "cell_type": "markdown",
   "metadata": {},
   "source": [
    "**Warm Up (_3 Minutes_)**\n",
    "\n",
    "Extract the tokens from this sentence using Spacy. Text is from [OpenAI](https://openai.com/blog/better-language-models/)"
   ]
  },
  {
   "cell_type": "code",
   "execution_count": 2,
   "metadata": {},
   "outputs": [],
   "source": [
    "text = \"We created a new dataset which emphasizes diversity of content, by scraping content from the Internet. In order to preserve document quality, we used only pages which have been curated/filtered by humans—specifically, we used outbound links from Reddit which received at least 3 karma. This can be thought of as a heuristic indicator for whether other users found the link interesting (whether educational or funny), leading to higher data quality than other similar datasets, such as CommonCrawl.\""
   ]
  },
  {
   "cell_type": "code",
   "execution_count": 3,
   "metadata": {},
   "outputs": [
    {
     "name": "stdout",
     "output_type": "stream",
     "text": [
      "['create', 'new', 'dataset', 'emphasize', 'diversity', 'content', 'scrape', 'content', 'internet', 'order', 'preserve', 'document', 'quality', 'page', 'curate', 'filter', 'human', 'specifically', 'outbound', 'link', 'Reddit', 'receive', '3', 'karma', 'think', 'heuristic', 'indicator', 'user', 'find', 'link', 'interesting', 'educational', 'funny', 'lead', 'high', 'datum', 'quality', 'similar', 'dataset', 'CommonCrawl']\n"
     ]
    }
   ],
   "source": [
    "doc = nlp(text)\n",
    "\n",
    "print([token.lemma_ for token in doc if (token.is_stop != True) and (token.is_punct != True)])"
   ]
  },
  {
   "cell_type": "code",
<<<<<<< HEAD
   "execution_count": 3,
   "metadata": {},
   "outputs": [],
   "source": [
    "# doc = nlp(text)\n",
    "\n",
    "# def tokenize(test):\n",
    "#     tokens = []\n",
    "#     doc = nlp(text.strip())\n",
    "#     for token in doc:\n",
    "#         if token.is_stop == False & token.is_punct == False:\n",
    "#             tokens.append(token.text.lower)\n",
    "#     return tokens"
   ]
  },
  {
   "cell_type": "code",
   "execution_count": 7,
=======
   "execution_count": 4,
>>>>>>> 69e847c7c406c8aa7f2f0cfa29bc02ed60834a4f
   "metadata": {},
   "outputs": [],
   "source": [
    "import os \n",
    "\n",
    "def gather_data(filefolder):\n",
    "    \"\"\" Produces List of Documents from a Directory\n",
    "    \n",
    "    filefolder (str): a path of .txt files\n",
    "    \n",
    "    returns list of strings \n",
    "    \"\"\"\n",
    "    \n",
    "    data = []\n",
    "    \n",
    "    files = os.listdir(filefolder) # Causes variation across machines\n",
    "    \n",
    "    for article in files: \n",
    "        \n",
    "        path = os.path.join(filefolder, article)\n",
    "                    \n",
    "        if  path[-3:] == 'txt': # os ~endswith('txt')\n",
    "            with open(path, 'rb') as f:\n",
    "                data.append(f.read())\n",
    "    \n",
    "    return data"
   ]
  },
  {
   "cell_type": "code",
<<<<<<< HEAD
   "execution_count": 8,
=======
   "execution_count": 5,
>>>>>>> 69e847c7c406c8aa7f2f0cfa29bc02ed60834a4f
   "metadata": {},
   "outputs": [],
   "source": [
    "data = gather_data('./data')"
   ]
  },
  {
   "cell_type": "code",
<<<<<<< HEAD
   "execution_count": 9,
=======
   "execution_count": 6,
>>>>>>> 69e847c7c406c8aa7f2f0cfa29bc02ed60834a4f
   "metadata": {},
   "outputs": [
    {
     "data": {
      "text/plain": [
       "b'Mobiles rack up 20 years of use\\n\\nMobile phones in the UK are celebrating their 20th anniversary this weekend.\\n\\nBritain\\'s first mobile phone call was made across the Vodafone network on 1 January 1985 by veteran comedian Ernie Wise. In the 20 years since that day, mobile phones have become an integral part of modern life and now almost 90% of Britons own a handset. Mobiles have become so popular that many people use their handset as their only phone and rarely use a landline.\\n\\nThe first ever call over a portable phone was made in 1973 in New York but it took 10 years for the first commercial mobile service to be launched. The UK was not far behind the rest of the world in setting up networks in 1985 that let people make calls while they walked. The first call was made from St Katherine\\'s dock to Vodafone\\'s head office in Newbury which at the time was over a curry house. For the first nine days of 1985 Vodafone was the only firm with a mobile network in the UK. Then on 10 January Cellnet (now O2) launched its service. Mike Caudwell, spokesman for Vodafone, said that when phones were launched they were the size of a briefcase, cost about \\xc2\\xa32,000 and had a battery life of little more than 20 minutes.\\n\\n\"Despite that they were hugely popular in the mid-80s,\" he said. \"They became a yuppy must-have and a status symbol among young wealthy business folk.\" This was also despite the fact that the phones used analogue radio signals to communicate which made them very easy to eavesdrop on. He said it took Vodafone almost nine years to rack up its first million customers but only 18 months to get the second million. \"It\\'s very easy to forget that in 1983 when we put the bid document in we were forecasting that the total market would be two million people,\" he said. \"Cellnet was forecasting half that.\" Now Vodafone has 14m customers in the UK alone. Cellnet and Vodafone were the only mobile phone operators in the UK until 1993 when One2One (now T-Mobile) was launched. Orange had its UK launch in 1994. Both newcomers operated digital mobile networks and now all operators use this technology. The analogue spectrum for the old phones has been retired. Called Global System for Mobiles (GSM) this is now the most widely used phone technology on the planet and is used to help more than 1.2 billion people make calls. Mr Caudwell said the advent of digital technology also helped to introduce all those things, such as text messaging and roaming that have made mobiles so popular.\\n'"
      ]
     },
<<<<<<< HEAD
     "execution_count": 9,
=======
     "execution_count": 6,
>>>>>>> 69e847c7c406c8aa7f2f0cfa29bc02ed60834a4f
     "metadata": {},
     "output_type": "execute_result"
    }
   ],
   "source": [
    "data[0]"
   ]
  },
  {
   "cell_type": "markdown",
   "metadata": {},
   "source": [
    "### CountVectorizer"
   ]
  },
  {
   "cell_type": "code",
<<<<<<< HEAD
   "execution_count": 10,
=======
   "execution_count": 13,
>>>>>>> 69e847c7c406c8aa7f2f0cfa29bc02ed60834a4f
   "metadata": {},
   "outputs": [],
   "source": [
    "from sklearn.feature_extraction.text import CountVectorizer\n",
    "\n",
    "# list of text documents\n",
    "text = [\"We created a new dataset which emphasizes diversity of content, by scraping content from the Internet.\",\" In order to preserve document quality, we used only pages which have been curated/filtered by humans—specifically, we used outbound links from Reddit which received at least 3 karma.\",\" This can be thought of as a heuristic indicator for whether other users found the link interesting (whether educational or funny), leading to higher data quality than other similar datasets, such as CommonCrawl.\"]\n",
    "\n",
    "# create the transformer\n",
    "vect = CountVectorizer()\n",
    "\n",
    "# build vocab\n",
    "vect.fit(text)\n",
    "\n",
<<<<<<< HEAD
    "# transform text - will produce a matrix\n",
=======
    "# transform text\n",
>>>>>>> 69e847c7c406c8aa7f2f0cfa29bc02ed60834a4f
    "dtm = vect.transform(text)\n",
    "\n",
    "# Create a Vocabulary\n",
    "# The vocabulary establishes all of the possible words that we might use.\n",
    "\n",
    "# The vocabulary dictionary does not represent the counts of words!!\n"
   ]
  },
  {
   "cell_type": "code",
<<<<<<< HEAD
=======
   "execution_count": 15,
   "metadata": {},
   "outputs": [
    {
     "data": {
      "text/plain": [
       "numpy.matrixlib.defmatrix.matrix"
      ]
     },
     "execution_count": 15,
     "metadata": {},
     "output_type": "execute_result"
    }
   ],
   "source": [
    "type(dtm.todense())"
   ]
  },
  {
   "cell_type": "code",
   "execution_count": 8,
   "metadata": {},
   "outputs": [
    {
     "name": "stdout",
     "output_type": "stream",
     "text": [
      "['as', 'at', 'be', 'been', 'by', 'can', 'commoncrawl', 'content', 'created', 'curated', 'data', 'dataset', 'datasets', 'diversity', 'document', 'educational', 'emphasizes', 'filtered', 'for', 'found', 'from', 'funny', 'have', 'heuristic', 'higher', 'humans', 'in', 'indicator', 'interesting', 'internet', 'karma', 'leading', 'least', 'link', 'links', 'new', 'of', 'only', 'or', 'order', 'other', 'outbound', 'pages', 'preserve', 'quality', 'received', 'reddit', 'scraping', 'similar', 'specifically', 'such', 'than', 'the', 'this', 'thought', 'to', 'used', 'users', 'we', 'whether', 'which']\n"
     ]
    }
   ],
   "source": [
    "print(vect.get_feature_names())"
   ]
  },
  {
   "cell_type": "code",
>>>>>>> 69e847c7c406c8aa7f2f0cfa29bc02ed60834a4f
   "execution_count": 11,
   "metadata": {},
   "outputs": [
    {
     "data": {
      "text/plain": [
<<<<<<< HEAD
       "<3x61 sparse matrix of type '<class 'numpy.int64'>'\n",
       "\twith 69 stored elements in Compressed Sparse Row format>"
=======
       "['We created a new dataset which emphasizes diversity of content, by scraping content from the Internet.',\n",
       " ' In order to preserve document quality, we used only pages which have been curated/filtered by humans—specifically, we used outbound links from Reddit which received at least 3 karma.',\n",
       " ' This can be thought of as a heuristic indicator for whether other users found the link interesting (whether educational or funny), leading to higher data quality than other similar datasets, such as CommonCrawl.']"
>>>>>>> 69e847c7c406c8aa7f2f0cfa29bc02ed60834a4f
      ]
     },
     "execution_count": 11,
     "metadata": {},
     "output_type": "execute_result"
    }
   ],
   "source": [
<<<<<<< HEAD
    "dtm"
=======
    "text[:25]"
>>>>>>> 69e847c7c406c8aa7f2f0cfa29bc02ed60834a4f
   ]
  },
  {
   "cell_type": "code",
<<<<<<< HEAD
   "execution_count": 12,
=======
   "execution_count": 9,
>>>>>>> 69e847c7c406c8aa7f2f0cfa29bc02ed60834a4f
   "metadata": {},
   "outputs": [
    {
     "name": "stdout",
     "output_type": "stream",
     "text": [
      "  (0, 4)\t1\n",
      "  (0, 7)\t2\n",
      "  (0, 8)\t1\n",
      "  (0, 11)\t1\n",
      "  (0, 13)\t1\n",
      "  (0, 16)\t1\n",
      "  (0, 20)\t1\n",
      "  (0, 29)\t1\n",
      "  (0, 35)\t1\n",
      "  (0, 36)\t1\n",
      "  (0, 47)\t1\n",
      "  (0, 52)\t1\n",
      "  (0, 58)\t1\n",
      "  (0, 60)\t1\n",
      "  (1, 1)\t1\n",
      "  (1, 3)\t1\n",
      "  (1, 4)\t1\n",
      "  (1, 9)\t1\n",
      "  (1, 14)\t1\n",
      "  (1, 17)\t1\n",
      "  (1, 20)\t1\n",
      "  (1, 22)\t1\n",
      "  (1, 25)\t1\n",
      "  (1, 26)\t1\n",
      "  (1, 30)\t1\n",
      "  :\t:\n",
      "  (2, 10)\t1\n",
      "  (2, 12)\t1\n",
      "  (2, 15)\t1\n",
      "  (2, 18)\t1\n",
      "  (2, 19)\t1\n",
      "  (2, 21)\t1\n",
      "  (2, 23)\t1\n",
      "  (2, 24)\t1\n",
      "  (2, 27)\t1\n",
      "  (2, 28)\t1\n",
      "  (2, 31)\t1\n",
      "  (2, 33)\t1\n",
      "  (2, 36)\t1\n",
      "  (2, 38)\t1\n",
      "  (2, 40)\t2\n",
      "  (2, 44)\t1\n",
      "  (2, 48)\t1\n",
      "  (2, 50)\t1\n",
      "  (2, 51)\t1\n",
      "  (2, 52)\t1\n",
      "  (2, 53)\t1\n",
      "  (2, 54)\t1\n",
      "  (2, 55)\t1\n",
      "  (2, 57)\t1\n",
      "  (2, 59)\t2\n"
     ]
    }
   ],
   "source": [
<<<<<<< HEAD
    "print(dtm) #> the tuples tell us the location of a word, and then the count"
   ]
  },
  {
   "cell_type": "code",
   "execution_count": 13,
   "metadata": {},
   "outputs": [
    {
     "name": "stdout",
     "output_type": "stream",
     "text": [
      "[[0 0 0 0 1 0 0 2 1 0 0 1 0 1 0 0 1 0 0 0 1 0 0 0 0 0 0 0 0 1 0 0 0 0 0 1\n",
      "  1 0 0 0 0 0 0 0 0 0 0 1 0 0 0 0 1 0 0 0 0 0 1 0 1]\n",
      " [0 1 0 1 1 0 0 0 0 1 0 0 0 0 1 0 0 1 0 0 1 0 1 0 0 1 1 0 0 0 1 0 1 0 1 0\n",
      "  0 1 0 1 0 1 1 1 1 1 1 0 0 1 0 0 0 0 0 1 2 0 2 0 2]\n",
      " [2 0 1 0 0 1 1 0 0 0 1 0 1 0 0 1 0 0 1 1 0 1 0 1 1 0 0 1 1 0 0 1 0 1 0 0\n",
      "  1 0 1 0 2 0 0 0 1 0 0 0 1 0 1 1 1 1 1 1 0 1 0 2 0]]\n"
     ]
    }
   ],
   "source": [
    "print(dtm.todense()) #> this command gets it to familiar matrix representation"
   ]
  },
  {
   "cell_type": "code",
   "execution_count": 15,
   "metadata": {},
   "outputs": [
    {
     "data": {
      "text/plain": [
       "numpy.matrixlib.defmatrix.matrix"
      ]
     },
     "execution_count": 15,
     "metadata": {},
     "output_type": "execute_result"
    }
   ],
   "source": [
    "type(dtm.todense())"
   ]
  },
  {
   "cell_type": "code",
   "execution_count": 14,
   "metadata": {},
   "outputs": [
    {
     "name": "stdout",
     "output_type": "stream",
     "text": [
      "['as', 'at', 'be', 'been', 'by', 'can', 'commoncrawl', 'content', 'created', 'curated', 'data', 'dataset', 'datasets', 'diversity', 'document', 'educational', 'emphasizes', 'filtered', 'for', 'found', 'from', 'funny', 'have', 'heuristic', 'higher', 'humans', 'in', 'indicator', 'interesting', 'internet', 'karma', 'leading', 'least', 'link', 'links', 'new', 'of', 'only', 'or', 'order', 'other', 'outbound', 'pages', 'preserve', 'quality', 'received', 'reddit', 'scraping', 'similar', 'specifically', 'such', 'than', 'the', 'this', 'thought', 'to', 'used', 'users', 'we', 'whether', 'which']\n"
     ]
    }
   ],
   "source": [
    "print(vect.get_feature_names())"
   ]
  },
  {
   "cell_type": "code",
   "execution_count": 11,
   "metadata": {},
   "outputs": [
    {
     "data": {
      "text/plain": [
       "['We created a new dataset which emphasizes diversity of content, by scraping content from the Internet.',\n",
       " ' In order to preserve document quality, we used only pages which have been curated/filtered by humans—specifically, we used outbound links from Reddit which received at least 3 karma.',\n",
       " ' This can be thought of as a heuristic indicator for whether other users found the link interesting (whether educational or funny), leading to higher data quality than other similar datasets, such as CommonCrawl.']"
      ]
     },
     "execution_count": 11,
     "metadata": {},
     "output_type": "execute_result"
    }
   ],
   "source": [
    "text[:25]"
   ]
  },
  {
   "cell_type": "code",
   "execution_count": 15,
   "metadata": {},
   "outputs": [
    {
     "data": {
      "text/plain": [
       "scipy.sparse.csr.csr_matrix"
      ]
     },
     "execution_count": 15,
     "metadata": {},
     "output_type": "execute_result"
    }
   ],
   "source": [
    "type(dtm)"
=======
    "print(dtm)"
>>>>>>> 69e847c7c406c8aa7f2f0cfa29bc02ed60834a4f
   ]
  },
  {
   "cell_type": "code",
   "execution_count": 10,
   "metadata": {},
   "outputs": [
    {
     "data": {
      "text/plain": [
       "matrix([[0, 0, 0, 0, 1, 0, 0, 2, 1, 0, 0, 1, 0, 1, 0, 0, 1, 0, 0, 0, 1,\n",
       "         0, 0, 0, 0, 0, 0, 0, 0, 1, 0, 0, 0, 0, 0, 1, 1, 0, 0, 0, 0, 0,\n",
       "         0, 0, 0, 0, 0, 1, 0, 0, 0, 0, 1, 0, 0, 0, 0, 0, 1, 0, 1],\n",
       "        [0, 1, 0, 1, 1, 0, 0, 0, 0, 1, 0, 0, 0, 0, 1, 0, 0, 1, 0, 0, 1,\n",
       "         0, 1, 0, 0, 1, 1, 0, 0, 0, 1, 0, 1, 0, 1, 0, 0, 1, 0, 1, 0, 1,\n",
       "         1, 1, 1, 1, 1, 0, 0, 1, 0, 0, 0, 0, 0, 1, 2, 0, 2, 0, 2],\n",
       "        [2, 0, 1, 0, 0, 1, 1, 0, 0, 0, 1, 0, 1, 0, 0, 1, 0, 0, 1, 1, 0,\n",
       "         1, 0, 1, 1, 0, 0, 1, 1, 0, 0, 1, 0, 1, 0, 0, 1, 0, 1, 0, 2, 0,\n",
       "         0, 0, 1, 0, 0, 0, 1, 0, 1, 1, 1, 1, 1, 1, 0, 1, 0, 2, 0]])"
      ]
     },
     "execution_count": 10,
     "metadata": {},
     "output_type": "execute_result"
    }
   ],
   "source": [
    "# Dealing with Sparse Matrix\n",
    "dtm.todense()"
   ]
  },
  {
   "cell_type": "code",
   "execution_count": 12,
   "metadata": {},
   "outputs": [
    {
     "data": {
      "text/plain": [
       "pandas.core.frame.DataFrame"
      ]
     },
     "execution_count": 12,
     "metadata": {},
     "output_type": "execute_result"
    }
   ],
   "source": [
    "type(dtm)"
   ]
  },
  {
   "cell_type": "code",
<<<<<<< HEAD
   "execution_count": 17,
   "metadata": {},
   "outputs": [
    {
     "data": {
      "text/plain": [
       "'We created a new dataset which emphasizes diversity of content, by scraping content from the Internet.'"
      ]
     },
     "execution_count": 17,
     "metadata": {},
     "output_type": "execute_result"
    }
   ],
   "source": [
    "text[0]"
   ]
  },
  {
   "cell_type": "code",
   "execution_count": 16,
=======
   "execution_count": 11,
>>>>>>> 69e847c7c406c8aa7f2f0cfa29bc02ed60834a4f
   "metadata": {},
   "outputs": [
    {
     "data": {
      "text/html": [
       "<div>\n",
       "<style scoped>\n",
       "    .dataframe tbody tr th:only-of-type {\n",
       "        vertical-align: middle;\n",
       "    }\n",
       "\n",
       "    .dataframe tbody tr th {\n",
       "        vertical-align: top;\n",
       "    }\n",
       "\n",
       "    .dataframe thead th {\n",
       "        text-align: right;\n",
       "    }\n",
       "</style>\n",
       "<table border=\"1\" class=\"dataframe\">\n",
       "  <thead>\n",
       "    <tr style=\"text-align: right;\">\n",
       "      <th></th>\n",
       "      <th>as</th>\n",
       "      <th>at</th>\n",
       "      <th>be</th>\n",
       "      <th>been</th>\n",
       "      <th>by</th>\n",
       "      <th>can</th>\n",
       "      <th>commoncrawl</th>\n",
       "      <th>content</th>\n",
       "      <th>created</th>\n",
       "      <th>curated</th>\n",
       "      <th>...</th>\n",
       "      <th>than</th>\n",
       "      <th>the</th>\n",
       "      <th>this</th>\n",
       "      <th>thought</th>\n",
       "      <th>to</th>\n",
       "      <th>used</th>\n",
       "      <th>users</th>\n",
       "      <th>we</th>\n",
       "      <th>whether</th>\n",
       "      <th>which</th>\n",
       "    </tr>\n",
       "  </thead>\n",
       "  <tbody>\n",
       "    <tr>\n",
       "      <th>0</th>\n",
       "      <td>0</td>\n",
       "      <td>0</td>\n",
       "      <td>0</td>\n",
       "      <td>0</td>\n",
       "      <td>1</td>\n",
       "      <td>0</td>\n",
       "      <td>0</td>\n",
       "      <td>2</td>\n",
       "      <td>1</td>\n",
       "      <td>0</td>\n",
       "      <td>...</td>\n",
       "      <td>0</td>\n",
       "      <td>1</td>\n",
       "      <td>0</td>\n",
       "      <td>0</td>\n",
       "      <td>0</td>\n",
       "      <td>0</td>\n",
       "      <td>0</td>\n",
       "      <td>1</td>\n",
       "      <td>0</td>\n",
       "      <td>1</td>\n",
       "    </tr>\n",
       "    <tr>\n",
       "      <th>1</th>\n",
       "      <td>0</td>\n",
       "      <td>1</td>\n",
       "      <td>0</td>\n",
       "      <td>1</td>\n",
       "      <td>1</td>\n",
       "      <td>0</td>\n",
       "      <td>0</td>\n",
       "      <td>0</td>\n",
       "      <td>0</td>\n",
       "      <td>1</td>\n",
       "      <td>...</td>\n",
       "      <td>0</td>\n",
       "      <td>0</td>\n",
       "      <td>0</td>\n",
       "      <td>0</td>\n",
       "      <td>1</td>\n",
       "      <td>2</td>\n",
       "      <td>0</td>\n",
       "      <td>2</td>\n",
       "      <td>0</td>\n",
       "      <td>2</td>\n",
       "    </tr>\n",
       "    <tr>\n",
       "      <th>2</th>\n",
       "      <td>2</td>\n",
       "      <td>0</td>\n",
       "      <td>1</td>\n",
       "      <td>0</td>\n",
       "      <td>0</td>\n",
       "      <td>1</td>\n",
       "      <td>1</td>\n",
       "      <td>0</td>\n",
       "      <td>0</td>\n",
       "      <td>0</td>\n",
       "      <td>...</td>\n",
       "      <td>1</td>\n",
       "      <td>1</td>\n",
       "      <td>1</td>\n",
       "      <td>1</td>\n",
       "      <td>1</td>\n",
       "      <td>0</td>\n",
       "      <td>1</td>\n",
       "      <td>0</td>\n",
       "      <td>2</td>\n",
       "      <td>0</td>\n",
       "    </tr>\n",
       "  </tbody>\n",
       "</table>\n",
       "<p>3 rows × 61 columns</p>\n",
       "</div>"
      ],
      "text/plain": [
       "   as  at  be  been  by  can  commoncrawl  content  created  curated  ...  \\\n",
       "0   0   0   0     0   1    0            0        2        1        0  ...   \n",
       "1   0   1   0     1   1    0            0        0        0        1  ...   \n",
       "2   2   0   1     0   0    1            1        0        0        0  ...   \n",
       "\n",
       "   than  the  this  thought  to  used  users  we  whether  which  \n",
       "0     0    1     0        0   0     0      0   1        0      1  \n",
       "1     0    0     0        0   1     2      0   2        0      2  \n",
       "2     1    1     1        1   1     0      1   0        2      0  \n",
       "\n",
       "[3 rows x 61 columns]"
      ]
     },
<<<<<<< HEAD
     "execution_count": 16,
=======
     "execution_count": 11,
>>>>>>> 69e847c7c406c8aa7f2f0cfa29bc02ed60834a4f
     "metadata": {},
     "output_type": "execute_result"
    }
   ],
   "source": [
    "# Get Word Counts for each document\n",
    "dtm = pd.DataFrame(dtm.todense(), columns=vect.get_feature_names())\n",
    "dtm"
   ]
  },
  {
   "cell_type": "code",
   "execution_count": null,
   "metadata": {},
   "outputs": [],
   "source": [
    "data[0][:25]"
   ]
  },
  {
   "cell_type": "code",
   "execution_count": 15,
   "metadata": {},
   "outputs": [
    {
     "data": {
      "text/plain": [
       "401"
      ]
     },
     "execution_count": 15,
     "metadata": {},
     "output_type": "execute_result"
    }
   ],
   "source": [
    "len(data)"
   ]
  },
  {
   "cell_type": "markdown",
   "metadata": {},
   "source": [
    "**Three Minute Challenge:** \n",
    "* Apply CountVectorizer to our BBC Data\n",
    "* Store results in a dataframe called `dtm`\n",
    "* Extra Challenge - Try to Customize CountVectorizer with Spacy Processing"
   ]
  },
  {
   "cell_type": "code",
<<<<<<< HEAD
   "execution_count": 22,
=======
   "execution_count": 30,
>>>>>>> 69e847c7c406c8aa7f2f0cfa29bc02ed60834a4f
   "metadata": {},
   "outputs": [],
   "source": [
    "# Apply CountVectorizer to our Data\n",
    "# Use custom Spacy Vectorizer\n",
    "# BBC articles in `data` variable\n",
    "\n",
    "from sklearn.feature_extraction.text import CountVectorizer\n",
    "\n",
<<<<<<< HEAD
    "vect = CountVectorizer(stop_words='english', \n",
    "                       max_df=.95, \n",
    "                       min_df=2, #> word must appear n times to appear in vocab\n",
    "                       ngram_range=(1,2),\n",
    "                       max_features=5000 #> max n of features we want to return in vector)\n",
    "                      )\n",
=======
    "vect = CountVectorizer(stop_words='english', max_features=1000)\n",
>>>>>>> 69e847c7c406c8aa7f2f0cfa29bc02ed60834a4f
    "\n",
    "#Learn our Vocab\n",
    "vect.fit(data)\n",
    "\n",
    "# Get sparse dtm\n",
    "dtm = vect.transform(data)\n",
    "\n",
    "dtm = pd.DataFrame(dtm.todense(), columns=vect.get_feature_names())"
   ]
  },
  {
   "cell_type": "code",
<<<<<<< HEAD
   "execution_count": 23,
   "metadata": {},
   "outputs": [
    {
     "name": "stdout",
     "output_type": "stream",
     "text": [
      "Number of Features (ngrams): 5000\n"
     ]
    }
   ],
   "source": [
    "print(f\"Number of Features (ngrams): {dtm.shape[1]}\")"
   ]
  },
  {
   "cell_type": "code",
   "execution_count": 24,
=======
   "execution_count": 31,
>>>>>>> 69e847c7c406c8aa7f2f0cfa29bc02ed60834a4f
   "metadata": {},
   "outputs": [
    {
     "data": {
      "text/html": [
       "<div>\n",
       "<style scoped>\n",
       "    .dataframe tbody tr th:only-of-type {\n",
       "        vertical-align: middle;\n",
       "    }\n",
       "\n",
       "    .dataframe tbody tr th {\n",
       "        vertical-align: top;\n",
       "    }\n",
       "\n",
       "    .dataframe thead th {\n",
       "        text-align: right;\n",
       "    }\n",
       "</style>\n",
       "<table border=\"1\" class=\"dataframe\">\n",
       "  <thead>\n",
       "    <tr style=\"text-align: right;\">\n",
       "      <th></th>\n",
       "      <th>000</th>\n",
<<<<<<< HEAD
       "      <th>000 000</th>\n",
       "      <th>000 new</th>\n",
       "      <th>000 people</th>\n",
       "      <th>000 times</th>\n",
       "      <th>10</th>\n",
       "      <th>10 000</th>\n",
       "      <th>10 million</th>\n",
       "      <th>10 times</th>\n",
       "      <th>10 years</th>\n",
       "      <th>...</th>\n",
       "      <th>yes</th>\n",
       "      <th>york</th>\n",
       "      <th>young</th>\n",
       "      <th>young people</th>\n",
       "      <th>younger</th>\n",
       "      <th>youth</th>\n",
       "      <th>zafi</th>\n",
       "      <th>zafi virus</th>\n",
       "      <th>zen</th>\n",
       "      <th>zombies</th>\n",
=======
       "      <th>10</th>\n",
       "      <th>100</th>\n",
       "      <th>11</th>\n",
       "      <th>12</th>\n",
       "      <th>14</th>\n",
       "      <th>15</th>\n",
       "      <th>18</th>\n",
       "      <th>20</th>\n",
       "      <th>200</th>\n",
       "      <th>...</th>\n",
       "      <th>worldwide</th>\n",
       "      <th>worm</th>\n",
       "      <th>worth</th>\n",
       "      <th>writing</th>\n",
       "      <th>xbox</th>\n",
       "      <th>xp</th>\n",
       "      <th>yahoo</th>\n",
       "      <th>year</th>\n",
       "      <th>years</th>\n",
       "      <th>york</th>\n",
>>>>>>> 69e847c7c406c8aa7f2f0cfa29bc02ed60834a4f
       "    </tr>\n",
       "  </thead>\n",
       "  <tbody>\n",
       "    <tr>\n",
       "      <th>0</th>\n",
       "      <td>1</td>\n",
<<<<<<< HEAD
=======
       "      <td>2</td>\n",
>>>>>>> 69e847c7c406c8aa7f2f0cfa29bc02ed60834a4f
       "      <td>0</td>\n",
       "      <td>0</td>\n",
       "      <td>0</td>\n",
       "      <td>0</td>\n",
<<<<<<< HEAD
       "      <td>2</td>\n",
       "      <td>0</td>\n",
       "      <td>0</td>\n",
       "      <td>0</td>\n",
       "      <td>1</td>\n",
       "      <td>...</td>\n",
       "      <td>0</td>\n",
       "      <td>1</td>\n",
       "      <td>1</td>\n",
=======
       "      <td>0</td>\n",
       "      <td>1</td>\n",
       "      <td>3</td>\n",
       "      <td>0</td>\n",
       "      <td>...</td>\n",
       "      <td>0</td>\n",
>>>>>>> 69e847c7c406c8aa7f2f0cfa29bc02ed60834a4f
       "      <td>0</td>\n",
       "      <td>0</td>\n",
       "      <td>0</td>\n",
       "      <td>0</td>\n",
       "      <td>0</td>\n",
       "      <td>0</td>\n",
       "      <td>0</td>\n",
<<<<<<< HEAD
=======
       "      <td>4</td>\n",
       "      <td>1</td>\n",
>>>>>>> 69e847c7c406c8aa7f2f0cfa29bc02ed60834a4f
       "    </tr>\n",
       "    <tr>\n",
       "      <th>1</th>\n",
       "      <td>0</td>\n",
       "      <td>0</td>\n",
       "      <td>0</td>\n",
<<<<<<< HEAD
       "      <td>0</td>\n",
       "      <td>0</td>\n",
       "      <td>0</td>\n",
       "      <td>0</td>\n",
       "      <td>0</td>\n",
=======
       "      <td>1</td>\n",
       "      <td>0</td>\n",
       "      <td>0</td>\n",
       "      <td>0</td>\n",
       "      <td>1</td>\n",
>>>>>>> 69e847c7c406c8aa7f2f0cfa29bc02ed60834a4f
       "      <td>0</td>\n",
       "      <td>0</td>\n",
       "      <td>...</td>\n",
       "      <td>0</td>\n",
       "      <td>0</td>\n",
       "      <td>0</td>\n",
       "      <td>0</td>\n",
       "      <td>0</td>\n",
       "      <td>0</td>\n",
       "      <td>0</td>\n",
<<<<<<< HEAD
       "      <td>0</td>\n",
=======
       "      <td>2</td>\n",
>>>>>>> 69e847c7c406c8aa7f2f0cfa29bc02ed60834a4f
       "      <td>0</td>\n",
       "      <td>0</td>\n",
       "    </tr>\n",
       "    <tr>\n",
       "      <th>2</th>\n",
       "      <td>3</td>\n",
       "      <td>0</td>\n",
       "      <td>0</td>\n",
       "      <td>0</td>\n",
       "      <td>0</td>\n",
       "      <td>0</td>\n",
       "      <td>0</td>\n",
       "      <td>0</td>\n",
<<<<<<< HEAD
       "      <td>0</td>\n",
=======
       "      <td>1</td>\n",
>>>>>>> 69e847c7c406c8aa7f2f0cfa29bc02ed60834a4f
       "      <td>0</td>\n",
       "      <td>...</td>\n",
       "      <td>0</td>\n",
       "      <td>0</td>\n",
       "      <td>0</td>\n",
       "      <td>0</td>\n",
<<<<<<< HEAD
       "      <td>0</td>\n",
       "      <td>0</td>\n",
       "      <td>0</td>\n",
       "      <td>0</td>\n",
       "      <td>0</td>\n",
=======
       "      <td>1</td>\n",
       "      <td>0</td>\n",
       "      <td>0</td>\n",
       "      <td>2</td>\n",
       "      <td>2</td>\n",
>>>>>>> 69e847c7c406c8aa7f2f0cfa29bc02ed60834a4f
       "      <td>0</td>\n",
       "    </tr>\n",
       "    <tr>\n",
       "      <th>3</th>\n",
       "      <td>0</td>\n",
       "      <td>0</td>\n",
       "      <td>0</td>\n",
       "      <td>0</td>\n",
       "      <td>0</td>\n",
       "      <td>0</td>\n",
       "      <td>0</td>\n",
       "      <td>0</td>\n",
       "      <td>0</td>\n",
       "      <td>0</td>\n",
       "      <td>...</td>\n",
       "      <td>0</td>\n",
       "      <td>0</td>\n",
       "      <td>0</td>\n",
       "      <td>0</td>\n",
       "      <td>0</td>\n",
       "      <td>0</td>\n",
       "      <td>0</td>\n",
       "      <td>0</td>\n",
       "      <td>0</td>\n",
       "      <td>0</td>\n",
       "    </tr>\n",
       "    <tr>\n",
       "      <th>4</th>\n",
       "      <td>0</td>\n",
       "      <td>0</td>\n",
       "      <td>0</td>\n",
       "      <td>0</td>\n",
       "      <td>0</td>\n",
       "      <td>0</td>\n",
       "      <td>0</td>\n",
       "      <td>0</td>\n",
       "      <td>0</td>\n",
       "      <td>0</td>\n",
       "      <td>...</td>\n",
       "      <td>0</td>\n",
       "      <td>0</td>\n",
       "      <td>0</td>\n",
       "      <td>0</td>\n",
       "      <td>0</td>\n",
       "      <td>0</td>\n",
       "      <td>0</td>\n",
       "      <td>0</td>\n",
<<<<<<< HEAD
       "      <td>0</td>\n",
=======
       "      <td>1</td>\n",
>>>>>>> 69e847c7c406c8aa7f2f0cfa29bc02ed60834a4f
       "      <td>0</td>\n",
       "    </tr>\n",
       "  </tbody>\n",
       "</table>\n",
<<<<<<< HEAD
       "<p>5 rows × 5000 columns</p>\n",
       "</div>"
      ],
      "text/plain": [
       "   000  000 000  000 new  000 people  000 times  10  10 000  10 million  \\\n",
       "0    1        0        0           0          0   2       0           0   \n",
       "1    0        0        0           0          0   0       0           0   \n",
       "2    3        0        0           0          0   0       0           0   \n",
       "3    0        0        0           0          0   0       0           0   \n",
       "4    0        0        0           0          0   0       0           0   \n",
       "\n",
       "   10 times  10 years  ...  yes  york  young  young people  younger  youth  \\\n",
       "0         0         1  ...    0     1      1             0        0      0   \n",
       "1         0         0  ...    0     0      0             0        0      0   \n",
       "2         0         0  ...    0     0      0             0        0      0   \n",
       "3         0         0  ...    0     0      0             0        0      0   \n",
       "4         0         0  ...    0     0      0             0        0      0   \n",
       "\n",
       "   zafi  zafi virus  zen  zombies  \n",
       "0     0           0    0        0  \n",
       "1     0           0    0        0  \n",
       "2     0           0    0        0  \n",
       "3     0           0    0        0  \n",
       "4     0           0    0        0  \n",
       "\n",
       "[5 rows x 5000 columns]"
      ]
     },
     "execution_count": 24,
=======
       "<p>5 rows × 1000 columns</p>\n",
       "</div>"
      ],
      "text/plain": [
       "   000  10  100  11  12  14  15  18  20  200  ...  worldwide  worm  worth  \\\n",
       "0    1   2    0   0   0   0   0   1   3    0  ...          0     0      0   \n",
       "1    0   0    0   1   0   0   0   1   0    0  ...          0     0      0   \n",
       "2    3   0    0   0   0   0   0   0   1    0  ...          0     0      0   \n",
       "3    0   0    0   0   0   0   0   0   0    0  ...          0     0      0   \n",
       "4    0   0    0   0   0   0   0   0   0    0  ...          0     0      0   \n",
       "\n",
       "   writing  xbox  xp  yahoo  year  years  york  \n",
       "0        0     0   0      0     0      4     1  \n",
       "1        0     0   0      0     2      0     0  \n",
       "2        0     1   0      0     2      2     0  \n",
       "3        0     0   0      0     0      0     0  \n",
       "4        0     0   0      0     0      1     0  \n",
       "\n",
       "[5 rows x 1000 columns]"
      ]
     },
     "execution_count": 31,
>>>>>>> 69e847c7c406c8aa7f2f0cfa29bc02ed60834a4f
     "metadata": {},
     "output_type": "execute_result"
    }
   ],
   "source": [
    "dtm.head()"
   ]
  },
  {
   "cell_type": "code",
<<<<<<< HEAD
   "execution_count": 25,
   "metadata": {},
   "outputs": [],
   "source": [
    "row = dtm.mean(axis=1)"
   ]
  },
  {
   "cell_type": "code",
   "execution_count": 26,
   "metadata": {},
   "outputs": [
    {
     "data": {
      "text/plain": [
       "0      0.0446\n",
       "1      0.0270\n",
       "2      0.0584\n",
       "3      0.0324\n",
       "4      0.0498\n",
       "        ...  \n",
       "396    0.0472\n",
       "397    0.0276\n",
       "398    0.0360\n",
       "399    0.0394\n",
       "400    0.0186\n",
       "Length: 401, dtype: float64"
      ]
     },
     "execution_count": 26,
     "metadata": {},
     "output_type": "execute_result"
    }
   ],
   "source": [
    "row #> means are so low bc most of the information in bag of words is zeros"
   ]
  },
  {
   "cell_type": "code",
   "execution_count": 27,
=======
   "execution_count": null,
   "metadata": {},
   "outputs": [],
   "source": []
  },
  {
   "cell_type": "code",
   "execution_count": 32,
>>>>>>> 69e847c7c406c8aa7f2f0cfa29bc02ed60834a4f
   "metadata": {},
   "outputs": [],
   "source": [
    "doc_len = [len(doc) for doc in data]"
   ]
  },
  {
   "cell_type": "code",
<<<<<<< HEAD
   "execution_count": 28,
   "metadata": {},
   "outputs": [
    {
     "data": {
      "image/png": "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\n",
=======
   "execution_count": 33,
   "metadata": {},
   "outputs": [
    {
     "name": "stderr",
     "output_type": "stream",
     "text": [
      "/Users/jonathansokoll/anaconda3/envs/U4-S1-NLP-DS10/lib/python3.7/site-packages/scipy/stats/stats.py:1713: FutureWarning: Using a non-tuple sequence for multidimensional indexing is deprecated; use `arr[tuple(seq)]` instead of `arr[seq]`. In the future this will be interpreted as an array index, `arr[np.array(seq)]`, which will result either in an error or a different result.\n",
      "  return np.add.reduce(sorted[indexer] * weights, axis=axis) / sumval\n"
     ]
    },
    {
     "data": {
      "image/png": "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\n",
>>>>>>> 69e847c7c406c8aa7f2f0cfa29bc02ed60834a4f
      "text/plain": [
       "<Figure size 432x288 with 1 Axes>"
      ]
     },
     "metadata": {
      "needs_background": "light"
     },
     "output_type": "display_data"
    }
   ],
   "source": [
    "import seaborn as sns\n",
    "\n",
<<<<<<< HEAD
    "sns.distplot(doc_len);\n",
    "\n",
    "# If documents are of variable length, we need something more\n",
    "# than count vectorization"
=======
    "sns.distplot(doc_len);"
>>>>>>> 69e847c7c406c8aa7f2f0cfa29bc02ed60834a4f
   ]
  },
  {
   "cell_type": "markdown",
   "metadata": {},
   "source": [
    "### TfidfVectorizer\n",
    "\n",
    "## Term Frequency - Inverse Document Frequency (TF-IDF)\n",
    "\n",
    "<center><img src=\"https://mungingdata.files.wordpress.com/2017/11/equation.png?w=430&h=336\" width=\"300\"></center>\n",
    "\n",
    "Term Frequency: Percentage of words in document for each word\n",
    "\n",
    "Document Frequency: A penalty for the word existing in a high number of documents.\n",
    "\n",
    "The purpose of TF-IDF is to find what is **unique** to each document. Because of this we will penalize the term frequencies of words that are common across all documents which will allow for each document's most different topics to rise to the top."
   ]
  },
  {
   "cell_type": "code",
<<<<<<< HEAD
   "execution_count": null,
   "metadata": {},
   "outputs": [],
   "source": [
    "# TF-IDF finds whats unique to most documents and penalizes what is common\n",
    "\n",
    "# It does this by taking the count of a term in a document and dividing by the \n",
    "# count of total terms in that document\n",
    "\n",
    "# Ultimately it controls for what is unique in a given document\n",
    "\n",
    "# Also normalizes all scores between 0 and 1, so essentially a scaling effect\n",
    "\n",
    "# Scores closer to 1 is more unique, and closer to 0 is more common"
   ]
  },
  {
   "cell_type": "code",
   "execution_count": 29,
=======
   "execution_count": 35,
>>>>>>> 69e847c7c406c8aa7f2f0cfa29bc02ed60834a4f
   "metadata": {},
   "outputs": [
    {
     "data": {
      "text/html": [
       "<div>\n",
       "<style scoped>\n",
       "    .dataframe tbody tr th:only-of-type {\n",
       "        vertical-align: middle;\n",
       "    }\n",
       "\n",
       "    .dataframe tbody tr th {\n",
       "        vertical-align: top;\n",
       "    }\n",
       "\n",
       "    .dataframe thead th {\n",
       "        text-align: right;\n",
       "    }\n",
       "</style>\n",
       "<table border=\"1\" class=\"dataframe\">\n",
       "  <thead>\n",
       "    <tr style=\"text-align: right;\">\n",
       "      <th></th>\n",
       "      <th>000</th>\n",
<<<<<<< HEAD
       "      <th>000 new</th>\n",
       "      <th>000 people</th>\n",
       "      <th>000 times</th>\n",
       "      <th>10</th>\n",
       "      <th>10 000</th>\n",
       "      <th>10 million</th>\n",
       "      <th>10 times</th>\n",
       "      <th>10 years</th>\n",
       "      <th>100</th>\n",
       "      <th>...</th>\n",
       "      <th>yoran</th>\n",
       "      <th>york</th>\n",
       "      <th>young</th>\n",
       "      <th>young people</th>\n",
       "      <th>younger</th>\n",
       "      <th>youth</th>\n",
       "      <th>zafi</th>\n",
       "      <th>zafi virus</th>\n",
=======
       "      <th>10</th>\n",
       "      <th>100</th>\n",
       "      <th>101</th>\n",
       "      <th>104</th>\n",
       "      <th>10m</th>\n",
       "      <th>11</th>\n",
       "      <th>12</th>\n",
       "      <th>120</th>\n",
       "      <th>13</th>\n",
       "      <th>...</th>\n",
       "      <th>yoda</th>\n",
       "      <th>yoran</th>\n",
       "      <th>york</th>\n",
       "      <th>young</th>\n",
       "      <th>younger</th>\n",
       "      <th>youngsters</th>\n",
       "      <th>youth</th>\n",
       "      <th>zafi</th>\n",
>>>>>>> 69e847c7c406c8aa7f2f0cfa29bc02ed60834a4f
       "      <th>zen</th>\n",
       "      <th>zombies</th>\n",
       "    </tr>\n",
       "  </thead>\n",
       "  <tbody>\n",
       "    <tr>\n",
       "      <th>0</th>\n",
<<<<<<< HEAD
       "      <td>0.027615</td>\n",
       "      <td>0.0</td>\n",
       "      <td>0.0</td>\n",
       "      <td>0.0</td>\n",
       "      <td>0.063597</td>\n",
       "      <td>0.0</td>\n",
       "      <td>0.0</td>\n",
       "      <td>0.0</td>\n",
       "      <td>0.064011</td>\n",
       "      <td>0.0</td>\n",
       "      <td>...</td>\n",
       "      <td>0.0</td>\n",
       "      <td>0.052751</td>\n",
       "      <td>0.055828</td>\n",
       "      <td>0.0</td>\n",
=======
       "      <td>0.028940</td>\n",
       "      <td>0.066646</td>\n",
       "      <td>0.0</td>\n",
       "      <td>0.0</td>\n",
       "      <td>0.0</td>\n",
       "      <td>0.0</td>\n",
       "      <td>0.000000</td>\n",
       "      <td>0.0</td>\n",
       "      <td>0.0</td>\n",
       "      <td>0.0</td>\n",
       "      <td>...</td>\n",
       "      <td>0.0</td>\n",
       "      <td>0.0</td>\n",
       "      <td>0.05528</td>\n",
       "      <td>0.058505</td>\n",
>>>>>>> 69e847c7c406c8aa7f2f0cfa29bc02ed60834a4f
       "      <td>0.0</td>\n",
       "      <td>0.0</td>\n",
       "      <td>0.0</td>\n",
       "      <td>0.0</td>\n",
       "      <td>0.0</td>\n",
       "      <td>0.0</td>\n",
       "    </tr>\n",
       "    <tr>\n",
       "      <th>1</th>\n",
       "      <td>0.000000</td>\n",
<<<<<<< HEAD
       "      <td>0.0</td>\n",
       "      <td>0.0</td>\n",
       "      <td>0.0</td>\n",
       "      <td>0.000000</td>\n",
       "      <td>0.0</td>\n",
       "      <td>0.0</td>\n",
       "      <td>0.0</td>\n",
       "      <td>0.000000</td>\n",
       "      <td>0.0</td>\n",
       "      <td>...</td>\n",
       "      <td>0.0</td>\n",
       "      <td>0.000000</td>\n",
       "      <td>0.000000</td>\n",
       "      <td>0.0</td>\n",
=======
       "      <td>0.000000</td>\n",
       "      <td>0.0</td>\n",
       "      <td>0.0</td>\n",
       "      <td>0.0</td>\n",
       "      <td>0.0</td>\n",
       "      <td>0.077901</td>\n",
       "      <td>0.0</td>\n",
       "      <td>0.0</td>\n",
       "      <td>0.0</td>\n",
       "      <td>...</td>\n",
       "      <td>0.0</td>\n",
       "      <td>0.0</td>\n",
       "      <td>0.00000</td>\n",
       "      <td>0.000000</td>\n",
>>>>>>> 69e847c7c406c8aa7f2f0cfa29bc02ed60834a4f
       "      <td>0.0</td>\n",
       "      <td>0.0</td>\n",
       "      <td>0.0</td>\n",
       "      <td>0.0</td>\n",
       "      <td>0.0</td>\n",
       "      <td>0.0</td>\n",
       "    </tr>\n",
       "    <tr>\n",
       "      <th>2</th>\n",
<<<<<<< HEAD
       "      <td>0.061334</td>\n",
       "      <td>0.0</td>\n",
       "      <td>0.0</td>\n",
       "      <td>0.0</td>\n",
       "      <td>0.000000</td>\n",
       "      <td>0.0</td>\n",
       "      <td>0.0</td>\n",
       "      <td>0.0</td>\n",
       "      <td>0.000000</td>\n",
       "      <td>0.0</td>\n",
       "      <td>...</td>\n",
       "      <td>0.0</td>\n",
       "      <td>0.000000</td>\n",
       "      <td>0.000000</td>\n",
       "      <td>0.0</td>\n",
=======
       "      <td>0.061896</td>\n",
       "      <td>0.000000</td>\n",
       "      <td>0.0</td>\n",
       "      <td>0.0</td>\n",
       "      <td>0.0</td>\n",
       "      <td>0.0</td>\n",
       "      <td>0.000000</td>\n",
       "      <td>0.0</td>\n",
       "      <td>0.0</td>\n",
       "      <td>0.0</td>\n",
       "      <td>...</td>\n",
       "      <td>0.0</td>\n",
       "      <td>0.0</td>\n",
       "      <td>0.00000</td>\n",
       "      <td>0.000000</td>\n",
>>>>>>> 69e847c7c406c8aa7f2f0cfa29bc02ed60834a4f
       "      <td>0.0</td>\n",
       "      <td>0.0</td>\n",
       "      <td>0.0</td>\n",
       "      <td>0.0</td>\n",
       "      <td>0.0</td>\n",
       "      <td>0.0</td>\n",
       "    </tr>\n",
       "    <tr>\n",
       "      <th>3</th>\n",
       "      <td>0.000000</td>\n",
<<<<<<< HEAD
=======
       "      <td>0.000000</td>\n",
       "      <td>0.0</td>\n",
>>>>>>> 69e847c7c406c8aa7f2f0cfa29bc02ed60834a4f
       "      <td>0.0</td>\n",
       "      <td>0.0</td>\n",
       "      <td>0.0</td>\n",
       "      <td>0.000000</td>\n",
       "      <td>0.0</td>\n",
       "      <td>0.0</td>\n",
       "      <td>0.0</td>\n",
<<<<<<< HEAD
       "      <td>0.000000</td>\n",
       "      <td>0.0</td>\n",
       "      <td>...</td>\n",
       "      <td>0.0</td>\n",
       "      <td>0.000000</td>\n",
       "      <td>0.000000</td>\n",
       "      <td>0.0</td>\n",
=======
       "      <td>...</td>\n",
       "      <td>0.0</td>\n",
       "      <td>0.0</td>\n",
       "      <td>0.00000</td>\n",
       "      <td>0.000000</td>\n",
>>>>>>> 69e847c7c406c8aa7f2f0cfa29bc02ed60834a4f
       "      <td>0.0</td>\n",
       "      <td>0.0</td>\n",
       "      <td>0.0</td>\n",
       "      <td>0.0</td>\n",
       "      <td>0.0</td>\n",
       "      <td>0.0</td>\n",
       "    </tr>\n",
       "    <tr>\n",
       "      <th>4</th>\n",
       "      <td>0.000000</td>\n",
<<<<<<< HEAD
       "      <td>0.0</td>\n",
       "      <td>0.0</td>\n",
       "      <td>0.0</td>\n",
       "      <td>0.000000</td>\n",
       "      <td>0.0</td>\n",
       "      <td>0.0</td>\n",
       "      <td>0.0</td>\n",
       "      <td>0.000000</td>\n",
       "      <td>0.0</td>\n",
       "      <td>...</td>\n",
       "      <td>0.0</td>\n",
       "      <td>0.000000</td>\n",
       "      <td>0.000000</td>\n",
       "      <td>0.0</td>\n",
=======
       "      <td>0.000000</td>\n",
       "      <td>0.0</td>\n",
       "      <td>0.0</td>\n",
       "      <td>0.0</td>\n",
       "      <td>0.0</td>\n",
       "      <td>0.000000</td>\n",
       "      <td>0.0</td>\n",
       "      <td>0.0</td>\n",
       "      <td>0.0</td>\n",
       "      <td>...</td>\n",
       "      <td>0.0</td>\n",
       "      <td>0.0</td>\n",
       "      <td>0.00000</td>\n",
       "      <td>0.000000</td>\n",
>>>>>>> 69e847c7c406c8aa7f2f0cfa29bc02ed60834a4f
       "      <td>0.0</td>\n",
       "      <td>0.0</td>\n",
       "      <td>0.0</td>\n",
       "      <td>0.0</td>\n",
       "      <td>0.0</td>\n",
       "      <td>0.0</td>\n",
       "    </tr>\n",
       "  </tbody>\n",
       "</table>\n",
       "<p>5 rows × 5000 columns</p>\n",
       "</div>"
      ],
      "text/plain": [
<<<<<<< HEAD
       "        000  000 new  000 people  000 times        10  10 000  10 million  \\\n",
       "0  0.027615      0.0         0.0        0.0  0.063597     0.0         0.0   \n",
       "1  0.000000      0.0         0.0        0.0  0.000000     0.0         0.0   \n",
       "2  0.061334      0.0         0.0        0.0  0.000000     0.0         0.0   \n",
       "3  0.000000      0.0         0.0        0.0  0.000000     0.0         0.0   \n",
       "4  0.000000      0.0         0.0        0.0  0.000000     0.0         0.0   \n",
       "\n",
       "   10 times  10 years  100  ...  yoran      york     young  young people  \\\n",
       "0       0.0  0.064011  0.0  ...    0.0  0.052751  0.055828           0.0   \n",
       "1       0.0  0.000000  0.0  ...    0.0  0.000000  0.000000           0.0   \n",
       "2       0.0  0.000000  0.0  ...    0.0  0.000000  0.000000           0.0   \n",
       "3       0.0  0.000000  0.0  ...    0.0  0.000000  0.000000           0.0   \n",
       "4       0.0  0.000000  0.0  ...    0.0  0.000000  0.000000           0.0   \n",
       "\n",
       "   younger  youth  zafi  zafi virus  zen  zombies  \n",
       "0      0.0    0.0   0.0         0.0  0.0      0.0  \n",
       "1      0.0    0.0   0.0         0.0  0.0      0.0  \n",
       "2      0.0    0.0   0.0         0.0  0.0      0.0  \n",
       "3      0.0    0.0   0.0         0.0  0.0      0.0  \n",
       "4      0.0    0.0   0.0         0.0  0.0      0.0  \n",
=======
       "        000        10  100  101  104  10m        11   12  120   13  ...  yoda  \\\n",
       "0  0.028940  0.066646  0.0  0.0  0.0  0.0  0.000000  0.0  0.0  0.0  ...   0.0   \n",
       "1  0.000000  0.000000  0.0  0.0  0.0  0.0  0.077901  0.0  0.0  0.0  ...   0.0   \n",
       "2  0.061896  0.000000  0.0  0.0  0.0  0.0  0.000000  0.0  0.0  0.0  ...   0.0   \n",
       "3  0.000000  0.000000  0.0  0.0  0.0  0.0  0.000000  0.0  0.0  0.0  ...   0.0   \n",
       "4  0.000000  0.000000  0.0  0.0  0.0  0.0  0.000000  0.0  0.0  0.0  ...   0.0   \n",
       "\n",
       "   yoran     york     young  younger  youngsters  youth  zafi  zen  zombies  \n",
       "0    0.0  0.05528  0.058505      0.0         0.0    0.0   0.0  0.0      0.0  \n",
       "1    0.0  0.00000  0.000000      0.0         0.0    0.0   0.0  0.0      0.0  \n",
       "2    0.0  0.00000  0.000000      0.0         0.0    0.0   0.0  0.0      0.0  \n",
       "3    0.0  0.00000  0.000000      0.0         0.0    0.0   0.0  0.0      0.0  \n",
       "4    0.0  0.00000  0.000000      0.0         0.0    0.0   0.0  0.0      0.0  \n",
>>>>>>> 69e847c7c406c8aa7f2f0cfa29bc02ed60834a4f
       "\n",
       "[5 rows x 5000 columns]"
      ]
     },
<<<<<<< HEAD
     "execution_count": 29,
=======
     "execution_count": 35,
>>>>>>> 69e847c7c406c8aa7f2f0cfa29bc02ed60834a4f
     "metadata": {},
     "output_type": "execute_result"
    }
   ],
   "source": [
    "from sklearn.feature_extraction.text import TfidfVectorizer\n",
    "\n",
    "# Instantiate vectorizer object\n",
<<<<<<< HEAD
    "tfidf = TfidfVectorizer(stop_words='english', max_features=5000, ngram_range=(1,3))\n",
=======
    "tfidf = TfidfVectorizer(stop_words='english', max_features=5000)\n",
>>>>>>> 69e847c7c406c8aa7f2f0cfa29bc02ed60834a4f
    "\n",
    "# Create a vocabulary and get word counts per document\n",
    "# Similiar to fit_predict\n",
    "dtm = tfidf.fit_transform(data)\n",
    "\n",
    "# Print word counts\n",
    "\n",
    "# Get feature names to use as dataframe column headers\n",
    "dtm = pd.DataFrame(dtm.todense(), columns=tfidf.get_feature_names())\n",
    "\n",
    "# View Feature Matrix as DataFrame\n",
    "dtm.head()"
   ]
  },
  {
   "cell_type": "code",
<<<<<<< HEAD
   "execution_count": 30,
   "metadata": {},
   "outputs": [
    {
     "data": {
      "text/plain": [
       "0.7812642935875962"
      ]
     },
     "execution_count": 30,
     "metadata": {},
     "output_type": "execute_result"
    }
   ],
   "source": [
    "dtm.max(axis=1).max()"
   ]
  },
  {
   "cell_type": "code",
   "execution_count": 31,
=======
   "execution_count": 37,
>>>>>>> 69e847c7c406c8aa7f2f0cfa29bc02ed60834a4f
   "metadata": {},
   "outputs": [],
   "source": [
    "def tokenize(document):\n",
    "    \n",
    "    doc = nlp(document)\n",
    "    \n",
    "    return [token.lemma_.strip() for token in doc if (token.is_stop != True) and (token.is_punct != True)]"
   ]
  },
  {
   "cell_type": "markdown",
   "metadata": {},
   "source": [
    "text data machines\n",
    "\n",
    "\"text data\" \"data machines\" \"text machines\""
   ]
  },
  {
   "cell_type": "code",
<<<<<<< HEAD
   "execution_count": 34,
=======
   "execution_count": 25,
>>>>>>> 69e847c7c406c8aa7f2f0cfa29bc02ed60834a4f
   "metadata": {},
   "outputs": [
    {
     "data": {
      "text/html": [
       "<div>\n",
       "<style scoped>\n",
       "    .dataframe tbody tr th:only-of-type {\n",
       "        vertical-align: middle;\n",
       "    }\n",
       "\n",
       "    .dataframe tbody tr th {\n",
       "        vertical-align: top;\n",
       "    }\n",
       "\n",
       "    .dataframe thead th {\n",
       "        text-align: right;\n",
       "    }\n",
       "</style>\n",
       "<table border=\"1\" class=\"dataframe\">\n",
       "  <thead>\n",
       "    <tr style=\"text-align: right;\">\n",
       "      <th></th>\n",
       "      <th>10</th>\n",
<<<<<<< HEAD
       "      <th>2004</th>\n",
       "      <th>accord</th>\n",
       "      <th>add</th>\n",
       "      <th>apple</th>\n",
       "      <th>bbc</th>\n",
       "      <th>big</th>\n",
       "      <th>bill</th>\n",
       "      <th>bill thompson</th>\n",
       "      <th>britain</th>\n",
       "      <th>...</th>\n",
       "      <th>young people</th>\n",
       "      <th>youth</th>\n",
       "      <th>zafi</th>\n",
       "      <th>zen</th>\n",
       "      <th>zombie</th>\n",
       "      <th>zone</th>\n",
       "      <th>zoom</th>\n",
       "      <th>£</th>\n",
       "      <th>£ 20</th>\n",
=======
       "      <th>15</th>\n",
       "      <th>2004</th>\n",
       "      <th>50</th>\n",
       "      <th>ability</th>\n",
       "      <th>accord</th>\n",
       "      <th>add</th>\n",
       "      <th>airline</th>\n",
       "      <th>announce</th>\n",
       "      <th>anti</th>\n",
       "      <th>...</th>\n",
       "      <th>£ 11.5</th>\n",
       "      <th>£ 132</th>\n",
       "      <th>£ 2,000</th>\n",
       "      <th>£ 20</th>\n",
       "      <th>£ 339</th>\n",
       "      <th>£ 4.99</th>\n",
       "      <th>£ 40</th>\n",
       "      <th>£ 5</th>\n",
       "      <th>£ 50</th>\n",
>>>>>>> 69e847c7c406c8aa7f2f0cfa29bc02ed60834a4f
       "      <th>£ 99</th>\n",
       "    </tr>\n",
       "  </thead>\n",
       "  <tbody>\n",
       "    <tr>\n",
       "      <th>0</th>\n",
       "      <td>0.0</td>\n",
<<<<<<< HEAD
       "      <td>0.00000</td>\n",
       "      <td>0.000000</td>\n",
       "      <td>0.0</td>\n",
       "      <td>0.0</td>\n",
=======
       "      <td>0.0</td>\n",
       "      <td>0.000000</td>\n",
       "      <td>0.0</td>\n",
       "      <td>0.0</td>\n",
       "      <td>0.000000</td>\n",
>>>>>>> 69e847c7c406c8aa7f2f0cfa29bc02ed60834a4f
       "      <td>0.0</td>\n",
       "      <td>0.0</td>\n",
       "      <td>0.0</td>\n",
       "      <td>0.0</td>\n",
<<<<<<< HEAD
       "      <td>0.065035</td>\n",
       "      <td>...</td>\n",
       "      <td>0.0</td>\n",
       "      <td>0.0</td>\n",
=======
       "      <td>...</td>\n",
       "      <td>0.0</td>\n",
       "      <td>0.0</td>\n",
       "      <td>0.066245</td>\n",
>>>>>>> 69e847c7c406c8aa7f2f0cfa29bc02ed60834a4f
       "      <td>0.0</td>\n",
       "      <td>0.0</td>\n",
       "      <td>0.0</td>\n",
       "      <td>0.0</td>\n",
       "      <td>0.0</td>\n",
<<<<<<< HEAD
       "      <td>0.030390</td>\n",
=======
>>>>>>> 69e847c7c406c8aa7f2f0cfa29bc02ed60834a4f
       "      <td>0.0</td>\n",
       "      <td>0.0</td>\n",
       "    </tr>\n",
       "    <tr>\n",
       "      <th>1</th>\n",
       "      <td>0.0</td>\n",
<<<<<<< HEAD
       "      <td>0.09171</td>\n",
       "      <td>0.080469</td>\n",
       "      <td>0.0</td>\n",
       "      <td>0.0</td>\n",
       "      <td>0.0</td>\n",
       "      <td>0.0</td>\n",
       "      <td>0.0</td>\n",
       "      <td>0.0</td>\n",
       "      <td>0.000000</td>\n",
       "      <td>...</td>\n",
       "      <td>0.0</td>\n",
       "      <td>0.0</td>\n",
=======
       "      <td>0.0</td>\n",
       "      <td>0.084281</td>\n",
       "      <td>0.0</td>\n",
       "      <td>0.0</td>\n",
       "      <td>0.073951</td>\n",
       "      <td>0.0</td>\n",
       "      <td>0.0</td>\n",
       "      <td>0.0</td>\n",
       "      <td>0.0</td>\n",
       "      <td>...</td>\n",
       "      <td>0.0</td>\n",
       "      <td>0.0</td>\n",
       "      <td>0.000000</td>\n",
>>>>>>> 69e847c7c406c8aa7f2f0cfa29bc02ed60834a4f
       "      <td>0.0</td>\n",
       "      <td>0.0</td>\n",
       "      <td>0.0</td>\n",
       "      <td>0.0</td>\n",
       "      <td>0.0</td>\n",
<<<<<<< HEAD
       "      <td>0.000000</td>\n",
=======
>>>>>>> 69e847c7c406c8aa7f2f0cfa29bc02ed60834a4f
       "      <td>0.0</td>\n",
       "      <td>0.0</td>\n",
       "    </tr>\n",
       "    <tr>\n",
       "      <th>2</th>\n",
       "      <td>0.0</td>\n",
<<<<<<< HEAD
       "      <td>0.00000</td>\n",
       "      <td>0.000000</td>\n",
       "      <td>0.0</td>\n",
       "      <td>0.0</td>\n",
=======
       "      <td>0.0</td>\n",
       "      <td>0.000000</td>\n",
       "      <td>0.0</td>\n",
       "      <td>0.0</td>\n",
       "      <td>0.000000</td>\n",
>>>>>>> 69e847c7c406c8aa7f2f0cfa29bc02ed60834a4f
       "      <td>0.0</td>\n",
       "      <td>0.0</td>\n",
       "      <td>0.0</td>\n",
       "      <td>0.0</td>\n",
<<<<<<< HEAD
       "      <td>0.000000</td>\n",
       "      <td>...</td>\n",
       "      <td>0.0</td>\n",
       "      <td>0.0</td>\n",
=======
       "      <td>...</td>\n",
       "      <td>0.0</td>\n",
       "      <td>0.0</td>\n",
       "      <td>0.000000</td>\n",
>>>>>>> 69e847c7c406c8aa7f2f0cfa29bc02ed60834a4f
       "      <td>0.0</td>\n",
       "      <td>0.0</td>\n",
       "      <td>0.0</td>\n",
       "      <td>0.0</td>\n",
       "      <td>0.0</td>\n",
<<<<<<< HEAD
       "      <td>0.042325</td>\n",
=======
>>>>>>> 69e847c7c406c8aa7f2f0cfa29bc02ed60834a4f
       "      <td>0.0</td>\n",
       "      <td>0.0</td>\n",
       "    </tr>\n",
       "    <tr>\n",
       "      <th>3</th>\n",
       "      <td>0.0</td>\n",
<<<<<<< HEAD
       "      <td>0.00000</td>\n",
       "      <td>0.000000</td>\n",
       "      <td>0.0</td>\n",
       "      <td>0.0</td>\n",
=======
       "      <td>0.0</td>\n",
       "      <td>0.000000</td>\n",
       "      <td>0.0</td>\n",
       "      <td>0.0</td>\n",
       "      <td>0.000000</td>\n",
>>>>>>> 69e847c7c406c8aa7f2f0cfa29bc02ed60834a4f
       "      <td>0.0</td>\n",
       "      <td>0.0</td>\n",
       "      <td>0.0</td>\n",
       "      <td>0.0</td>\n",
<<<<<<< HEAD
       "      <td>0.000000</td>\n",
       "      <td>...</td>\n",
       "      <td>0.0</td>\n",
       "      <td>0.0</td>\n",
=======
       "      <td>...</td>\n",
       "      <td>0.0</td>\n",
       "      <td>0.0</td>\n",
       "      <td>0.000000</td>\n",
>>>>>>> 69e847c7c406c8aa7f2f0cfa29bc02ed60834a4f
       "      <td>0.0</td>\n",
       "      <td>0.0</td>\n",
       "      <td>0.0</td>\n",
       "      <td>0.0</td>\n",
       "      <td>0.0</td>\n",
<<<<<<< HEAD
       "      <td>0.000000</td>\n",
=======
>>>>>>> 69e847c7c406c8aa7f2f0cfa29bc02ed60834a4f
       "      <td>0.0</td>\n",
       "      <td>0.0</td>\n",
       "    </tr>\n",
       "    <tr>\n",
       "      <th>4</th>\n",
       "      <td>0.0</td>\n",
<<<<<<< HEAD
       "      <td>0.00000</td>\n",
       "      <td>0.000000</td>\n",
       "      <td>0.0</td>\n",
       "      <td>0.0</td>\n",
=======
       "      <td>0.0</td>\n",
       "      <td>0.000000</td>\n",
       "      <td>0.0</td>\n",
       "      <td>0.0</td>\n",
       "      <td>0.000000</td>\n",
>>>>>>> 69e847c7c406c8aa7f2f0cfa29bc02ed60834a4f
       "      <td>0.0</td>\n",
       "      <td>0.0</td>\n",
       "      <td>0.0</td>\n",
       "      <td>0.0</td>\n",
<<<<<<< HEAD
       "      <td>0.000000</td>\n",
       "      <td>...</td>\n",
       "      <td>0.0</td>\n",
       "      <td>0.0</td>\n",
=======
       "      <td>...</td>\n",
       "      <td>0.0</td>\n",
       "      <td>0.0</td>\n",
       "      <td>0.000000</td>\n",
>>>>>>> 69e847c7c406c8aa7f2f0cfa29bc02ed60834a4f
       "      <td>0.0</td>\n",
       "      <td>0.0</td>\n",
       "      <td>0.0</td>\n",
       "      <td>0.0</td>\n",
       "      <td>0.0</td>\n",
<<<<<<< HEAD
       "      <td>0.000000</td>\n",
=======
>>>>>>> 69e847c7c406c8aa7f2f0cfa29bc02ed60834a4f
       "      <td>0.0</td>\n",
       "      <td>0.0</td>\n",
       "    </tr>\n",
       "  </tbody>\n",
       "</table>\n",
<<<<<<< HEAD
       "<p>5 rows × 5000 columns</p>\n",
       "</div>"
      ],
      "text/plain": [
       "    10     2004    accord   add   apple   bbc   big   bill   bill thompson  \\\n",
       "0  0.0  0.00000  0.000000   0.0     0.0   0.0   0.0    0.0             0.0   \n",
       "1  0.0  0.09171  0.080469   0.0     0.0   0.0   0.0    0.0             0.0   \n",
       "2  0.0  0.00000  0.000000   0.0     0.0   0.0   0.0    0.0             0.0   \n",
       "3  0.0  0.00000  0.000000   0.0     0.0   0.0   0.0    0.0             0.0   \n",
       "4  0.0  0.00000  0.000000   0.0     0.0   0.0   0.0    0.0             0.0   \n",
       "\n",
       "    britain  ...  young people  youth  zafi  zen  zombie  zone  zoom  \\\n",
       "0  0.065035  ...           0.0    0.0   0.0  0.0     0.0   0.0   0.0   \n",
       "1  0.000000  ...           0.0    0.0   0.0  0.0     0.0   0.0   0.0   \n",
       "2  0.000000  ...           0.0    0.0   0.0  0.0     0.0   0.0   0.0   \n",
       "3  0.000000  ...           0.0    0.0   0.0  0.0     0.0   0.0   0.0   \n",
       "4  0.000000  ...           0.0    0.0   0.0  0.0     0.0   0.0   0.0   \n",
       "\n",
       "          £  £ 20  £ 99  \n",
       "0  0.030390   0.0   0.0  \n",
       "1  0.000000   0.0   0.0  \n",
       "2  0.042325   0.0   0.0  \n",
       "3  0.000000   0.0   0.0  \n",
       "4  0.000000   0.0   0.0  \n",
       "\n",
       "[5 rows x 5000 columns]"
      ]
     },
     "execution_count": 34,
=======
       "<p>5 rows × 8220 columns</p>\n",
       "</div>"
      ],
      "text/plain": [
       "    10   15      2004   50   ability    accord   add   airline   announce  \\\n",
       "0  0.0  0.0  0.000000  0.0       0.0  0.000000   0.0       0.0        0.0   \n",
       "1  0.0  0.0  0.084281  0.0       0.0  0.073951   0.0       0.0        0.0   \n",
       "2  0.0  0.0  0.000000  0.0       0.0  0.000000   0.0       0.0        0.0   \n",
       "3  0.0  0.0  0.000000  0.0       0.0  0.000000   0.0       0.0        0.0   \n",
       "4  0.0  0.0  0.000000  0.0       0.0  0.000000   0.0       0.0        0.0   \n",
       "\n",
       "    anti  ...  £ 11.5  £ 132   £ 2,000  £ 20  £ 339  £ 4.99  £ 40  £ 5  £ 50  \\\n",
       "0    0.0  ...     0.0    0.0  0.066245   0.0    0.0     0.0   0.0  0.0   0.0   \n",
       "1    0.0  ...     0.0    0.0  0.000000   0.0    0.0     0.0   0.0  0.0   0.0   \n",
       "2    0.0  ...     0.0    0.0  0.000000   0.0    0.0     0.0   0.0  0.0   0.0   \n",
       "3    0.0  ...     0.0    0.0  0.000000   0.0    0.0     0.0   0.0  0.0   0.0   \n",
       "4    0.0  ...     0.0    0.0  0.000000   0.0    0.0     0.0   0.0  0.0   0.0   \n",
       "\n",
       "   £ 99  \n",
       "0   0.0  \n",
       "1   0.0  \n",
       "2   0.0  \n",
       "3   0.0  \n",
       "4   0.0  \n",
       "\n",
       "[5 rows x 8220 columns]"
      ]
     },
     "execution_count": 25,
>>>>>>> 69e847c7c406c8aa7f2f0cfa29bc02ed60834a4f
     "metadata": {},
     "output_type": "execute_result"
    }
   ],
   "source": [
    "# Tunning Parameters\n",
    "\n",
    "# Instantiate vectorizer object\n",
<<<<<<< HEAD
    "tfidf = TfidfVectorizer(ngram_range=(1,3),\n",
    "                        max_df=.97,\n",
    "                        min_df=2,\n",
    "                        tokenizer=tokenize, \n",
    "                        max_features=5000)\n",
=======
    "tfidf = TfidfVectorizer(stop_words='english', \n",
    "                        ngram_range=(1,2),\n",
    "                        max_df=.97,\n",
    "                        min_df=3,\n",
    "                        tokenizer=tokenize)\n",
>>>>>>> 69e847c7c406c8aa7f2f0cfa29bc02ed60834a4f
    "\n",
    "# Create a vocabulary and get word counts per document\n",
    "dtm = tfidf.fit_transform(data) # Similiar to fit_predict\n",
    "\n",
    "# Print word counts\n",
    "\n",
    "# Get feature names to use as dataframe column headers\n",
    "dtm = pd.DataFrame(dtm.todense(), columns=tfidf.get_feature_names())\n",
    "\n",
    "# View Feature Matrix as DataFrame\n",
    "dtm.head()"
   ]
  },
  {
   "cell_type": "code",
<<<<<<< HEAD
   "execution_count": 35,
=======
   "execution_count": 26,
>>>>>>> 69e847c7c406c8aa7f2f0cfa29bc02ed60834a4f
   "metadata": {},
   "outputs": [
    {
     "data": {
      "text/plain": [
<<<<<<< HEAD
       "(401, 5000)"
      ]
     },
     "execution_count": 35,
=======
       "(401, 8220)"
      ]
     },
     "execution_count": 26,
>>>>>>> 69e847c7c406c8aa7f2f0cfa29bc02ed60834a4f
     "metadata": {},
     "output_type": "execute_result"
    }
   ],
   "source": [
    "dtm.shape"
   ]
  },
  {
   "cell_type": "markdown",
   "metadata": {},
   "source": [
    "## Challenge\n",
    "\n",
    "During this module's project assignment, you will transform data science job listings to vector representations for analysis downstream. "
   ]
  },
  {
   "cell_type": "markdown",
   "metadata": {},
   "source": [
    "# Query Documents by Similarity (Learn)\n",
    "<a id=\"p2\"></a>"
   ]
  },
  {
   "cell_type": "markdown",
   "metadata": {},
   "source": [
    "## Overview\n",
    "\n",
    "Have you ever considered how a search bar works? You may just think that search bars simply match your input text againist the documents. While there are many different mechanisms for the 'match', one of the most classic is to search by similarity. We will apply n-dimensional distance to measure similarity, and query for input and output. "
   ]
  },
  {
   "cell_type": "markdown",
   "metadata": {
    "toc-hr-collapsed": true
   },
   "source": [
    "## Follow Along"
   ]
  },
  {
   "cell_type": "markdown",
   "metadata": {},
   "source": [
    "### Cosine Similarity (Brute Force)"
   ]
  },
  {
   "cell_type": "code",
<<<<<<< HEAD
   "execution_count": 36,
=======
   "execution_count": 39,
>>>>>>> 69e847c7c406c8aa7f2f0cfa29bc02ed60834a4f
   "metadata": {},
   "outputs": [],
   "source": [
    "# Calculate Distance of TF-IDF Vectors\n",
    "from sklearn.metrics.pairwise import cosine_similarity\n",
    "\n",
    "dist_matrix  = cosine_similarity(dtm)"
   ]
  },
  {
   "cell_type": "code",
<<<<<<< HEAD
   "execution_count": 37,
=======
   "execution_count": 40,
>>>>>>> 69e847c7c406c8aa7f2f0cfa29bc02ed60834a4f
   "metadata": {},
   "outputs": [],
   "source": [
    "# Turn it into a DataFrame\n",
    "\n",
    "df = pd.DataFrame(dist_matrix)"
   ]
  },
  {
   "cell_type": "code",
<<<<<<< HEAD
   "execution_count": 38,
=======
   "execution_count": 41,
>>>>>>> 69e847c7c406c8aa7f2f0cfa29bc02ed60834a4f
   "metadata": {},
   "outputs": [
    {
     "data": {
      "text/plain": [
       "(401, 401)"
      ]
     },
<<<<<<< HEAD
     "execution_count": 38,
=======
     "execution_count": 41,
>>>>>>> 69e847c7c406c8aa7f2f0cfa29bc02ed60834a4f
     "metadata": {},
     "output_type": "execute_result"
    }
   ],
   "source": [
    "# Our Similarity Matrix is ? size \n",
<<<<<<< HEAD
    "df.shape #> comparing the similarity of all documents to all other documents"
=======
    "df.shape"
>>>>>>> 69e847c7c406c8aa7f2f0cfa29bc02ed60834a4f
   ]
  },
  {
   "cell_type": "code",
   "execution_count": 42,
   "metadata": {},
   "outputs": [
    {
     "data": {
      "text/plain": [
       "b'Mobiles rack up 20 years of use\\n\\nMobile phones in the UK are celebrating their 20th anniversary this'"
      ]
     },
     "execution_count": 42,
     "metadata": {},
     "output_type": "execute_result"
    }
   ],
   "source": [
    "data[0][:100]"
   ]
  },
  {
   "cell_type": "code",
<<<<<<< HEAD
   "execution_count": 39,
=======
   "execution_count": 43,
>>>>>>> 69e847c7c406c8aa7f2f0cfa29bc02ed60834a4f
   "metadata": {},
   "outputs": [
    {
     "data": {
      "text/plain": [
       "0    1.000000\n",
<<<<<<< HEAD
       "1    0.072930\n",
       "2    0.034021\n",
       "3    0.008529\n",
       "4    0.070520\n",
       "Name: 0, dtype: float64"
      ]
     },
     "execution_count": 39,
=======
       "1    0.075861\n",
       "2    0.042398\n",
       "3    0.011078\n",
       "4    0.055294\n",
       "Name: 0, dtype: float64"
      ]
     },
     "execution_count": 43,
>>>>>>> 69e847c7c406c8aa7f2f0cfa29bc02ed60834a4f
     "metadata": {},
     "output_type": "execute_result"
    }
   ],
   "source": [
    "# Each row is the similarity of one document to all other documents (including itself)\n",
    "df[0][:5]"
   ]
  },
  {
   "cell_type": "code",
<<<<<<< HEAD
   "execution_count": 42,
=======
   "execution_count": 48,
>>>>>>> 69e847c7c406c8aa7f2f0cfa29bc02ed60834a4f
   "metadata": {},
   "outputs": [
    {
     "data": {
      "text/plain": [
<<<<<<< HEAD
       "92     0.376695\n",
       "297    0.353753\n",
       "300    0.298214\n",
       "187    0.284322\n",
       "309    0.278114\n",
       "Name: 0, dtype: float64"
      ]
     },
     "execution_count": 42,
=======
       "297    0.296352\n",
       "300    0.290672\n",
       "92     0.266468\n",
       "381    0.242043\n",
       "63     0.236623\n",
       "Name: 0, dtype: float64"
      ]
     },
     "execution_count": 48,
>>>>>>> 69e847c7c406c8aa7f2f0cfa29bc02ed60834a4f
     "metadata": {},
     "output_type": "execute_result"
    }
   ],
   "source": [
    "# Grab the row\n",
<<<<<<< HEAD
    "df[df[0] < .99][0].sort_values(ascending=False)[:5]"
=======
    "df[df[0] < 1][0].sort_values(ascending=False)[:5]"
>>>>>>> 69e847c7c406c8aa7f2f0cfa29bc02ed60834a4f
   ]
  },
  {
   "cell_type": "code",
   "execution_count": 38,
   "metadata": {},
   "outputs": [
    {
     "name": "stdout",
     "output_type": "stream",
     "text": [
      "b\"Mobiles rack up 20 years of use\\n\\nMobile phones in the UK are celebrating their 20th anniversary this weekend.\\n\\nBritain's first mobile phone call was m\"\n"
     ]
    }
   ],
   "source": [
    "print(data[0][:150])"
   ]
  },
  {
   "cell_type": "code",
<<<<<<< HEAD
   "execution_count": 43,
=======
   "execution_count": 45,
>>>>>>> 69e847c7c406c8aa7f2f0cfa29bc02ed60834a4f
   "metadata": {},
   "outputs": [
    {
     "name": "stdout",
     "output_type": "stream",
     "text": [
<<<<<<< HEAD
      "b'Finding new homes for old phones\\n\\nRe-using old mobile phones is not just good for the environment, it has social benefits too.\\n\\nResearch has found tha'\n"
=======
      "b\"'Friends fear' with lost mobiles\\n\\nPeople are becoming so dependent on their mobile phones that one in three are concerned that losing their phone woul\"\n"
>>>>>>> 69e847c7c406c8aa7f2f0cfa29bc02ed60834a4f
     ]
    }
   ],
   "source": [
<<<<<<< HEAD
    "print(data[92][:150])"
=======
    "print(data[297][:150])"
>>>>>>> 69e847c7c406c8aa7f2f0cfa29bc02ed60834a4f
   ]
  },
  {
   "cell_type": "markdown",
   "metadata": {},
   "source": [
    "### NearestNeighbor (K-NN) \n",
    "\n",
    "To address the computational inefficiencies of the brute-force approach, a variety of tree-based data structures have been invented. In general, these structures attempt to reduce the required number of distance calculations by efficiently encoding aggregate distance information for the sample. The basic idea is that if point  is very distant from point , and point  is very close to point , then we know that points  and  are very distant, without having to explicitly calculate their distance. In this way, the computational cost of a nearest neighbors search can be reduced to  or better. This is a significant improvement over brute-force for large data.\n",
    "\n",
    "To address the inefficiencies of KD Trees in higher dimensions, the ball tree data structure was developed. Where KD trees partition data along Cartesian axes, ball trees partition data in a series of nesting hyper-spheres. This makes tree construction more costly than that of the KD tree, but results in a data structure which can be very efficient on highly structured data, even in very high dimensions.\n",
    "\n",
    "A ball tree recursively divides the data into nodes defined by a centroid  and radius , such that each point in the node lies within the hyper-sphere defined by  and . The number of candidate points for a neighbor search is reduced through use of the triangle inequality:\n",
    "\n",
    "With this setup, a single distance calculation between a test point and the centroid is sufficient to determine a lower and upper bound on the distance to all points within the node. Because of the spherical geometry of the ball tree nodes, it can out-perform a KD-tree in high dimensions, though the actual performance is highly dependent on the structure of the training data. In scikit-learn, ball-tree-based neighbors searches are specified using the keyword algorithm = 'ball_tree', and are computed using the class sklearn.neighbors.BallTree. Alternatively, the user can work with the BallTree class directly."
   ]
  },
  {
   "cell_type": "code",
   "execution_count": 49,
   "metadata": {},
   "outputs": [
    {
     "data": {
      "text/html": [
       "<div>\n",
       "<style scoped>\n",
       "    .dataframe tbody tr th:only-of-type {\n",
       "        vertical-align: middle;\n",
       "    }\n",
       "\n",
       "    .dataframe tbody tr th {\n",
       "        vertical-align: top;\n",
       "    }\n",
       "\n",
       "    .dataframe thead th {\n",
       "        text-align: right;\n",
       "    }\n",
       "</style>\n",
       "<table border=\"1\" class=\"dataframe\">\n",
       "  <thead>\n",
       "    <tr style=\"text-align: right;\">\n",
       "      <th></th>\n",
       "      <th>000</th>\n",
       "      <th>10</th>\n",
       "      <th>100</th>\n",
       "      <th>101</th>\n",
       "      <th>104</th>\n",
       "      <th>10m</th>\n",
       "      <th>11</th>\n",
       "      <th>12</th>\n",
       "      <th>120</th>\n",
       "      <th>13</th>\n",
       "      <th>...</th>\n",
       "      <th>yoda</th>\n",
       "      <th>yoran</th>\n",
       "      <th>york</th>\n",
       "      <th>young</th>\n",
       "      <th>younger</th>\n",
       "      <th>youngsters</th>\n",
       "      <th>youth</th>\n",
       "      <th>zafi</th>\n",
       "      <th>zen</th>\n",
       "      <th>zombies</th>\n",
       "    </tr>\n",
       "  </thead>\n",
       "  <tbody>\n",
       "    <tr>\n",
       "      <th>0</th>\n",
       "      <td>0.028940</td>\n",
       "      <td>0.066646</td>\n",
       "      <td>0.0</td>\n",
       "      <td>0.0</td>\n",
       "      <td>0.0</td>\n",
       "      <td>0.0</td>\n",
       "      <td>0.000000</td>\n",
       "      <td>0.0</td>\n",
       "      <td>0.0</td>\n",
       "      <td>0.0</td>\n",
       "      <td>...</td>\n",
       "      <td>0.0</td>\n",
       "      <td>0.0</td>\n",
       "      <td>0.05528</td>\n",
       "      <td>0.058505</td>\n",
       "      <td>0.0</td>\n",
       "      <td>0.0</td>\n",
       "      <td>0.0</td>\n",
       "      <td>0.0</td>\n",
       "      <td>0.0</td>\n",
       "      <td>0.0</td>\n",
       "    </tr>\n",
       "    <tr>\n",
       "      <th>1</th>\n",
       "      <td>0.000000</td>\n",
       "      <td>0.000000</td>\n",
       "      <td>0.0</td>\n",
       "      <td>0.0</td>\n",
       "      <td>0.0</td>\n",
       "      <td>0.0</td>\n",
       "      <td>0.077901</td>\n",
       "      <td>0.0</td>\n",
       "      <td>0.0</td>\n",
       "      <td>0.0</td>\n",
       "      <td>...</td>\n",
       "      <td>0.0</td>\n",
       "      <td>0.0</td>\n",
       "      <td>0.00000</td>\n",
       "      <td>0.000000</td>\n",
       "      <td>0.0</td>\n",
       "      <td>0.0</td>\n",
       "      <td>0.0</td>\n",
       "      <td>0.0</td>\n",
       "      <td>0.0</td>\n",
       "      <td>0.0</td>\n",
       "    </tr>\n",
       "    <tr>\n",
       "      <th>2</th>\n",
       "      <td>0.061896</td>\n",
       "      <td>0.000000</td>\n",
       "      <td>0.0</td>\n",
       "      <td>0.0</td>\n",
       "      <td>0.0</td>\n",
       "      <td>0.0</td>\n",
       "      <td>0.000000</td>\n",
       "      <td>0.0</td>\n",
       "      <td>0.0</td>\n",
       "      <td>0.0</td>\n",
       "      <td>...</td>\n",
       "      <td>0.0</td>\n",
       "      <td>0.0</td>\n",
       "      <td>0.00000</td>\n",
       "      <td>0.000000</td>\n",
       "      <td>0.0</td>\n",
       "      <td>0.0</td>\n",
       "      <td>0.0</td>\n",
       "      <td>0.0</td>\n",
       "      <td>0.0</td>\n",
       "      <td>0.0</td>\n",
       "    </tr>\n",
       "    <tr>\n",
       "      <th>3</th>\n",
       "      <td>0.000000</td>\n",
       "      <td>0.000000</td>\n",
       "      <td>0.0</td>\n",
       "      <td>0.0</td>\n",
       "      <td>0.0</td>\n",
       "      <td>0.0</td>\n",
       "      <td>0.000000</td>\n",
       "      <td>0.0</td>\n",
       "      <td>0.0</td>\n",
       "      <td>0.0</td>\n",
       "      <td>...</td>\n",
       "      <td>0.0</td>\n",
       "      <td>0.0</td>\n",
       "      <td>0.00000</td>\n",
       "      <td>0.000000</td>\n",
       "      <td>0.0</td>\n",
       "      <td>0.0</td>\n",
       "      <td>0.0</td>\n",
       "      <td>0.0</td>\n",
       "      <td>0.0</td>\n",
       "      <td>0.0</td>\n",
       "    </tr>\n",
       "    <tr>\n",
       "      <th>4</th>\n",
       "      <td>0.000000</td>\n",
       "      <td>0.000000</td>\n",
       "      <td>0.0</td>\n",
       "      <td>0.0</td>\n",
       "      <td>0.0</td>\n",
       "      <td>0.0</td>\n",
       "      <td>0.000000</td>\n",
       "      <td>0.0</td>\n",
       "      <td>0.0</td>\n",
       "      <td>0.0</td>\n",
       "      <td>...</td>\n",
       "      <td>0.0</td>\n",
       "      <td>0.0</td>\n",
       "      <td>0.00000</td>\n",
       "      <td>0.000000</td>\n",
       "      <td>0.0</td>\n",
       "      <td>0.0</td>\n",
       "      <td>0.0</td>\n",
       "      <td>0.0</td>\n",
       "      <td>0.0</td>\n",
       "      <td>0.0</td>\n",
       "    </tr>\n",
       "  </tbody>\n",
       "</table>\n",
       "<p>5 rows × 5000 columns</p>\n",
       "</div>"
      ],
      "text/plain": [
       "        000        10  100  101  104  10m        11   12  120   13  ...  yoda  \\\n",
       "0  0.028940  0.066646  0.0  0.0  0.0  0.0  0.000000  0.0  0.0  0.0  ...   0.0   \n",
       "1  0.000000  0.000000  0.0  0.0  0.0  0.0  0.077901  0.0  0.0  0.0  ...   0.0   \n",
       "2  0.061896  0.000000  0.0  0.0  0.0  0.0  0.000000  0.0  0.0  0.0  ...   0.0   \n",
       "3  0.000000  0.000000  0.0  0.0  0.0  0.0  0.000000  0.0  0.0  0.0  ...   0.0   \n",
       "4  0.000000  0.000000  0.0  0.0  0.0  0.0  0.000000  0.0  0.0  0.0  ...   0.0   \n",
       "\n",
       "   yoran     york     young  younger  youngsters  youth  zafi  zen  zombies  \n",
       "0    0.0  0.05528  0.058505      0.0         0.0    0.0   0.0  0.0      0.0  \n",
       "1    0.0  0.00000  0.000000      0.0         0.0    0.0   0.0  0.0      0.0  \n",
       "2    0.0  0.00000  0.000000      0.0         0.0    0.0   0.0  0.0      0.0  \n",
       "3    0.0  0.00000  0.000000      0.0         0.0    0.0   0.0  0.0      0.0  \n",
       "4    0.0  0.00000  0.000000      0.0         0.0    0.0   0.0  0.0      0.0  \n",
       "\n",
       "[5 rows x 5000 columns]"
      ]
     },
     "execution_count": 49,
     "metadata": {},
     "output_type": "execute_result"
    }
   ],
   "source": [
    "dtm.head()"
   ]
  },
  {
   "cell_type": "code",
<<<<<<< HEAD
   "execution_count": 45,
=======
   "execution_count": 50,
>>>>>>> 69e847c7c406c8aa7f2f0cfa29bc02ed60834a4f
   "metadata": {},
   "outputs": [
    {
     "data": {
      "text/plain": [
<<<<<<< HEAD
       "NearestNeighbors(algorithm='ball_tree', leaf_size=30, metric='minkowski',\n",
       "                 metric_params=None, n_jobs=None, n_neighbors=5, p=2,\n",
       "                 radius=1.0)"
      ]
     },
     "execution_count": 45,
=======
       "NearestNeighbors(algorithm='kd_tree', leaf_size=30, metric='minkowski',\n",
       "         metric_params=None, n_jobs=None, n_neighbors=5, p=2, radius=1.0)"
      ]
     },
     "execution_count": 50,
>>>>>>> 69e847c7c406c8aa7f2f0cfa29bc02ed60834a4f
     "metadata": {},
     "output_type": "execute_result"
    }
   ],
   "source": [
    "from sklearn.neighbors import NearestNeighbors\n",
    "\n",
    "# Fit on DTM\n",
<<<<<<< HEAD
    "nn = NearestNeighbors(n_neighbors=5, algorithm='ball_tree')\n",
=======
    "nn = NearestNeighbors(n_neighbors=5, algorithm='kd_tree')\n",
>>>>>>> 69e847c7c406c8aa7f2f0cfa29bc02ed60834a4f
    "nn.fit(dtm)"
   ]
  },
  {
   "cell_type": "code",
<<<<<<< HEAD
   "execution_count": 46,
=======
   "execution_count": 51,
>>>>>>> 69e847c7c406c8aa7f2f0cfa29bc02ed60834a4f
   "metadata": {},
   "outputs": [
    {
     "data": {
      "text/plain": [
<<<<<<< HEAD
       "(array([[0.        , 0.        , 1.11651721, 1.13687866, 1.18472478]]),\n",
       " array([[  0,  62,  92, 297, 300]]))"
      ]
     },
     "execution_count": 46,
=======
       "(array([[0.        , 0.        , 1.18629524, 1.19107356, 1.21122457]]),\n",
       " array([[  0,  62, 297, 300,  92]]))"
      ]
     },
     "execution_count": 51,
>>>>>>> 69e847c7c406c8aa7f2f0cfa29bc02ed60834a4f
     "metadata": {},
     "output_type": "execute_result"
    }
   ],
   "source": [
<<<<<<< HEAD
    "nn.kneighbors([dtm.iloc[0].values]) #> notice we get docs 92, 297 and 300 again as similar"
=======
    "nn.kneighbors([dtm.iloc[0].values])"
>>>>>>> 69e847c7c406c8aa7f2f0cfa29bc02ed60834a4f
   ]
  },
  {
   "cell_type": "code",
<<<<<<< HEAD
   "execution_count": 47,
   "metadata": {},
   "outputs": [
    {
     "data": {
      "text/plain": [
       "(array([[0.        , 1.02227031, 1.02227031, 1.06470641, 1.06872115]]),\n",
       " array([[ 23, 323, 279, 352,  67]]))"
      ]
     },
     "execution_count": 47,
     "metadata": {},
     "output_type": "execute_result"
    }
   ],
   "source": [
    "nn.kneighbors([dtm.iloc[23].values])"
   ]
  },
  {
   "cell_type": "code",
   "execution_count": 48,
=======
   "execution_count": 53,
>>>>>>> 69e847c7c406c8aa7f2f0cfa29bc02ed60834a4f
   "metadata": {},
   "outputs": [
    {
     "data": {
      "text/plain": [
<<<<<<< HEAD
       "(array([[0.        , 0.        , 1.00430583, 1.01904628, 1.02227031]]),\n",
       " array([[323, 279, 352,  67,  23]]))"
      ]
     },
     "execution_count": 48,
=======
       "(array([[0.        , 0.        , 0.84251433, 0.98845232, 1.03646417]]),\n",
       " array([[256,  12, 121, 155, 351]]))"
      ]
     },
     "execution_count": 53,
>>>>>>> 69e847c7c406c8aa7f2f0cfa29bc02ed60834a4f
     "metadata": {},
     "output_type": "execute_result"
    }
   ],
   "source": [
    "# Query Using kneighbors \n",
<<<<<<< HEAD
    "nn.kneighbors([dtm.iloc[323]])"
=======
    "nn.kneighbors([dtm.iloc[256]])"
>>>>>>> 69e847c7c406c8aa7f2f0cfa29bc02ed60834a4f
   ]
  },
  {
   "cell_type": "code",
<<<<<<< HEAD
   "execution_count": 49,
=======
   "execution_count": 54,
>>>>>>> 69e847c7c406c8aa7f2f0cfa29bc02ed60834a4f
   "metadata": {},
   "outputs": [
    {
     "data": {
      "text/plain": [
<<<<<<< HEAD
       "b'Speech takes on search engines\\n\\nA Scottish firm is looking to attract web surfers with a search engine that reads out results.\\n\\nCalled Speegle, it has the look and feel of a normal search engine, with'"
      ]
     },
     "execution_count": 49,
=======
       "b\"Sony PSP console hits US in March\\n\\nUS gamers will be able to buy Sony's PlayStation Portable from 24 March, but there is no news of a Europe debut.\\n\\nThe handheld console will go on sale for $250 (\\xc2\\xa313\""
      ]
     },
     "execution_count": 54,
>>>>>>> 69e847c7c406c8aa7f2f0cfa29bc02ed60834a4f
     "metadata": {},
     "output_type": "execute_result"
    }
   ],
   "source": [
<<<<<<< HEAD
    "data[23][:200]"
=======
    "data[256][:200]"
>>>>>>> 69e847c7c406c8aa7f2f0cfa29bc02ed60834a4f
   ]
  },
  {
   "cell_type": "code",
<<<<<<< HEAD
   "execution_count": 50,
=======
   "execution_count": 55,
>>>>>>> 69e847c7c406c8aa7f2f0cfa29bc02ed60834a4f
   "metadata": {},
   "outputs": [
    {
     "data": {
      "text/plain": [
<<<<<<< HEAD
       "b'Savvy searchers fail to spot ads\\n\\nInternet search engine users are an odd mix of naive and sophisticated, suggests a report into search habits.\\n\\nThe report by the US Pew Research Center reveals that 8'"
      ]
     },
     "execution_count": 50,
=======
       "b\"Sony PSP handheld console hits US\\n\\nThe latest handheld gaming gadget, Sony's PlayStation Portable, goes on sale in the US on Thursday.\\n\\nThe entertainment device, which also stores images, music and vi\""
      ]
     },
     "execution_count": 55,
>>>>>>> 69e847c7c406c8aa7f2f0cfa29bc02ed60834a4f
     "metadata": {},
     "output_type": "execute_result"
    }
   ],
   "source": [
<<<<<<< HEAD
    "data[323][:200]"
=======
    "data[121][:200]"
>>>>>>> 69e847c7c406c8aa7f2f0cfa29bc02ed60834a4f
   ]
  },
  {
   "cell_type": "code",
<<<<<<< HEAD
   "execution_count": 53,
=======
   "execution_count": 56,
>>>>>>> 69e847c7c406c8aa7f2f0cfa29bc02ed60834a4f
   "metadata": {},
   "outputs": [],
   "source": [
    "rndm_tech_article = [ \"\"\"\n",
<<<<<<< HEAD
    "Search has changed dramatically over the past year and semantic technology has been at the center of it all. Consumers increasingly expect search engines to understand natural language and perceive the intent behind the words they type in, and search engine algorithms are rising to this challenge. This evolution in search has dramatic implications for marketers, consumers, technology developers and content creators — and it’s still the early days for this rapidly changing environment. Here is an overview of how search technology is changing, how these changes may affect you and what you can do to market your business more effectively in the new era of search.\n",
    "\n",
    "What Is Semantic Technology?\n",
    "\n",
    "The word “semantic” refers to meaning. According to Search Engine Journal, semantic search (also known as “entity search”) “uses machine intelligence to determine the intended meaning of words so searches become more relevant.” Semantic technology has been gradually introduced in recent years, offering users easier access to the information and connections they’re seeking. Without even knowing it, consumers are using more natural speech in their search queries and they EXPECT to be understood. As Search Insider puts it, the goal is to “focus less on keywords and more on intent-based collective intelligence.”\n",
    "\n",
    "No longer focused on just keywords or even phrases, Internet search has evolved to employ a new level of sophistication, the so-called semantic search engine. From now on, Internet surfers will be able to search based on “entities”; in simple terms, persons, places and things. These entity searches will reveal far more about the topic being researched than was possible before. For example, instead of just directing you to a prominent contemporary person you may be researching, Bing’s “Satori” will link you to any and all ”Talks” that person has delivered.\n",
    "\n",
    "Google’s new “Hummingbird” algorithm allows the user to conduct what Google calls “conversational searches”. By this they mean that the search engine will take an entire sentence into account, not just the words in the sentence. So, instead of directing you to the nearest pizza restaurant, you’ll be directed to the nearest pizza restaurant that’s currently open, has the special ingredients you want and offers a promotion to new and returning customers, or whatever else you type into the search bar. The search engine strives to understand not just the words, but their context, hence the term semantic search.\n",
    "\n",
    "The New World of Search Engines\n",
    "\n",
    "Schema.org: Bing, Yahoo and Google recognize that in order to adapt to the new search landscape, they would have to put competition aside and engage in some collaboration. In 2011, they jointly launched the Schema.org initiative. Schema defines a new set of HTML terms which can be added to a web page’s markup. They will be used as clues to the meaning of that page, and will assist search engines to recognize specific people, events, attributes, and so on. For example, if a webpage contains the word “pentagon,” a Schema definition will clarify whether it’s about the geometric five-sided figure or the Department of Defense headquarters building.\n",
    "Knowledge Graph and Snapshot: Google has been increasing the scope of its Knowledge Graph results, which offers users a box on the right hand side of the search results page that provides images and facts that are applicable to the searcher’s intent. Bing’s Snapshot, which functions similarly, was enhanced in 2013 by the advent of “Satori,” which will assist with understanding the relationship between people, places, events and objects.\n",
    "Hummingbird: In September 2013, Google announced the arrival of Hummingbird, its new search algorithm. According to Google search chief Amit Singhal, Hummingbird represents the most drastic change in search algorithms that Google has made since 2001. He explains in Search Engine Land that Panda and Penguin were updates to the old algorithm, and some aspects of them will continue to apply, but Hummingbird is actually an entirely new search engine, designed for the search needs of today. Hummingbird offers a greatly increased comprehension of the meaning behind the search terms. Instead of just taking a few words from the query and trying to find pages with those words on them, Hummingbird is actually trying to decipher the meaning behind the query and offer results that match users’ intent. The Search Insider blog points out that Bing and Yahoo have made similar changes, though perhaps less drastic. They have geared their searches to respond more to full phrases and to understand the meaning contained in a string of words.\n",
    "Rising Stars: With the advent of semantic search, an array of new search engines are being freshly constructed. Although their user numbers are microscopic when compared to the major search engines, these new players have the advantage of being able to make a fresh start without worrying about modifying earlier structures. Examples of natural language search engines include: Powerset (now owned by Microsoft), Hakia and a handful of others.\n",
    "Applications for Semantic Search\n",
    "\n",
    "Augmented Reality (AR): With Google Glass, an overlay (of a map, for instance) is layered on top of the landscape that is being physically seen by the viewer. This will lead to more image tagging and visually based searches. This has a natural tie-in to marketing, since shoppers will be able to look at something and then learn about it (and where to buy it) based on its appearance. However, Google Glass still faces some challenges: It uses a combination of image, facial and voice recognition technology, and that means that a continuous network connection is required because you can’t pack enough processing power into just a few ounces. However, this obstacle is likely to be overcome before too long, and wearable technology of all kinds is just over the horizon.\n",
    "Search and Mobile: According to Search Insider, mobile search and the birth of Siri have been the biggest catalysts for consumers changing approach to search. Since Siri encourages natural language questions, and people have gotten accustomed to having immediate access to the information that they want, voice recognition technology is increasingly driving Search. The mobile search utility Google Now is powered by natural language, and fits into the user’s life by supplying them with the information they want before they even realize they want it. The expectation of this kind of responsiveness has circled back to text-based online searches, and all the major search engines have made adjustments to meet this demand.\n",
    "Social Media and Semantic Technology: Facebook has announced that its new Graph Search is equipped with semantic search technology so that users can find the connections they want more easily, and advertisers can achieve more intuitive understanding of users’ preferences. Graph Search also enables far more accurate targeting of marketing, since it can make new connections. For example, a user (or advertiser) can find friends who like X who live in Y. Basically, the new technology provides a treasure trove for data mining, although it too has a few challenges to overcome. The new deeper data levels are based on people spending more time on Facebook, with broad networks of friends and connections. Also, the public concern with Facebook privacy continues and these concerns may prevent people from “Liking” certain things. Overall, however, the prospects are bright; Michael Pachter, an analyst at Wedbush Securities in Los Angeles, predicts in Bloomberg Businessweek, “Graph Search will grow to about a quarter of Facebook’s revenue, or $3 billion to $4 billion in 2015.”\n",
    "What are the Implications for Marketers and Content Creators?\n",
    "\n",
    "In their introduction to Hummingbird, Google states that the new algorithm doesn’t really usher in any SEO changes. SEO success will still depend on simply presenting original, high-quality content. However, the science of marketing is undergoing change in response to semantic search, because improved perception of user intent opens new doors. Users will have far greater success in finding what they’re looking for, and marketing campaigns can drill down to finer and finer demographic sectors based on intent as well as device type, location, history, and so forth.\n",
    "\n",
    "Graph Search, and its inevitable flock of cousins on other social media platforms, will intensify the networking aspects of consumption, as friendship and commerce become less and less distinguishable from one another. On the semantic web, each user’s identity and intent will become clearer, with the dual outcomes of being more successful at finding what they want and being more findable by the commercial entities who can provide what is wanted.\n",
    "\n",
    "Penny Herscher, CEO of First Rain, a B2B customer intelligence firm, describes her vision of B2B marketing in the semantic search world. She presents a scenario in which you could see someone at a conference and, with the use of facial recognition software, instantly call up their identity and learn what business they’re in and who their clients and competitors are. Not only that, but you could have instantly available suggestions about whether it will be productive to go over and introduce yourself. Basically, augmented reality is a new relationship between the physical world, including physical face to face interactions, and a world of information that lies behind what you’re seeing. This information influences the way that you will interact with all the worlds you inhabit.\n",
    "\n",
    "The Direction of Searches and Search Engines\n",
    "\n",
    "Despite the billions and billions of searches, Google reports that 20 percent of all searches in 2012 were new. It seems quite staggering, but it’s a product of the semantic search rather than the simple keyword search. And the trend will continue. Searches will become faster and more relevant information will be delivered to the consumer. Today, 96 percent of consumers’ time on the Web is spent on content sites. Will that percentage someday reach 100 percent, with time searching reduced to a statistically insignificant number? And, with 35 percent of searches occurring outside of search engines, will your site and/or ads be properly structured to attract traffic from off the search world’s “beaten path”?\n",
    "\n",
    "There is no definitive answer to all of these questions, just as there is no definitive forecast as to what the future of Internet searching and digital marketing will hold. Will your mobile device detect that you need a haircut and generate a text when you drive past a barber shop? Will your Internet habits allow new algorithms to be developed that will predict your future activities? Certainly, the future possibilities are endless for those who are studious enough to keep pace and agile enough to adjust.\n",
    "\"\"\"]"
=======
    "Final Fantasy VII Remake and Marvel’s Avengers, two of this year’s major releases, have both been postponed. Square Enix, the publisher behind the titles, announced the news Tuesday morning.\n",
    "\n",
    "Avengers is being pushed back four months, with its new release date set for September 4. The arrival of Final Fantasy VII Remake has been bumped by one month, moving from March 3 to April 10.\n",
    "\n",
    "Delays for massive blockbuster games are common around this time of year. With the industry preparing for big, anticipated releases slated for spring, summer and the holidays, the news from Square Enix isn’t all that surprising. Early builds for Marvel’s Avengers received a mixed reception at E3 2019 and subsequent, similar events. Final Fantasy VII fans will likely have a critical eye when revisiting the classic, setting a high bar for developers to clear.\n",
    "\n",
    "Final Fantasy VII Remake is among The Washington Post's most anticipated games of 2020.\n",
    "\n",
    "“We are making this tough decision in order to give ourselves a few extra weeks to apply final polish to the game and to deliver you with the best possible experience,” wrote Final Fantasy VII Remake producer Yoshinori Kitase in a statement. “I, on behalf of the whole team, want to apologize to everyone, as I know this means waiting for the game just a little bit longer.”\n",
    "\n",
    "Marvel’s Avengers’s developer Crystal Dynamics released a similar statement, with studio co-heads Scot Amos and Ron Rosenberg citing “fine tuning and polishing” as the reason for the delay. “We will spend this additional development time focusing on fine tuning and polishing the game to the high standards our fans expect and deserve.”\n",
    "\n",
    "\"\"\"]\n"
>>>>>>> 69e847c7c406c8aa7f2f0cfa29bc02ed60834a4f
   ]
  },
  {
   "cell_type": "code",
<<<<<<< HEAD
   "execution_count": 54,
=======
   "execution_count": 57,
>>>>>>> 69e847c7c406c8aa7f2f0cfa29bc02ed60834a4f
   "metadata": {},
   "outputs": [],
   "source": [
    "# Query for Sim of Random doc to BBC\n",
    "new = tfidf.transform(rndm_tech_article)"
   ]
  },
  {
   "cell_type": "code",
<<<<<<< HEAD
   "execution_count": 55,
=======
   "execution_count": 58,
>>>>>>> 69e847c7c406c8aa7f2f0cfa29bc02ed60834a4f
   "metadata": {},
   "outputs": [
    {
     "data": {
      "text/plain": [
       "<1x5000 sparse matrix of type '<class 'numpy.float64'>'\n",
<<<<<<< HEAD
       "\twith 371 stored elements in Compressed Sparse Row format>"
      ]
     },
     "execution_count": 55,
=======
       "\twith 97 stored elements in Compressed Sparse Row format>"
      ]
     },
     "execution_count": 58,
>>>>>>> 69e847c7c406c8aa7f2f0cfa29bc02ed60834a4f
     "metadata": {},
     "output_type": "execute_result"
    }
   ],
   "source": [
    "new"
   ]
  },
  {
   "cell_type": "code",
<<<<<<< HEAD
   "execution_count": 56,
=======
   "execution_count": 59,
>>>>>>> 69e847c7c406c8aa7f2f0cfa29bc02ed60834a4f
   "metadata": {},
   "outputs": [
    {
     "data": {
      "text/plain": [
<<<<<<< HEAD
       "(array([[0.81590337, 0.9090499 , 0.90906533, 0.94094243, 0.94094243]]),\n",
       " array([[ 67,  39, 352, 323, 279]]))"
      ]
     },
     "execution_count": 56,
=======
       "(array([[1.31649449, 1.32114904, 1.32573222, 1.32726235, 1.33311102]]),\n",
       " array([[140, 241, 322,  55, 368]]))"
      ]
     },
     "execution_count": 59,
>>>>>>> 69e847c7c406c8aa7f2f0cfa29bc02ed60834a4f
     "metadata": {},
     "output_type": "execute_result"
    }
   ],
   "source": [
    "nn.kneighbors(new.todense())"
   ]
  },
  {
   "cell_type": "code",
<<<<<<< HEAD
   "execution_count": 57,
=======
   "execution_count": 60,
>>>>>>> 69e847c7c406c8aa7f2f0cfa29bc02ed60834a4f
   "metadata": {},
   "outputs": [
    {
     "data": {
      "text/plain": [
<<<<<<< HEAD
       "b'The year search became personal\\n\\nThe odds are that when you fire up your browser, you go straight to your favourite search engine, rather than type in a web address.\\n\\nSome may see this as the height of laziness, but in an era of information overload, search has become a vital tool in navigating the net. It is symptomatic of how the way we use the internet is changing. And as Google has shown, there is money in offering a service that people cannot live without. There is no shortage of companies vying for the loyalty of web searchers, offering a wealth of different services and tools to help you find what you want. Over the past 12 months, giants of the technology world such as Microsoft and Yahoo have sought to grab a slice of the search action. \"User experience has contributed to people searching more,\" said Yonca Brunini of Yahoo. As people become more familiar with the internet, they tend to spend more time online and ask more queries, she said. \"The other second thing is broadband,\" Ms Brunini told the BBC News website. \"This will do to internet what colour has done to TV.\"\\n\\nBut search is hardly a new phenomenon. It has been around since the early days of the net.\\n\\nVeteran surfers will remember old-timers like Hotbot and Altavista. \"Search was always important,\" said Urs Holzle, Google vice-president of operations. \"We trumpeted that in 1999. It is even truer now as there are more users and more information.\" \"People didn\\'t realise that search was the future. The financials have something to do with it.\" Google has shown web commerce can work through its targeted small adverts, which appear at the top and down the right-hand side of a page and are related to the original search. These small ads helped Google reach revenues of $805.9m for the three months to September. Others have woken up to the fact that you can make money out of web queries. \"Once you see there is a market, Microsoft is bound to step to it. If Microsoft sees search as important, then nobody queries it,\" said Mr Holzle.\\n\\nMicrosoft is just one of the net giants muscling in on search. Yahoo, Ask Jeeves, Amazon and a handful of smaller outfits are all seeking to capture eyeballs.\\n\\nWeb users face a plethora of choices as each company tries to outflank Google by rolling out new search products such as desktop search. It reflects how the battlefield has shifted from the net to your PC. Search is not just about finding your way around the web. It is now about unlocking information hidden in the gigabytes of documents, images and music on hard drives. For all these advances, search is still a clumsy tool, often failing to come up with exactly what you had in mind. In order to do a better job, search engines are trying to get to know you better, doing a better job of remembering, cataloguing and managing all the information you come across. \"Personalisation is going to be a big area for the future,\" said Yahoo\\'s Yonca Brunini. \"Whoever cracks that and gives you the information you want is going to be the winner. We have to understand you to give you better results that are tailored to you.\" This is perhaps the Holy Grail of search, understanding what it is you are looking for and providing it quickly. The problem is that no one yet knows how to get there.\\n'"
      ]
     },
     "execution_count": 57,
=======
       "b'Losing yourself in online gaming\\n\\nOnline role playing games are time-consuming, but enthralling flights from reality. But are some people taking their fantasy lives too seriously?\\n\\nWhen video game World of Warcraft hit the shops in Europe last week fans wrote in to the BBC website to express their delight - and to offer a warning. \"An addiction to a game like this is far more costly in time than any substance could impair - keep track of time,\" wrote Travis Anderson, in Texas. Some of the comments were humorous: \"This game is so good I\\'m not going to get it, there\\'s no way I could limit the hours I\\'d spend playing it,\" wrote Charles MacIntyre, from England.\\n\\nBut some struck a more worrying tone about the Massively Multiplayer Online Role Playing Game (MMORPG): \"\\'You need to get out more\\' could be the motto of any MMORPG. Shame they are getting more popular, as you know this problem is just going to mushroom,\" wrote Stuart Stanton-Davies, in Huddersfield. Scare-mongering articles about \"addictive video games\" have existed since the days the first game of Pong stopped everyone from working at the Atari offices.\\n\\nGaming is like any other pastime - it can quickly become an unhealthy obsession, whether it is spending too much time in the gym, in front of the television, or reading poetry.\\n\\nUnfortunately, gaming and addiction is a far too easy association to make. However, stories about gamers spending 10 to 15 hours a day in front of some video games are becoming more frequent. And the impact that is having on their families is quite distressing for some.\\n\\nMassively multiplayer online role playing games - MMORPGs - allow thousands of gamers to share a common experience of sharing fantasy or science fiction worlds. The scope of these games - like Warcraft, EverQuest, Ultima among others - is epic, and exploration and adventure is almost infinite. Part of the \"problem\" is grinding - by which gamers have to perform long-winded, mindless tasks, to bring up their levels and gain access to more adventure. Such open-endedness brings with it a desire to keep playing; not for no reason is EverQuest (EQ) nicknamed EverCrack. E Hayot, writing in the culture blogzine Print Culture, said recently: \"I used to play the online role-playing game EverQuest a lot. \"By \\'a lot\\', I mean probably 15 to 20 hours a week on average, and on weeks where I didn\\'t have to work, as many as 30 or 40 hours.\"\\n\\nHe says that in the world of online gaming such behaviour \"wasn\\'t that unusual; lots of people I knew in the game played EQ that much\". \"You lie; you don\\'t go into work because you \"had stuff to do at home\"; you cancel or refuse invitations to dinner, you spend much less time watching TV (a good thing, presumably),\" he wrote, explaining how EverQuest took over his time. He quit the game, he says, because he realised life was more fun than EverQuest.\\n\\nLet us be clear - such obsession is rare. But the huge growth in online gaming means a growth in the numbers of people who take their passion for a hobby too far. Almost 400,000 people bought a copy of World of Warcraft in the first two days on sale earlier this month. Only a fraction will descend into obsessives. The thoughts of families and friends of gamers who have been affected by EverQuest can be found on one blog EverQuest Daily Grind. Jane, who runs the website, compiles a chronicle of heart-rending stories. \"I am actually convinced at this point that there are more than \\'some\\' people who spend more times in MMOPRGs than in reality,\" she said. One unnamed correspondent - all are anonymous - wrote: \"On the rare nights when my husband does come to bed at the same time as I do, I find that I am so used to sleeping by myself that it is difficult to get to sleep with another body laying next to me.\\n\\n\"I can\\'t talk to him while he is playing. There is absolutely no point as he doesn\\'t hear me or is so distracted that I get a \\'ummm... ya\\' a few minutes after I ask him a question.\"\\n\\n\"Gaming widows\" has become a comedic term for women who have been shut out by male gamers. But for some it is not in the least funny. Another correspondent wrote: \"I believe that he is addicted to the online gaming, and that is the cause of his depression and restlessness.\" And some of them are even sadder: \"Today our son was five days old. \"The sad truth is my husband spent 11 hours today playing his Warcraft game. He did not interact with our sweet tiny baby because there were important quests waiting online.\" Video game fans often complain that their hobby is misunderstood or marginalised. But as gaming becomes ever more mainstream, and games ever more immersive, there will be no hiding place for social problems.\\n\\n\\n\\nI wish 30-40 hours a week was unusual but I think it probably isn\\'t. An 11 hour stretch isn\\'t that surprising - I\\'ve known people to play 15+ hours at a stretch. I know of people who are spending their week\\'s holiday from work playing Warcraft. I know of people who would play Ever[Crack] in shifts...waking at 3am to take over from their friends and resume waiting for an item they \\'needed\\' to appear. I understand that the key sign of an addiction is if you alter your life around it rather than fit it into your life. By all standards many of us are addicts. So is the solution to force ourselves to stop playing..or do we just need to make real life a bit more interesting?\\n\\nSadly with all the talk of people becoming obsessed with gaming, I find myself longing to have the time to join them. I have been in a long term relationship for over 4 years - since that began, games have become more and more complex. And more and more so I find I have less and less time to play them, with and marriage and work being the main drag on my time.\\n\\nI think the line between playing a game a lot and a gaming addiction is really quite distinct. I play games a lot, definately over 20 hours a week, but I don\\'t go missing work or other commitments in order to play games.\\n\\nI have, about a year ago, deleted every game on my computer. RPGs are the worst - the real world fades and all your worries sorround a new magic staff or mighty sword. Unlike books, or perhaps even TV, you gain absolutely nothing. When you stop playing you\\'re at the same point as when you started; all the achievements of your 10 hour session are irretrievably locked in the game and, since you\\'ve gained nothing in the real world, you may as well pile on more achievement in the fake one.\\n\\nDespite having little monetary value, the \"rewards\" and encouragement offered by these MMORPGs is enough to hook games for hours daily. If only business could learn to leverage that very simply human need for easily measurable progress and recognition. Perhaps the unhealthily obsessed simply need more recognition for their achievements in reality?\\n\\nMy advice to gaming widows is \"if you can\\'t beat \\'em, join \\'em\". That is, try playing it yourself. If he wants to play as well, well at least you\\'ll be together somewhere...\\n\\nI was an addict and it cost me my relationship. I still play now, but without the guilt , hehe, How long have i played in one sitting? From morning till the early hours of the next day, the birds were singing out side and i had to hobble to the bath room cos my bladder was so full i was in pain, i would hardly eat, perhaps some toast, smoke endlessly and drink. Now, thankfully the fascination has worn off and I have a girlfriend but still no job. For the most part online gaming give me an adiction to illusory achievement, and as there is no end in sight you keep going for the mirage of the ultimate.\\n\\nObsessive behaviour is, of course, always cause for concern, but it always bothers me when articles about gaming talk in terms of \"reality\". Obviously, somebody who spends thirty hours a week playing EverQuest has a problem. This problem, however, has nothing to do with a dysfunctional sense of reality. An obsessive EQ player does not consider the game to be \"real\" any more than - for example - an obsessive automotive tinkerer considers their car to be human. If MMORPGs have a unique danger, in terms of encouraging obsessive behaviour, it is not that they create an absorbing virtual world, but rather that they can be easily accessed 24/7. The problem here does not lie with the nature of gaming, but with the nature of modern 24 hour culture.\\n\\nThe problem with these so called MMORPGS is that you can never really complete them, there\\'s always another quest to do. A few of my friends have only had about 10 hours sleep since it was released friday...\\n\\nChampionship Manager consumed my life for years. One particular session started at about 2pm on a Sunday, paused for a brief sleep at 5am on the Monday and after visit to University for classes restarted at about midday for another 10 hour session. The people who tend to hark on about about the problems of \"hardcore gaming\" seem to be those who have rarely allowed themselves to become immersed in a game. I would expect their perspective to change if they were to do that.\\n\\nI used to be an EverQuest addict while I was in college. It came to the point where the gaming world felt more real than the real one. I failed alot of my courses and was able to barely graduate. I was lucky that I came to my senses when I did, others were less fortunate and dropped out of college. Now that I am holding a job, I avoid online RPGS like the plague.\\n\\nWhen I was made redundant I told my partner I had a new job for three months whilst every day I played EverQuest from 7:30am till 5:pm. When She came home I pretended I had just got in as well, hence justifying playing it all evening. I have since quit playing MMORPG and have a good job.\\n\\nWhen I got to the point where I was eating my dinner in front of the PC I realised things were getting silly so I\\'m trying not to spend so much time on there. It\\'s not easy. I feel as if I\\'ve got a real addiction going on here.\\n\\nFor me the problem is that I love to complete a goal. Once it is completed that is it, I am finished, time to move on. I become obsessed to complete the goal, so from that standpoint it is an addiction. In a game where you will never complete an \"ultimate\" goal, well it would be like falling into a black pit. It is easier to escape into a controlled fantasy world than face reality at times - in other words the goal offered in the PC game are \"easier\" and more fun than the real world. Pretty scary implications if you think about it.\\n\\nI can\\'t buy World of Warcraft as it would destroy my marrage, I just know it!!\\n\\nI played Star Wars Galaxies for about a year and can attest to the addictiveness of these games. They are all engineered in such a way that early on in the game you progress quickly, but this progress becomes exponentially slower, requiring more and more time to reach the next level. I\\'m sad to say that at the peak of my addiction I was spending entire weekends in front of my monitor, slowly building up my character, stopping only for food and toilet breaks. Thankfully I made a clean break, and actually managed to sell my Jedi account for \\xc2\\xa3800 - which is my only sanity check in an otherwise completely unproductive time vacuum.\\n\\nSeven years ago, I began playing Ultima Online. This game dominated 2 years of my life. They were 2 wonderful years and I still have vivid memories of the experiences and friends I had. Online gaming can be a world of escapism where you can be yourself without fear of the thoughts of others. Something that cannot always be achieved in the day to day running of a normal life. Whilst I would warn against people giving to much of there life to these games, I believe they are a better way to spend your time than say watching TV.\\n\\nGaming is addictive and should be made a recognised addiction. When I was single I used to play upto eight hours a night after work every night for about a year, building up my stats, completing evermore quests and battling ogres. But somehow I found time to get out, even met someone and got married! Has my life changed? Hell no! I still cast spells and battle till the early hours of the morning. On with the fun!\\n\\nOnline gaming should be enjoyed just as much as you would enjoy watching television, or going to the cinema or the pub with your mates.\\n\\nMany people use recreational drugs on an occasional basis and are able to lead succesfull lives with families, relationships and good careers. A minority allow drugs to take over and destroy their lives and become addicted. According to this article the same is true of MMORPGs. The message to the government is clear, either legalise drugs, or outlaw online gaming!!\\n\\nSounds like there are some sad stories here - and I can believe them all. I play alot of Warcraft myself, and know full well how addictive it is. I am resolute that it will not take over my life. It certainly gets in the way though. I think that some people simply do not know how to draw this line, or lack the willpower to stop themselves stepping over it.\\n\\nI think I\\'m obsessed with gaming in general, I spend far too much time playing games like Everquest 2 and Football Manager rather than going out and interacting with real people and when I do try to, I\\'m always thinking in the back if my mind that I\\'d rather be in front of the computer winning the league with Cambridge United.\\n\\nI am obsessed with online role playing games. It\\'s not so much quests but it has the adrenaline of a real life situation - goals to achieve etc. I spend about five hours per day online playing it and I rarely get more than four to five hours sleep before getting up for work the next morning...\\n\\nAs many of the players spend their time in MMORPGs rather than in front of the TV I fail to see how it will affect players social lives negatively. Furthermore these types of games contain a huge social aspect, whereas other games and some other pursuits (such as being a couch potato) the players could be indulging in are solitary by nature.\\n\\nThese games are like most things -- too much of anything is a bad thing, but as long as you can walk away from the computer to do other things too, they can be great fun.\\n\\nLiving in Korea at the moment, they have lots PC Bangs (Internet Cafes). Nearly most of South Koreans are addicted to online games, and one Korean died because of the lack of food and water he had through playing online games.\\n\\nI play xbox live every day. I find my self lying and rescheduling everything around my gaming fix. The longest I played was a 24 hour straight session. I know I play for to long but it\\'s an obsession that I can\\'t control. Can you reccomend a counsellor - this is not a wind up... but something I\\'m increasingly concerned with...\\n\\nMe and my mate play online for an hour or two a day, we\\'re both aware of how much time can disappear by sitting in front of a TV, trying to \\'frag\\' some individual. It\\'s getting the balance between getting home and relasing the stress of a day by an hour or so gaming, and enjoying \\'real\\' life...\\n\\nI bought the US version of World of Warcraft when it came out. The longest period I played was 23 hrs straight. I gave up the game after a month because it was so addictive, but have subsequently just bought the European version (couldn\\'t help myself). In future, I\\'m going to regulate my time far more strictly. Great game!\\n\\nHaving played MMORPG games for some years I agree that these type of games can be life sucking. But my concern is for the younger generation of gamers that play for hours on end in an adult enviroment. Most MMORPG games you need a credit card to play but I dont think parents know just what they are letting there children into.\\n\\nUnless there is undeniable medical proof that staring at a computer screens for hours at a time can damage a person&#191;s health, you can expect this not to decline but to get worse.\\n\\nThese people are pathetic. They need to get off their machines and notice that our world is being swiftly overcome by issues and troubles that make the trifling worries of and \"online universe\" absolutely meaningless.\\n\\n24hours, when i was a kid at school and i was on half term, Ultima Online was the game, ahhhh them was the days ! LOL\\n'"
      ]
     },
     "execution_count": 60,
>>>>>>> 69e847c7c406c8aa7f2f0cfa29bc02ed60834a4f
     "metadata": {},
     "output_type": "execute_result"
    }
   ],
   "source": [
    "# Inspect Most relevant result\n",
<<<<<<< HEAD
    "data[67]"
   ]
  },
  {
   "cell_type": "code",
   "execution_count": 58,
   "metadata": {},
   "outputs": [],
   "source": [
    "# If the recommendations are not appropriate, then you may need to dive into\n",
    "# a threshold of distance. Perhaps anythinig with distance greater than \n",
    "# 1.3 is no longer relevant? Something to think about ..."
=======
    "data[140]"
>>>>>>> 69e847c7c406c8aa7f2f0cfa29bc02ed60834a4f
   ]
  },
  {
   "cell_type": "markdown",
   "metadata": {},
   "source": [
    "## Challenge\n",
    "\n",
    "In the module project assignment, you will apply one of these search techniques to retrieve documents related to a query document. "
   ]
  },
  {
   "cell_type": "markdown",
   "metadata": {},
   "source": [
    "# Apply word embedding models to create document vectors (Learn)\n",
    "<a id=\"p3\"></a>"
   ]
  },
  {
<<<<<<< HEAD
   "cell_type": "code",
   "execution_count": null,
   "metadata": {},
   "outputs": [],
   "source": [
    "# wordtovec, glowve, bert, elmo - embedding nn models"
   ]
  },
  {
=======
>>>>>>> 69e847c7c406c8aa7f2f0cfa29bc02ed60834a4f
   "cell_type": "markdown",
   "metadata": {},
   "source": [
    "## Overview\n",
    "### BoW discards textual context\n",
    "\n",
    "One of the limitations of Bag-of-Words approaches is that any information about the textual context surrounding that word is lost. This also means that with bag-of-words approaches often the only tools that we have for identifying words with similar usage or meaning and subsequently consolidating them into a single vector is through the processes of stemming and lemmatization which tend to be quite limited at consolidating words unless the two words are very close in their spelling or in their root parts-of-speech.\n",
    "\n",
    "### Embedding approaches preserve more textual context\n",
    "Word2Vec is an increasingly popular word embedding technique. Like Bag-of-words it learns a real-value vector representation for a predefined fixed-size vocabulary that is generated from a corpus of text. However, in contrast to BoW, Word2Vec approaches are much more capable of accounting for textual context, and are better at discovering words with similar meanings or usages (semantic or syntactic similarity).\n",
    "\n",
    "### Word2Vec Intuition\n",
    "### The Distribution Hypothesis\n",
    "\n",
    "In order to understand how Word2Vec preserves textual context we have to understand what's called the Distribution Hypothesis (Reference: Distribution Hypothesis Theory  -https://en.wikipedia.org/wiki/Distributional_semantics. The Distribution Hypothesis operates under the assumption that words that have similar contexts will have similar meanings. Practically speaking, this means that if two words are found to have similar words both to the right and to the left of them throughout the corpora then those words have the same context and are assumed to have the same meaning. \n",
    "\n",
    "> \"You shall know a word by the company it keeps\" - John Firth\n",
    "\n",
    "This means that we let the usage of a word define its meaning and its \"similarity\" to other words. In the following example, which words would you say have a similar meaning? \n",
    "\n",
    "**Sentence 1**: Traffic was light today\n",
    "\n",
    "**Sentence 2**: Traffic was heavy yesterday\n",
    "\n",
    "**Sentence 3**: Prediction is that traffic will be smooth-flowing tomorrow since it is a national holiday\n",
    "\n",
    "What words in the above sentences seem to have a similar meaning if all you knew about them was the context in which they appeared above? \n",
    "\n",
    "Lets take a look at how this might work in action, the following example is simplified, but will give you an idea of the intuition for how this works.\n",
    "\n",
    "#### Corpora:\n",
    "\n",
    "1) \"It was the sunniest of days.\"\n",
    "\n",
    "2) \"It was the raniest of days.\"\n",
    "\n",
    "#### Vocabulary:\n",
    "\n",
    "{\"it\": 1, \"was\": 2, \"the\": 3, \"of\": 4, \"days\": 5, \"sunniest\": 6, \"raniest\": 7}\n",
    "\n",
    "### Vectorization\n",
    "\n",
    "|       doc   | START_was | it_the | was_sunniest | the_of | sunniest_days | of_it | days_was | it_the | was_raniest | raniest_days | of_END |\n",
    "|----------|-----------|--------|--------------|--------|---------------|-------|----------|--------|-------------|--------------|--------|\n",
    "| it       | 1         | 0      | 0            | 0      | 0             | 0     | 1        | 0      | 0           | 0            | 0      |\n",
    "| was      | 0         | 1      | 0            | 0      | 0             | 0     | 0        | 1      | 0           | 0            | 0      |\n",
    "| the      | 0         | 0      | 1            | 0      | 0             | 0     | 0        | 0      | 1           | 0            | 0      |\n",
    "| sunniest | 0         | 0      | 0            | 1      | 0             | 0     | 0        | 0      | 0           | 0            | 0      |\n",
    "| of       | 0         | 0      | 0            | 0      | 1             | 0     | 0        | 0      | 0           | 1            | 0      |\n",
    "| days     | 0         | 0      | 0            | 0      | 0             | 0     | 0        | 0      | 0           | 0            | 1      |\n",
    "| raniest  | 0         | 0      | 0            | 1      | 0             | 0     | 0        | 0      | 0           | 0            | 0      |\n",
    "\n",
    "Each column vector represents the word's context -in this case defined by the words to the left and right of the center word. How far we look to the left and right of a given word is referred to as our \"window of context.\" Each row vector represents the the different usages of a given word. Word2Vec can consider a larger context than only words that are immediately to the left and right of a given word, but we're going to keep our window of context small for this example. What's most important is that this vectorization has translated our documents from a text representation to a numeric one in a way that preserves information about the underlying context. \n",
    "\n",
    "We can see that words that have a similar context will have similar row-vector representations, but before looking that more in-depth, lets simplify our vectorization slightly. You'll notice that we're repeating the column-vector \"it_the\" twice. Lets combine those into a single vector by adding them element-wise. \n",
    "\n",
    "|       *   | START_was | it_the | was_sunniest | the_of | sunniest_days | of_it | days_was | was_raniest | raniest_days | of_END |\n",
    "|----------|-----------|--------|--------------|--------|---------------|-------|----------|-------------|--------------|--------|\n",
    "| it       | 1         | 0      | 0            | 0      | 0             | 0     | 1        | 0           | 0            | 0      |\n",
    "| was      | 0         | 2      | 0            | 0      | 0             | 0     | 0        | 0           | 0            | 0      |\n",
    "| the      | 0         | 0      | 1            | 0      | 0             | 0     | 0        | 1           | 0            | 0      |\n",
    "| sunniest | 0         | 0      | 0            | 1      | 0             | 0     | 0        | 0           | 0            | 0      |\n",
    "| of       | 0         | 0      | 0            | 0      | 1             | 0     | 0        | 0           | 1            | 0      |\n",
    "| days     | 0         | 0      | 0            | 0      | 0             | 0     | 0        | 0           | 0            | 1      |\n",
    "| raniest  | 0         | 0      | 0            | 1      | 0             | 0     | 0        | 0           | 0            | 0      |\n",
    "\n",
    "Now, can you spot which words have a similar row-vector representation? Hint: Look for values that are repeated in a given column. Each column represents the context that word was found in. If there are multiple words that share a context then those words are understood to have a closer meaning with each other than with other words in the text.\n",
    "\n",
    "Lets look specifically at the words sunniest and raniest. You'll notice that these two words have exactly the same 10-dimensional vector representation. Based on this very small corpora of text we would conclude that these two words have the same meaning because they share the same usage. Is this a good assumption? Well, they are both referring to the weather outside so that's better than nothing. You could imagine that as our corpora grows larger we will be exposed a greater number of contexts and the Distribution Hypothesis assumption will improve. \n",
    "\n",
    "### Word2Vec Variants\n",
    "\n",
    "#### Skip-Gram\n",
    "\n",
    "The Skip-Gram method predicts the neighbors’ of a word given a center word. In the skip-gram model, we take a center word and a window of context (neighbors) words to train the model and then predict context words out to some window size for each center word.\n",
    "\n",
    "This notion of “context” or “neighboring” words is best described by considering a center word and a window of words around it. \n",
    "\n",
    "For example, if we consider the sentence **“The speedy Porsche drove past the elegant Rolls-Royce”** and a window size of 2, we’d have the following pairs for the skip-gram model:\n",
    "\n",
    "**Text:**\n",
    "**The**\tspeedy\tPorsche\tdrove\tpast\tthe\telegant\tRolls-Royce\n",
    "\n",
    "*Training Sample with window of 2*: (the, speedy), (the, Porsche)\n",
    "\n",
    "**Text:**\n",
    "The\t**speedy**\tPorsche\tdrove\tpast\tthe\telegant\tRolls-Royce\n",
    "\n",
    "*Training Sample with window of 2*: (speedy, the), (speedy, Porsche), (speedy, drove)\n",
    "\n",
    "**Text:**\n",
    "The\tspeedy\t**Porsche**\tdrove\tpast\tthe\telegant\tRolls-Royce\n",
    "\n",
    "*Training Sample with window of 2*: (Porsche, the), (Porsche, speedy), (Porsche, drove), (Porsche, past)\n",
    "\n",
    "**Text:**\n",
    "The\tspeedy\tPorsche\t**drove**\tpast\tthe\telegant\tRolls-Royce\n",
    "\n",
    "*Training Sample with window of 2*: (drove, speedy), (drove, Porsche), (drove, past), (drove, the)\n",
    "\n",
    "The **Skip-gram model** is going to output a probability distribution i.e. the probability of a word appearing in context given a center word and we are going to select the vector representation that maximizes the probability.\n",
    "\n",
    "With CountVectorizer and TF-IDF the best we could do for context was to look at common bi-grams and tri-grams (n-grams). Well, skip-grams go far beyond that and give our model much stronger contextual information.\n",
    "\n",
    "![alt text](https://www.dropbox.com/s/c7mwy6dk9k99bgh/Image%202%20-%20SkipGrams.jpg?raw=1)\n",
    "\n",
    "## Continuous Bag of Words\n",
    "\n",
    "This model takes thes opposite approach from the skip-gram model in that it tries to predict a center word based on the neighboring words. In the case of the CBOW model, we input the context words within the window (such as “the”, “Proshe”, “drove”) and aim to predict the target or center word “speedy” (the input to the prediction pipeline is reversed as compared to the SkipGram model).\n",
    "\n",
    "A graphical depiction of the input to output prediction pipeline for both variants of the Word2vec model is attached. The graphical depiction will help crystallize the difference between SkipGrams and Continuous Bag of Words.\n",
    "\n",
    "![alt text](https://www.dropbox.com/s/k3ddmbtd52wq2li/Image%203%20-%20CBOW%20Model.jpg?raw=1)\n",
    "\n",
    "## Notable Differences between Word Embedding methods:\n",
    "\n",
    "1) W2V focuses less document topic-modeling. You'll notice that the vectorizations don't really retain much information about the original document that the information came from. At least not in our examples.\n",
    "\n",
    "2) W2V can result in really large and complex vectorizations. In fact, you need Deep Neural Networks to train your Word2Vec models from scratch, but we can use helpful pretrained embeddings (thank you Google) to do really cool things!\n",
    "\n",
    "*^ All that noise....AND Spacy has pretrained a Word2Vec model you can just use? WTF JC?*\n",
    "\n",
    "Let's take a look at how to do it. "
   ]
  },
  {
   "cell_type": "code",
<<<<<<< HEAD
   "execution_count": 59,
=======
   "execution_count": 65,
>>>>>>> 69e847c7c406c8aa7f2f0cfa29bc02ed60834a4f
   "metadata": {},
   "outputs": [
    {
     "name": "stdout",
     "output_type": "stream",
     "text": [
      "[ 2.07984239e-01 -2.60890484e-01 -1.15457252e-01 -1.96443751e-01\n",
      " -2.83249468e-03  3.55849974e-02 -2.05170006e-01 -2.27374747e-01\n",
      "  8.56052488e-02  1.36894751e+00 -5.74124977e-02  8.06210041e-02\n",
      "  2.37275064e-02  1.17454052e-01 -6.53099641e-03 -1.24400005e-01\n",
      "  1.99086756e-01  6.37722552e-01  1.52916998e-01 -2.33504996e-01\n",
      " -2.40909994e-01 -7.11500049e-02 -9.10753161e-02  7.16734976e-02\n",
      "  1.16262749e-01 -3.91372502e-01  1.13048747e-01 -2.11327493e-01\n",
      "  1.09019078e-01 -2.44885415e-01  3.00577488e-02  4.77855802e-02\n",
      "  7.37800002e-02  2.57142037e-01  2.62586236e-01 -1.66897491e-01\n",
      "  1.87596500e-01 -1.23680010e-02 -1.76299751e-01  1.11685000e-01\n",
      "  1.82024967e-02  9.86500084e-03 -3.58770013e-01 -2.23265499e-01\n",
      " -4.37720008e-02  3.63999486e-01  7.42954984e-02  1.21225506e-01\n",
      "  1.37013003e-01 -5.50666526e-02  2.66017504e-02  8.87180045e-02\n",
      " -1.14092499e-01 -2.02865750e-01  3.63092512e-01 -3.08394760e-01\n",
      "  1.13859497e-01  3.13650146e-02  2.62076259e-01  1.90399922e-02\n",
      "  7.24634901e-02  2.79004984e-02  8.65525007e-02  6.92452565e-02\n",
      " -9.77424979e-02 -1.47966757e-01  2.32025003e-03  1.62278250e-01\n",
      "  1.59857497e-02  3.52048993e-01 -5.51802553e-02  2.13179991e-01\n",
      "  3.63152504e-01  1.01501703e-01  1.73463732e-01  9.20909941e-02\n",
      "  1.27134249e-01  1.00527555e-02  2.44570002e-01 -6.89124968e-03\n",
      "  6.30075037e-02  1.31706819e-01 -1.36811763e-01 -3.73892523e-02\n",
      " -1.71941705e-02 -1.47585243e-01  2.69147515e-01  1.97296605e-01\n",
      " -1.14209257e-01  7.49210045e-02  1.12407543e-02  6.53382465e-02\n",
      "  7.39065409e-02 -1.47568747e-01 -9.98437554e-02  2.56100774e-01\n",
      "  3.41899954e-02 -1.95817441e-01  1.52259752e-01 -2.98299998e-01\n",
      "  3.71480025e-02  1.38142243e-01 -3.84989977e-02 -2.02540010e-02\n",
      "  2.38000415e-03 -8.94232512e-01  1.20125249e-01 -1.48699433e-03\n",
      "  3.07812482e-01  1.31904989e-01  2.28665009e-01 -4.28467512e-01\n",
      " -1.50100499e-01 -3.99947166e-05  7.09750131e-03 -9.08460468e-02\n",
      "  1.15139998e-01  2.73323029e-01  6.97097555e-02  1.37960017e-01\n",
      " -7.76264742e-02 -3.58945057e-02  1.47073746e-01 -2.70538747e-01\n",
      " -4.16769907e-02 -2.20907256e-01  1.29162997e-01  5.66806756e-02\n",
      " -2.10923001e-01 -1.12912245e-01 -1.24349967e-02  2.90902629e-02\n",
      " -9.14399922e-02  1.48545001e-02  1.73015013e-01  2.45295018e-01\n",
      "  2.36412495e-01  1.51691005e-01 -6.30199909e-02  2.67812014e-01\n",
      " -1.31286001e+00 -7.58474991e-02  1.29823506e-01 -1.51231751e-01\n",
      " -8.19625035e-02  1.39788002e-01 -1.48047015e-01  6.38692454e-02\n",
      "  2.33854756e-01 -9.88075137e-03  1.93658501e-01  2.27525085e-03\n",
      "  4.02045511e-02 -4.90897447e-02 -3.33292484e-01 -2.25562245e-01\n",
      " -2.13249400e-03 -1.25110000e-01 -2.07584769e-01 -8.20675045e-02\n",
      " -3.08577478e-01  2.42340490e-01  1.01082012e-01  1.69142485e-02\n",
      " -2.96225518e-01 -2.39765748e-01 -2.06788242e-01 -2.19947502e-01\n",
      "  1.32491991e-01  2.83937510e-02 -2.12792531e-02  2.11183250e-01\n",
      "  7.47520030e-02  5.15667535e-02 -2.79584527e-01  5.96700013e-02\n",
      " -1.40897244e-01 -7.72149861e-03  9.76998210e-02 -2.29924992e-01\n",
      " -3.91512439e-02 -2.62144983e-01 -9.46324915e-02 -1.49488509e-01\n",
      " -4.47402522e-02  4.87175062e-02 -1.00491997e-02 -1.57508999e-01\n",
      "  1.83425248e-01 -7.38234967e-02 -5.53542078e-02  3.62554997e-01\n",
      "  6.00774996e-02 -3.51069048e-02 -2.12482512e-02 -5.44437282e-02\n",
      "  5.77000529e-03 -4.17417213e-02 -2.30720505e-01  3.05450335e-03\n",
      " -2.60736495e-01  9.90725309e-03  1.44257501e-01  1.58988327e-01\n",
      "  3.12480003e-01 -4.21992540e-02  1.47941500e-01 -2.60480493e-03\n",
      " -1.18254803e-01  3.76944989e-02  8.56549889e-02  2.98762500e-01\n",
      " -1.82907507e-01 -5.01237512e-01 -3.22812736e-01 -1.04721501e-01\n",
      " -2.11069018e-01 -1.58998221e-01 -1.63172990e-01 -1.53411508e-01\n",
      " -4.72389996e-01 -2.52688266e-02  6.80677444e-02 -3.47925007e-01\n",
      "  1.00139998e-01  3.17759998e-02 -2.02882513e-02  2.72649899e-02\n",
      "  2.80047543e-02  6.36423454e-02 -2.32529998e-01  1.78696245e-01\n",
      " -4.16299030e-02 -6.78092465e-02 -1.87866479e-01 -3.47625017e-01\n",
      "  5.43992445e-02 -1.05034754e-01  3.68332490e-02  2.01451257e-01\n",
      " -2.68060744e-01 -7.03077465e-02 -3.46807480e-01  1.18331507e-01\n",
      "  3.82332467e-02 -1.15444995e-01 -9.92614999e-02 -4.42850590e-03\n",
      " -3.42225015e-01  3.17104995e-01 -1.48628756e-01 -6.13242462e-02\n",
      " -8.43070000e-02  1.16139993e-01  1.61483496e-01  1.70949996e-01\n",
      "  1.95979327e-01  2.56112486e-01 -2.15889998e-02 -2.78974995e-02\n",
      "  2.59169757e-01  1.79182500e-01 -2.46662006e-01  1.68815508e-01\n",
      " -3.45774740e-03  2.30412483e-01 -1.22785002e-01  2.36632437e-01\n",
      " -4.52876002e-01 -3.92082512e-01 -2.01881751e-01 -1.27992496e-01\n",
      "  2.75517516e-02  5.54060042e-02 -3.12609941e-01  1.01338752e-01\n",
      "  1.83728248e-01  4.08405006e-01  1.23905048e-01  4.37955022e-01\n",
      "  2.54640013e-01 -6.01055101e-02 -2.90097505e-01  7.99837485e-02\n",
      "  6.81065023e-02  6.80774972e-02  1.45408496e-01 -1.65033251e-01\n",
      " -6.48526996e-02 -1.71237499e-01 -5.75472489e-02 -4.43175063e-03\n",
      "  2.72267759e-01 -2.11504504e-01 -2.87027508e-01  3.25110495e-01\n",
      " -4.72727492e-02 -3.86672527e-01  2.08224997e-01  1.24032997e-01]\n"
     ]
    }
   ],
   "source": [
    "# Process a text\n",
    "nlp = spacy.load('en_core_web_lg')\n",
    "\n",
    "doc = nlp(\"Two bananas in pyjamas\")\n",
    "\n",
    "# Get the vector for the token \"bananas\"\n",
    "bananas_vector = doc.vector\n",
    "print(bananas_vector)"
   ]
  },
  {
   "cell_type": "code",
<<<<<<< HEAD
   "execution_count": 60,
=======
   "execution_count": 66,
>>>>>>> 69e847c7c406c8aa7f2f0cfa29bc02ed60834a4f
   "metadata": {},
   "outputs": [
    {
     "data": {
      "text/plain": [
       "300"
      ]
     },
<<<<<<< HEAD
     "execution_count": 60,
=======
     "execution_count": 66,
>>>>>>> 69e847c7c406c8aa7f2f0cfa29bc02ed60834a4f
     "metadata": {},
     "output_type": "execute_result"
    }
   ],
   "source": [
    "len(bananas_vector)"
   ]
  },
  {
   "cell_type": "code",
<<<<<<< HEAD
   "execution_count": 61,
=======
   "execution_count": 67,
>>>>>>> 69e847c7c406c8aa7f2f0cfa29bc02ed60834a4f
   "metadata": {},
   "outputs": [
    {
     "name": "stdout",
     "output_type": "stream",
     "text": [
      "0.6325916466756616\n"
     ]
    }
   ],
   "source": [
    "doc1 = nlp(\"It's a warm summer day\")\n",
    "doc2 = nlp(\"I like dogs.\")\n",
    "\n",
    "# Get the similarity of doc1 and doc2\n",
    "similarity = doc1.similarity(doc2)\n",
    "print(similarity)"
   ]
  },
  {
   "cell_type": "code",
<<<<<<< HEAD
   "execution_count": 62,
=======
   "execution_count": 68,
>>>>>>> 69e847c7c406c8aa7f2f0cfa29bc02ed60834a4f
   "metadata": {},
   "outputs": [
    {
     "data": {
      "text/plain": [
<<<<<<< HEAD
       "array([[ 5.27885615,  0.07698689],\n",
       "       [ 4.81705002,  0.27387262],\n",
       "       [ 4.01423463,  1.37655216],\n",
       "       [ 2.64332013, -1.1657178 ],\n",
       "       [-1.45962964, -1.17455184],\n",
       "       [-1.97181437, -0.69095209],\n",
       "       [-2.12312603, -1.59304033],\n",
       "       [-1.75702328, -3.38287298],\n",
       "       [-1.43389689, -2.72922598],\n",
       "       [-1.66540656, -2.5924259 ],\n",
       "       [ 0.81866216, -0.25765513],\n",
       "       [-0.13097259,  0.37488979],\n",
       "       [-2.04231537,  1.27703404],\n",
       "       [-2.54776416,  4.89824073],\n",
       "       [-1.6753332 ,  1.97144315],\n",
       "       [-1.47121183,  3.90834998],\n",
       "       [ 0.70637082, -0.5709273 ]])"
      ]
     },
     "execution_count": 62,
=======
       "array([[ 5.15021219, -1.02589405],\n",
       "       [ 4.68847306, -0.32752874],\n",
       "       [ 4.18183622, -1.25490821],\n",
       "       [ 2.3045236 , -0.62841121],\n",
       "       [-1.6975279 , -1.26790577],\n",
       "       [-2.19008419,  0.0674359 ],\n",
       "       [-2.41987038, -1.23168885],\n",
       "       [-2.4303113 , -2.84156896],\n",
       "       [-1.9405539 , -2.55571106],\n",
       "       [-2.16312982, -2.6337209 ],\n",
       "       [ 0.66759362,  0.42236702],\n",
       "       [-0.36687779,  4.15296085],\n",
       "       [-1.89448123,  1.39241361],\n",
       "       [-1.44081158,  2.52885279],\n",
       "       [-0.87134078,  2.86535252],\n",
       "       [ 0.42235018,  2.33795505]])"
      ]
     },
     "execution_count": 68,
>>>>>>> 69e847c7c406c8aa7f2f0cfa29bc02ed60834a4f
     "metadata": {},
     "output_type": "execute_result"
    }
   ],
   "source": [
    "# import the PCA module from sklearn\n",
    "from sklearn.decomposition import PCA\n",
    "\n",
    "def get_word_vectors(words):\n",
    "    # converts a list of words into their word vectors\n",
    "    return [nlp(word).vector for word in words]\n",
    "\n",
<<<<<<< HEAD
    "words = ['car', 'truck', 'suv', 'race', 'elves', 'dragon', 'sword', 'king', 'queen', 'prince', 'horse', 'fish' , 'lion', 'liger', 'tiger', 'lynx', 'potato']\n",
=======
    "words = ['car', 'truck', 'suv', 'race', 'elves', 'dragon', 'sword', 'king', 'queen', 'prince', 'horse', 'fish' , 'lion', 'tiger', 'lynx', 'potato']\n",
>>>>>>> 69e847c7c406c8aa7f2f0cfa29bc02ed60834a4f
    "\n",
    "# intialise pca model and tell it to project data down onto 2 dimensions\n",
    "pca = PCA(n_components=2)\n",
    "\n",
    "# fit the pca model to our 300D data, this will work out which is the best \n",
    "# way to project the data down that will best maintain the relative distances \n",
    "# between data points. It will store these intructioons on how to transform the data.\n",
    "pca.fit(get_word_vectors(words))\n",
    "\n",
    "# Tell our (fitted) pca model to transform our 300D data down onto 2D using the \n",
    "# instructions it learnt during the fit phase.\n",
    "word_vecs_2d = pca.transform(get_word_vectors(words))\n",
    "\n",
    "# let's look at our new 2D word vectors\n",
    "word_vecs_2d"
   ]
  },
  {
   "cell_type": "code",
<<<<<<< HEAD
   "execution_count": 63,
=======
   "execution_count": 69,
>>>>>>> 69e847c7c406c8aa7f2f0cfa29bc02ed60834a4f
   "metadata": {},
   "outputs": [
    {
     "data": {
<<<<<<< HEAD
      "image/png": "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\n",
=======
      "image/png": "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\n",
>>>>>>> 69e847c7c406c8aa7f2f0cfa29bc02ed60834a4f
      "text/plain": [
       "<Figure size 1440x1080 with 1 Axes>"
      ]
     },
     "metadata": {
      "needs_background": "light"
     },
     "output_type": "display_data"
    }
   ],
   "source": [
    "# create a nice big plot \n",
    "plt.figure(figsize=(20,15))\n",
    "\n",
    "# plot the scatter plot of where the words will be\n",
    "plt.scatter(word_vecs_2d[:,0], word_vecs_2d[:,1])\n",
    "\n",
    "# for each word and coordinate pair: draw the text on the plot\n",
    "for word, coord in zip(words, word_vecs_2d):\n",
    "    x, y = coord\n",
    "    plt.text(x, y, word, size= 15)\n",
    "\n",
    "# show the plot\n",
    "plt.show()"
   ]
  },
  {
   "cell_type": "markdown",
   "metadata": {},
   "source": [
    "## Follow Along\n",
    "### Extract Document Vectors\n",
    "\n",
    "Let's see how much the quality of our query will work when we try a new embedding model.\n",
    "\n",
    "Steps:\n",
    "* Extract Vectors from Each Document\n",
    "* Search using KNN\n"
   ]
  },
  {
   "cell_type": "code",
   "execution_count": 70,
   "metadata": {},
   "outputs": [],
   "source": [
    "X = [nlp(str(d)).vector for d in data]"
   ]
  },
  {
   "cell_type": "code",
   "execution_count": 72,
   "metadata": {},
   "outputs": [
    {
     "data": {
      "text/plain": [
       "(401, 300)"
      ]
     },
     "execution_count": 72,
     "metadata": {},
     "output_type": "execute_result"
    }
   ],
   "source": [
    "pd.DataFrame(X).shape"
   ]
  },
  {
   "cell_type": "markdown",
   "metadata": {},
   "source": [
    "## Challenge\n",
    "\n",
    "You will extract word embeddings from documents using Spacy's pre-trained model in the upcoming module project. "
   ]
  },
  {
   "cell_type": "markdown",
   "metadata": {},
   "source": [
    "# Review\n",
    "For your module project assignment you will create vector representations of indeed.com Data Science job listings. You will then estimate a similarity model to perform searches for job descriptions. Get started with your [module project here](./LS_DS_412_Vector_Representations_Assignment.ipynb)"
   ]
  },
  {
   "cell_type": "markdown",
   "metadata": {},
   "source": [
    "# Sources\n",
    "\n",
    "* Spacy 101 - https://course.spacy.io\n",
    "* NLTK Book - https://www.nltk.org/book/\n",
    "* An Introduction to Information Retrieval - https://nlp.stanford.edu/IR-book/pdf/irbookonlinereading.pdf"
   ]
  }
 ],
 "metadata": {
  "kernelspec": {
<<<<<<< HEAD
   "display_name": "U4-S1-NLP (Python3)",
   "language": "python",
   "name": "u4-s1-nlp"
=======
   "display_name": "U4S1DS10 (Python 3.7)",
   "language": "python",
   "name": "u4-s1-nlp-ds10"
>>>>>>> 69e847c7c406c8aa7f2f0cfa29bc02ed60834a4f
  },
  "language_info": {
   "codemirror_mode": {
    "name": "ipython",
    "version": 3
   },
   "file_extension": ".py",
   "mimetype": "text/x-python",
   "name": "python",
   "nbconvert_exporter": "python",
   "pygments_lexer": "ipython3",
<<<<<<< HEAD
   "version": "3.8.0"
=======
   "version": "3.7.0"
>>>>>>> 69e847c7c406c8aa7f2f0cfa29bc02ed60834a4f
  }
 },
 "nbformat": 4,
 "nbformat_minor": 4
}
