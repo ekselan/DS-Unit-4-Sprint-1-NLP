{
 "cells": [
  {
   "cell_type": "markdown",
   "metadata": {},
   "source": [
    "<img align=\"left\" src=\"https://lever-client-logos.s3.amazonaws.com/864372b1-534c-480e-acd5-9711f850815c-1524247202159.png\" width=200>\n",
    "<br></br>\n",
    "<br></br>\n",
    "\n",
    "# Topic Modeling\n",
    "## *Data Science Unit 4 Sprint 1 Assignment 4*\n",
    "\n",
    "Analyze a corpus of Amazon reviews from Unit 4 Sprint 1 Module 1's lecture using topic modeling: \n",
    "\n",
    "- Fit a Gensim LDA topic model on Amazon Reviews\n",
    "- Select appropriate number of topics\n",
    "- Create some dope visualization of the topics\n",
    "- Write a few bullets on your findings in markdown at the end\n",
    "- **Note**: You don't *have* to use generators for this assignment"
   ]
  },
  {
   "cell_type": "code",
   "execution_count": 1,
   "metadata": {},
   "outputs": [
    {
     "name": "stdout",
     "output_type": "stream",
     "text": [
      "(28332, 24)\n"
     ]
    },
    {
     "data": {
      "text/html": [
       "<div>\n",
       "<style scoped>\n",
       "    .dataframe tbody tr th:only-of-type {\n",
       "        vertical-align: middle;\n",
       "    }\n",
       "\n",
       "    .dataframe tbody tr th {\n",
       "        vertical-align: top;\n",
       "    }\n",
       "\n",
       "    .dataframe thead th {\n",
       "        text-align: right;\n",
       "    }\n",
       "</style>\n",
       "<table border=\"1\" class=\"dataframe\">\n",
       "  <thead>\n",
       "    <tr style=\"text-align: right;\">\n",
       "      <th></th>\n",
       "      <th>id</th>\n",
       "      <th>dateAdded</th>\n",
       "      <th>dateUpdated</th>\n",
       "      <th>name</th>\n",
       "      <th>asins</th>\n",
       "      <th>brand</th>\n",
       "      <th>categories</th>\n",
       "      <th>primaryCategories</th>\n",
       "      <th>imageURLs</th>\n",
       "      <th>keys</th>\n",
       "      <th>...</th>\n",
       "      <th>reviews.didPurchase</th>\n",
       "      <th>reviews.doRecommend</th>\n",
       "      <th>reviews.id</th>\n",
       "      <th>reviews.numHelpful</th>\n",
       "      <th>reviews.rating</th>\n",
       "      <th>reviews.sourceURLs</th>\n",
       "      <th>reviews.text</th>\n",
       "      <th>reviews.title</th>\n",
       "      <th>reviews.username</th>\n",
       "      <th>sourceURLs</th>\n",
       "    </tr>\n",
       "  </thead>\n",
       "  <tbody>\n",
       "    <tr>\n",
       "      <th>0</th>\n",
       "      <td>AVpgNzjwLJeJML43Kpxn</td>\n",
       "      <td>2015-10-30T08:59:32Z</td>\n",
       "      <td>2019-04-25T09:08:16Z</td>\n",
       "      <td>AmazonBasics AAA Performance Alkaline Batterie...</td>\n",
       "      <td>B00QWO9P0O,B00LH3DMUO</td>\n",
       "      <td>Amazonbasics</td>\n",
       "      <td>AA,AAA,Health,Electronics,Health &amp; Household,C...</td>\n",
       "      <td>Health &amp; Beauty</td>\n",
       "      <td>https://images-na.ssl-images-amazon.com/images...</td>\n",
       "      <td>amazonbasics/hl002619,amazonbasicsaaaperforman...</td>\n",
       "      <td>...</td>\n",
       "      <td>NaN</td>\n",
       "      <td>NaN</td>\n",
       "      <td>NaN</td>\n",
       "      <td>NaN</td>\n",
       "      <td>3</td>\n",
       "      <td>https://www.amazon.com/product-reviews/B00QWO9...</td>\n",
       "      <td>I order 3 of them and one of the item is bad q...</td>\n",
       "      <td>... 3 of them and one of the item is bad quali...</td>\n",
       "      <td>Byger yang</td>\n",
       "      <td>https://www.barcodable.com/upc/841710106442,ht...</td>\n",
       "    </tr>\n",
       "    <tr>\n",
       "      <th>1</th>\n",
       "      <td>AVpgNzjwLJeJML43Kpxn</td>\n",
       "      <td>2015-10-30T08:59:32Z</td>\n",
       "      <td>2019-04-25T09:08:16Z</td>\n",
       "      <td>AmazonBasics AAA Performance Alkaline Batterie...</td>\n",
       "      <td>B00QWO9P0O,B00LH3DMUO</td>\n",
       "      <td>Amazonbasics</td>\n",
       "      <td>AA,AAA,Health,Electronics,Health &amp; Household,C...</td>\n",
       "      <td>Health &amp; Beauty</td>\n",
       "      <td>https://images-na.ssl-images-amazon.com/images...</td>\n",
       "      <td>amazonbasics/hl002619,amazonbasicsaaaperforman...</td>\n",
       "      <td>...</td>\n",
       "      <td>NaN</td>\n",
       "      <td>NaN</td>\n",
       "      <td>NaN</td>\n",
       "      <td>NaN</td>\n",
       "      <td>4</td>\n",
       "      <td>https://www.amazon.com/product-reviews/B00QWO9...</td>\n",
       "      <td>Bulk is always the less expensive way to go fo...</td>\n",
       "      <td>... always the less expensive way to go for pr...</td>\n",
       "      <td>ByMG</td>\n",
       "      <td>https://www.barcodable.com/upc/841710106442,ht...</td>\n",
       "    </tr>\n",
       "    <tr>\n",
       "      <th>2</th>\n",
       "      <td>AVpgNzjwLJeJML43Kpxn</td>\n",
       "      <td>2015-10-30T08:59:32Z</td>\n",
       "      <td>2019-04-25T09:08:16Z</td>\n",
       "      <td>AmazonBasics AAA Performance Alkaline Batterie...</td>\n",
       "      <td>B00QWO9P0O,B00LH3DMUO</td>\n",
       "      <td>Amazonbasics</td>\n",
       "      <td>AA,AAA,Health,Electronics,Health &amp; Household,C...</td>\n",
       "      <td>Health &amp; Beauty</td>\n",
       "      <td>https://images-na.ssl-images-amazon.com/images...</td>\n",
       "      <td>amazonbasics/hl002619,amazonbasicsaaaperforman...</td>\n",
       "      <td>...</td>\n",
       "      <td>NaN</td>\n",
       "      <td>NaN</td>\n",
       "      <td>NaN</td>\n",
       "      <td>NaN</td>\n",
       "      <td>5</td>\n",
       "      <td>https://www.amazon.com/product-reviews/B00QWO9...</td>\n",
       "      <td>Well they are not Duracell but for the price i...</td>\n",
       "      <td>... are not Duracell but for the price i am ha...</td>\n",
       "      <td>BySharon Lambert</td>\n",
       "      <td>https://www.barcodable.com/upc/841710106442,ht...</td>\n",
       "    </tr>\n",
       "    <tr>\n",
       "      <th>3</th>\n",
       "      <td>AVpgNzjwLJeJML43Kpxn</td>\n",
       "      <td>2015-10-30T08:59:32Z</td>\n",
       "      <td>2019-04-25T09:08:16Z</td>\n",
       "      <td>AmazonBasics AAA Performance Alkaline Batterie...</td>\n",
       "      <td>B00QWO9P0O,B00LH3DMUO</td>\n",
       "      <td>Amazonbasics</td>\n",
       "      <td>AA,AAA,Health,Electronics,Health &amp; Household,C...</td>\n",
       "      <td>Health &amp; Beauty</td>\n",
       "      <td>https://images-na.ssl-images-amazon.com/images...</td>\n",
       "      <td>amazonbasics/hl002619,amazonbasicsaaaperforman...</td>\n",
       "      <td>...</td>\n",
       "      <td>NaN</td>\n",
       "      <td>NaN</td>\n",
       "      <td>NaN</td>\n",
       "      <td>NaN</td>\n",
       "      <td>5</td>\n",
       "      <td>https://www.amazon.com/product-reviews/B00QWO9...</td>\n",
       "      <td>Seem to work as well as name brand batteries a...</td>\n",
       "      <td>... as well as name brand batteries at a much ...</td>\n",
       "      <td>Bymark sexson</td>\n",
       "      <td>https://www.barcodable.com/upc/841710106442,ht...</td>\n",
       "    </tr>\n",
       "    <tr>\n",
       "      <th>4</th>\n",
       "      <td>AVpgNzjwLJeJML43Kpxn</td>\n",
       "      <td>2015-10-30T08:59:32Z</td>\n",
       "      <td>2019-04-25T09:08:16Z</td>\n",
       "      <td>AmazonBasics AAA Performance Alkaline Batterie...</td>\n",
       "      <td>B00QWO9P0O,B00LH3DMUO</td>\n",
       "      <td>Amazonbasics</td>\n",
       "      <td>AA,AAA,Health,Electronics,Health &amp; Household,C...</td>\n",
       "      <td>Health &amp; Beauty</td>\n",
       "      <td>https://images-na.ssl-images-amazon.com/images...</td>\n",
       "      <td>amazonbasics/hl002619,amazonbasicsaaaperforman...</td>\n",
       "      <td>...</td>\n",
       "      <td>NaN</td>\n",
       "      <td>NaN</td>\n",
       "      <td>NaN</td>\n",
       "      <td>NaN</td>\n",
       "      <td>5</td>\n",
       "      <td>https://www.amazon.com/product-reviews/B00QWO9...</td>\n",
       "      <td>These batteries are very long lasting the pric...</td>\n",
       "      <td>... batteries are very long lasting the price ...</td>\n",
       "      <td>Bylinda</td>\n",
       "      <td>https://www.barcodable.com/upc/841710106442,ht...</td>\n",
       "    </tr>\n",
       "  </tbody>\n",
       "</table>\n",
       "<p>5 rows × 24 columns</p>\n",
       "</div>"
      ],
      "text/plain": [
       "                     id             dateAdded           dateUpdated  \\\n",
       "0  AVpgNzjwLJeJML43Kpxn  2015-10-30T08:59:32Z  2019-04-25T09:08:16Z   \n",
       "1  AVpgNzjwLJeJML43Kpxn  2015-10-30T08:59:32Z  2019-04-25T09:08:16Z   \n",
       "2  AVpgNzjwLJeJML43Kpxn  2015-10-30T08:59:32Z  2019-04-25T09:08:16Z   \n",
       "3  AVpgNzjwLJeJML43Kpxn  2015-10-30T08:59:32Z  2019-04-25T09:08:16Z   \n",
       "4  AVpgNzjwLJeJML43Kpxn  2015-10-30T08:59:32Z  2019-04-25T09:08:16Z   \n",
       "\n",
       "                                                name                  asins  \\\n",
       "0  AmazonBasics AAA Performance Alkaline Batterie...  B00QWO9P0O,B00LH3DMUO   \n",
       "1  AmazonBasics AAA Performance Alkaline Batterie...  B00QWO9P0O,B00LH3DMUO   \n",
       "2  AmazonBasics AAA Performance Alkaline Batterie...  B00QWO9P0O,B00LH3DMUO   \n",
       "3  AmazonBasics AAA Performance Alkaline Batterie...  B00QWO9P0O,B00LH3DMUO   \n",
       "4  AmazonBasics AAA Performance Alkaline Batterie...  B00QWO9P0O,B00LH3DMUO   \n",
       "\n",
       "          brand                                         categories  \\\n",
       "0  Amazonbasics  AA,AAA,Health,Electronics,Health & Household,C...   \n",
       "1  Amazonbasics  AA,AAA,Health,Electronics,Health & Household,C...   \n",
       "2  Amazonbasics  AA,AAA,Health,Electronics,Health & Household,C...   \n",
       "3  Amazonbasics  AA,AAA,Health,Electronics,Health & Household,C...   \n",
       "4  Amazonbasics  AA,AAA,Health,Electronics,Health & Household,C...   \n",
       "\n",
       "  primaryCategories                                          imageURLs  \\\n",
       "0   Health & Beauty  https://images-na.ssl-images-amazon.com/images...   \n",
       "1   Health & Beauty  https://images-na.ssl-images-amazon.com/images...   \n",
       "2   Health & Beauty  https://images-na.ssl-images-amazon.com/images...   \n",
       "3   Health & Beauty  https://images-na.ssl-images-amazon.com/images...   \n",
       "4   Health & Beauty  https://images-na.ssl-images-amazon.com/images...   \n",
       "\n",
       "                                                keys  ... reviews.didPurchase  \\\n",
       "0  amazonbasics/hl002619,amazonbasicsaaaperforman...  ...                 NaN   \n",
       "1  amazonbasics/hl002619,amazonbasicsaaaperforman...  ...                 NaN   \n",
       "2  amazonbasics/hl002619,amazonbasicsaaaperforman...  ...                 NaN   \n",
       "3  amazonbasics/hl002619,amazonbasicsaaaperforman...  ...                 NaN   \n",
       "4  amazonbasics/hl002619,amazonbasicsaaaperforman...  ...                 NaN   \n",
       "\n",
       "  reviews.doRecommend reviews.id reviews.numHelpful reviews.rating  \\\n",
       "0                 NaN        NaN                NaN              3   \n",
       "1                 NaN        NaN                NaN              4   \n",
       "2                 NaN        NaN                NaN              5   \n",
       "3                 NaN        NaN                NaN              5   \n",
       "4                 NaN        NaN                NaN              5   \n",
       "\n",
       "                                  reviews.sourceURLs  \\\n",
       "0  https://www.amazon.com/product-reviews/B00QWO9...   \n",
       "1  https://www.amazon.com/product-reviews/B00QWO9...   \n",
       "2  https://www.amazon.com/product-reviews/B00QWO9...   \n",
       "3  https://www.amazon.com/product-reviews/B00QWO9...   \n",
       "4  https://www.amazon.com/product-reviews/B00QWO9...   \n",
       "\n",
       "                                        reviews.text  \\\n",
       "0  I order 3 of them and one of the item is bad q...   \n",
       "1  Bulk is always the less expensive way to go fo...   \n",
       "2  Well they are not Duracell but for the price i...   \n",
       "3  Seem to work as well as name brand batteries a...   \n",
       "4  These batteries are very long lasting the pric...   \n",
       "\n",
       "                                       reviews.title  reviews.username  \\\n",
       "0  ... 3 of them and one of the item is bad quali...        Byger yang   \n",
       "1  ... always the less expensive way to go for pr...              ByMG   \n",
       "2  ... are not Duracell but for the price i am ha...  BySharon Lambert   \n",
       "3  ... as well as name brand batteries at a much ...     Bymark sexson   \n",
       "4  ... batteries are very long lasting the price ...           Bylinda   \n",
       "\n",
       "                                          sourceURLs  \n",
       "0  https://www.barcodable.com/upc/841710106442,ht...  \n",
       "1  https://www.barcodable.com/upc/841710106442,ht...  \n",
       "2  https://www.barcodable.com/upc/841710106442,ht...  \n",
       "3  https://www.barcodable.com/upc/841710106442,ht...  \n",
       "4  https://www.barcodable.com/upc/841710106442,ht...  \n",
       "\n",
       "[5 rows x 24 columns]"
      ]
     },
     "execution_count": 1,
     "metadata": {},
     "output_type": "execute_result"
    }
   ],
   "source": [
    "#Start Here\n",
    "\n",
    "import pandas as pd\n",
    "\n",
    "PATH = \"/Users/ekselan/Desktop/LAMBDA/Datafiniti_Amazon_Consumer_Reviews_of_Amazon_Products_May19.csv\"\n",
    "reviews = pd.read_csv(PATH)\n",
    "print(reviews.shape)\n",
    "reviews.head()"
   ]
  },
  {
   "cell_type": "code",
   "execution_count": 4,
   "metadata": {},
   "outputs": [
    {
     "data": {
      "text/plain": [
       "amazon          16153\n",
       "amazonbasics    12179\n",
       "Name: brand, dtype: int64"
      ]
     },
     "execution_count": 4,
     "metadata": {},
     "output_type": "execute_result"
    }
   ],
   "source": [
    "df = reviews.copy()\n",
    "df['brand'] = df['brand'].apply(lambda x: x.lower())\n",
    "df['brand'].value_counts()"
   ]
  },
  {
   "cell_type": "code",
   "execution_count": 6,
   "metadata": {},
   "outputs": [
    {
     "data": {
      "text/plain": [
       "\"As a teacher, I need tons of batteries, but I refused to spend excessive amounts on them, so I figured this was the best option! They are long-lasting, worth the money, cute (if that even matters, lol)! You won't find a deal like this in stores!I highly recommend!\""
      ]
     },
     "execution_count": 6,
     "metadata": {},
     "output_type": "execute_result"
    }
   ],
   "source": [
    "df['reviews.text'][100]"
   ]
  },
  {
   "cell_type": "markdown",
   "metadata": {},
   "source": [
    "## Tokenization"
   ]
  },
  {
   "cell_type": "code",
   "execution_count": 7,
   "metadata": {},
   "outputs": [],
   "source": [
    "import spacy\n",
    "\n",
    "nlp = spacy.load(\"en_core_web_lg\")"
   ]
  },
  {
   "cell_type": "code",
   "execution_count": 90,
   "metadata": {},
   "outputs": [],
   "source": [
    "samp = df.sample(100)"
   ]
  },
  {
   "cell_type": "code",
   "execution_count": 89,
   "metadata": {},
   "outputs": [],
   "source": [
    "# Add stop words\n",
    "\n",
    "STOP_WORDS = nlp.Defaults.stop_words.union([\"Amazon\",\n",
    "                                            \"Christmas\",\n",
    "                                            \"Kindle\",\n",
    "                                            \"fire\",\n",
    "                                            \"tablet\",\n",
    "                                            \"device\",\n",
    "                                            \"battery\",\n",
    "                                            \"Fire\"])"
   ]
  },
  {
   "cell_type": "code",
   "execution_count": 95,
   "metadata": {},
   "outputs": [],
   "source": [
    "## Use Lemmas as our tokens\n",
    "\n",
    "tokens = []\n",
    "\n",
    "for doc in nlp.pipe(df['reviews.text']):\n",
    "    \n",
    "    doc_tokens = []\n",
    "    \n",
    "    for token in doc:\n",
    "        if (token.is_stop == False) & (token.is_punct == False) & (token.pos != 'PRON') & (token not in STOP_WORDS):\n",
    "            doc_tokens.append(token.lemma_.strip())\n",
    "            \n",
    "    tokens.append(doc_tokens)"
   ]
  },
  {
   "cell_type": "code",
   "execution_count": 96,
   "metadata": {},
   "outputs": [
    {
     "data": {
      "text/plain": [
       "True"
      ]
     },
     "execution_count": 96,
     "metadata": {},
     "output_type": "execute_result"
    }
   ],
   "source": [
    "# Confirmation that shape is correct\n",
    "\n",
    "len(tokens) == df.shape[0]"
   ]
  },
  {
   "cell_type": "markdown",
   "metadata": {},
   "source": [
    "## Gensim LDA Topic Modeling"
   ]
  },
  {
   "cell_type": "code",
   "execution_count": 98,
   "metadata": {},
   "outputs": [],
   "source": [
    "import gensim\n",
    "\n",
    "from gensim import corpora\n",
    "from gensim.models.ldamulticore import LdaMulticore"
   ]
  },
  {
   "cell_type": "code",
   "execution_count": 99,
   "metadata": {},
   "outputs": [],
   "source": [
    "id2word = corpora.Dictionary(tokens)"
   ]
  },
  {
   "cell_type": "code",
   "execution_count": 100,
   "metadata": {},
   "outputs": [
    {
     "data": {
      "text/plain": [
       "9727"
      ]
     },
     "execution_count": 100,
     "metadata": {},
     "output_type": "execute_result"
    }
   ],
   "source": [
    "len(id2word.keys())"
   ]
  },
  {
   "cell_type": "code",
   "execution_count": 101,
   "metadata": {},
   "outputs": [],
   "source": [
    "id2word.filter_extremes(no_below=5, no_above=.95)"
   ]
  },
  {
   "cell_type": "code",
   "execution_count": 102,
   "metadata": {},
   "outputs": [
    {
     "data": {
      "text/plain": [
       "3087"
      ]
     },
     "execution_count": 102,
     "metadata": {},
     "output_type": "execute_result"
    }
   ],
   "source": [
    "len(id2word.keys())"
   ]
  },
  {
   "cell_type": "code",
   "execution_count": 103,
   "metadata": {},
   "outputs": [],
   "source": [
    "corpora = [id2word.doc2bow(doc) for doc in tokens]"
   ]
  },
  {
   "cell_type": "code",
   "execution_count": 104,
   "metadata": {},
   "outputs": [],
   "source": [
    "lda = LdaMulticore(corpus=corpora, # stream of document vectors\n",
    "                   id2word=id2word, # mapping from IDs to words, used to determine vocab size\n",
    "                   num_topics=15, # n_requested latent topics to be extracted from training corpus\n",
    "                   passes=100,\n",
    "                   workers=5) # If none, all avail cores are used. Optimal:set to real n of cores -1\n",
    "\n",
    "\n"
   ]
  },
  {
   "cell_type": "code",
   "execution_count": 105,
   "metadata": {},
   "outputs": [
    {
     "data": {
      "text/plain": [
       "[(0,\n",
       "  '0.065*\"tablet\" + 0.039*\"Amazon\" + 0.024*\"app\" + 0.019*\"Fire\" + 0.016*\"$\" + 0.016*\"price\" + 0.015*\"good\" + 0.012*\"buy\" + 0.012*\"work\" + 0.011*\"iPad\"'),\n",
       " (1,\n",
       "  '0.105*\"product\" + 0.069*\"excellent\" + 0.051*\"good\" + 0.040*\"user\" + 0.039*\"time\" + 0.027*\"friendly\" + 0.020*\"buy\" + 0.016*\"exactly\" + 0.016*\"need\" + 0.015*\"describe\"'),\n",
       " (2,\n",
       "  '0.156*\"battery\" + 0.058*\"long\" + 0.057*\"brand\" + 0.030*\"buy\" + 0.025*\"good\" + 0.023*\"price\" + 0.020*\"work\" + 0.019*\"cheap\" + 0.017*\"life\" + 0.015*\"time\"'),\n",
       " (3,\n",
       "  '0.212*\"great\" + 0.153*\"price\" + 0.141*\"good\" + 0.097*\"work\" + 0.051*\"battery\" + 0.037*\"value\" + 0.033*\"quality\" + 0.030*\"deal\" + 0.027*\"product\" + 0.019*\"far\"'),\n",
       " (4,\n",
       "  '0.136*\"old\" + 0.123*\"year\" + 0.050*\"love\" + 0.041*\"buy\" + 0.036*\"2\" + 0.029*\"3\" + 0.024*\"tablet\" + 0.022*\"5\" + 0.021*\"4\" + 0.020*\"get\"'),\n",
       " (5,\n",
       "  '0.069*\"battery\" + 0.022*\"charge\" + 0.020*\"work\" + 0.017*\"use\" + 0.015*\"day\" + 0.013*\"week\" + 0.012*\"buy\" + 0.012*\"remote\" + 0.011*\"time\" + 0.011*\"month\"'),\n",
       " (6,\n",
       "  '0.153*\"tablet\" + 0.058*\"kid\" + 0.051*\"great\" + 0.040*\"good\" + 0.040*\"perfect\" + 0.038*\"nice\" + 0.031*\"need\" + 0.031*\"little\" + 0.019*\"size\" + 0.018*\"pretty\"'),\n",
       " (7,\n",
       "  '0.064*\"Amazon\" + 0.046*\"come\" + 0.030*\"box\" + 0.030*\"thank\" + 0.028*\"package\" + 0.026*\"order\" + 0.025*\"not\" + 0.017*\"packaging\" + 0.016*\"store\" + 0.014*\"product\"'),\n",
       " (8,\n",
       "  '0.048*\"tablet\" + 0.031*\"use\" + 0.030*\"great\" + 0.025*\"storage\" + 0.024*\"internet\" + 0.024*\"memory\" + 0.024*\"card\" + 0.022*\"good\" + 0.022*\"picture\" + 0.020*\"email\"'),\n",
       " (9,\n",
       "  '0.085*\"gift\" + 0.073*\"love\" + 0.072*\"great\" + 0.070*\"buy\" + 0.067*\"recommend\" + 0.060*\"purchase\" + 0.048*\"Christmas\" + 0.046*\"happy\" + 0.028*\"product\" + 0.025*\"highly\"'),\n",
       " (10,\n",
       "  '0.071*\"read\" + 0.057*\"book\" + 0.039*\"light\" + 0.036*\"easy\" + 0.033*\"Kindle\" + 0.027*\"reader\" + 0.016*\"like\" + 0.016*\"size\" + 0.016*\"use\" + 0.015*\"screen\"'),\n",
       " (11,\n",
       "  '0.062*\"kindle\" + 0.054*\"Kindle\" + 0.049*\"love\" + 0.043*\"fire\" + 0.042*\"new\" + 0.037*\"Fire\" + 0.037*\"screen\" + 0.026*\"wife\" + 0.026*\"buy\" + 0.022*\"8\"'),\n",
       " (12,\n",
       "  '0.057*\"game\" + 0.046*\"kid\" + 0.044*\"app\" + 0.041*\"play\" + 0.035*\"great\" + 0.029*\"tablet\" + 0.028*\"love\" + 0.027*\"watch\" + 0.022*\"movie\" + 0.022*\"download\"'),\n",
       " (13,\n",
       "  '0.025*\"device\" + 0.022*\"sound\" + 0.018*\"screen\" + 0.018*\"Amazon\" + 0.017*\"speaker\" + 0.016*\"Alexa\" + 0.013*\"music\" + 0.011*\"button\" + 0.011*\"use\" + 0.011*\"tap\"'),\n",
       " (14,\n",
       "  '0.122*\"use\" + 0.117*\"love\" + 0.117*\"easy\" + 0.052*\"tablet\" + 0.038*\"buy\" + 0.036*\"daughter\" + 0.022*\"set\" + 0.021*\"son\" + 0.014*\"granddaughter\" + 0.013*\"learn\"')]"
      ]
     },
     "execution_count": 105,
     "metadata": {},
     "output_type": "execute_result"
    }
   ],
   "source": [
    "lda.print_topics()"
   ]
  },
  {
   "cell_type": "code",
   "execution_count": 106,
   "metadata": {},
   "outputs": [],
   "source": [
    "import re\n",
    "words = [re.findall('\"([^\"]*)\"',t[1]) for t in lda.print_topics()]\n",
    "topics = [' '.join(t[0:5]) for t in words]"
   ]
  },
  {
   "cell_type": "code",
   "execution_count": 108,
   "metadata": {},
   "outputs": [
    {
     "name": "stdout",
     "output_type": "stream",
     "text": [
      "-----Topic 0 -----\n",
      "tablet Amazon app Fire $\n",
      "\n",
      "-----Topic 1 -----\n",
      "product excellent good user time\n",
      "\n",
      "-----Topic 2 -----\n",
      "battery long brand buy good\n",
      "\n",
      "-----Topic 3 -----\n",
      "great price good work battery\n",
      "\n",
      "-----Topic 4 -----\n",
      "old year love buy 2\n",
      "\n",
      "-----Topic 5 -----\n",
      "battery charge work use day\n",
      "\n",
      "-----Topic 6 -----\n",
      "tablet kid great good perfect\n",
      "\n",
      "-----Topic 7 -----\n",
      "Amazon come box thank package\n",
      "\n",
      "-----Topic 8 -----\n",
      "tablet use great storage internet\n",
      "\n",
      "-----Topic 9 -----\n",
      "gift love great buy recommend\n",
      "\n",
      "-----Topic 10 -----\n",
      "read book light easy Kindle\n",
      "\n",
      "-----Topic 11 -----\n",
      "kindle Kindle love fire new\n",
      "\n",
      "-----Topic 12 -----\n",
      "game kid app play great\n",
      "\n",
      "-----Topic 13 -----\n",
      "device sound screen Amazon speaker\n",
      "\n",
      "-----Topic 14 -----\n",
      "use love easy tablet buy\n",
      "\n"
     ]
    }
   ],
   "source": [
    "for id, t in enumerate(topics):\n",
    "    print(f\"-----Topic {id} -----\")\n",
    "    print(t, end=\"\\n\\n\")"
   ]
  },
  {
   "cell_type": "markdown",
   "metadata": {},
   "source": [
    "## Interpret LDA Results"
   ]
  },
  {
   "cell_type": "code",
   "execution_count": 109,
   "metadata": {},
   "outputs": [],
   "source": [
    "# Topic Distance Visualization\n",
    "\n",
    "import pyLDAvis.gensim\n",
    "\n",
    "pyLDAvis.enable_notebook()"
   ]
  },
  {
   "cell_type": "code",
   "execution_count": 110,
   "metadata": {},
   "outputs": [
    {
     "data": {
      "text/html": [
       "\n",
       "<link rel=\"stylesheet\" type=\"text/css\" href=\"https://cdn.rawgit.com/bmabey/pyLDAvis/files/ldavis.v1.0.0.css\">\n",
       "\n",
       "\n",
       "<div id=\"ldavis_el4586568178931682098578360\"></div>\n",
       "<script type=\"text/javascript\">\n",
       "\n",
       "var ldavis_el4586568178931682098578360_data = {\"mdsDat\": {\"x\": [-0.2479434917657867, -0.1481145364022136, 0.15926782492076552, -0.049578285587395514, -0.2723783987509601, 0.08991031710232587, -0.038793709429980755, 0.24718045466255503, 0.19304458014176262, 0.032519831398483336, 0.12563811976498734, 0.09281463711535438, -0.12617693735247848, 0.057113115361592234, -0.11450352117901151], \"y\": [-0.005761328766632758, -0.08715280467730041, -0.03191662874982889, -0.10845177102405525, 0.22482901886835233, -0.15493371566764463, -0.2402406982537777, 0.03806207865409732, 0.08407251025205682, 0.010283277129192496, 0.004410073400084881, 0.29348414171322706, -0.12610174003218258, -0.041227250352986286, 0.14064483750739823], \"topics\": [1, 2, 3, 4, 5, 6, 7, 8, 9, 10, 11, 12, 13, 14, 15], \"cluster\": [1, 1, 1, 1, 1, 1, 1, 1, 1, 1, 1, 1, 1, 1, 1], \"Freq\": [11.970416069030762, 10.417922019958496, 9.035160064697266, 8.295310974121094, 7.595780372619629, 6.739933013916016, 6.605787754058838, 6.228814125061035, 5.824437618255615, 5.48419713973999, 5.362783908843994, 4.415194988250732, 4.328925609588623, 4.3097028732299805, 3.3856217861175537]}, \"tinfo\": {\"Term\": [\"battery\", \"great\", \"price\", \"tablet\", \"love\", \"good\", \"old\", \"easy\", \"year\", \"use\", \"work\", \"product\", \"brand\", \"Amazon\", \"long\", \"read\", \"kid\", \"gift\", \"buy\", \"game\", \"book\", \"Kindle\", \"kindle\", \"app\", \"recommend\", \"excellent\", \"play\", \"Fire\", \"screen\", \"purchase\", \"brand\", \"lasting\", \"comparable\", \"xbox\", \"span\", \"national\", \"bunny\", \"basics\", \"alkaline\", \"longevity\", \"triple\", \"bulk\", \"lithium\", \"disposable\", \"Duracel\", \"outlast\", \"yeah\", \"bubble\", \"economical\", \"thinking\", \"Energizer\", \"9v\", \"retailer\", \"wii\", \"scientific\", \"rc\", \"AmazonBasics\", \"wedding\", \"locally\", \"Dollar\", \"toy\", \"name\", \"lantern\", \"Performance\", \"duracell\", \"long\", \"Alkaline\", \"AA\", \"equivalent\", \"major\", \"energizer\", \"Batteries\", \"controller\", \"battery\", \"Duracell\", \"cheap\", \"AAA\", \"last\", \"life\", \"Xbox\", \"rechargeable\", \"cost\", \"longer\", \"save\", \"expensive\", \"difference\", \"compare\", \"Basics\", \"well\", \"lot\", \"buy\", \"store\", \"price\", \"time\", \"good\", \"work\", \"like\", \"Amazon\", \"pack\", \"far\", \"big\", \"need\", \"purchase\", \"use\", \"quality\", \"week\", \"test\", \"mouse\", \"dead\", \"batch\", \"result\", \"junk\", \"Rayovac\", \"equipment\", \"wall\", \"acid\", \"adapter\", \"depend\", \"discharge\", \"smoke\", \"detector\", \"positive\", \"suck\", \"die\", \"red\", \"tester\", \"motion\", \"leakage\", \"scale\", \"clock\", \"awful\", \"Ray\", \"mAh\", \"slip\", \"explode\", \"drain\", \"candle\", \"leak\", \"power\", \"remote\", \"charge\", \"date\", \"wireless\", \"bad\", \"day\", \"hour\", \"month\", \"short\", \"stop\", \"flashlight\", \"minute\", \"battery\", \"try\", \"review\", \"tv\", \"go\", \"problem\", \"2\", \"replace\", \"work\", \"last\", \"quickly\", \"use\", \"device\", \"time\", \"buy\", \"purchase\", \"new\", \"long\", \"Amazon\", \"get\", \"life\", \"light\", \"playing\", \"cartoon\", \"block\", \"preloade\", \"bulky\", \"iphone\", \"proof\", \"confusing\", \"interested\", \"watch\", \"engage\", \"watching\", \"assistance\", \"interactive\", \"unwanted\", \"selection\", \"section\", \"2yr\", \"salesman\", \"net\", \"preloaded\", \"trial\", \"episode\", \"dictionary\", \"candy\", \"jealous\", \"s2\", \"alphabet\", \"AppStore\", \"instant\", \"movie\", \"unlimited\", \"game\", \"content\", \"play\", \"flight\", \"video\", \"download\", \"show\", \"entertain\", \"limit\", \"ride\", \"educational\", \"app\", \"access\", \"parental\", \"kid\", \"trip\", \"free\", \"Netflix\", \"profile\", \"control\", \"allow\", \"favorite\", \"setting\", \"plus\", \"book\", \"child\", \"lot\", \"time\", \"great\", \"love\", \"tablet\", \"son\", \"read\", \"amazon\", \"like\", \"set\", \"use\", \"thing\", \"enjoy\", \"Friday\", \"android\", \"Android\", \"Samsung\", \"HD8\", \"Black\", \"Kids\", \"OS\", \"Edition\", \"Galaxy\", \"friday\", \"Play\", \"restart\", \"ram\", \"App\", \"ecosystem\", \"Tab\", \"$\", \"viewing\", \"Nexus\", \"64\", \"offline\", \"Tablets\", \"goal\", \"buying\", \"mirror\", \"chrome\", \"limitation\", \"Mini\", \"loading\", \"Store\", \"ipad\", \"hd\", \"slow\", \"Google\", \"Apple\", \"black\", \"lag\", \"iPad\", \"responsive\", \"Fire\", \"setup\", \"Amazon\", \"mode\", \"tablet\", \"50\", \"app\", \"limited\", \"return\", \"100\", \"store\", \"google\", \"load\", \"screen\", \"price\", \"good\", \"end\", \"work\", \"8\", \"buy\", \"well\", \"device\", \"purchase\", \"get\", \"little\", \"go\", \"play\", \"cheap\", \"want\", \"use\", \"like\", \"Great\", \"Price\", \"higher\", \"reasonably\", \"wonderfully\", \"Deal\", \"deal\", \"Value\", \"batter\", \"value\", \"advertise\", \"commodity\", \"duracel\", \"Product\", \"beauty\", \"personnel\", \"remarkably\", \"39\", \"lightne\", \"Charge\", \":D\", \"shall\", \"yay\", \"batt\", \"reasonable\", \"price\", \"pricing\", \"unbeatable\", \"shipping\", \"Tree\", \"quality\", \"great\", \"work\", \"good\", \"beat\", \"expect\", \"far\", \"market\", \"fine\", \"product\", \"bargain\", \"fast\", \"point\", \"battery\", \"high\", \"delivery\", \"performance\", \"amazing\", \"money\", \"buy\", \"awesome\", \"problem\", \"low\", \"complaint\", \"nice\", \"right\", \"reader\", \"weight\", \"Voyage\", \"Oasis\", \"Paperwhite\", \"purse\", \"paperwhite\", \"pocket\", \"paper\", \"voyage\", \"backlight\", \"backpack\", \"sunlight\", \"auto\", \"background\", \"nook\", \"lighting\", \"glass\", \"instantly\", \"side\", \"Son\", \"series\", \"oasis\", \"owner\", \"eReader\", \"readable\", \"text\", \"copy\", \"enlarge\", \"dark\", \"avid\", \"adjust\", \"white\", \"light\", \"carry\", \"college\", \"read\", \"e\", \"compact\", \"original\", \"book\", \"page\", \"ebook\", \"library\", \"eye\", \"reading\", \"Kindle\", \"lightweight\", \"cover\", \"fit\", \"travel\", \"easy\", \"size\", \"small\", \"hold\", \"screen\", \"kindle\", \"like\", \"perfect\", \"use\", \"device\", \"look\", \"want\", \"good\", \"love\", \"nice\", \"sound\", \"speaker\", \"Alexa\", \"tap\", \"Echo\", \"voice\", \"Bluetooth\", \"echo\", \"Tap\", \"loud\", \"key\", \"swipe\", \"dot\", \"Dot\", \"invest\", \"stereo\", \"rid\", \"boot\", \"icon\", \"slide\", \"abuse\", \"folder\", \"leather\", \"bezel\", \"square\", \"disable\", \"wallpaper\", \"crystal\", \"killer\", \"cancel\", \"push\", \"portable\", \"answer\", \"activate\", \"button\", \"command\", \"magazine\", \"portability\", \"volume\", \"home\", \"connect\", \"bluetooth\", \"listen\", \"touch\", \"music\", \"fan\", \"turn\", \"device\", \"close\", \"ask\", \"wifi\", \"ad\", \"room\", \"screen\", \"change\", \"Amazon\", \"add\", \"app\", \"find\", \"like\", \"use\", \"issue\", \"work\", \"want\", \"thing\", \"feature\", \"quality\", \"mother\", \"christmas\", \"pink\", \"mom\", \"girlfriend\", \"pin\", \"5th\", \"Mouse\", \"ABC\", \"active\", \"homework\", \"min\", \"cousin\", \"god\", \"dish\", \"curfew\", \"preinstalle\", \"transfer\", \"insurance\", \"permission\", \"quad\", \"map\", \"novice\", \"east\", \"stepdaughter\", \"Ebooks\", \"Florida\", \"layer\", \"prefect\", \"calendar\", \"navigate\", \"grand\", \"law\", \"easy\", \"school\", \"daughter\", \"class\", \"everyday\", \"grandkid\", \"granddaughter\", \"use\", \"pic\", \"learn\", \"love\", \"drop\", \"set\", \"ease\", \"son\", \"step\", \"durable\", \"daily\", \"tablet\", \"parental\", \"simple\", \"buy\", \"enjoy\", \"control\", \"child\", \"parent\", \"case\", \"absolutely\", \"time\", \"purchase\", \"kid\", \"able\", \"old\", \"year\", \"yr\", \"Nabi\", \"delighted\", \"seven\", \"logic\", \"grandaughter\", \"xmas\", \"enter\", \"Granddaughter\", \"grandparent\", \"refer\", \"scroll\", \"responsibility\", \"department\", \"code\", \"bend\", \"transmitter\", \"tho\", \"autistic\", \"certificate\", \"Barnes\", \"airline\", \"overly\", \"83\", \"dinner\", \"yearly\", \"treat\", \"5yr\", \"9\", \"age\", \"warranty\", \"5\", \"18\", \"3\", \"2\", \"grandson\", \"6\", \"grandchild\", \"4\", \"rough\", \"complete\", \"safe\", \"crack\", \"appropriate\", \"10\", \"1\", \"boy\", \"break\", \"girl\", \"win\", \"love\", \"granddaughter\", \"son\", \"buy\", \"get\", \"durable\", \"star\", \"Christmas\", \"8\", \"tablet\", \"daughter\", \"month\", \"come\", \"charge\", \"purchase\", \"perfect\", \"kid\", \"fight\", \"indestructible\", \"bank\", \"Grandson\", \"withstand\", \"iPads\", \"strap\", \"please\", \"incredibly\", \"impress\", \"rival\", \"reward\", \"assist\", \"everytime\", \"ya\", \"alleviate\", \"equip\", \"wizard\", \"tween\", \"casing\", \"Pink\", \"padding\", \"counting\", \"implement\", \"graphic\", \"powerful\", \"God\", \"exciting\", \"secure\", \"satisfy\", \"perfect\", \"young\", \"pretty\", \"little\", \"nice\", \"adult\", \"grow\", \"tab\", \"inexpensive\", \"tablet\", \"bc\", \"definitely\", \"kid\", \"hundred\", \"need\", \"foam\", \"size\", \"case\", \"alternative\", \"child\", \"feature\", \"protective\", \"look\", \"basic\", \"want\", \"money\", \"choice\", \"great\", \"good\", \"worth\", \"feel\", \"break\", \"right\", \"expensive\", \"like\", \"thing\", \"recommend\", \"iPad\", \"lot\", \"get\", \"wife\", \"generation\", \"face\", \"teenage\", \"lap\", \"grandma\", \"gen\", \"gun\", \"model\", \"thumb\", \"direct\", \"prize\", \"pool\", \"fingertip\", \"study\", \"backlit\", \"manual\", \"investment\", \"rain\", \"annoyed\", \"7th\", \"coffee\", \"surgery\", \"broke\", \"ink\", \"raffle\", \"Fires\", \"suggestion\", \"addict\", \"bath\", \"bang\", \"inch\", \"upgrade\", \"kindle\", \"previous\", \"resolution\", \"HDX\", \"new\", \"own\", \"improvement\", \"fire\", \"faster\", \"7\", \"HD\", \"Kindle\", \"Fire\", \"version\", \"8\", \"4th\", \"screen\", \"big\", \"replace\", \"well\", \"large\", \"second\", \"love\", \"clear\", \"feature\", \"buy\", \"like\", \"size\", \"get\", \"great\", \"purchase\", \"happy\", \"think\", \"gift\", \"highly\", \"friend\", \"niece\", \"nephew\", \"knowledgeable\", \"tool\", \"cute\", \"hd8\", \"family\", \"receiver\", \"1yr\", \"recycle\", \"ample\", \"church\", \"present\", \"bestbuy\", \"viewer\", \"GREAT\", \"food\", \"sooo\", \"worm\", \"CHRISTMAS\", \"patio\", \"yrs\", \"phrase\", \"onother\", \"youngster\", \"awake\", \"dad\", \"Christmas\", \"recommend\", \"happy\", \"1st\", \"teenager\", \"rubber\", \"birthday\", \"item\", \"holiday\", \"absolutely\", \"receive\", \"purchase\", \"person\", \"glad\", \"customer\", \"husband\", \"buy\", \"love\", \"learning\", \"great\", \"give\", \"product\", \"satisfied\", \"get\", \"awesome\", \"kid\", \"grandson\", \"service\", \"thank\", \"package\", \"packaging\", \"wrap\", \"cardboard\", \"nicely\", \"shrink\", \"Basic\", \"AMAZON\", \"competitor\", \"straight\", \"frustration\", \"darn\", \"thanks\", \"fluid\", \"sweet\", \"neatly\", \"opening\", \"individually\", \"zipper\", \"hdx\", \"Webroot\", \"69\", \"Skype\", \"gripe\", \"GPS\", \"retail\", \"wrapping\", \"cat\", \"performer\", \"ship\", \"plastic\", \"not\", \"box\", \"match\", \"business\", \"Love\", \"handy\", \"seal\", \"come\", \"order\", \"open\", \"group\", \"Mom\", \"Prime\", \"wrong\", \"Amazon\", \"believe\", \"brainer\", \"convenient\", \"benefit\", \"idea\", \"extra\", \"pack\", \"prime\", \"store\", \"deliver\", \"quickly\", \"4\", \"simple\", \"make\", \"nice\", \"product\", \"need\", \"like\", \"free\", \"small\", \"easy\", \"card\", \"email\", \"surf\", \"sd\", \"SD\", \"expandable\", \"mail\", \"social\", \"128\", \"expand\", \"facebook\", \"credit\", \"browse\", \"kiddo\", \"challenge\", \"recipient\", \"entry\", \"thoroughly\", \"sufficient\", \"memory\", \"sized\", \"microsd\", \"clumsy\", \"grandmother\", \"slot\", \"space\", \"boyfriend\", \"obvious\", \"Facebook\", \"bedroom\", \"external\", \"storage\", \"web\", \"gb\", \"picture\", \"ok\", \"check\", \"internet\", \"plenty\", \"medium\", \"search\", \"laptop\", \"surfing\", \"speed\", \"16\", \"tablet\", \"use\", \"GB\", \"need\", \"great\", \"reading\", \"want\", \"good\", \"fast\", \"like\", \"game\", \"app\", \"enjoy\", \"read\", \"camera\", \"purchase\", \"excellent\", \"describe\", \"savvy\", \"exceed\", \"got\", \"versatile\", \"associate\", \"hang\", \"exactly\", \"Time\", \"Geek\", \"Squad\", \"tech\", \"introduce\", \"Bought\", \"suit\", \"user\", \"savy\", \"progress\", \"title\", \"suitable\", \"fianc\\u221a\", \"\\u00a9\", \"extreme\", \"bored\", \"mine\", \"vision\", \"PRICE\", \"cord\", \"promise\", \"serve\", \"expectation\", \"necessary\", \"quick\", \"difficulty\", \"friendly\", \"efficient\", \"amazed\", \"Buy\", \"product\", \"Mother\", \"pleased\", \"meet\", \"Best\", \"tell\", \"review\", \"sale\", \"time\", \"purpose\", \"good\", \"issue\", \"child\", \"extremely\", \"know\", \"find\", \"need\", \"buy\", \"super\", \"overall\", \"purchase\", \"free\", \"quality\", \"item\"], \"Freq\": [9456.0, 8867.0, 4991.0, 7351.0, 6118.0, 6734.0, 2522.0, 3207.0, 2281.0, 4776.0, 4357.0, 2386.0, 2160.0, 3202.0, 2586.0, 2038.0, 2869.0, 1189.0, 5665.0, 1897.0, 1825.0, 1718.0, 1394.0, 2245.0, 1218.0, 741.0, 1497.0, 1150.0, 1632.0, 2549.0, 2159.624755859375, 150.2791290283203, 103.56412506103516, 50.863807678222656, 37.46589660644531, 24.77345085144043, 23.282655715942383, 22.367069244384766, 158.05296325683594, 54.77925491333008, 20.775049209594727, 146.54925537109375, 17.895809173583984, 17.70625114440918, 15.060399055480957, 14.773202896118164, 14.756305694580078, 14.167789459228516, 35.568519592285156, 13.352564811706543, 160.1750030517578, 13.043536186218262, 13.04144287109375, 12.410341262817383, 12.127832412719727, 11.407208442687988, 269.0517272949219, 11.3046236038208, 11.297625541687012, 11.117124557495117, 433.3207702636719, 68.77245330810547, 25.780242919921875, 36.164329528808594, 100.0267562866211, 2197.71630859375, 52.1005859375, 350.4168395996094, 22.474803924560547, 105.68778228759766, 148.99896240234375, 97.16114044189453, 178.51502990722656, 5923.11279296875, 390.6223449707031, 715.4727172851562, 132.21722412109375, 466.5408630371094, 632.7858276367188, 82.8555908203125, 110.57495880126953, 294.0151062011719, 223.20103454589844, 161.13926696777344, 292.9132995605469, 185.16903686523438, 227.55880737304688, 120.441650390625, 398.8352355957031, 440.1909484863281, 1140.906982421875, 364.0958251953125, 859.3487548828125, 561.6354370117188, 965.8654174804688, 764.9588012695312, 531.6558837890625, 552.5909423828125, 213.23233032226562, 282.6206359863281, 236.2349090576172, 265.0584411621094, 280.037109375, 298.55157470703125, 223.97235107421875, 442.3321533203125, 233.6544647216797, 179.32675170898438, 176.14035034179688, 65.16316223144531, 61.01588439941406, 56.91116714477539, 46.2614860534668, 43.72865676879883, 40.743953704833984, 40.59343719482422, 38.95817565917969, 32.13840103149414, 31.506561279296875, 29.283416748046875, 28.86298942565918, 28.62203025817871, 27.440189361572266, 230.34100341796875, 25.765939712524414, 25.113866806030273, 24.4847354888916, 24.481922149658203, 24.090282440185547, 95.95301055908203, 21.608505249023438, 21.40723419189453, 21.076574325561523, 20.0800724029541, 19.43997573852539, 125.73571014404297, 122.69613647460938, 170.37413024902344, 340.3047180175781, 397.49200439453125, 723.541748046875, 75.97039794921875, 136.03785705566406, 275.23492431640625, 498.3799743652344, 288.9765930175781, 353.5484924316406, 131.44798278808594, 117.17898559570312, 122.14773559570312, 100.63204956054688, 2284.48388671875, 278.98638916015625, 192.5789031982422, 142.02267456054688, 289.0892639160156, 241.74212646484375, 307.0366516113281, 226.72744750976562, 654.4137573242188, 233.721923828125, 160.17532348632812, 550.5181274414062, 294.0491943359375, 373.4659423828125, 406.7878723144531, 253.6383819580078, 203.65252685546875, 245.56900024414062, 256.35552978515625, 215.12283325195312, 190.96435546875, 184.6092071533203, 116.5427017211914, 39.37058639526367, 30.35097885131836, 30.067537307739258, 27.20001220703125, 23.938751220703125, 53.03080368041992, 21.46058464050293, 39.79191207885742, 768.0277709960938, 18.390077590942383, 18.113967895507812, 16.998504638671875, 16.732446670532227, 16.440872192382812, 63.26580810546875, 13.685405731201172, 13.107933044433594, 11.987022399902344, 26.21864891052246, 10.895994186401367, 10.889967918395996, 10.889951705932617, 10.88377571105957, 10.73940658569336, 10.590320587158203, 10.335675239562988, 10.046927452087402, 9.775262832641602, 9.536952018737793, 632.3116455078125, 59.00820541381836, 1626.8763427734375, 210.092529296875, 1181.5989990234375, 33.388248443603516, 501.01348876953125, 630.7635498046875, 224.80868530273438, 112.3172836303711, 182.93870544433594, 44.52674102783203, 173.8172149658203, 1262.5076904296875, 284.1874694824219, 261.0258483886719, 1323.468505859375, 126.24501037597656, 348.859375, 148.18519592285156, 100.17280578613281, 335.96630859375, 162.172119140625, 129.2300567626953, 90.91764068603516, 145.5005340576172, 556.1748046875, 337.1052551269531, 392.8634033203125, 509.3030700683594, 1007.78369140625, 805.3076171875, 845.5907592773438, 278.27069091796875, 386.83221435546875, 215.66592407226562, 365.31365966796875, 231.7893829345703, 305.9178466796875, 191.86549377441406, 179.08291625976562, 165.55819702148438, 156.50381469726562, 149.9144744873047, 122.4142837524414, 120.47496795654297, 114.4327163696289, 111.64481353759766, 68.52339172363281, 67.00910186767578, 45.11128234863281, 39.91786193847656, 110.16426086425781, 36.586204528808594, 35.57044982910156, 33.48585510253906, 30.378339767456055, 28.63606071472168, 423.9856872558594, 26.330810546875, 23.727663040161133, 23.152082443237305, 22.279905319213867, 21.701141357421875, 21.09650421142578, 19.297861099243164, 19.082117080688477, 18.815284729003906, 18.526456832885742, 18.52520751953125, 16.502723693847656, 86.70482635498047, 200.23043823242188, 262.1387023925781, 266.8363952636719, 251.25604248046875, 95.47724914550781, 123.91222381591797, 44.885406494140625, 301.7319641113281, 58.71537399291992, 512.5984497070312, 92.1660385131836, 1019.4078979492188, 77.18822479248047, 1706.388671875, 68.3451919555664, 625.1828002929688, 77.46853637695312, 148.66893005371094, 83.5406265258789, 298.30126953125, 94.3428726196289, 127.11568450927734, 295.3546447753906, 420.19757080078125, 386.3426818847656, 108.2726058959961, 311.8636169433594, 161.70751953125, 327.1688232421875, 177.73558044433594, 179.38809204101562, 208.7518768310547, 182.13912963867188, 157.59075927734375, 151.8657989501953, 151.16012573242188, 144.9990692138672, 145.38955688476562, 156.65907287597656, 150.00277709960938, 55.311439514160156, 30.463289260864258, 16.909391403198242, 43.37769317626953, 16.0388126373291, 22.677120208740234, 730.7169189453125, 9.021971702575684, 8.44332218170166, 895.9667358398438, 117.8547592163086, 5.869231224060059, 5.781722545623779, 22.07891082763672, 5.3643622398376465, 5.361279010772705, 4.989684581756592, 4.985537528991699, 4.7175774574279785, 4.70905065536499, 4.176283836364746, 4.1648335456848145, 14.640913963317871, 12.053773880004883, 97.46478271484375, 3679.113525390625, 19.33084487915039, 16.995943069458008, 82.11512756347656, 3.2801523208618164, 802.3817138671875, 5103.81494140625, 2347.34130859375, 3409.88330078125, 279.46026611328125, 315.8044738769531, 469.4842834472656, 61.72351837158203, 204.73318481445312, 656.3560791015625, 47.56401062011719, 229.36968994140625, 81.3318862915039, 1220.4586181640625, 107.44960021972656, 38.73921203613281, 93.4998550415039, 92.1405029296875, 134.6051483154297, 371.5163879394531, 100.89028930664062, 99.49805450439453, 77.20675659179688, 60.38836669921875, 74.2175064086914, 63.58281707763672, 576.4012451171875, 197.09376525878906, 145.80239868164062, 127.88886260986328, 91.56646728515625, 88.06256103515625, 79.28348541259766, 70.92959594726562, 70.14482116699219, 67.06036376953125, 48.4683837890625, 43.79117965698242, 35.91136169433594, 32.99663543701172, 28.71210479736328, 25.143953323364258, 49.68327331542969, 22.09337043762207, 19.889204025268555, 18.521678924560547, 18.466262817382812, 18.16628074645996, 17.379375457763672, 16.612714767456055, 19.873065948486328, 16.101211547851562, 73.5598373413086, 15.285178184509277, 14.976075172424316, 53.03589630126953, 56.07429885864258, 71.31608581542969, 83.6143569946289, 830.23779296875, 211.05996704101562, 41.19636154174805, 1515.83837890625, 259.02227783203125, 85.85889434814453, 134.71568298339844, 1224.4052734375, 217.57369995117188, 87.3318099975586, 127.73204040527344, 118.96138763427734, 257.0596618652344, 697.133544921875, 110.54716491699219, 171.83953857421875, 172.86376953125, 169.18838500976562, 768.5023803710938, 346.5611572265625, 249.2034454345703, 209.55247497558594, 327.37664794921875, 276.1482238769531, 346.6160888671875, 212.520751953125, 343.05377197265625, 182.79367065429688, 161.4539031982422, 166.21177673339844, 215.47662353515625, 204.87017822265625, 130.68495178222656, 457.2763366699219, 351.92626953125, 326.1896667480469, 221.8131866455078, 192.72879028320312, 88.06350708007812, 85.98237609863281, 85.73966217041016, 67.92076873779297, 59.9227409362793, 45.55020523071289, 44.351924896240234, 34.98019790649414, 31.513479232788086, 28.614717483520508, 26.41478729248047, 25.1126708984375, 24.960309982299805, 23.87295913696289, 22.041858673095703, 20.724477767944336, 20.446062088012695, 19.182289123535156, 18.890869140625, 18.563491821289062, 18.232624053955078, 17.946735382080078, 17.92258071899414, 17.67220115661621, 17.464496612548828, 39.283973693847656, 184.00782775878906, 44.63855743408203, 44.96580123901367, 239.05857849121094, 46.43006134033203, 83.2826156616211, 50.36287307739258, 55.30113983154297, 214.59327697753906, 140.7547607421875, 42.943939208984375, 143.80772399902344, 129.09933471679688, 266.59222412109375, 75.8777847290039, 219.04486083984375, 534.6470947265625, 87.61103057861328, 122.52887725830078, 125.39463806152344, 112.31586456298828, 78.91853332519531, 387.0402526855469, 132.19651794433594, 368.9629821777344, 120.72871398925781, 206.0835418701172, 149.67063903808594, 205.2693328857422, 230.38241577148438, 119.24706268310547, 182.8600616455078, 128.88490295410156, 112.84751892089844, 106.71186065673828, 108.93318176269531, 153.22308349609375, 58.30222702026367, 57.363040924072266, 240.33279418945312, 25.07925796508789, 18.55295181274414, 18.196033477783203, 15.50208854675293, 12.600264549255371, 11.679609298706055, 34.56534194946289, 10.801691055297852, 10.549763679504395, 9.772595405578613, 9.35416316986084, 9.246438026428223, 9.23884105682373, 46.476173400878906, 8.971460342407227, 8.967907905578613, 8.947969436645508, 8.874588966369629, 8.693777084350586, 7.8589043617248535, 7.2929534912109375, 7.277919769287109, 6.713891983032227, 6.6613311767578125, 6.584392070770264, 6.442137718200684, 240.58987426757812, 139.1199493408203, 68.93647766113281, 2312.790771484375, 141.04962158203125, 714.5802001953125, 45.43024826049805, 87.8262939453125, 127.69467163085938, 282.1526794433594, 2412.83203125, 27.708471298217773, 263.4984436035156, 2319.1337890625, 192.4712371826172, 444.0523986816406, 105.9515609741211, 417.3677062988281, 47.66158676147461, 156.6544189453125, 70.92070007324219, 1025.826171875, 145.5067596435547, 114.0201644897461, 748.8427124023438, 199.8084259033203, 172.5425262451172, 194.65977478027344, 87.80567932128906, 170.95486450195312, 100.14112091064453, 243.4840850830078, 230.6892852783203, 140.8690948486328, 101.88985443115234, 2521.09521484375, 2275.773681640625, 239.3921356201172, 25.202198028564453, 20.9576416015625, 19.245927810668945, 15.338339805603027, 14.432303428649902, 13.998725891113281, 12.02393627166748, 11.556870460510254, 11.555538177490234, 10.57747745513916, 10.383296012878418, 10.123870849609375, 9.97663688659668, 8.882245063781738, 8.808592796325684, 8.73829174041748, 20.49869728088379, 8.394689559936523, 8.386933326721191, 8.383235931396484, 8.096503257751465, 7.441498756408691, 7.242502212524414, 7.236633777618408, 6.787948131561279, 6.627671241760254, 6.375500202178955, 127.46552276611328, 283.8322448730469, 244.66595458984375, 399.20367431640625, 26.187429428100586, 529.0466918945312, 673.3247680664062, 304.5623779296875, 195.2098388671875, 73.73980712890625, 396.2288818359375, 40.36213684082031, 26.193357467651367, 74.73758697509766, 39.36600875854492, 79.50914764404297, 135.95164489746094, 123.4210205078125, 61.76402282714844, 157.26622009277344, 44.276100158691406, 38.38198471069336, 933.113525390625, 147.54867553710938, 246.9359588623047, 759.7429809570312, 363.54205322265625, 117.13101959228516, 88.13652801513672, 170.3439178466797, 154.44558715820312, 452.27459716796875, 169.45126342773438, 128.14163208007812, 161.88990783691406, 154.4888153076172, 205.87950134277344, 147.56655883789062, 139.75404357910156, 25.800458908081055, 18.145273208618164, 17.307634353637695, 49.55641555786133, 12.67452621459961, 10.68689250946045, 10.331740379333496, 10.299436569213867, 10.229945182800293, 9.65408706665039, 8.709988594055176, 8.377378463745117, 8.372604370117188, 8.086528778076172, 7.33780574798584, 6.933733940124512, 6.37054967880249, 6.368422508239746, 6.365355968475342, 6.361296653747559, 6.327916145324707, 6.088851451873779, 5.9969072341918945, 5.223118305206299, 89.47885131835938, 58.64141845703125, 8.8379487991333, 4.128555774688721, 17.81470489501953, 11.214675903320312, 690.32666015625, 167.8275604248047, 314.0691833496094, 542.1386108398438, 653.61083984375, 124.05132293701172, 46.11894989013672, 68.96770477294922, 128.737548828125, 2669.39794921875, 19.697898864746094, 228.23660278320312, 1004.2979125976562, 25.173110961914062, 544.9118041992188, 16.535743713378906, 332.0806884765625, 258.0668640136719, 49.71757125854492, 268.2151184082031, 219.2572479248047, 59.72304153442383, 240.40225219726562, 129.91796875, 273.4295349121094, 180.4605255126953, 71.04776763916016, 888.3509521484375, 695.2015380859375, 129.41493225097656, 106.67987060546875, 101.85591888427734, 120.0297622680664, 116.3395767211914, 249.20883178710938, 141.454833984375, 149.1140899658203, 113.89259338378906, 144.61361694335938, 150.4287567138672, 448.7648620605469, 116.49752807617188, 46.18125534057617, 23.52314567565918, 21.255638122558594, 21.233562469482422, 21.17850112915039, 18.567378997802734, 273.2642517089844, 16.8068790435791, 16.675655364990234, 15.861004829406738, 15.59519100189209, 15.07599925994873, 14.988249778747559, 14.494813919067383, 14.18372631072998, 49.26251983642578, 13.006975173950195, 12.74915599822998, 12.420576095581055, 11.41038990020752, 10.95378303527832, 9.973429679870605, 9.79543399810791, 9.476675033569336, 8.885125160217285, 8.806102752685547, 8.802790641784668, 8.580126762390137, 46.416839599609375, 122.75035095214844, 288.37945556640625, 1058.227783203125, 160.06192016601562, 153.05694580078125, 26.030691146850586, 718.4325561523438, 96.12954711914062, 67.72001647949219, 732.1800537109375, 116.8097915649414, 303.82342529296875, 151.00857543945312, 920.462646484375, 637.1226806640625, 207.08428955078125, 369.1131286621094, 33.65852737426758, 622.3106079101562, 302.7647705078125, 238.32350158691406, 341.7637634277344, 153.9501953125, 119.93037414550781, 837.2022094726562, 105.92008209228516, 168.087158203125, 435.5271301269531, 294.3394470214844, 183.6475372314453, 180.90342712402344, 264.63470458984375, 128.73240661621094, 122.02525329589844, 121.26947784423828, 1188.9052734375, 344.89984130859375, 221.30372619628906, 208.15457153320312, 178.85133361816406, 22.168956756591797, 134.669189453125, 18.602392196655273, 16.56546974182129, 244.29994201660156, 10.563549995422363, 10.367680549621582, 9.339292526245117, 9.205845832824707, 8.637297630310059, 158.87351989746094, 8.020123481750488, 7.9839301109313965, 7.910292625427246, 7.826642036437988, 7.3429856300354, 6.809695243835449, 6.245339393615723, 6.237572193145752, 18.313716888427734, 5.629970073699951, 5.367315769195557, 5.366079330444336, 5.359786033630371, 57.00841522216797, 675.6498413085938, 944.7359619140625, 643.9169921875, 36.01041793823242, 16.40906524658203, 32.523929595947266, 126.61053466796875, 316.5394287109375, 44.499549865722656, 149.13230895996094, 115.72110748291016, 837.7542724609375, 58.42819595336914, 97.4585189819336, 55.42931365966797, 79.36479187011719, 984.8645629882812, 1018.226806640625, 84.24481964111328, 1011.5294189453125, 135.84823608398438, 387.5858459472656, 76.3973159790039, 293.4056396484375, 125.7025146484375, 189.73805236816406, 96.70034790039062, 64.01025390625, 408.4580993652344, 379.9382019042969, 239.4512939453125, 132.38803100585938, 81.43561553955078, 80.8856430053711, 40.60673141479492, 38.658390045166016, 32.624298095703125, 26.929798126220703, 26.59400749206543, 24.0237979888916, 22.788179397583008, 18.60102653503418, 17.01496696472168, 16.37848472595215, 15.309850692749023, 14.681130409240723, 13.46635913848877, 13.31482219696045, 12.92048168182373, 12.246402740478516, 12.227521896362305, 11.899587631225586, 11.84113597869873, 11.4762544631958, 11.42553424835205, 11.329353332519531, 11.229236602783203, 11.016250610351562, 82.07606506347656, 112.56258392333984, 337.38714599609375, 416.8661804199219, 28.629058837890625, 42.033180236816406, 23.60518455505371, 101.91490173339844, 24.148147583007812, 636.1094360351562, 358.3283386230469, 183.8386993408203, 51.003807067871094, 25.297142028808594, 146.7327117919922, 122.21192169189453, 875.992919921875, 83.33264923095703, 33.90275192260742, 88.736572265625, 36.599037170410156, 51.32849884033203, 102.5135726928711, 149.16567993164062, 91.25370025634766, 214.7863311767578, 62.55760192871094, 106.45674896240234, 141.92115783691406, 91.10591888427734, 117.17911529541016, 153.06643676757812, 193.2958984375, 161.7273406982422, 188.0615997314453, 104.65450286865234, 103.40326690673828, 101.1860122680664, 321.926513671875, 271.171142578125, 170.78421020507812, 95.64031982421875, 86.9720687866211, 71.07167053222656, 59.18132400512695, 53.702823638916016, 52.18885040283203, 51.36329650878906, 49.504451751708984, 40.8321418762207, 112.8372802734375, 31.409212112426758, 31.285112380981445, 30.322677612304688, 30.214801788330078, 29.079261779785156, 26.015628814697266, 323.1735534667969, 24.52461051940918, 23.719707489013672, 16.211523056030273, 15.328587532043457, 56.5920524597168, 181.7561798095703, 13.665816307067871, 12.913895606994629, 79.22700500488281, 10.771561622619629, 34.01002883911133, 340.63775634765625, 252.8832550048828, 91.12592315673828, 307.6513671875, 246.27590942382812, 189.56900024414062, 325.139404296875, 109.63458251953125, 75.96733093261719, 81.61402130126953, 128.9070281982422, 42.95777893066406, 94.80690002441406, 86.25880432128906, 650.9273071289062, 417.795654296875, 85.24559783935547, 232.67152404785156, 414.1750793457031, 121.85955047607422, 173.82508850097656, 307.7386474609375, 130.84104919433594, 173.18402099609375, 148.94960021972656, 150.698486328125, 118.86298370361328, 134.78392028808594, 106.76419067382812, 105.20608520507812, 740.5767822265625, 163.49456787109375, 53.97654342651367, 43.72535705566406, 40.05424499511719, 38.13981628417969, 38.0302734375, 31.11273193359375, 175.49473571777344, 25.73263931274414, 24.486377716064453, 23.53145408630371, 126.48612213134766, 20.992292404174805, 19.237533569335938, 19.02133560180664, 425.17425537109375, 15.912674903869629, 13.067387580871582, 11.92768383026123, 11.712262153625488, 11.476385116577148, 11.476385116577148, 11.203676223754883, 10.518689155578613, 10.2089204788208, 10.1130952835083, 10.060184478759766, 66.64751434326172, 41.012962341308594, 64.37178039550781, 73.67826843261719, 29.784046173095703, 141.40316772460938, 22.073888778686523, 293.0516662597656, 33.91350173950195, 24.442365646362305, 141.1647491455078, 1124.0712890625, 25.06585121154785, 134.7163848876953, 63.783451080322266, 39.05473709106445, 123.1916275024414, 143.50436401367188, 119.5831298828125, 414.286376953125, 71.96316528320312, 548.2032470703125, 120.33019256591797, 132.15707397460938, 60.53929901123047, 110.00275421142578, 125.22747802734375, 169.6780548095703, 216.0981903076172, 72.92314147949219, 81.1929931640625, 133.52081298828125, 71.58476257324219, 71.515380859375, 65.65564727783203], \"Total\": [9456.0, 8867.0, 4991.0, 7351.0, 6118.0, 6734.0, 2522.0, 3207.0, 2281.0, 4776.0, 4357.0, 2386.0, 2160.0, 3202.0, 2586.0, 2038.0, 2869.0, 1189.0, 5665.0, 1897.0, 1825.0, 1718.0, 1394.0, 2245.0, 1218.0, 741.0, 1497.0, 1150.0, 1632.0, 2549.0, 2160.5224609375, 151.1764373779297, 104.46138763427734, 51.761085510253906, 38.36317443847656, 25.670724868774414, 24.179929733276367, 23.26434326171875, 164.7089385986328, 57.10771942138672, 21.67232322692871, 153.36146545410156, 18.79308319091797, 18.603525161743164, 15.957674026489258, 15.670477867126465, 15.653620719909668, 15.065067291259766, 37.86440658569336, 14.24984073638916, 170.9552001953125, 13.940812110900879, 13.938718795776367, 13.3076171875, 13.025108337402344, 12.304483413696289, 290.26824951171875, 12.201899528503418, 12.194901466369629, 12.014399528503418, 479.5931396484375, 75.10379791259766, 27.938425064086914, 39.330528259277344, 110.04427337646484, 2586.5712890625, 58.02462387084961, 421.7759094238281, 24.496932983398438, 124.67210388183594, 181.14486694335938, 115.42845153808594, 221.5094451904297, 9456.0576171875, 517.3008422851562, 1020.1307983398438, 166.19761657714844, 701.088623046875, 1023.6515502929688, 103.7756576538086, 144.7543487548828, 453.73968505859375, 336.2159118652344, 229.1142120361328, 473.29248046875, 272.8789978027344, 381.7311096191406, 179.07032775878906, 1077.107421875, 1276.57080078125, 5665.2041015625, 1034.078857421875, 4991.4619140625, 2420.685791015625, 6734.5595703125, 4357.6767578125, 2830.080078125, 3202.417236328125, 448.66607666015625, 1193.2490234375, 743.2520141601562, 1830.4808349609375, 2549.06396484375, 4776.5791015625, 1302.8770751953125, 443.2293701171875, 234.82290649414062, 180.22406005859375, 177.03765869140625, 66.0604248046875, 61.91315841674805, 57.808441162109375, 47.15876007080078, 44.62593078613281, 41.64122772216797, 41.4907112121582, 39.85544967651367, 33.035675048828125, 32.403839111328125, 30.180688858032227, 29.76026153564453, 29.51938247680664, 28.343700408935547, 238.0694580078125, 26.663211822509766, 26.011138916015625, 25.382007598876953, 25.37921714782715, 24.9875545501709, 99.81375885009766, 22.50577735900879, 22.304506301879883, 21.973846435546875, 20.97734832763672, 20.337247848510742, 132.35614013671875, 133.2050323486328, 203.94393920898438, 430.177490234375, 519.4323120117188, 1035.8719482421875, 87.38579559326172, 171.88662719726562, 381.5819091796875, 774.7938842773438, 441.667724609375, 573.1926879882812, 188.5925750732422, 165.50123596191406, 176.0056915283203, 140.67787170410156, 9456.0576171875, 637.0419311523438, 426.68365478515625, 271.49127197265625, 818.2462768554688, 628.5236206054688, 981.2498168945312, 599.7481689453125, 4357.6767578125, 701.088623046875, 340.969482421875, 4776.5791015625, 1382.361083984375, 2420.685791015625, 5665.2041015625, 2549.06396484375, 1042.4285888671875, 2586.5712890625, 3202.417236328125, 1865.88720703125, 1023.6515502929688, 1015.6807861328125, 117.4521713256836, 40.28006362915039, 31.260452270507812, 30.97701072692871, 28.10948944091797, 24.84822654724121, 55.10962677001953, 22.370058059692383, 41.67574691772461, 804.5437622070312, 19.299551010131836, 19.023441314697266, 17.907978057861328, 17.64192008972168, 17.350345611572266, 67.0320053100586, 14.59488296508789, 14.017409324645996, 12.896501541137695, 28.227243423461914, 11.805471420288086, 11.799445152282715, 11.799428939819336, 11.793254852294922, 11.648884773254395, 11.499797821044922, 11.245153427124023, 10.956404685974121, 10.684739112854004, 10.446430206298828, 695.6399536132812, 64.93620300292969, 1897.9915771484375, 244.3679962158203, 1497.9156494140625, 37.8592643737793, 639.619873046875, 816.6625366210938, 289.8116149902344, 140.5637664794922, 242.6035614013672, 53.136314392089844, 242.83502197265625, 2245.18994140625, 435.9971923828125, 407.3826599121094, 2869.3564453125, 185.64537048339844, 627.64794921875, 230.6085662841797, 143.60983276367188, 635.1300659179688, 281.7566833496094, 213.12033081054688, 140.30020141601562, 268.8515930175781, 1825.1224365234375, 932.8624267578125, 1276.57080078125, 2420.685791015625, 8867.837890625, 6118.45361328125, 7351.05126953125, 1005.16845703125, 2038.23681640625, 649.3186645507812, 2830.080078125, 907.529541015625, 4776.5791015625, 977.0402221679688, 792.2405395507812, 166.46542358398438, 157.41104125976562, 150.82176208496094, 123.32146453857422, 121.38214874267578, 115.33989715576172, 112.55199432373047, 69.43057250976562, 67.9162826538086, 46.01848220825195, 40.825130462646484, 112.81233215332031, 37.51697540283203, 36.4776496887207, 34.3930549621582, 31.285533905029297, 29.543254852294922, 437.8157958984375, 27.238004684448242, 24.634857177734375, 24.059276580810547, 23.18709945678711, 22.608335494995117, 22.003698348999023, 20.205055236816406, 19.98931121826172, 19.72247886657715, 19.433650970458984, 19.432401657104492, 17.4099178314209, 92.20846557617188, 218.4893035888672, 297.8132629394531, 310.2867126464844, 313.4306335449219, 115.69599151611328, 163.3373565673828, 51.96006774902344, 520.0446166992188, 75.3032455444336, 1150.565673828125, 135.9962921142578, 3202.417236328125, 109.57942199707031, 7351.05126953125, 94.53547668457031, 2245.18994140625, 113.62860107421875, 318.5188293457031, 131.4335479736328, 1034.078857421875, 162.51181030273438, 283.9837951660156, 1632.7965087890625, 4991.4619140625, 6734.5595703125, 237.3861541748047, 4357.6767578125, 741.063720703125, 5665.2041015625, 1077.107421875, 1382.361083984375, 2549.06396484375, 1865.88720703125, 977.8198852539062, 818.2462768554688, 1497.9156494140625, 1020.1307983398438, 1261.7530517578125, 4776.5791015625, 2830.080078125, 56.217018127441406, 31.368864059448242, 17.814966201782227, 45.77653503417969, 16.944387435913086, 24.755294799804688, 803.5615844726562, 9.9275484085083, 9.34890079498291, 998.4676513671875, 135.07394409179688, 6.774806976318359, 6.687298774719238, 25.60892105102539, 6.269939422607422, 6.2668561935424805, 5.895262241363525, 5.891114711761475, 5.623152732849121, 5.614626884460449, 5.081859111785889, 5.070409297943115, 18.274232864379883, 16.04271125793457, 131.3099822998047, 4991.4619140625, 27.687746047973633, 25.760465621948242, 125.50847625732422, 5.033998489379883, 1302.8770751953125, 8867.837890625, 4357.6767578125, 6734.5595703125, 485.45001220703125, 565.299072265625, 1193.2490234375, 112.9920425415039, 525.5572509765625, 2386.263671875, 92.96863555908203, 779.5896606445312, 219.77854919433594, 9456.0576171875, 383.40325927734375, 85.02991485595703, 349.3266906738281, 348.7857971191406, 735.1437377929688, 5665.2041015625, 540.59814453125, 628.5236206054688, 483.12042236328125, 275.4491882324219, 1210.89892578125, 503.2995910644531, 577.306396484375, 197.99891662597656, 146.70755004882812, 128.7940216064453, 92.4715805053711, 88.9676742553711, 80.1885986328125, 71.83470916748047, 71.04993438720703, 67.9654769897461, 49.37351608276367, 44.696311950683594, 36.81649398803711, 33.90176773071289, 29.61723518371582, 26.049081802368164, 51.65104293823242, 22.998498916625977, 20.79433250427246, 19.426807403564453, 19.37139320373535, 19.071409225463867, 18.284503936767578, 17.51784324645996, 20.957256317138672, 17.00634002685547, 77.83667755126953, 16.190309524536133, 15.881204605102539, 56.36000061035156, 60.09142303466797, 76.72222900390625, 92.31629943847656, 1015.6807861328125, 250.18743896484375, 45.131195068359375, 2038.23681640625, 312.95318603515625, 100.4448013305664, 165.0884552001953, 1825.1224365234375, 284.2104187011719, 106.12531280517578, 164.7362518310547, 156.43544006347656, 419.2070617675781, 1718.078369140625, 152.24668884277344, 280.8040771484375, 299.5538330078125, 302.23101806640625, 3207.796630859375, 1055.367431640625, 667.8207397460938, 608.9856567382812, 1632.7965087890625, 1394.0604248046875, 2830.080078125, 1116.281494140625, 4776.5791015625, 1382.361083984375, 889.15185546875, 1261.7530517578125, 6734.5595703125, 6118.45361328125, 1210.89892578125, 458.1782531738281, 352.8281555175781, 327.091552734375, 222.7151336669922, 193.6307373046875, 88.96540832519531, 86.88427734375, 86.64156341552734, 68.82266998291016, 60.82465744018555, 46.452125549316406, 45.253841400146484, 35.88211441040039, 32.41539764404297, 29.516632080078125, 27.316701889038086, 26.014585494995117, 25.862224578857422, 24.774873733520508, 22.94377326965332, 21.626392364501953, 21.347976684570312, 20.084203720092773, 19.792783737182617, 19.46540641784668, 19.134538650512695, 18.848649978637695, 18.824499130249023, 18.574115753173828, 18.367494583129883, 42.188228607177734, 214.36279296875, 48.94458770751953, 49.395843505859375, 287.59808349609375, 51.31074523925781, 102.71439361572266, 58.941139221191406, 65.53436279296875, 306.47003173828125, 202.1171417236328, 50.01097869873047, 218.7592315673828, 193.7199249267578, 482.9657287597656, 101.43788146972656, 417.76007080078125, 1382.361083984375, 128.8179473876953, 224.0111083984375, 235.11328125, 200.35133361816406, 120.56211853027344, 1632.7965087890625, 325.46978759765625, 3202.417236328125, 368.41265869140625, 2245.18994140625, 879.8324584960938, 2830.080078125, 4776.5791015625, 567.2791748046875, 4357.6767578125, 1261.7530517578125, 977.0402221679688, 743.2500610351562, 1302.8770751953125, 154.13243103027344, 59.2115592956543, 58.27237319946289, 244.46934509277344, 25.98879051208496, 19.4622802734375, 19.105363845825195, 16.411415100097656, 13.50959300994873, 12.58893871307373, 37.408470153808594, 11.711020469665527, 11.459094047546387, 10.681924819946289, 10.263492584228516, 10.155766487121582, 10.148170471191406, 51.1768684387207, 9.880788803100586, 9.877237319946289, 9.8572998046875, 9.783918380737305, 9.603107452392578, 8.768233299255371, 8.20228099822998, 8.187249183654785, 7.623223304748535, 7.570659637451172, 7.493720054626465, 7.351467609405518, 281.12286376953125, 165.08450317382812, 81.19686889648438, 3207.796630859375, 176.99720764160156, 1005.7531127929688, 55.77391815185547, 115.07820892333984, 178.2899932861328, 430.5493469238281, 4776.5791015625, 34.286685943603516, 486.959228515625, 6118.45361328125, 343.28759765625, 907.529541015625, 182.46615600585938, 1005.16845703125, 74.29086303710938, 355.6039733886719, 134.32742309570312, 7351.05126953125, 407.3826599121094, 287.8634338378906, 5665.2041015625, 792.2405395507812, 635.1300659179688, 932.8624267578125, 203.1536865234375, 848.2711181640625, 275.24468994140625, 2420.685791015625, 2549.06396484375, 2869.3564453125, 579.644287109375, 2522.0029296875, 2281.872802734375, 240.29957580566406, 26.286510467529297, 21.865060806274414, 20.153345108032227, 16.245759963989258, 15.339722633361816, 14.906145095825195, 12.93135929107666, 12.464289665222168, 12.462957382202148, 11.48490047454834, 11.290716171264648, 11.031290054321289, 10.884056091308594, 9.789665222167969, 9.716012954711914, 9.645711898803711, 22.680959701538086, 9.302108764648438, 9.294352531433105, 9.290655136108398, 9.003923416137695, 8.348919868469238, 8.149920463562012, 8.144052505493164, 7.695367336273193, 7.535092830657959, 7.282919406890869, 149.305908203125, 345.1268310546875, 301.09613037109375, 522.6303100585938, 30.695772171020508, 714.6397705078125, 981.2498168945312, 489.7313232421875, 302.3090515136719, 104.78321075439453, 702.1644897460938, 54.02515411376953, 33.74861526489258, 112.67416381835938, 54.006019592285156, 127.4857177734375, 267.6205139160156, 244.3383331298828, 101.80923461914062, 345.6918640136719, 68.6377182006836, 59.036865234375, 6118.45361328125, 430.5493469238281, 1005.16845703125, 5665.2041015625, 1865.88720703125, 355.6039733886719, 250.76095581054688, 846.83837890625, 741.063720703125, 7351.05126953125, 1005.7531127929688, 573.1926879882812, 1137.426513671875, 1035.8719482421875, 2549.06396484375, 1116.281494140625, 2869.3564453125, 26.70799446105957, 19.052806854248047, 18.21516990661621, 53.09414291381836, 13.582060813903809, 11.594427108764648, 11.239275932312012, 11.206971168518066, 11.137479782104492, 10.561872482299805, 9.617523193359375, 9.284914016723633, 9.28014087677002, 8.994064331054688, 8.245339393615723, 7.841269016265869, 7.278083801269531, 7.275956630706787, 7.272890090942383, 7.268831729888916, 7.235454082489014, 6.996387481689453, 6.90444278717041, 6.130652904510498, 106.2567138671875, 69.75965881347656, 10.738323211669922, 5.036089897155762, 21.934722900390625, 14.416050910949707, 1116.281494140625, 258.78631591796875, 531.0151977539062, 977.8198852539062, 1210.89892578125, 197.3206024169922, 66.36622619628906, 108.39726257324219, 221.34603881835938, 7351.05126953125, 26.321443557739258, 480.10723876953125, 2869.3564453125, 36.73811721801758, 1830.4808349609375, 21.987728118896484, 1055.367431640625, 848.2711181640625, 94.49344635009766, 932.8624267578125, 743.2500610351562, 124.5003662109375, 889.15185546875, 376.877685546875, 1261.7530517578125, 735.1437377929688, 179.9698944091797, 8867.837890625, 6734.5595703125, 462.1149597167969, 336.7882080078125, 345.6918640136719, 503.2995910644531, 473.29248046875, 2830.080078125, 977.0402221679688, 1218.920166015625, 520.0446166992188, 1276.57080078125, 1865.88720703125, 449.67083740234375, 117.40351867675781, 47.08725357055664, 24.429140090942383, 22.161632537841797, 22.139556884765625, 22.084495544433594, 19.473373413085938, 287.3017883300781, 17.712875366210938, 17.581649780273438, 16.767000198364258, 16.50118637084961, 15.98199462890625, 15.894245147705078, 15.400810241699219, 15.0897216796875, 52.61933135986328, 13.912971496582031, 13.655152320861816, 13.326570510864258, 12.316385269165039, 11.85977840423584, 10.879425048828125, 10.70142936706543, 10.382669448852539, 9.791654586791992, 9.712099075317383, 9.708786010742188, 9.486122131347656, 51.474586486816406, 138.10057067871094, 344.47186279296875, 1394.0604248046875, 199.89674377441406, 194.43292236328125, 30.05693817138672, 1042.4285888671875, 120.91499328613281, 83.35305786132812, 1123.0599365234375, 157.77650451660156, 474.68804931640625, 217.26698303222656, 1718.078369140625, 1150.565673828125, 361.4466552734375, 741.063720703125, 41.87535095214844, 1632.7965087890625, 743.2520141601562, 599.7481689453125, 1077.107421875, 352.5159912109375, 300.83990478515625, 6118.45361328125, 296.6324768066406, 743.2500610351562, 5665.2041015625, 2830.080078125, 1055.367431640625, 1865.88720703125, 8867.837890625, 2549.06396484375, 852.8284912109375, 815.2742919921875, 1189.8223876953125, 345.80572509765625, 222.20962524414062, 209.0604705810547, 179.75723266601562, 23.0748348236084, 140.83364868164062, 19.508272171020508, 17.471349716186523, 260.42755126953125, 11.469429016113281, 11.2735595703125, 10.245172500610352, 10.111725807189941, 9.543177604675293, 176.4535369873047, 8.92600154876709, 8.889810562133789, 8.816171646118164, 8.73252010345459, 8.24886417388916, 7.715575695037842, 7.151218414306641, 7.143453598022461, 21.163904190063477, 6.535852432250977, 6.273194313049316, 6.271958351135254, 6.265665054321289, 66.8306884765625, 846.83837890625, 1218.920166015625, 852.8284912109375, 44.215518951416016, 20.398441314697266, 46.345375061035156, 218.6759033203125, 640.4447021484375, 66.51567077636719, 275.24468994140625, 220.24644470214844, 2549.06396484375, 104.18417358398438, 211.45742797851562, 109.31153869628906, 178.98924255371094, 5665.2041015625, 6118.45361328125, 196.49688720703125, 8867.837890625, 443.185791015625, 2386.263671875, 184.86581420898438, 1865.88720703125, 540.59814453125, 2869.3564453125, 489.7313232421875, 227.89671325683594, 409.35467529296875, 380.8942565917969, 240.35504150390625, 133.28460693359375, 82.33218383789062, 81.78221130371094, 41.50330352783203, 39.554962158203125, 33.520870208740234, 27.82636833190918, 27.490577697753906, 24.920368194580078, 23.684749603271484, 19.497596740722656, 17.911537170410156, 17.275054931640625, 16.2064208984375, 15.5777006149292, 14.362929344177246, 14.211392402648926, 13.81705379486084, 13.142972946166992, 13.124094009399414, 12.796159744262695, 12.737706184387207, 12.372825622558594, 12.322104454040527, 12.225923538208008, 12.12580680847168, 11.912820816040039, 89.93054962158203, 124.45735168457031, 394.2804260253906, 513.2166137695312, 32.177921295166016, 50.026100158691406, 26.93129539489746, 134.0410919189453, 27.62128448486328, 1137.426513671875, 622.0636596679688, 307.3614807128906, 68.28675842285156, 30.204317092895508, 273.5098876953125, 218.13816833496094, 3202.417236328125, 145.7567596435547, 44.47262954711914, 175.57464599609375, 49.81084060668945, 82.83769989013672, 240.94110107421875, 448.66607666015625, 223.66065979003906, 1034.078857421875, 127.13807678222656, 340.969482421875, 702.1644897460938, 287.8634338378906, 519.065673828125, 1210.89892578125, 2386.263671875, 1830.4808349609375, 2830.080078125, 627.64794921875, 667.8207397460938, 3207.796630859375, 322.8313903808594, 272.0760192871094, 171.68910217285156, 96.5451889038086, 87.87693786621094, 71.9765396118164, 60.08619689941406, 54.607696533203125, 53.09372329711914, 52.26816940307617, 50.409324645996094, 41.73701477050781, 115.68055725097656, 32.314083099365234, 32.18998336791992, 31.227550506591797, 31.119674682617188, 29.984134674072266, 26.920520782470703, 334.5044860839844, 25.42948341369629, 24.62458038330078, 17.116395950317383, 16.23345947265625, 60.108089447021484, 193.40618896484375, 14.570688247680664, 13.818768501281738, 85.09388732910156, 11.676433563232422, 37.20594024658203, 384.9521484375, 296.2518615722656, 105.33304595947266, 390.7043762207031, 311.16180419921875, 250.4877471923828, 492.3619689941406, 173.00033569335938, 108.94422912597656, 121.55327606201172, 235.3951416015625, 51.03648376464844, 165.37521362304688, 157.33413696289062, 7351.05126953125, 4776.5791015625, 169.1846466064453, 1830.4808349609375, 8867.837890625, 419.2070617675781, 1261.7530517578125, 6734.5595703125, 779.5896606445312, 2830.080078125, 1897.9915771484375, 2245.18994140625, 792.2405395507812, 2038.23681640625, 466.9454650878906, 2549.06396484375, 741.4779052734375, 164.3957061767578, 54.87767791748047, 44.626495361328125, 40.95538330078125, 39.040950775146484, 38.9314079284668, 32.01387023925781, 180.66456604003906, 26.63377571105957, 25.387514114379883, 24.43259048461914, 131.56497192382812, 21.893428802490234, 20.138669967651367, 19.922481536865234, 448.43682861328125, 16.813810348510742, 13.968523979187012, 12.82882022857666, 12.613398551940918, 12.377520561218262, 12.377520561218262, 12.104813575744629, 11.419824600219727, 11.110055923461914, 11.01423168182373, 10.961319923400879, 72.69752502441406, 44.96402359008789, 74.46892547607422, 87.1650619506836, 34.42753219604492, 180.77113342285156, 25.448108673095703, 440.610107421875, 40.87700653076172, 28.63379669189453, 215.89715576171875, 2386.263671875, 30.266845703125, 289.3621520996094, 108.47447204589844, 56.75835418701172, 318.21051025390625, 426.68365478515625, 331.3605041503906, 2420.685791015625, 151.4429473876953, 6734.5595703125, 567.2791748046875, 932.8624267578125, 156.1735382080078, 626.5796508789062, 879.8324584960938, 1830.4808349609375, 5665.2041015625, 250.25840759277344, 372.32611083984375, 2549.06396484375, 627.64794921875, 1302.8770751953125, 640.4447021484375], \"Category\": [\"Default\", \"Default\", \"Default\", \"Default\", \"Default\", \"Default\", \"Default\", \"Default\", \"Default\", \"Default\", \"Default\", \"Default\", \"Default\", \"Default\", \"Default\", \"Default\", \"Default\", \"Default\", \"Default\", \"Default\", \"Default\", \"Default\", \"Default\", \"Default\", \"Default\", \"Default\", \"Default\", \"Default\", \"Default\", \"Default\", \"Topic1\", \"Topic1\", \"Topic1\", \"Topic1\", \"Topic1\", \"Topic1\", \"Topic1\", \"Topic1\", \"Topic1\", \"Topic1\", \"Topic1\", \"Topic1\", \"Topic1\", \"Topic1\", \"Topic1\", \"Topic1\", \"Topic1\", \"Topic1\", \"Topic1\", \"Topic1\", \"Topic1\", \"Topic1\", \"Topic1\", \"Topic1\", \"Topic1\", \"Topic1\", \"Topic1\", \"Topic1\", \"Topic1\", \"Topic1\", \"Topic1\", \"Topic1\", \"Topic1\", \"Topic1\", \"Topic1\", \"Topic1\", \"Topic1\", \"Topic1\", \"Topic1\", \"Topic1\", \"Topic1\", \"Topic1\", \"Topic1\", \"Topic1\", \"Topic1\", \"Topic1\", \"Topic1\", \"Topic1\", \"Topic1\", \"Topic1\", \"Topic1\", \"Topic1\", \"Topic1\", \"Topic1\", \"Topic1\", \"Topic1\", \"Topic1\", \"Topic1\", \"Topic1\", \"Topic1\", \"Topic1\", \"Topic1\", \"Topic1\", \"Topic1\", \"Topic1\", \"Topic1\", \"Topic1\", \"Topic1\", \"Topic1\", \"Topic1\", \"Topic1\", \"Topic1\", \"Topic1\", \"Topic1\", \"Topic1\", \"Topic2\", \"Topic2\", \"Topic2\", \"Topic2\", \"Topic2\", \"Topic2\", \"Topic2\", \"Topic2\", \"Topic2\", \"Topic2\", \"Topic2\", \"Topic2\", \"Topic2\", \"Topic2\", \"Topic2\", \"Topic2\", \"Topic2\", \"Topic2\", \"Topic2\", \"Topic2\", \"Topic2\", \"Topic2\", \"Topic2\", \"Topic2\", \"Topic2\", \"Topic2\", \"Topic2\", \"Topic2\", \"Topic2\", \"Topic2\", \"Topic2\", \"Topic2\", \"Topic2\", \"Topic2\", \"Topic2\", \"Topic2\", \"Topic2\", \"Topic2\", \"Topic2\", \"Topic2\", \"Topic2\", \"Topic2\", \"Topic2\", \"Topic2\", \"Topic2\", \"Topic2\", \"Topic2\", \"Topic2\", \"Topic2\", \"Topic2\", \"Topic2\", \"Topic2\", \"Topic2\", \"Topic2\", \"Topic2\", \"Topic2\", \"Topic2\", \"Topic2\", \"Topic2\", \"Topic2\", \"Topic2\", \"Topic2\", \"Topic2\", \"Topic2\", \"Topic2\", \"Topic2\", \"Topic2\", \"Topic2\", \"Topic3\", \"Topic3\", \"Topic3\", \"Topic3\", \"Topic3\", \"Topic3\", \"Topic3\", \"Topic3\", \"Topic3\", \"Topic3\", \"Topic3\", \"Topic3\", \"Topic3\", \"Topic3\", \"Topic3\", \"Topic3\", \"Topic3\", \"Topic3\", \"Topic3\", \"Topic3\", \"Topic3\", \"Topic3\", \"Topic3\", \"Topic3\", \"Topic3\", \"Topic3\", \"Topic3\", \"Topic3\", \"Topic3\", \"Topic3\", \"Topic3\", \"Topic3\", \"Topic3\", \"Topic3\", \"Topic3\", \"Topic3\", \"Topic3\", \"Topic3\", \"Topic3\", \"Topic3\", \"Topic3\", \"Topic3\", \"Topic3\", \"Topic3\", \"Topic3\", \"Topic3\", \"Topic3\", \"Topic3\", \"Topic3\", \"Topic3\", \"Topic3\", \"Topic3\", \"Topic3\", \"Topic3\", \"Topic3\", \"Topic3\", \"Topic3\", \"Topic3\", \"Topic3\", \"Topic3\", \"Topic3\", \"Topic3\", \"Topic3\", \"Topic3\", \"Topic3\", \"Topic3\", \"Topic3\", \"Topic3\", \"Topic3\", \"Topic3\", \"Topic3\", \"Topic4\", \"Topic4\", \"Topic4\", \"Topic4\", \"Topic4\", \"Topic4\", \"Topic4\", \"Topic4\", \"Topic4\", \"Topic4\", \"Topic4\", \"Topic4\", \"Topic4\", \"Topic4\", \"Topic4\", \"Topic4\", \"Topic4\", \"Topic4\", \"Topic4\", \"Topic4\", \"Topic4\", \"Topic4\", \"Topic4\", \"Topic4\", \"Topic4\", \"Topic4\", \"Topic4\", \"Topic4\", \"Topic4\", \"Topic4\", \"Topic4\", \"Topic4\", \"Topic4\", \"Topic4\", \"Topic4\", \"Topic4\", \"Topic4\", \"Topic4\", \"Topic4\", \"Topic4\", \"Topic4\", \"Topic4\", \"Topic4\", \"Topic4\", \"Topic4\", \"Topic4\", \"Topic4\", \"Topic4\", \"Topic4\", \"Topic4\", \"Topic4\", \"Topic4\", \"Topic4\", \"Topic4\", \"Topic4\", \"Topic4\", \"Topic4\", \"Topic4\", \"Topic4\", \"Topic4\", \"Topic4\", \"Topic4\", \"Topic4\", \"Topic4\", \"Topic4\", \"Topic4\", \"Topic4\", \"Topic4\", \"Topic4\", \"Topic4\", \"Topic4\", \"Topic5\", \"Topic5\", \"Topic5\", \"Topic5\", \"Topic5\", \"Topic5\", \"Topic5\", \"Topic5\", \"Topic5\", \"Topic5\", \"Topic5\", \"Topic5\", \"Topic5\", \"Topic5\", \"Topic5\", \"Topic5\", \"Topic5\", \"Topic5\", \"Topic5\", \"Topic5\", \"Topic5\", \"Topic5\", \"Topic5\", \"Topic5\", \"Topic5\", \"Topic5\", \"Topic5\", \"Topic5\", \"Topic5\", \"Topic5\", \"Topic5\", \"Topic5\", \"Topic5\", \"Topic5\", \"Topic5\", \"Topic5\", \"Topic5\", \"Topic5\", \"Topic5\", \"Topic5\", \"Topic5\", \"Topic5\", \"Topic5\", \"Topic5\", \"Topic5\", \"Topic5\", \"Topic5\", \"Topic5\", \"Topic5\", \"Topic5\", \"Topic5\", \"Topic5\", \"Topic5\", \"Topic5\", \"Topic5\", \"Topic5\", \"Topic6\", \"Topic6\", \"Topic6\", \"Topic6\", \"Topic6\", \"Topic6\", \"Topic6\", \"Topic6\", \"Topic6\", \"Topic6\", \"Topic6\", \"Topic6\", \"Topic6\", \"Topic6\", \"Topic6\", \"Topic6\", \"Topic6\", \"Topic6\", \"Topic6\", \"Topic6\", \"Topic6\", \"Topic6\", \"Topic6\", \"Topic6\", \"Topic6\", \"Topic6\", \"Topic6\", \"Topic6\", \"Topic6\", \"Topic6\", \"Topic6\", \"Topic6\", \"Topic6\", \"Topic6\", \"Topic6\", \"Topic6\", \"Topic6\", \"Topic6\", \"Topic6\", \"Topic6\", \"Topic6\", \"Topic6\", \"Topic6\", \"Topic6\", \"Topic6\", \"Topic6\", \"Topic6\", \"Topic6\", \"Topic6\", \"Topic6\", \"Topic6\", \"Topic6\", \"Topic6\", \"Topic6\", \"Topic6\", \"Topic6\", \"Topic6\", \"Topic6\", \"Topic6\", \"Topic6\", \"Topic6\", \"Topic6\", \"Topic6\", \"Topic6\", \"Topic6\", \"Topic6\", \"Topic7\", \"Topic7\", \"Topic7\", \"Topic7\", \"Topic7\", \"Topic7\", \"Topic7\", \"Topic7\", \"Topic7\", \"Topic7\", \"Topic7\", \"Topic7\", \"Topic7\", \"Topic7\", \"Topic7\", \"Topic7\", \"Topic7\", \"Topic7\", \"Topic7\", \"Topic7\", \"Topic7\", \"Topic7\", \"Topic7\", \"Topic7\", \"Topic7\", \"Topic7\", \"Topic7\", \"Topic7\", \"Topic7\", \"Topic7\", \"Topic7\", \"Topic7\", \"Topic7\", \"Topic7\", \"Topic7\", \"Topic7\", \"Topic7\", \"Topic7\", \"Topic7\", \"Topic7\", \"Topic7\", \"Topic7\", \"Topic7\", \"Topic7\", \"Topic7\", \"Topic7\", \"Topic7\", \"Topic7\", \"Topic7\", \"Topic7\", \"Topic7\", \"Topic7\", \"Topic7\", \"Topic7\", \"Topic7\", \"Topic7\", \"Topic7\", \"Topic7\", \"Topic7\", \"Topic7\", \"Topic7\", \"Topic7\", \"Topic7\", \"Topic7\", \"Topic7\", \"Topic7\", \"Topic7\", \"Topic8\", \"Topic8\", \"Topic8\", \"Topic8\", \"Topic8\", \"Topic8\", \"Topic8\", \"Topic8\", \"Topic8\", \"Topic8\", \"Topic8\", \"Topic8\", \"Topic8\", \"Topic8\", \"Topic8\", \"Topic8\", \"Topic8\", \"Topic8\", \"Topic8\", \"Topic8\", \"Topic8\", \"Topic8\", \"Topic8\", \"Topic8\", \"Topic8\", \"Topic8\", \"Topic8\", \"Topic8\", \"Topic8\", \"Topic8\", \"Topic8\", \"Topic8\", \"Topic8\", \"Topic8\", \"Topic8\", \"Topic8\", \"Topic8\", \"Topic8\", \"Topic8\", \"Topic8\", \"Topic8\", \"Topic8\", \"Topic8\", \"Topic8\", \"Topic8\", \"Topic8\", \"Topic8\", \"Topic8\", \"Topic8\", \"Topic8\", \"Topic8\", \"Topic8\", \"Topic8\", \"Topic8\", \"Topic8\", \"Topic8\", \"Topic8\", \"Topic8\", \"Topic8\", \"Topic8\", \"Topic8\", \"Topic8\", \"Topic8\", \"Topic8\", \"Topic8\", \"Topic9\", \"Topic9\", \"Topic9\", \"Topic9\", \"Topic9\", \"Topic9\", \"Topic9\", \"Topic9\", \"Topic9\", \"Topic9\", \"Topic9\", \"Topic9\", \"Topic9\", \"Topic9\", \"Topic9\", \"Topic9\", \"Topic9\", \"Topic9\", \"Topic9\", \"Topic9\", \"Topic9\", \"Topic9\", \"Topic9\", \"Topic9\", \"Topic9\", \"Topic9\", \"Topic9\", \"Topic9\", \"Topic9\", \"Topic9\", \"Topic9\", \"Topic9\", \"Topic9\", \"Topic9\", \"Topic9\", \"Topic9\", \"Topic9\", \"Topic9\", \"Topic9\", \"Topic9\", \"Topic9\", \"Topic9\", \"Topic9\", \"Topic9\", \"Topic9\", \"Topic9\", \"Topic9\", \"Topic9\", \"Topic9\", \"Topic9\", \"Topic9\", \"Topic9\", \"Topic9\", \"Topic9\", \"Topic9\", \"Topic9\", \"Topic9\", \"Topic9\", \"Topic9\", \"Topic9\", \"Topic9\", \"Topic9\", \"Topic9\", \"Topic9\", \"Topic9\", \"Topic9\", \"Topic9\", \"Topic9\", \"Topic9\", \"Topic10\", \"Topic10\", \"Topic10\", \"Topic10\", \"Topic10\", \"Topic10\", \"Topic10\", \"Topic10\", \"Topic10\", \"Topic10\", \"Topic10\", \"Topic10\", \"Topic10\", \"Topic10\", \"Topic10\", \"Topic10\", \"Topic10\", \"Topic10\", \"Topic10\", \"Topic10\", \"Topic10\", \"Topic10\", \"Topic10\", \"Topic10\", \"Topic10\", \"Topic10\", \"Topic10\", \"Topic10\", \"Topic10\", \"Topic10\", \"Topic10\", \"Topic10\", \"Topic10\", \"Topic10\", \"Topic10\", \"Topic10\", \"Topic10\", \"Topic10\", \"Topic10\", \"Topic10\", \"Topic10\", \"Topic10\", \"Topic10\", \"Topic10\", \"Topic10\", \"Topic10\", \"Topic10\", \"Topic10\", \"Topic10\", \"Topic10\", \"Topic10\", \"Topic10\", \"Topic10\", \"Topic10\", \"Topic10\", \"Topic10\", \"Topic10\", \"Topic10\", \"Topic10\", \"Topic10\", \"Topic10\", \"Topic10\", \"Topic10\", \"Topic10\", \"Topic10\", \"Topic10\", \"Topic10\", \"Topic10\", \"Topic10\", \"Topic10\", \"Topic11\", \"Topic11\", \"Topic11\", \"Topic11\", \"Topic11\", \"Topic11\", \"Topic11\", \"Topic11\", \"Topic11\", \"Topic11\", \"Topic11\", \"Topic11\", \"Topic11\", \"Topic11\", \"Topic11\", \"Topic11\", \"Topic11\", \"Topic11\", \"Topic11\", \"Topic11\", \"Topic11\", \"Topic11\", \"Topic11\", \"Topic11\", \"Topic11\", \"Topic11\", \"Topic11\", \"Topic11\", \"Topic11\", \"Topic11\", \"Topic11\", \"Topic11\", \"Topic11\", \"Topic11\", \"Topic11\", \"Topic11\", \"Topic11\", \"Topic11\", \"Topic11\", \"Topic11\", \"Topic11\", \"Topic11\", \"Topic11\", \"Topic11\", \"Topic11\", \"Topic11\", \"Topic11\", \"Topic11\", \"Topic11\", \"Topic11\", \"Topic11\", \"Topic11\", \"Topic11\", \"Topic11\", \"Topic11\", \"Topic11\", \"Topic11\", \"Topic11\", \"Topic11\", \"Topic11\", \"Topic11\", \"Topic11\", \"Topic11\", \"Topic11\", \"Topic11\", \"Topic11\", \"Topic12\", \"Topic12\", \"Topic12\", \"Topic12\", \"Topic12\", \"Topic12\", \"Topic12\", \"Topic12\", \"Topic12\", \"Topic12\", \"Topic12\", \"Topic12\", \"Topic12\", \"Topic12\", \"Topic12\", \"Topic12\", \"Topic12\", \"Topic12\", \"Topic12\", \"Topic12\", \"Topic12\", \"Topic12\", \"Topic12\", \"Topic12\", \"Topic12\", \"Topic12\", \"Topic12\", \"Topic12\", \"Topic12\", \"Topic12\", \"Topic12\", \"Topic12\", \"Topic12\", \"Topic12\", \"Topic12\", \"Topic12\", \"Topic12\", \"Topic12\", \"Topic12\", \"Topic12\", \"Topic12\", \"Topic12\", \"Topic12\", \"Topic12\", \"Topic12\", \"Topic12\", \"Topic12\", \"Topic12\", \"Topic12\", \"Topic12\", \"Topic12\", \"Topic12\", \"Topic12\", \"Topic12\", \"Topic12\", \"Topic12\", \"Topic12\", \"Topic12\", \"Topic13\", \"Topic13\", \"Topic13\", \"Topic13\", \"Topic13\", \"Topic13\", \"Topic13\", \"Topic13\", \"Topic13\", \"Topic13\", \"Topic13\", \"Topic13\", \"Topic13\", \"Topic13\", \"Topic13\", \"Topic13\", \"Topic13\", \"Topic13\", \"Topic13\", \"Topic13\", \"Topic13\", \"Topic13\", \"Topic13\", \"Topic13\", \"Topic13\", \"Topic13\", \"Topic13\", \"Topic13\", \"Topic13\", \"Topic13\", \"Topic13\", \"Topic13\", \"Topic13\", \"Topic13\", \"Topic13\", \"Topic13\", \"Topic13\", \"Topic13\", \"Topic13\", \"Topic13\", \"Topic13\", \"Topic13\", \"Topic13\", \"Topic13\", \"Topic13\", \"Topic13\", \"Topic13\", \"Topic13\", \"Topic13\", \"Topic13\", \"Topic13\", \"Topic13\", \"Topic13\", \"Topic13\", \"Topic13\", \"Topic13\", \"Topic13\", \"Topic13\", \"Topic13\", \"Topic13\", \"Topic13\", \"Topic13\", \"Topic13\", \"Topic13\", \"Topic13\", \"Topic13\", \"Topic13\", \"Topic13\", \"Topic14\", \"Topic14\", \"Topic14\", \"Topic14\", \"Topic14\", \"Topic14\", \"Topic14\", \"Topic14\", \"Topic14\", \"Topic14\", \"Topic14\", \"Topic14\", \"Topic14\", \"Topic14\", \"Topic14\", \"Topic14\", \"Topic14\", \"Topic14\", \"Topic14\", \"Topic14\", \"Topic14\", \"Topic14\", \"Topic14\", \"Topic14\", \"Topic14\", \"Topic14\", \"Topic14\", \"Topic14\", \"Topic14\", \"Topic14\", \"Topic14\", \"Topic14\", \"Topic14\", \"Topic14\", \"Topic14\", \"Topic14\", \"Topic14\", \"Topic14\", \"Topic14\", \"Topic14\", \"Topic14\", \"Topic14\", \"Topic14\", \"Topic14\", \"Topic14\", \"Topic14\", \"Topic14\", \"Topic14\", \"Topic14\", \"Topic14\", \"Topic14\", \"Topic14\", \"Topic14\", \"Topic14\", \"Topic14\", \"Topic14\", \"Topic14\", \"Topic14\", \"Topic14\", \"Topic14\", \"Topic14\", \"Topic15\", \"Topic15\", \"Topic15\", \"Topic15\", \"Topic15\", \"Topic15\", \"Topic15\", \"Topic15\", \"Topic15\", \"Topic15\", \"Topic15\", \"Topic15\", \"Topic15\", \"Topic15\", \"Topic15\", \"Topic15\", \"Topic15\", \"Topic15\", \"Topic15\", \"Topic15\", \"Topic15\", \"Topic15\", \"Topic15\", \"Topic15\", \"Topic15\", \"Topic15\", \"Topic15\", \"Topic15\", \"Topic15\", \"Topic15\", \"Topic15\", \"Topic15\", \"Topic15\", \"Topic15\", \"Topic15\", \"Topic15\", \"Topic15\", \"Topic15\", \"Topic15\", \"Topic15\", \"Topic15\", \"Topic15\", \"Topic15\", \"Topic15\", \"Topic15\", \"Topic15\", \"Topic15\", \"Topic15\", \"Topic15\", \"Topic15\", \"Topic15\", \"Topic15\", \"Topic15\", \"Topic15\", \"Topic15\", \"Topic15\", \"Topic15\", \"Topic15\", \"Topic15\", \"Topic15\", \"Topic15\", \"Topic15\", \"Topic15\"], \"logprob\": [30.0, 29.0, 28.0, 27.0, 26.0, 25.0, 24.0, 23.0, 22.0, 21.0, 20.0, 19.0, 18.0, 17.0, 16.0, 15.0, 14.0, 13.0, 12.0, 11.0, 10.0, 9.0, 8.0, 7.0, 6.0, 5.0, 4.0, 3.0, 2.0, 1.0, -2.867500066757202, -5.532700061798096, -5.90500020980835, -6.616000175476074, -6.921800136566162, -7.335400104522705, -7.397500038146973, -7.437600135803223, -5.4822998046875, -6.541900157928467, -7.51140022277832, -5.557799816131592, -7.660600185394287, -7.671299934387207, -7.833099842071533, -7.852399826049805, -7.853499889373779, -7.894199848175049, -6.973700046539307, -7.953499794006348, -5.468900203704834, -7.976900100708008, -7.977099895477295, -8.026700019836426, -8.049699783325195, -8.110899925231934, -4.950300216674805, -8.119999885559082, -8.120599746704102, -8.136699676513672, -4.473700046539307, -6.3144001960754395, -7.295599937438965, -6.957099914550781, -5.939799785614014, -2.8499999046325684, -6.5920000076293945, -4.686100006103516, -7.432799816131592, -5.884699821472168, -5.541299819946289, -5.968800067901611, -5.360499858856201, -1.8586000204086304, -4.577499866485596, -3.9721999168395996, -5.660699844360352, -4.399799823760986, -4.095099925994873, -6.1280999183654785, -5.8394999504089355, -4.861599922180176, -5.1371002197265625, -5.462900161743164, -4.865300178527832, -5.32390022277832, -5.117800235748291, -5.754000186920166, -4.556600093841553, -4.458000183105469, -3.5055999755859375, -4.647799968719482, -3.7890000343322754, -4.214300155639648, -3.6721999645233154, -3.905400037765503, -4.269199848175049, -4.230599880218506, -5.182799816131592, -4.901100158691406, -5.080399990081787, -4.965199947357178, -4.910299777984619, -4.846199989318848, -5.133699893951416, -4.314199924468994, -4.952400207519531, -5.217100143432617, -5.235000133514404, -6.229400157928467, -6.295100212097168, -6.364799976348877, -6.572000026702881, -6.628300189971924, -6.698999881744385, -6.702700138092041, -6.743800163269043, -6.936200141906738, -6.956099987030029, -7.029300212860107, -7.043700218200684, -7.05210018157959, -7.094299793243408, -4.966700077056885, -7.157199859619141, -7.1828999519348145, -7.208199977874756, -7.2083001136779785, -7.2245001792907715, -5.842400074005127, -7.333199977874756, -7.342599868774414, -7.358099937438965, -7.406599998474121, -7.438899993896484, -5.5721001625061035, -5.59660005569458, -5.2683000564575195, -4.576399803161621, -4.42110013961792, -3.8220999240875244, -6.075900077819824, -5.493299961090088, -4.788700103759766, -4.194900035858154, -4.7399001121521, -4.538300037384033, -5.527699947357178, -5.642600059509277, -5.60099983215332, -5.7947998046875, -2.6723999977111816, -4.775100231170654, -5.1458001136779785, -5.450300216674805, -4.739500045776367, -4.918399810791016, -4.679299831390381, -4.982500076293945, -3.922499895095825, -4.952099800109863, -5.329999923706055, -4.095399856567383, -4.722499847412109, -4.483500003814697, -4.3979997634887695, -4.8703999519348145, -5.089900016784668, -4.902699947357178, -4.8597002029418945, -5.035099983215332, -5.154200077056885, -5.188000202178955, -5.5055999755859375, -6.59089994430542, -6.85099983215332, -6.860400199890137, -6.960700035095215, -7.088399887084961, -6.293000221252441, -7.197700023651123, -6.5802001953125, -3.6201000213623047, -7.352099895477295, -7.367199897766113, -7.430799961090088, -7.446499824523926, -7.464099884033203, -6.116499900817871, -7.647500038146973, -7.690700054168701, -7.780099868774414, -6.997399806976318, -7.875500202178955, -7.875999927520752, -7.875999927520752, -7.8765997886657715, -7.889999866485596, -7.903900146484375, -7.928299903869629, -7.956600189208984, -7.984000205993652, -8.008700370788574, -3.814500093460083, -6.186200141906738, -2.869499921798706, -4.916299819946289, -3.189300060272217, -6.75570011138916, -4.0472002029418945, -3.8169000148773193, -4.848599910736084, -5.542500019073486, -5.054699897766113, -6.467800140380859, -5.105899810791016, -3.122999906539917, -4.614200115203857, -4.6992998123168945, -3.075900077819824, -5.4257001876831055, -4.409200191497803, -5.265399932861328, -5.6570000648498535, -4.446899890899658, -5.17519998550415, -5.402299880981445, -5.753900051116943, -5.283699989318848, -3.9428000450134277, -4.44350004196167, -4.29040002822876, -4.030799865722656, -3.348400115966797, -3.572700023651123, -3.5237998962402344, -4.635300159454346, -4.3059000968933105, -4.890100002288818, -4.363100051879883, -4.817999839782715, -4.540599822998047, -5.0071001052856445, -5.076000213623047, -5.0690999031066895, -5.125400066375732, -5.168399810791016, -5.370999813079834, -5.38700008392334, -5.438499927520752, -5.463099956512451, -5.951300144195557, -5.973599910736084, -6.36929988861084, -6.491600036621094, -5.476500034332275, -6.578800201416016, -6.606900215148926, -6.667300224304199, -6.764699935913086, -6.823800086975098, -4.128699779510498, -6.907700061798096, -7.0117998123168945, -7.036399841308594, -7.07480001449585, -7.101099967956543, -7.129300117492676, -7.218400001525879, -7.229700088500977, -7.243800163269043, -7.259200096130371, -7.259300231933594, -7.374899864196777, -5.71589994430542, -4.879000186920166, -4.609600067138672, -4.591800212860107, -4.6519999504089355, -5.61959981918335, -5.35890007019043, -6.374300003051758, -4.468900203704834, -6.1057000160217285, -3.938999891281128, -5.654900074005127, -3.251499891281128, -5.832200050354004, -2.736299991607666, -5.95389986038208, -3.7404000759124756, -5.82859992980957, -5.176700115203857, -5.7530999183654785, -4.480299949645996, -5.631499767303467, -5.3333001136779785, -4.490300178527832, -4.137700080871582, -4.221700191497803, -5.493800163269043, -4.4359002113342285, -5.092700004577637, -4.388000011444092, -4.9980998039245605, -4.988900184631348, -4.837299823760986, -4.973700046539307, -5.1184000968933105, -5.155399799346924, -5.160099983215332, -5.201700210571289, -5.198999881744385, -5.1244001388549805, -5.167799949645996, -6.077400207519531, -6.673799991607666, -7.262499809265137, -6.320400238037109, -7.315299987792969, -6.968999862670898, -3.496299982070923, -7.890699863433838, -7.956999778747559, -3.2923998832702637, -5.320899963378906, -8.320599555969238, -8.335599899291992, -6.995699882507324, -8.410599708557129, -8.411100387573242, -8.482999801635742, -8.483799934387207, -8.53909969329834, -8.540900230407715, -8.660900115966797, -8.663700103759766, -7.406499862670898, -7.60099983215332, -5.510900020599365, -1.8798999786376953, -7.128600120544434, -7.257400035858154, -5.682199954986572, -8.90250015258789, -3.4028000831604004, -1.5526000261306763, -2.3292999267578125, -1.955899953842163, -4.457499980926514, -4.33519983291626, -3.938699960708618, -5.967700004577637, -4.768599987030029, -3.603600025177002, -6.228300094604492, -4.65500020980835, -5.691800117492676, -2.9834001064300537, -5.413300037384033, -6.433499813079834, -5.5524001121521, -5.566999912261963, -5.188000202178955, -4.172800064086914, -5.47629976272583, -5.490200042724609, -5.743899822235107, -5.98960018157959, -5.783299922943115, -5.938000202178955, -3.614000082015991, -4.687099933624268, -4.98859977722168, -5.11959981918335, -5.453700065612793, -5.492800235748291, -5.597799777984619, -5.709099769592285, -5.720200061798096, -5.765200138092041, -6.089900016784668, -6.191400051116943, -6.389800071716309, -6.474400043487549, -6.613500118255615, -6.746200084686279, -6.065100193023682, -6.875500202178955, -6.980599880218506, -7.0518999099731445, -7.054900169372559, -7.071199893951416, -7.115499973297119, -7.160600185394287, -6.981400012969971, -7.19189977645874, -5.672699928283691, -7.243899822235107, -7.2642998695373535, -5.999800205230713, -5.9440999031066895, -5.703700065612793, -5.544600009918213, -3.2490999698638916, -4.61870002746582, -6.252500057220459, -2.6470999717712402, -4.413899898529053, -5.518099784851074, -5.067599773406982, -2.860599994659424, -4.5883002281188965, -5.501100063323975, -5.1209001541137695, -5.191999912261963, -4.421500205993652, -3.423799991607666, -5.265399932861328, -4.82420015335083, -4.818299770355225, -4.839799880981445, -3.3264000415802, -4.122700214385986, -4.452499866485596, -4.625800132751465, -4.179699897766113, -4.349899768829346, -4.122600078582764, -4.611800193786621, -4.132900238037109, -4.762400150299072, -4.886600017547607, -4.857500076293945, -4.5980000495910645, -4.648399829864502, -5.0980000495910645, -3.8254001140594482, -4.087299823760986, -4.1631999015808105, -4.548900127410889, -4.6894001960754395, -5.472599983215332, -5.496600151062012, -5.4994001388549805, -5.732399940490723, -5.857600212097168, -6.131899833679199, -6.1585001945495605, -6.395899772644043, -6.50029993057251, -6.596799850463867, -6.676799774169922, -6.72730016708374, -6.733399868011475, -6.7779998779296875, -6.857800006866455, -6.919400215148926, -6.9328999519348145, -6.996699810028076, -7.01200008392334, -7.0295000076293945, -7.047500133514404, -7.063300132751465, -7.064599990844727, -7.078700065612793, -7.0904998779296875, -6.279900074005127, -4.7357001304626465, -6.152100086212158, -6.144800186157227, -4.473999977111816, -6.112800121307373, -5.528500080108643, -6.031400203704834, -5.937900066375732, -4.581999778747559, -5.003699779510498, -6.190800189971924, -4.9822001457214355, -5.090099811553955, -4.364999771118164, -5.621600151062012, -4.561399936676025, -3.669100046157837, -5.477799892425537, -5.142399787902832, -5.119200229644775, -5.229400157928467, -5.582300186157227, -3.9921998977661133, -5.066400051116943, -4.039999961853027, -5.157199859619141, -4.622399806976318, -4.942299842834473, -4.626399993896484, -4.511000156402588, -5.16949987411499, -4.742000102996826, -5.091800212860107, -5.224699974060059, -5.280600070953369, -5.260000228881836, -4.860000133514404, -5.826300144195557, -5.84250020980835, -4.409900188446045, -6.669899940490723, -6.97130012512207, -6.990699768066406, -7.151000022888184, -7.3582000732421875, -7.434100151062012, -6.349100112915039, -7.512199878692627, -7.535799980163574, -7.612400054931641, -7.656099796295166, -7.667699813842773, -7.668499946594238, -6.052999973297119, -7.69789981842041, -7.698299884796143, -7.700500011444092, -7.708700180053711, -7.729300022125244, -7.8302998542785645, -7.90500020980835, -7.907100200653076, -7.987800121307373, -7.99560022354126, -8.007200241088867, -8.02910041809082, -4.40880012512207, -4.956600189208984, -5.65880012512207, -2.145699977874756, -4.942800045013428, -3.320199966430664, -6.075799942016602, -5.416600227355957, -5.042300224304199, -4.249499797821045, -2.1033999919891357, -6.570199966430664, -4.31790018081665, -2.1429998874664307, -4.631999969482422, -3.7960000038146973, -5.229000091552734, -3.8580000400543213, -6.0278000831604, -4.837900161743164, -5.63040018081665, -2.958699941635132, -4.9116997718811035, -5.155600070953369, -3.273400068283081, -4.594600200653076, -4.741300106048584, -4.620699882507324, -5.416800022125244, -4.750500202178955, -5.285399913787842, -4.396900177001953, -4.450900077819824, -4.9440999031066895, -5.26800012588501, -1.992400050163269, -2.0947000980377197, -4.346700191497803, -6.597899913787842, -6.782299995422363, -6.867499828338623, -7.0945000648498535, -7.155300140380859, -7.185800075531006, -7.337900161743164, -7.377500057220459, -7.377699851989746, -7.466100215911865, -7.484600067138672, -7.509900093078613, -7.524600028991699, -7.6407999992370605, -7.649099826812744, -7.657100200653076, -6.804500102996826, -7.697199821472168, -7.6981000900268555, -7.698599815368652, -7.733399868011475, -7.817699909210205, -7.844799995422363, -7.845699787139893, -7.9096999168396, -7.933599948883057, -7.972400188446045, -4.9770002365112305, -4.176400184631348, -4.324900150299072, -3.8352999687194824, -6.559500217437744, -3.5536999702453613, -3.3125998973846436, -4.105899810791016, -4.5507001876831055, -5.5243000984191895, -3.8427999019622803, -6.1269001960754395, -6.559299945831299, -5.510799884796143, -6.151899814605713, -5.44890022277832, -4.912499904632568, -5.009200096130371, -5.701499938964844, -4.766900062561035, -6.03439998626709, -6.177199840545654, -2.986299991607666, -4.830699920654297, -4.315700054168701, -3.191800117492676, -3.9289000034332275, -5.061500072479248, -5.345900058746338, -4.686999797821045, -4.784999847412109, -3.7105000019073486, -4.692299842834473, -4.971700191497803, -4.7378997802734375, -4.7846999168396, -4.497499942779541, -4.83050012588501, -4.884900093078613, -6.514200210571289, -6.866199970245361, -6.91349983215332, -5.861499786376953, -7.224999904632568, -7.395599842071533, -7.4293999671936035, -7.432499885559082, -7.439300060272217, -7.497200012207031, -7.600200176239014, -7.639100074768066, -7.639699935913086, -7.6743998527526855, -7.771599769592285, -7.828199863433838, -7.912899971008301, -7.913300037384033, -7.91379976272583, -7.914400100708008, -7.9197001457214355, -7.958199977874756, -7.973400115966797, -8.111499786376953, -5.270599842071533, -5.69320011138916, -7.585599899291992, -8.346699714660645, -6.8846001625061035, -7.347400188446045, -3.2274999618530273, -4.64169979095459, -4.014999866485596, -3.469099998474121, -3.282099962234497, -4.943900108337402, -5.9334001541137695, -5.531000137329102, -4.906799793243408, -1.875, -6.78410005569458, -4.334199905395508, -2.85260009765625, -6.53879976272583, -3.4639999866485596, -6.959099769592285, -3.959199905395508, -4.211400032043457, -5.85830020904541, -4.172800064086914, -4.3744001388549805, -5.674900054931641, -4.282299995422363, -4.89769983291626, -4.153600215911865, -4.5690999031066895, -5.501299858093262, -2.9753000736236572, -3.220400094985962, -4.901599884033203, -5.094799995422363, -5.14109992980957, -4.976900100708008, -5.0081000328063965, -4.246300220489502, -4.812600135803223, -4.759900093078613, -5.029399871826172, -4.790599822998047, -4.751100063323975, -3.635699987411499, -4.984399795532227, -5.9096999168396, -6.5843000411987305, -6.6855998039245605, -6.686699867248535, -6.689300060272217, -6.820799827575684, -4.131800174713135, -6.920400142669678, -6.928299903869629, -6.978400230407715, -6.995299816131592, -7.029099941253662, -7.034999847412109, -7.068399906158447, -7.090099811553955, -5.845099925994873, -7.176799774169922, -7.196800231933594, -7.222899913787842, -7.307700157165527, -7.348599910736084, -7.442299842834473, -7.460299968719482, -7.4934000968933105, -7.5578999519348145, -7.566800117492676, -7.567200183868408, -7.592800140380859, -5.904600143432617, -4.93209981918335, -4.078000068664551, -2.777899980545044, -4.6666998863220215, -4.711400032043457, -6.482999801635742, -3.1651999950408936, -5.176499843597412, -5.526899814605713, -3.146199941635132, -4.9816999435424805, -4.0258002281188965, -4.724899768829346, -2.9173998832702637, -3.2853000164031982, -4.40910005569458, -3.8310999870300293, -6.22599983215332, -3.308799982070923, -4.029300212860107, -4.268599987030029, -3.908099889755249, -4.705599784851074, -4.9552998542785645, -3.012200117111206, -5.079599857330322, -4.617800235748291, -3.6656999588012695, -4.057499885559082, -4.529200077056885, -4.544300079345703, -4.163899898529053, -4.884500026702881, -4.938000202178955, -4.944200038909912, -2.4670000076293945, -3.7046000957489014, -4.1483001708984375, -4.209499835968018, -4.361299991607666, -6.449100017547607, -4.644999980926514, -6.624499797821045, -6.740499973297119, -4.0493998527526855, -7.190400123596191, -7.209099769592285, -7.313600063323975, -7.328000068664551, -7.39169979095459, -4.479700088500977, -7.46589994430542, -7.470399856567383, -7.479599952697754, -7.490300178527832, -7.554100036621094, -7.629499912261963, -7.716000080108643, -7.717199802398682, -6.640200138092041, -7.819699764251709, -7.867499828338623, -7.867700099945068, -7.868899822235107, -5.5046000480651855, -3.032099962234497, -2.696899890899658, -3.080199956893921, -5.964000225067139, -6.75, -6.065800189971924, -4.706699848175049, -3.7904000282287598, -5.752299785614014, -4.543000221252441, -4.796599864959717, -2.8171000480651855, -5.480000019073486, -4.968400001525879, -5.532700061798096, -5.173799991607666, -2.6552999019622803, -2.621999979019165, -5.114099979400635, -2.6285998821258545, -4.636300086975098, -3.587899923324585, -5.211900234222412, -3.8661999702453613, -4.713900089263916, -4.302199840545654, -4.976200103759766, -5.388800144195557, -3.515700101852417, -3.588099956512451, -4.049699783325195, -4.642300128936768, -5.128300189971924, -5.135000228881836, -5.824100017547607, -5.873300075531006, -6.043000221252441, -6.234799861907959, -6.247399806976318, -6.348999977111816, -6.401800155639648, -6.604899883270264, -6.693999767303467, -6.732100009918213, -6.799600124359131, -6.8414998054504395, -6.9278998374938965, -6.939199924468994, -6.969299793243408, -7.022799968719482, -7.024400234222412, -7.051599979400635, -7.05649995803833, -7.087800025939941, -7.092199802398682, -7.1006999015808105, -7.109600067138672, -7.128699779510498, -5.1203999519348145, -4.804599761962891, -3.7067999839782715, -3.495300054550171, -6.173699855804443, -5.789599895477295, -6.366600036621094, -4.903900146484375, -6.343900203704834, -3.072700023651123, -3.6466000080108643, -4.314000129699707, -5.596199989318848, -6.297399997711182, -4.5395002365112305, -4.722300052642822, -2.752700090408325, -5.105199813842773, -6.0046000480651855, -5.042399883270264, -5.928100109100342, -5.589799880981445, -4.898099899291992, -4.5229997634887695, -5.014400005340576, -4.158400058746338, -5.392000198364258, -4.860300064086914, -4.572800159454346, -5.01609992980957, -4.764400005340576, -4.497200012207031, -4.263899803161621, -4.442200183868408, -4.291299819946289, -4.877399921417236, -4.889400005340576, -4.911099910736084, -3.749300003051758, -3.9209001064300537, -4.383200168609619, -4.9629998207092285, -5.058000087738037, -5.259900093078613, -5.442999839782715, -5.540200233459473, -5.56879997253418, -5.584700107574463, -5.621600151062012, -5.814199924468994, -4.797699928283691, -6.076499938964844, -6.08050012588501, -6.111700057983398, -6.115300178527832, -6.153600215911865, -6.264900207519531, -3.7453999519348145, -6.32390022277832, -6.3572998046875, -6.7378997802734375, -6.793900012969971, -5.487800121307373, -4.321000099182129, -6.908699989318848, -6.9653000831604, -5.151299953460693, -7.146699905395508, -5.997000217437744, -3.6928000450134277, -3.9907000064849854, -5.01140022277832, -3.7946999073028564, -4.017199993133545, -4.278900146484375, -3.7393999099731445, -4.826499938964844, -5.193299770355225, -5.121600151062012, -4.6645002365112305, -5.763400077819824, -4.971799850463867, -5.066299915313721, -3.0452001094818115, -3.488600015640259, -5.078100204467773, -4.073999881744385, -3.497299909591675, -4.720799922943115, -4.365600109100342, -3.7943999767303467, -4.649600028991699, -4.36929988861084, -4.519999980926514, -4.508299827575684, -4.745699882507324, -4.619999885559082, -4.853000164031982, -4.867700099945068, -2.6749000549316406, -4.185500144958496, -5.293700218200684, -5.50439977645874, -5.592100143432617, -5.640999794006348, -5.643899917602539, -5.844699859619141, -4.114699840545654, -6.0345001220703125, -6.084199905395508, -6.124000072479248, -4.442200183868408, -6.238100051879883, -6.325399875640869, -6.336699962615967, -3.22979998588562, -6.515200138092041, -6.712200164794922, -6.803400039672852, -6.821700096130371, -6.8420000076293945, -6.8420000076293945, -6.866000175476074, -6.929100036621094, -6.959000110626221, -6.968500137329102, -6.973700046539307, -5.082900047302246, -5.568399906158447, -5.117599964141846, -4.982600212097168, -5.888299942016602, -4.330699920654297, -6.187900066375732, -3.601900100708008, -5.758500099182129, -6.085999965667725, -4.332399845123291, -2.2576000690460205, -6.060800075531006, -4.3790998458862305, -5.126800060272217, -5.617300033569336, -4.468599796295166, -4.315899848937988, -4.498300075531006, -3.25570011138916, -5.006100177764893, -2.975600004196167, -4.492099761962891, -4.3983001708984375, -5.178999900817871, -4.5817999839782715, -4.452199935913086, -4.148399829864502, -3.906599998474121, -4.9928998947143555, -4.885499954223633, -4.388000011444092, -5.01140022277832, -5.012400150299072, -5.097899913787842], \"loglift\": [30.0, 29.0, 28.0, 27.0, 26.0, 25.0, 24.0, 23.0, 22.0, 21.0, 20.0, 19.0, 18.0, 17.0, 16.0, 15.0, 14.0, 13.0, 12.0, 11.0, 10.0, 9.0, 8.0, 7.0, 6.0, 5.0, 4.0, 3.0, 2.0, 1.0, 2.122299909591675, 2.11680006980896, 2.1140999794006348, 2.1052000522613525, 2.099100112915039, 2.0871999263763428, 2.08489990234375, 2.083400011062622, 2.0815000534057617, 2.0810999870300293, 2.080399990081787, 2.0773000717163086, 2.0738000869750977, 2.0732998847961426, 2.0648999214172363, 2.063800096511841, 2.063699960708618, 2.061300039291382, 2.0601999759674072, 2.0576999187469482, 2.0576000213623047, 2.0562000274658203, 2.0562000274658203, 2.0529000759124756, 2.0513999462127686, 2.046999931335449, 2.046799898147583, 2.0464000701904297, 2.046299934387207, 2.045099973678589, 2.0213000774383545, 2.0346999168395996, 2.04229998588562, 2.038800001144409, 2.0272998809814453, 1.9598000049591064, 2.015000104904175, 1.937399983406067, 2.036600112915039, 1.9574999809265137, 1.92739999294281, 1.9505000114440918, 1.9069000482559204, 1.6548999547958374, 1.8417999744415283, 1.7680000066757202, 1.8940000534057617, 1.715399980545044, 1.641700029373169, 1.8976000547409058, 1.8533999919891357, 1.6887999773025513, 1.7130999565124512, 1.770799994468689, 1.642899990081787, 1.7350000143051147, 1.6053999662399292, 1.726099967956543, 1.1291999816894531, 1.0579999685287476, 0.5202000141143799, 1.0788999795913696, 0.36340001225471497, 0.6618000268936157, 0.18070000410079956, 0.3828999996185303, 0.4507000148296356, 0.36570000648498535, 1.3788000345230103, 0.6823999881744385, 0.9764999747276306, 0.19030000269412994, -0.08579999953508377, -0.6498000025749207, 0.3619000017642975, 2.2595999240875244, 2.256700038909912, 2.256700038909912, 2.2565999031066895, 2.247999906539917, 2.246999979019165, 2.246000051498413, 2.2423999309539795, 2.241300106048584, 2.2399001121520996, 2.239799976348877, 2.2388999462127686, 2.234100103378296, 2.233599901199341, 2.2314999103546143, 2.2309999465942383, 2.230799913406372, 2.2291998863220215, 2.228600025177002, 2.227400064468384, 2.2265000343322754, 2.2256999015808105, 2.225600004196167, 2.225100040435791, 2.2221999168395996, 2.2209999561309814, 2.220599889755249, 2.2200000286102295, 2.217900037765503, 2.2165000438690186, 2.2102999687194824, 2.179500102996826, 2.0817999839782715, 2.0272998809814453, 1.9940999746322632, 1.9027999639511108, 2.1217000484466553, 2.0276999473571777, 1.9349000453948975, 1.8203999996185303, 1.837399959564209, 1.77839994430542, 1.9006999731063843, 1.9163999557495117, 1.896399974822998, 1.9265999794006348, 0.8410999774932861, 1.4359999895095825, 1.4660999774932861, 1.613700032234192, 1.2211999893188477, 1.3061000108718872, 1.0997999906539917, 1.2889000177383423, 0.36570000648498535, 1.163100004196167, 1.506100058555603, 0.10100000351667404, 0.7138000130653381, 0.3926999866962433, -0.37220001220703125, -0.045899998396635056, 0.6287000179290771, -0.09290000051259995, -0.26350000500679016, 0.10140000283718109, 0.5825999975204468, 0.5565999746322632, 2.3963000774383545, 2.381200075149536, 2.374500036239624, 2.3742001056671143, 2.3712000846862793, 2.36680006980896, 2.365600109100342, 2.362499952316284, 2.357800006866455, 2.357599973678589, 2.355799913406372, 2.35509991645813, 2.351900100708008, 2.351099967956543, 2.3501999378204346, 2.3461999893188477, 2.3396999835968018, 2.3369998931884766, 2.330899953842163, 2.330199956893921, 2.323899984359741, 2.3238000869750977, 2.3238000869750977, 2.3238000869750977, 2.3227999210357666, 2.321700096130371, 2.319700002670288, 2.3173999786376953, 2.3150999546051025, 2.312999963760376, 2.3085999488830566, 2.308300018310547, 2.2499001026153564, 2.2528998851776123, 2.166800022125244, 2.27839994430542, 2.1598000526428223, 2.1458001136779785, 2.150099992752075, 2.1796998977661133, 2.121799945831299, 2.227299928665161, 2.069700002670288, 1.8284000158309937, 1.9759999513626099, 1.958899974822998, 1.6302000284194946, 2.018399953842163, 1.8166999816894531, 1.9617999792099, 2.043800115585327, 1.767199993133545, 1.851699948310852, 1.9038000106811523, 1.9701999425888062, 1.7900999784469604, 1.2157000303268433, 1.386199951171875, 1.225600004196167, 0.845300018787384, 0.22939999401569366, 0.37619999051094055, 0.24150000512599945, 1.1196999549865723, 0.7422000169754028, 1.301900029182434, 0.35670000314712524, 1.0391000509262085, -0.3440999984741211, 0.7763000130653381, 0.9169999957084656, 2.4839999675750732, 2.4837000370025635, 2.4834001064300537, 2.482100009918213, 2.4820001125335693, 2.481600046157837, 2.4814000129699707, 2.476300001144409, 2.4760000705718994, 2.469599962234497, 2.4670000076293945, 2.4656999111175537, 2.464400053024292, 2.4642999172210693, 2.4626998901367188, 2.460099935531616, 2.4583001136779785, 2.45740008354187, 2.4556000232696533, 2.4519999027252197, 2.4509999752044678, 2.4495999813079834, 2.448499917984009, 2.4474000930786133, 2.44350004196167, 2.443000078201294, 2.4423999786376953, 2.441699981689453, 2.441699981689453, 2.436000108718872, 2.4279000759124756, 2.4021999835968018, 2.3619000911712646, 2.338599920272827, 2.268399953842163, 2.2973999977111816, 2.213200092315674, 2.343100070953369, 1.945099949836731, 2.2407000064849854, 1.680999994277954, 2.100399971008301, 1.3447999954223633, 2.1391000747680664, 1.0290000438690186, 2.16510009765625, 1.2109999656677246, 2.1064000129699707, 1.7274999618530273, 2.03629994392395, 1.2462999820709229, 1.9457000494003296, 1.6857000589370728, 0.7796000242233276, 0.014700000174343586, -0.36880001425743103, 1.7043999433517456, -0.147599995136261, 0.967199981212616, -0.3621000051498413, 0.6876999735832214, 0.44749999046325684, -0.012900000438094139, 0.16279999911785126, 0.6642000079154968, 0.8052999973297119, 0.19599999487400055, 0.5385000109672546, 0.3285999894142151, -0.9279000163078308, -0.4478999972343445, 2.561300039291382, 2.54830002784729, 2.525399923324585, 2.5237998962402344, 2.522700071334839, 2.4899001121520996, 2.4825000762939453, 2.4818999767303467, 2.4756999015808105, 2.4693000316619873, 2.441200017929077, 2.4340999126434326, 2.4321000576019287, 2.42930006980896, 2.421600103378296, 2.4214999675750732, 2.410799980163574, 2.4107000827789307, 2.4019999504089355, 2.401700019836426, 2.3812999725341797, 2.3808000087738037, 2.3559000492095947, 2.2916998863220215, 2.2795000076293945, 2.2725000381469727, 2.2183001041412354, 2.1617000102996826, 2.1533000469207764, 2.1493000984191895, 2.0927999019622803, 2.025099992752075, 1.958899974822998, 1.8969999551773071, 2.025399923324585, 1.995300054550171, 1.6447999477386475, 1.9729000329971313, 1.6347999572753906, 1.2868000268936157, 1.9074000120162964, 1.354099988937378, 1.5835000276565552, 0.5300999879837036, 1.3055000305175781, 1.7913999557495117, 1.2595000267028809, 1.246399998664856, 0.8798999786376953, -0.1468999981880188, 0.8988999724388123, 0.7343000173568726, 0.7437999844551086, 1.059999942779541, -0.21449999511241913, 0.5087000131607056, 2.6956000328063965, 2.692500114440918, 2.6909000873565674, 2.6900999546051025, 2.687299966812134, 2.6868999004364014, 2.685800075531006, 2.6844000816345215, 2.684299945831299, 2.6837000846862793, 2.6786000728607178, 2.6767001152038574, 2.6721999645233154, 2.670099973678589, 2.666100025177002, 2.661799907684326, 2.6582999229431152, 2.6570000648498535, 2.652600049972534, 2.649399995803833, 2.6493000984191895, 2.6484999656677246, 2.646399974822998, 2.6440999507904053, 2.6440000534057617, 2.642400026321411, 2.6405999660491943, 2.6396000385284424, 2.638400077819824, 2.6363000869750977, 2.6278998851776123, 2.6240999698638916, 2.598099946975708, 2.495500087738037, 2.527100086212158, 2.6059000492095947, 2.4010000228881836, 2.507999897003174, 2.5401999950408936, 2.493799924850464, 2.2978999614715576, 2.4298999309539795, 2.50219988822937, 2.442699909210205, 2.42330002784729, 2.2081000804901123, 1.7950999736785889, 2.3770999908447266, 2.2060000896453857, 2.1473000049591064, 2.1168999671936035, 1.2682000398635864, 1.5835000276565552, 1.711400032043457, 1.6303000450134277, 1.0901999473571777, 1.0780999660491943, 0.5972999930381775, 1.0384000539779663, 0.06350000202655792, 0.6739000082015991, 0.991100013256073, 0.6700999736785889, -0.7450000047683716, -0.6995999813079834, 0.4708000123500824, 2.7153000831604004, 2.7146999835968018, 2.7144999504089355, 2.713200092315674, 2.712599992752075, 2.7070000171661377, 2.7067999839782715, 2.7067999839782715, 2.7039999961853027, 2.7023000717163086, 2.6975998878479004, 2.6970999240875244, 2.691800117492676, 2.688999891281128, 2.686199903488159, 2.6835999488830566, 2.6819000244140625, 2.6816999912261963, 2.6800999641418457, 2.6770999431610107, 2.6745998859405518, 2.674099922180176, 2.671299934387207, 2.670599937438965, 2.669800043106079, 2.6689000129699707, 2.6682000160217285, 2.668100118637085, 2.6673998832702637, 2.666800022125244, 2.645900011062622, 2.564500093460083, 2.6250998973846436, 2.623300075531006, 2.532399892807007, 2.617300033569336, 2.507499933242798, 2.5599000453948975, 2.5473999977111816, 2.36080002784729, 2.3554000854492188, 2.5648999214172363, 2.2976999282836914, 2.3113999366760254, 2.122999906539917, 2.4268999099731445, 2.0715999603271484, 1.767300009727478, 2.331700086593628, 2.1138999462127686, 2.088599920272827, 2.1384999752044678, 2.2934999465942383, 1.2776999473571777, 1.8162000179290771, 0.5562999844551086, 1.6016000509262085, 0.32899999618530273, 0.945900022983551, 0.09350000321865082, -0.31450000405311584, 1.1576000452041626, -0.4537000060081482, 0.4359000027179718, 0.5587000250816345, 0.7763000130653381, 0.23559999465942383, 2.7701001167297363, 2.760499954223633, 2.7602999210357666, 2.7588999271392822, 2.7404000759124756, 2.728100061416626, 2.7272000312805176, 2.7190001010894775, 2.7063000202178955, 2.7009999752044678, 2.696899890899658, 2.695199966430664, 2.6933000087738037, 2.687000036239624, 2.683199882507324, 2.6821999549865723, 2.6821000576019287, 2.6796000003814697, 2.6793999671936035, 2.6793999671936035, 2.6791999340057373, 2.6784000396728516, 2.676500082015991, 2.6665000915527344, 2.6584999561309814, 2.6582999229431152, 2.6489999294281006, 2.6480000019073486, 2.6466000080108643, 2.643899917602539, 2.620300054550171, 2.6048998832702637, 2.612299919128418, 2.448899984359741, 2.5490000247955322, 2.4342000484466553, 2.5708999633789062, 2.50570011138916, 2.442199945449829, 2.3533999919891357, 2.093100070953369, 2.562999963760376, 2.161900043487549, 1.805899977684021, 2.1974000930786133, 2.061199903488159, 2.2323999404907227, 1.8969999551773071, 2.3320999145507812, 1.9562000036239624, 2.1373000144958496, 0.8065999746322632, 1.746500015258789, 1.8499000072479248, 0.7523999810218811, 1.3984999656677246, 1.4728000164031982, 1.2089999914169312, 1.9371000528335571, 1.1742000579833984, 1.7648999691009521, 0.47920000553131104, 0.3736000061035156, -0.23800000548362732, 1.037500023841858, 2.8427000045776367, 2.840399980545044, 2.8392999172210693, 2.8010001182556152, 2.8006999492645264, 2.796999931335449, 2.785599946975708, 2.782099962234497, 2.7802999019622803, 2.770400047302246, 2.7674999237060547, 2.7674999237060547, 2.7607998847961426, 2.7592999935150146, 2.7572999000549316, 2.7560999393463135, 2.745800018310547, 2.7451000213623047, 2.74429988861084, 2.7418999671936035, 2.740499973297119, 2.7404000759124756, 2.740299940109253, 2.7369000911712646, 2.7279999256134033, 2.725100040435791, 2.7249999046325684, 2.717600107192993, 2.7147998809814453, 2.7100000381469727, 2.684999942779541, 2.647599935531616, 2.6356000900268555, 2.573699951171875, 2.684299945831299, 2.5423998832702637, 2.4665000438690186, 2.3680999279022217, 2.4056999683380127, 2.49180006980896, 2.270900011062622, 2.5515999794006348, 2.5896999835968018, 2.4326000213623047, 2.526900053024292, 2.371000051498413, 2.165800094604492, 2.1602001190185547, 2.3433001041412354, 2.055500030517578, 2.4047000408172607, 2.4124999046325684, 0.9625999927520752, 1.7721999883651733, 1.4392999410629272, 0.8339999914169312, 1.2074999809265137, 1.7325999736785889, 1.7975000143051147, 1.239400029182434, 1.274899959564209, 0.05480000004172325, 1.0621999502182007, 1.3450000286102295, 0.8934999704360962, 0.9401999711990356, 0.32690000534057617, 0.819599986076355, -0.17890000343322754, 2.8687000274658203, 2.8545000553131104, 2.8522000312805176, 2.8343000411987305, 2.8341000080108643, 2.8217999935150146, 2.8190999031066895, 2.8189001083374023, 2.8183000087738037, 2.8134000301361084, 2.8041999340057373, 2.8004000186920166, 2.8004000186920166, 2.7969000339508057, 2.7867000102996826, 2.7802999019622803, 2.7701001167297363, 2.7701001167297363, 2.7699999809265137, 2.76990008354187, 2.7692999839782715, 2.764400005340576, 2.762399911880493, 2.7430999279022217, 2.7314000129699707, 2.7297000885009766, 2.7084999084472656, 2.7046000957489014, 2.6953001022338867, 2.6521999835968018, 2.4226999282836914, 2.4702000617980957, 2.3780999183654785, 2.313499927520752, 2.2867000102996826, 2.439199924468994, 2.539299964904785, 2.4511001110076904, 2.361299991607666, 1.8903000354766846, 2.6133999824523926, 2.1596999168395996, 1.8535000085830688, 2.5253000259399414, 1.69159996509552, 2.618299961090088, 1.746999979019165, 1.7132999897003174, 2.2611000537872314, 1.6568000316619873, 1.6825000047683716, 2.1686999797821045, 1.5952999591827393, 1.8382999897003174, 1.3740999698638916, 1.4987000226974487, 1.9738999605178833, 0.6025000214576721, 0.6324999928474426, 1.6304999589920044, 1.7537000179290771, 1.6813000440597534, 1.4699000120162964, 1.500100016593933, 0.47350001335144043, 0.97079998254776, 0.802299976348877, 1.384600043296814, 0.7253999710083008, 0.38530001044273376, 2.9237000942230225, 2.9179000854492188, 2.9063000679016113, 2.8879001140594482, 2.8838999271392822, 2.8838999271392822, 2.8838000297546387, 2.878000020980835, 2.8756000995635986, 2.873199939727783, 2.87280011177063, 2.8701000213623047, 2.8691999912261963, 2.867300033569336, 2.867000102996826, 2.8650999069213867, 2.863800048828125, 2.859800100326538, 2.8584001064300537, 2.8570001125335693, 2.855299949645996, 2.849299907684326, 2.8461999893188477, 2.83870005607605, 2.8371999263763428, 2.834399938583374, 2.8285000324249268, 2.8278000354766846, 2.827699899673462, 2.8252999782562256, 2.8222999572753906, 2.8078999519348145, 2.747999906539917, 2.650099992752075, 2.703399896621704, 2.6863999366760254, 2.781899929046631, 2.553499937057495, 2.6963000297546387, 2.7179999351501465, 2.4979000091552734, 2.6250998973846436, 2.4795000553131104, 2.5618999004364014, 2.3015999794006348, 2.3345999717712402, 2.3687000274658203, 2.2286999225616455, 2.7072999477386475, 1.9610999822616577, 2.027600049972534, 2.0027999877929688, 1.7777999639511108, 2.0971999168395996, 2.00600004196167, 0.9366999864578247, 1.895900011062622, 1.4391000270843506, 0.36010000109672546, 0.6624000072479248, 1.1770999431610107, 0.592199981212616, -0.5860999822616577, -0.060100000351667404, 0.9814000129699707, 1.0202000141143799, 3.11929988861084, 3.117500066757202, 3.115999937057495, 3.115799903869629, 3.1150999069213867, 3.0801000595092773, 3.0754001140594482, 3.0725998878479004, 3.0669000148773193, 3.0562000274658203, 3.0378000736236572, 3.036400079727173, 3.0274999141693115, 3.0262999534606934, 3.020400047302246, 3.015199899673462, 3.0130999088287354, 3.0125999450683594, 3.011699914932251, 3.0106000900268555, 3.0037999153137207, 2.9951999187469482, 2.9846999645233154, 2.984499931335449, 2.9755001068115234, 2.970900058746338, 2.964200019836426, 2.964099884033203, 2.9639999866485596, 2.961199998855591, 2.8942999839782715, 2.865299940109253, 2.839099884033203, 2.914900064468384, 2.9024999141693115, 2.7660000324249268, 2.5736000537872314, 2.4154000282287598, 2.7181999683380127, 2.5072999000549316, 2.476599931716919, 2.0074000358581543, 2.541800022125244, 2.3454999923706055, 2.440999984741211, 2.30679988861084, 1.3704999685287476, 1.3269000053405762, 2.273200035095215, 0.9491999745368958, 1.9377000331878662, 1.3026000261306763, 2.2363998889923096, 1.2702000141143799, 1.6613999605178833, 0.40389999747276306, 1.4979000091552734, 1.8502999544143677, 3.137700080871582, 3.1373000144958496, 3.1361000537872314, 3.1331000328063965, 3.1289000511169434, 3.1287999153137207, 3.118000030517578, 3.1168999671936035, 3.1126999855041504, 3.107100009918213, 3.1066999435424805, 3.1031999588012695, 3.101300001144409, 3.0927999019622803, 3.0885000228881836, 3.0866000652313232, 3.082900047302246, 3.0806000232696533, 3.0754001140594482, 3.074700117111206, 3.0727999210357666, 3.069200038909912, 3.0690999031066895, 3.067199945449829, 3.0669000148773193, 3.0645999908447266, 3.064300060272217, 3.063699960708618, 3.062999963760376, 3.0615999698638916, 3.0485000610351562, 3.039400100708008, 2.9839999675750732, 2.9319000244140625, 3.0230000019073486, 2.9658000469207764, 3.007999897003174, 2.865799903869629, 3.005500078201294, 2.5587000846862793, 2.5882999897003174, 2.6259000301361084, 2.8480000495910645, 2.962599992752075, 2.5171000957489014, 2.560499906539917, 1.843500018119812, 2.5808000564575195, 2.868499994277954, 2.4574999809265137, 2.8315999507904053, 2.6612000465393066, 2.2853000164031982, 2.038599967956543, 2.2434000968933105, 1.5681999921798706, 2.4307000637054443, 1.9758000373840332, 1.5410000085830688, 1.989400029182434, 1.6514999866485596, 1.0715999603271484, 0.6266000270843506, 0.7134000062942505, 0.428600013256073, 1.3485000133514404, 1.2745000123977661, -0.3165000081062317, 3.1414999961853027, 3.1410000324249268, 3.1389999389648438, 3.1349000930786133, 3.134000062942505, 3.1315999031066895, 3.1291000843048096, 3.1275999546051025, 3.1270999908447266, 3.126800060272217, 3.126199960708618, 3.1224000453948975, 3.1194000244140625, 3.1159000396728516, 3.115799903869629, 3.1149001121520996, 3.114799976348877, 3.1136999130249023, 3.110100030899048, 3.109800100326538, 3.108099937438965, 3.1068999767303467, 3.0899999141693115, 3.086899995803833, 3.0840001106262207, 3.082200050354004, 3.080199956893921, 3.0766000747680664, 3.0729000568389893, 3.0636000633239746, 3.054500102996826, 3.0220000743865967, 2.9860000610351562, 2.9993999004364014, 2.9052999019622803, 2.910399913787842, 2.865600109100342, 2.729300022125244, 2.688199996948242, 2.783799886703491, 2.7458999156951904, 2.542099952697754, 2.9719998836517334, 2.587899923324585, 2.543299913406372, 0.7200999855995178, 0.7077999711036682, 2.4588000774383545, 1.0815999507904053, 0.0803999975323677, 1.9088000059127808, 1.1620999574661255, 0.05849999934434891, 1.3595000505447388, 0.350600004196167, 0.599399983882904, 0.4429999887943268, 1.2474000453948975, 0.42809998989105225, 1.6686999797821045, -0.043299999088048935, 3.384399890899658, 3.3801000118255615, 3.3691000938415527, 3.3652000427246094, 3.3633999824523926, 3.362299919128418, 3.3622000217437744, 3.357100009918213, 3.356600046157837, 3.3512001037597656, 3.3494999408721924, 3.348099946975708, 3.346299886703491, 3.343600034713745, 3.339900016784668, 3.3392999172210693, 3.33240008354187, 3.3304998874664307, 3.3189001083374023, 3.3127999305725098, 3.311500072479248, 3.309999942779541, 3.309999942779541, 3.308300018310547, 3.3034000396728516, 3.3010001182556152, 3.300299882888794, 3.299799919128418, 3.2987000942230225, 3.2936999797821045, 3.2399001121520996, 3.2174999713897705, 3.2407000064849854, 3.140000104904175, 3.2434000968933105, 2.977799892425537, 3.198899984359741, 3.227400064468384, 2.9607999324798584, 2.6328999996185303, 3.1970999240875244, 2.6210999488830566, 2.854599952697754, 3.0118000507354736, 2.4367001056671143, 2.2960000038146973, 2.3664000034332275, 1.6203999519348145, 2.6415998935699463, 0.8773000240325928, 1.8350000381469727, 1.431399941444397, 2.437999963760376, 1.645900011062622, 1.4359999895095825, 1.007200002670288, 0.1193000003695488, 2.1524999141693115, 1.8626999855041504, 0.43639999628067017, 1.2144999504089355, 0.4832000136375427, 1.1079000234603882]}, \"token.table\": {\"Topic\": [4, 6, 2, 4, 9, 13, 2, 4, 7, 9, 15, 1, 2, 4, 14, 2, 4, 14, 7, 9, 12, 15, 12, 2, 9, 3, 2, 7, 9, 5, 2, 7, 9, 13, 10, 11, 2, 7, 9, 13, 1, 2, 4, 8, 9, 1, 2, 4, 6, 7, 9, 4, 13, 2, 4, 9, 11, 11, 2, 4, 9, 11, 9, 2, 9, 13, 1, 5, 1, 2, 1, 2, 8, 13, 7, 1, 2, 1, 2, 3, 4, 7, 13, 1, 2, 4, 4, 3, 4, 7, 9, 13, 1, 13, 1, 2, 4, 15, 4, 7, 15, 4, 6, 12, 15, 12, 5, 9, 12, 5, 12, 1, 7, 1, 1, 2, 8, 7, 4, 1, 2, 7, 14, 4, 11, 11, 8, 4, 4, 14, 13, 12, 4, 15, 10, 11, 3, 4, 7, 9, 10, 15, 5, 4, 11, 4, 4, 11, 4, 4, 6, 11, 13, 15, 4, 11, 13, 9, 15, 8, 9, 3, 4, 4, 4, 6, 15, 6, 1, 7, 10, 4, 7, 5, 4, 7, 13, 5, 15, 2, 2, 14, 4, 13, 6, 15, 1, 4, 4, 4, 7, 15, 5, 15, 5, 6, 13, 1, 2, 9, 1, 3, 4, 6, 7, 8, 9, 11, 12, 13, 14, 4, 6, 8, 12, 7, 3, 4, 6, 7, 9, 2, 4, 7, 8, 4, 7, 14, 2, 3, 4, 7, 8, 10, 11, 13, 14, 11, 6, 7, 3, 10, 2, 5, 3, 9, 9, 1, 2, 10, 3, 4, 6, 7, 9, 3, 4, 5, 10, 12, 14, 14, 15, 1, 3, 5, 6, 7, 8, 9, 11, 13, 1, 2, 3, 4, 5, 7, 10, 12, 13, 12, 4, 11, 4, 7, 3, 4, 7, 14, 3, 9, 2, 3, 7, 9, 13, 10, 3, 15, 9, 6, 6, 13, 12, 1, 3, 4, 5, 7, 8, 10, 12, 15, 2, 6, 6, 11, 6, 2, 4, 7, 10, 14, 7, 11, 10, 1, 5, 14, 1, 10, 13, 14, 1, 2, 11, 5, 13, 5, 1, 2, 5, 7, 13, 10, 15, 1, 4, 5, 13, 5, 14, 2, 6, 7, 11, 13, 9, 4, 13, 14, 12, 7, 1, 3, 4, 6, 7, 11, 13, 14, 8, 9, 12, 4, 6, 14, 3, 2, 4, 7, 3, 6, 7, 14, 7, 15, 2, 13, 1, 8, 9, 10, 14, 1, 13, 1, 7, 8, 9, 10, 11, 11, 2, 14, 1, 1, 6, 3, 1, 2, 13, 6, 7, 1, 2, 3, 4, 5, 6, 7, 8, 9, 11, 12, 13, 14, 15, 4, 8, 1, 2, 4, 7, 8, 10, 11, 14, 7, 1, 2, 3, 14, 13, 2, 6, 7, 8, 13, 3, 2, 3, 4, 6, 7, 8, 9, 10, 13, 14, 10, 13, 9, 14, 1, 2, 6, 7, 9, 2, 4, 6, 7, 9, 1, 4, 5, 10, 11, 13, 2, 7, 14, 3, 8, 10, 15, 6, 10, 12, 14, 15, 8, 4, 12, 7, 8, 4, 6, 7, 10, 11, 14, 2, 13, 2, 7, 13, 14, 9, 11, 2, 6, 2, 3, 7, 8, 9, 10, 13, 15, 7, 15, 5, 6, 13, 1, 1, 4, 6, 7, 13, 1, 3, 4, 5, 7, 12, 13, 14, 4, 9, 3, 3, 4, 6, 7, 3, 4, 7, 2, 3, 7, 8, 1, 2, 3, 6, 7, 8, 13, 6, 9, 15, 1, 2, 4, 5, 7, 10, 15, 10, 8, 3, 6, 9, 10, 11, 4, 7, 9, 14, 7, 8, 4, 12, 13, 12, 12, 14, 2, 4, 8, 9, 14, 4, 6, 13, 2, 14, 3, 4, 8, 9, 2, 4, 6, 7, 8, 11, 12, 2, 1, 4, 5, 13, 1, 4, 6, 10, 13, 9, 1, 2, 5, 13, 2, 5, 15, 9, 2, 15, 2, 1, 2, 3, 4, 6, 7, 14, 15, 3, 2, 13, 1, 2, 4, 7, 11, 9, 15, 9, 11, 7, 2, 8, 1, 7, 3, 6, 7, 14, 15, 2, 7, 4, 7, 8, 10, 8, 9, 10, 15, 5, 1, 2, 6, 14, 6, 3, 8, 14, 15, 8, 3, 6, 7, 8, 13, 6, 14, 7, 1, 2, 4, 3, 9, 1, 15, 14, 1, 2, 3, 4, 7, 9, 13, 1, 2, 3, 3, 6, 7, 8, 9, 11, 14, 6, 9, 3, 9, 14, 3, 10, 2, 1, 13, 1, 8, 14, 10, 6, 15, 15, 15, 10, 14, 14, 1, 2, 4, 5, 14, 15, 1, 6, 7, 10, 14, 2, 6, 14, 2, 4, 7, 13, 14, 15, 2, 4, 6, 8, 13, 15, 6, 11, 11, 14, 4, 12, 1, 2, 7, 13, 1, 2, 3, 4, 5, 6, 7, 9, 11, 14, 15, 2, 4, 5, 10, 11, 14, 15, 2, 4, 11, 3, 4, 6, 7, 8, 9, 11, 3, 6, 7, 10, 11, 14, 15, 1, 5, 6, 7, 10, 15, 10, 1, 2, 4, 6, 7, 8, 11, 13, 14, 15, 1, 2, 4, 5, 7, 8, 13, 11, 3, 4, 8, 10, 11, 14, 2, 6, 7, 10, 13, 15, 1, 2, 2, 3, 13, 3, 10, 7, 12, 3, 4, 7, 13, 15, 4, 12, 3, 10, 15, 13, 3, 9, 14, 4, 14, 11, 11, 1, 2, 3, 4, 6, 7, 8, 9, 10, 11, 12, 14, 15, 12, 3, 9, 11, 8, 2, 3, 4, 7, 9, 12, 13, 14, 1, 2, 6, 8, 11, 12, 6, 1, 2, 3, 4, 6, 7, 8, 9, 11, 12, 14, 4, 8, 1, 2, 3, 4, 5, 6, 10, 11, 14, 15, 3, 4, 14, 15, 8, 12, 9, 8, 9, 8, 9, 8, 9, 11, 14, 9, 8, 9, 12, 10, 14, 1, 3, 4, 5, 6, 7, 10, 11, 12, 14, 13, 4, 9, 13, 3, 7, 9, 10, 11, 7, 13, 14, 15, 2, 4, 6, 11, 12, 4, 8, 14, 12, 13, 1, 2, 4, 5, 7, 14, 5, 12, 1, 2, 4, 6, 7, 8, 10, 15, 1, 2, 12, 14, 1, 2, 7, 8, 7, 8, 2, 3, 7, 9, 3, 10, 6, 8, 9, 11, 12, 14, 3, 4, 6, 10, 14, 10, 7, 2, 12, 13, 10, 10, 6, 7, 11, 4, 11, 10, 10, 13, 1, 4, 7, 10, 11, 3, 6, 8, 3, 1, 3, 3, 4, 7, 14, 15, 7, 4, 11, 4, 6, 11, 3, 1, 2, 4, 5, 7, 9, 13, 14, 15, 2, 7, 10, 12, 13, 15, 3, 2, 7, 1, 3, 8, 9, 10, 12, 14, 7, 6, 8, 11, 1, 2, 3, 4, 6, 7, 9, 13, 15, 12, 4, 7, 12, 1, 12, 11, 2, 4, 7, 14, 1, 4, 6, 7, 11, 13, 14, 1, 2, 1, 8, 14, 8, 1, 2, 2, 3, 7, 8, 9, 10, 11, 3, 12, 7, 3, 6, 7, 11, 1, 2, 4, 5, 6, 11, 2, 6, 6, 7, 5, 6, 8, 10, 15, 1, 2, 3, 4, 6, 7, 8, 9, 10, 11, 12, 13, 14, 3, 4, 8, 4, 2, 3, 4, 7, 3, 7, 1, 2, 4, 6, 7, 9, 10, 13, 3, 4, 6, 7, 4, 1, 9, 1, 2, 3, 4, 1, 2, 3, 6, 12, 1, 2, 1, 2, 3, 4, 6, 7, 9, 10, 11, 14, 15, 1, 3, 6, 7, 9, 10, 11, 13, 14, 7, 3, 6, 8, 9, 11, 12, 1, 2, 4, 5, 6, 7, 10, 14, 2, 7, 14, 14, 1, 6, 7, 1, 3, 4, 6, 7, 8, 9, 11, 12, 13, 11, 8, 2, 4, 5, 6, 7, 13, 14, 2, 7, 11, 14, 6, 14, 15, 7, 14, 14, 8, 15, 2, 4, 7, 8, 4, 3, 4, 7, 7, 11, 8, 9, 1, 2, 4, 5, 6, 10, 12, 13, 14, 15, 1, 2, 7, 9, 14, 15, 8, 2, 2, 3, 14, 3, 7, 14, 1, 13, 1, 3, 4, 8, 12, 13, 13, 15, 1, 2, 3, 4, 6, 7, 9, 10, 13, 14, 15, 12, 2, 3, 2, 4, 6, 7, 8, 11, 5, 6, 7, 10, 11, 13, 14, 13, 12, 6, 4, 13, 15, 8, 6, 14, 4, 2, 7, 14, 9, 12, 2, 7, 9, 13, 13, 1, 2, 7, 13, 6, 7, 15, 1, 1, 2, 3, 4, 5, 6, 7, 9, 10, 11, 13, 14, 15, 9, 2, 6, 11, 15, 6, 1, 2, 13, 13, 13, 10, 2, 6, 7, 6, 6, 3, 4, 8, 9, 15, 3, 8, 12, 3, 6, 8, 9, 10, 1, 2, 4, 5, 13, 8, 2, 3, 7, 10, 12, 15, 5, 12, 1, 8, 7, 10, 11, 14, 8, 8, 2, 7, 13, 3, 4, 7, 9, 3, 10, 1, 6, 11, 12, 14, 15, 1, 3, 14, 3, 6, 7, 8, 13, 15, 6, 2, 4, 5, 13, 11, 7, 12, 2, 6, 7, 15, 2, 1, 2, 7, 10, 14, 8, 8, 3, 3, 9, 12, 1, 2, 7, 10, 2, 6, 11, 14, 1, 4, 5, 7, 13, 2, 3, 5, 3, 4, 10, 13, 15, 11, 2, 3, 4, 5, 7, 8, 9, 14, 15, 2, 5, 12, 13, 15, 2, 3, 4, 8, 9, 15, 9, 15, 2, 3, 3, 8, 10, 1, 2, 3, 4, 6, 7, 8, 9, 10, 11, 12, 14, 15, 2, 10, 14, 15, 6, 2, 7, 8, 1, 2, 4, 5, 7, 15, 4, 11, 15, 1, 2, 6, 8, 13, 14, 11, 11, 4, 1, 3, 6, 14, 6, 6, 3, 6, 14, 1, 5, 13, 5, 14, 2, 7, 12, 12, 1, 2, 7, 14, 4, 10, 12, 14, 12, 2, 9, 5, 1, 2, 2, 4, 6, 7, 9, 11, 4, 11, 9, 4, 6, 7, 4, 2, 13, 1, 2, 4, 7, 10, 14, 15, 1, 2, 4, 6, 7, 9, 14, 15, 10, 7, 3, 4, 1, 2, 4, 5, 6, 7, 9, 10, 12, 13, 10, 2, 7, 9, 13, 14, 15, 9, 13, 14, 4, 12, 3, 8, 9, 15, 1, 4, 7, 11, 12, 15, 3, 1, 2, 4, 5, 6, 12, 2, 10, 1, 2, 4, 8, 15, 15, 2, 4, 8, 13, 1, 4, 6, 7, 11, 9, 14, 13, 15, 2, 7, 14, 15, 2, 4, 6, 9, 11, 12, 15, 3, 8, 10, 3, 12, 6, 7, 14, 15, 4, 7, 12, 13, 15, 2, 3, 6, 7, 8, 13, 3, 7, 8, 3, 4, 9, 5, 5, 13, 2, 5, 13, 15, 1, 2, 6, 10, 2, 3, 12, 15, 13, 6, 4, 6, 7, 8, 11, 13, 1, 6, 7, 10, 11, 14, 14, 7, 2, 2, 14, 3, 4, 7, 15, 1, 2, 3, 6, 7, 10, 11, 13, 14, 2, 14, 2, 3, 8, 9, 10, 11, 12, 7, 11, 14, 1, 7, 3, 4, 11, 14, 7, 2, 6, 7, 9, 10, 13, 4, 8, 13, 8, 7, 2, 4, 7, 8, 12, 13, 14, 1, 2, 3, 4, 6, 7, 12, 13, 14, 13, 10, 11, 2, 14, 11, 15, 15, 6, 1, 3, 4, 5, 6, 7, 10, 15, 14, 4, 14, 11, 13, 7, 4, 7, 10, 13, 3, 4, 8, 9, 10, 14, 7, 6, 15, 11, 10, 12, 1, 2, 4, 7, 12, 15, 2, 2, 6, 7, 11, 13, 13, 1, 2, 3, 4, 6, 7, 8, 9, 10, 11, 12, 13, 1, 2, 3, 4, 6, 7, 9, 10, 11, 12, 13, 1, 7, 9, 14, 11, 1, 2, 3, 4, 6, 7, 8, 9, 11, 15, 15, 3, 12, 6, 7, 8, 11, 1, 2, 4, 8, 9, 3, 6, 8, 11, 9, 3, 2, 3, 10, 11, 15, 1, 1, 2, 4, 6, 7, 9, 11, 14, 2, 3, 6, 7, 9, 2, 3, 4, 10, 13, 14, 10, 1, 5, 3, 14, 3, 6, 11, 1, 2, 3, 4, 6, 7, 8, 10, 11, 14, 4, 7, 15, 1, 5, 15, 2, 4, 7, 11, 13, 3, 4, 14, 12, 4, 15, 7, 3, 7, 6, 2, 7, 3, 4, 6, 7, 8, 9, 10, 11, 14, 3, 4, 7, 9, 3, 4, 3, 4, 14, 1, 2, 6, 1, 2, 4, 5, 6, 7, 10, 11, 2, 6, 7, 11, 3, 4, 7, 1, 1, 7, 9, 2, 7, 15, 10, 10, 5, 1, 2, 4, 5, 7, 9, 13, 12, 1, 2, 4, 5, 6, 9, 10, 11, 15, 13, 13, 2, 5, 7, 11, 13, 14, 1, 9, 10, 2, 3, 5, 1, 7, 9, 9, 3, 9, 10, 15, 12, 9, 3, 12, 13, 15], \"Freq\": [0.9684438109397888, 0.02969285286962986, 0.30285874009132385, 0.10640982538461685, 0.5034003257751465, 0.08594639599323273, 0.2951941192150116, 0.10088912397623062, 0.044839613139629364, 0.5081822872161865, 0.048576246947050095, 0.06086726114153862, 0.3043363094329834, 0.6391062140464783, 0.9794001579284668, 0.10169439762830734, 0.349574476480484, 0.5466073751449585, 0.13031110167503357, 0.8470221757888794, 0.8141937851905823, 0.15831544995307922, 0.8870312571525574, 0.31286630034446716, 0.6858599781990051, 0.9274181723594666, 0.24347931146621704, 0.015392370522022247, 0.7402330636978149, 0.8487358093261719, 0.22644266486167908, 0.005696671083569527, 0.5639704465866089, 0.20223180949687958, 0.16716277599334717, 0.8119335174560547, 0.11671730130910873, 0.04400816187262535, 0.7634459733963013, 0.07462253421545029, 0.021156078204512596, 0.24329490959644318, 0.7193067073822021, 0.9421437978744507, 0.8238454461097717, 0.04631022363901138, 0.22162750363349915, 0.036386605352163315, 0.026462985202670097, 0.019847238436341286, 0.6450352668762207, 0.9559721946716309, 0.914348840713501, 0.01895982027053833, 0.14325197041034698, 0.19591814279556274, 0.6404206156730652, 0.9004567265510559, 0.07421763986349106, 0.2186046838760376, 0.20780938863754272, 0.49793288111686707, 0.8589040637016296, 0.12055785208940506, 0.8506026268005371, 0.020092975348234177, 0.9325138330459595, 0.7871134877204895, 0.8298245668411255, 0.16833584010601044, 0.7942352294921875, 0.19855880737304688, 0.962279200553894, 0.9844613075256348, 0.9966628551483154, 0.8961712718009949, 0.08617031574249268, 0.17268206179141998, 0.07993961125612259, 0.04028207063674927, 0.3181971311569214, 0.11522545665502548, 0.2735433578491211, 0.9267289638519287, 0.06890178471803665, 0.994551420211792, 0.959496021270752, 0.9359142780303955, 0.8211174607276917, 0.16422349214553833, 0.8610802888870239, 0.9859698414802551, 0.6701277494430542, 0.32389509677886963, 0.840347409248352, 0.14727738499641418, 0.29951536655426025, 0.6871235370635986, 0.9883830547332764, 0.9898223280906677, 0.9434585571289062, 0.19916890561580658, 0.05095018446445465, 0.09726853668689728, 0.6530887484550476, 0.8390178680419922, 0.8905311226844788, 0.20074668526649475, 0.7982633113861084, 0.9290941953659058, 0.04039539769291878, 0.9155679941177368, 0.9871851801872253, 0.9399865865707397, 0.7558464407920837, 0.24357199668884277, 0.8549880385398865, 0.9967426061630249, 0.9865086674690247, 0.9359177350997925, 0.05849485844373703, 0.058758627623319626, 0.9283863306045532, 0.4458676278591156, 0.5536407232284546, 0.9191500544548035, 0.9182467460632324, 0.997204065322876, 0.4905882477760315, 0.5024096369743347, 0.8890451192855835, 0.9074233770370483, 0.9778679609298706, 0.9453465938568115, 0.8381196856498718, 0.09312441200017929, 0.10847695171833038, 0.8008151650428772, 0.08614346385002136, 0.9627504348754883, 0.9417234659194946, 0.056503407657146454, 0.9783514142036438, 0.2991710901260376, 0.6949974298477173, 0.9886132478713989, 0.09981056302785873, 0.8650249242782593, 0.9950956702232361, 0.05820456147193909, 0.40568581223487854, 0.5354819893836975, 0.8911565542221069, 0.07426304370164871, 0.9777483940124512, 0.13243140280246735, 0.8276962637901306, 0.1321578025817871, 0.8259863257408142, 0.9749311804771423, 0.9510581493377686, 0.6417801380157471, 0.3555808961391449, 0.9742293357849121, 0.9937984943389893, 0.9938349723815918, 0.9122989177703857, 0.9949002861976624, 0.9153195023536682, 0.05085108429193497, 0.8292499780654907, 0.9750707149505615, 0.01772855781018734, 0.9563623070716858, 0.3985230624675751, 0.06215497478842735, 0.5374577045440674, 0.8590756058692932, 0.11714667826890945, 0.9415137767791748, 0.9754285216331482, 0.9900208711624146, 0.9892843961715698, 0.9377813339233398, 0.9292052388191223, 0.9822945594787598, 0.05422495678067207, 0.9435142278671265, 0.9816115498542786, 0.9730924367904663, 0.9880465269088745, 0.9762040376663208, 0.5959477424621582, 0.19864924252033234, 0.9065682291984558, 0.995177149772644, 0.9130354523658752, 0.7998021841049194, 0.15417873859405518, 0.038544684648513794, 0.01552676409482956, 0.2863825261592865, 0.06555745005607605, 0.14664165675640106, 0.11558812856674194, 0.17596998810768127, 0.0017251960234716535, 0.05693146586418152, 0.05003068223595619, 0.024152744561433792, 0.06210705637931824, 0.043597571551799774, 0.04723070189356804, 0.36331310868263245, 0.5413365364074707, 0.9710357189178467, 0.6513803601264954, 0.12385401129722595, 0.13761556148529053, 0.07568856328725815, 0.009174371138215065, 0.9881730079650879, 0.08097847551107407, 0.911007821559906, 0.9532177448272705, 0.39430734515190125, 0.5590180158615112, 0.03992985561490059, 0.9785361886024475, 0.08685912191867828, 0.11128824949264526, 0.3284360468387604, 0.019000433385372162, 0.0922878161072731, 0.02171478047966957, 0.10585955530405045, 0.23614823818206787, 0.9269953966140747, 0.9254162907600403, 0.06517016142606735, 0.36488839983940125, 0.6284189224243164, 0.11845363676548004, 0.8735955953598022, 0.17384913563728333, 0.8228858709335327, 0.8885015845298767, 0.9592679142951965, 0.03642789646983147, 0.8927126526832581, 0.574964165687561, 0.0851798802614212, 0.15616311132907867, 0.13131898641586304, 0.04968826100230217, 0.9127081632614136, 0.3809787929058075, 0.02116548828780651, 0.5291372537612915, 0.02116548828780651, 0.04233097657561302, 0.10477129369974136, 0.8381703495979309, 0.022936712950468063, 0.19496206939220428, 0.26377221941947937, 0.034405071288347244, 0.09748103469610214, 0.07741140574216843, 0.008601267822086811, 0.22363296151161194, 0.07454431802034378, 0.23409153521060944, 0.04928242787718773, 0.3326563835144043, 0.12936636805534363, 0.07854387164115906, 0.006160303484648466, 0.07084348797798157, 0.033881668001413345, 0.06468318402767181, 0.890055775642395, 0.9973887205123901, 0.952021598815918, 0.06129380315542221, 0.919407069683075, 0.5625359416007996, 0.2783728837966919, 0.09175170212984085, 0.06725488603115082, 0.36866873502731323, 0.627521276473999, 0.04017657786607742, 0.08928128331899643, 0.5490798950195312, 0.22766728699207306, 0.08928128331899643, 0.8620558977127075, 0.9492975473403931, 0.9760756492614746, 0.8600200414657593, 0.9734005928039551, 0.9319133758544922, 0.04992393031716347, 0.7979998588562012, 0.07584191858768463, 0.1868300884962082, 0.016648225486278534, 0.1868300884962082, 0.007399211637675762, 0.09433994442224503, 0.17943087220191956, 0.23307515680789948, 0.018498029559850693, 0.9775267839431763, 0.9791595935821533, 0.9721811413764954, 0.9090430736541748, 0.9844212532043457, 0.7206840515136719, 0.1153094470500946, 0.026206692680716515, 0.09172342717647552, 0.04455137997865677, 0.07770825177431107, 0.8936448693275452, 0.933288037776947, 0.44100895524024963, 0.5163031816482544, 0.0322689488530159, 0.2998320162296295, 0.3449395000934601, 0.12205551564693451, 0.23084412515163422, 0.9456532001495361, 0.9839476346969604, 0.9487543702125549, 0.7480032444000244, 0.1870008111000061, 0.8557155728340149, 0.6263709664344788, 0.24153828620910645, 0.12901782989501953, 0.0006345139117911458, 0.002326550893485546, 0.759836733341217, 0.2279510200023651, 0.21835410594940186, 0.09681738168001175, 0.5747244954109192, 0.10711710155010223, 0.7974558472633362, 0.9420684576034546, 0.15779714286327362, 0.13721489906311035, 0.10291118174791336, 0.02744298055768013, 0.5694418549537659, 0.926305890083313, 0.16060760617256165, 0.7428101897239685, 0.10037975758314133, 0.8962579965591431, 0.959945797920227, 0.3175235390663147, 0.04036315903067589, 0.07803544402122498, 0.048435792326927185, 0.017490703612565994, 0.4076679050922394, 0.06996281445026398, 0.018836140632629395, 0.27895164489746094, 0.1371893286705017, 0.5807681679725647, 0.7591649889945984, 0.22040273249149323, 0.018366893753409386, 0.9596790075302124, 0.05998682975769043, 0.05998682975769043, 0.8598111867904663, 0.3046371042728424, 0.6706399321556091, 0.009862352162599564, 0.014245619997382164, 0.9666608572006226, 0.9632372260093689, 0.18705551326274872, 0.8125224113464355, 0.08840062469244003, 0.14733438193798065, 0.6089820861816406, 0.15715666115283966, 0.9608331322669983, 0.2248574048280716, 0.7645151615142822, 0.9997581839561462, 0.020249247550964355, 0.07521148771047592, 0.454161673784256, 0.2950604557991028, 0.1533157229423523, 0.9191662073135376, 0.017288990318775177, 0.9768279194831848, 0.9293022155761719, 0.9585198163986206, 0.039123255759477615, 0.9605297446250916, 0.9512020945549011, 0.1399269551038742, 0.8395617604255676, 0.16689957678318024, 0.8310208320617676, 0.20140492916107178, 0.07184207439422607, 0.02188800275325775, 0.05772078037261963, 0.06566400825977325, 0.008825806900858879, 0.0005295484443195164, 0.1322105973958969, 0.13415227830410004, 0.07696104049682617, 0.17386840283870697, 0.00035303228651173413, 0.016592517495155334, 0.038127489387989044, 0.9403586983680725, 0.8161635398864746, 0.008566310629248619, 0.22700724005699158, 0.10279572755098343, 0.008566310629248619, 0.17346780002117157, 0.012849465943872929, 0.23985670506954193, 0.22914882004261017, 0.9255481362342834, 0.07507223635911942, 0.9233885407447815, 0.9442964196205139, 0.9974246621131897, 0.9838194251060486, 0.03197602555155754, 0.8433676958084106, 0.02398202009499073, 0.05995504930615425, 0.03597302734851837, 0.9682208895683289, 0.047154735773801804, 0.11906570941209793, 0.047154735773801804, 0.13203325867652893, 0.020040761679410934, 0.2015864998102188, 0.11670797318220139, 0.3041480481624603, 0.0023577366955578327, 0.010609815828502178, 0.8254421353340149, 0.9071561098098755, 0.8607377409934998, 0.9630324840545654, 0.12289927154779434, 0.3809877336025238, 0.08295700699090958, 0.40556758642196655, 0.0030724818352609873, 0.6989280581474304, 0.013515183702111244, 0.06274906545877457, 0.07433351129293442, 0.14866702258586884, 0.7008905410766602, 0.14213863015174866, 0.013723730109632015, 0.07253971695899963, 0.02548692747950554, 0.04411198943853378, 0.20759499073028564, 0.03193768858909607, 0.7585201263427734, 0.3612537086009979, 0.2090340405702591, 0.28728780150413513, 0.14149996638298035, 0.0889037549495697, 0.394510418176651, 0.16113805770874023, 0.2778242528438568, 0.07223430275917053, 0.9795384407043457, 0.963367760181427, 0.9430820941925049, 0.17929527163505554, 0.8068287372589111, 0.10450642555952072, 0.23261107504367828, 0.11461994796991348, 0.0033711751457303762, 0.3573445677757263, 0.1854146271944046, 0.9617912769317627, 0.030055977404117584, 0.10868050903081894, 0.6831346154212952, 0.2095981240272522, 0.934776246547699, 0.9193368554115295, 0.893119215965271, 0.0664728656411171, 0.9084625244140625, 0.0879177674651146, 0.0026375330053269863, 0.08967611938714981, 0.030771218240261078, 0.14242678880691528, 0.08352188020944595, 0.5591570138931274, 0.004395888186991215, 0.8964983820915222, 0.07795637845993042, 0.8856340646743774, 0.8561916351318359, 0.13938003778457642, 0.995583176612854, 0.5972790718078613, 0.2514859139919281, 0.04977325722575188, 0.09954651445150375, 0.9703027009963989, 0.17789125442504883, 0.07986953854560852, 0.11980430781841278, 0.2178260236978531, 0.09439127147197723, 0.21419557929039001, 0.06897824257612228, 0.025413036346435547, 0.20741592347621918, 0.7704019546508789, 0.9387548565864563, 0.05937150865793228, 0.10884776711463928, 0.12863826751708984, 0.6976152658462524, 0.8593596816062927, 0.0818437784910202, 0.05729064345359802, 0.18578872084617615, 0.5290254950523376, 0.012595845386385918, 0.2723851501941681, 0.808091938495636, 0.18960817158222198, 0.06265141814947128, 0.25630125403404236, 0.034173499792814255, 0.1309984177350998, 0.5069069266319275, 0.9264801144599915, 0.0687781348824501, 0.9216269850730896, 0.6479486227035522, 0.002203906886279583, 0.13443832099437714, 0.04407813772559166, 0.006611720658838749, 0.13223440945148468, 0.03085469640791416, 0.8690056800842285, 0.959936261177063, 0.11751966178417206, 0.6125267148017883, 0.11751966178417206, 0.10683605819940567, 0.04273442178964615, 0.09258227050304413, 0.16664808988571167, 0.7221417427062988, 0.982341468334198, 0.9562007188796997, 0.8861960172653198, 0.2652967870235443, 0.5031490921974182, 0.21955595910549164, 0.9739457964897156, 0.8529015779495239, 0.13466867804527283, 0.21589039266109467, 0.02233348973095417, 0.5285592079162598, 0.0744449645280838, 0.1488899290561676, 0.03548616170883179, 0.94038325548172, 0.9710890054702759, 0.8697065711021423, 0.12587858736515045, 0.11235361546278, 0.00795423798263073, 0.7109100818634033, 0.16803328692913055, 0.6427515745162964, 0.15358923375606537, 0.02581331692636013, 0.059370629489421844, 0.07098662108182907, 0.009034660644829273, 0.03871997445821762, 0.994138777256012, 0.05102284625172615, 0.013689056970179081, 0.9097000360488892, 0.02488919347524643, 0.37908196449279785, 0.006248604040592909, 0.08331471681594849, 0.4748938977718353, 0.054154567420482635, 0.9604364037513733, 0.28315672278404236, 0.14157836139202118, 0.08652010560035706, 0.49552425742149353, 0.15288737416267395, 0.45866212248802185, 0.3763381540775299, 0.9187751412391663, 0.9686498045921326, 0.9915100932121277, 0.9744538068771362, 0.011574399657547474, 0.21267959475517273, 0.08102080225944519, 0.12948860228061676, 0.13238219916820526, 0.38701900839805603, 0.018084999173879623, 0.027489200234413147, 0.9327365756034851, 0.9661046266555786, 0.029403183609247208, 0.6779561638832092, 0.0366462804377079, 0.0366462804377079, 0.03298165276646614, 0.2125484198331833, 0.11788695305585861, 0.864504337310791, 0.8595229387283325, 0.9669172167778015, 0.940707266330719, 0.9875373244285583, 0.876894474029541, 0.9675585627555847, 0.9754163026809692, 0.7726569771766663, 0.10408215969800949, 0.013469455763697624, 0.08938820660114288, 0.019591934978961945, 0.951977014541626, 0.04533223807811737, 0.17478056252002716, 0.04369514063000679, 0.5592978000640869, 0.21847569942474365, 0.4415023922920227, 0.329017698764801, 0.08155139535665512, 0.146230086684227, 0.8972232341766357, 0.9087251424789429, 0.08178526163101196, 0.827599823474884, 0.1693544089794159, 0.954323410987854, 0.010960936546325684, 0.5809296369552612, 0.1589335799217224, 0.24662107229232788, 0.9123845100402832, 0.0012469618814066052, 0.2397284209728241, 0.006234809290617704, 0.7210556864738464, 0.03148578479886055, 0.8197855949401855, 0.16961081326007843, 0.9925951957702637, 0.9507609605789185, 0.026410026475787163, 0.9589096307754517, 0.7165358662605286, 0.28002551198005676, 0.146781787276268, 0.8317634463310242, 0.9960451722145081, 0.1348014622926712, 0.21062727272510529, 0.08003836870193481, 0.45495492219924927, 0.046338003128767014, 0.042125456035137177, 0.025275273248553276, 0.8225460648536682, 0.17113374173641205, 0.932664155960083, 0.2259414792060852, 0.14768241345882416, 0.012622429057955742, 0.25244858860969543, 0.08835700154304504, 0.12243755906820297, 0.15020690858364105, 0.9445127248764038, 0.927976667881012, 0.7967913746833801, 0.19208364188671112, 0.9640203714370728, 0.9322485327720642, 0.8243927955627441, 0.9859738349914551, 0.8980715870857239, 0.040821436792612076, 0.10427691042423248, 0.7646973133087158, 0.1216563954949379, 0.8894755244255066, 0.02214047871530056, 0.9686459302902222, 0.985961377620697, 0.9993554949760437, 0.7942669987678528, 0.9757372736930847, 0.9864325523376465, 0.11144543439149857, 0.09021773189306259, 0.2388116419315338, 0.5589961409568787, 0.149142324924469, 0.8489639759063721, 0.6190674901008606, 0.019015725702047348, 0.057047177106142044, 0.24509157240390778, 0.057047177106142044, 0.9342463612556458, 0.053754858672618866, 0.9138325452804565, 0.07470705360174179, 0.24072273075580597, 0.05810548737645149, 0.42749035358428955, 0.19921880960464478, 0.9087293744087219, 0.07683759927749634, 0.21770653128623962, 0.18569086492061615, 0.08964386582374573, 0.044821932911872864, 0.3905911445617676, 0.7606971859931946, 0.23651929199695587, 0.9769098162651062, 0.9918799996376038, 0.05759759247303009, 0.9369208216667175, 0.1380154937505722, 0.0690077468752861, 0.749226987361908, 0.03943299874663353, 0.2371675968170166, 0.08799504488706589, 0.03268387168645859, 0.023465344682335854, 0.39304453134536743, 0.05782531574368477, 0.018437055870890617, 0.02933168038725853, 0.04274044930934906, 0.0318458266556263, 0.04525459557771683, 0.11159717291593552, 0.15136167407035828, 0.2937442660331726, 0.07568083703517914, 0.11672807484865189, 0.16803711652755737, 0.0820944681763649, 0.2345089316368103, 0.019014237448573112, 0.7415552735328674, 0.6052918434143066, 0.018768738955259323, 0.03284529596567154, 0.0844593271613121, 0.037537477910518646, 0.1689186543226242, 0.04222966358065605, 0.09956271946430206, 0.1372351050376892, 0.1439623087644577, 0.2946518361568451, 0.2260342836380005, 0.016145305708050728, 0.08072653412818909, 0.19299963116645813, 0.032661475241184235, 0.17815349996089935, 0.27613794803619385, 0.3177070915699005, 0.8887078762054443, 0.9734913110733032, 0.2136770486831665, 0.11820432543754578, 0.0943361446261406, 0.07956060022115707, 0.17048700153827667, 0.06705822050571442, 0.00454632006585598, 0.05796558037400246, 0.052282679826021194, 0.14207249879837036, 0.11606727540493011, 0.23023182153701782, 0.14270566403865814, 0.390062153339386, 0.05327678471803665, 0.007610969245433807, 0.06088775396347046, 0.9385561943054199, 0.07924777269363403, 0.07390522956848145, 0.06945310533046722, 0.080138199031353, 0.6517906785011292, 0.04452122002840042, 0.07344255596399307, 0.5775255560874939, 0.013353192247450352, 0.2870936393737793, 0.01669149100780487, 0.026706384494900703, 0.301126629114151, 0.6931594014167786, 0.10565445572137833, 0.8716492652893066, 0.9491089582443237, 0.2273995727300644, 0.7731585502624512, 0.9368569254875183, 0.9161158204078674, 0.5560442209243774, 0.044610995799303055, 0.11630723625421524, 0.16729123890399933, 0.11471398919820786, 0.9797886610031128, 0.9945563673973083, 0.20199264585971832, 0.12936607003211975, 0.6649870276451111, 0.9630676507949829, 0.8572219014167786, 0.06375160068273544, 0.0785040333867073, 0.12341805547475815, 0.8639264106750488, 0.9508933424949646, 0.988045334815979, 0.05359380692243576, 0.11522668600082397, 0.048234425485134125, 0.0975407287478447, 0.028940655291080475, 0.02090158499777317, 0.043946921825408936, 0.1950814574956894, 0.08039071410894394, 0.09700479358434677, 0.15702985227108002, 0.04662661254405975, 0.01500626653432846, 0.9993088245391846, 0.3059542179107666, 0.641046941280365, 0.043707747012376785, 0.9619531631469727, 0.1398961842060089, 0.04738419130444527, 0.06769169867038727, 0.09702476859092712, 0.16922925412654877, 0.3068690299987793, 0.07220447808504105, 0.09702476859092712, 0.13241435587406158, 0.023645421490073204, 0.10876893997192383, 0.0803944319486618, 0.18916337192058563, 0.45872119069099426, 0.9565841555595398, 0.15887637436389923, 0.35319438576698303, 0.03299739956855774, 0.1857631355524063, 0.025664644315838814, 0.01833188906311989, 0.021998267620801926, 0.05255141481757164, 0.0391080304980278, 0.07699393481016159, 0.03177527338266373, 0.9543850421905518, 0.9361608624458313, 0.14343921840190887, 0.01737307384610176, 0.010691122151911259, 0.05731629580259323, 0.506343424320221, 0.03192487731575966, 0.10319902747869492, 0.002375805051997304, 0.04573424533009529, 0.08137132227420807, 0.38151073455810547, 0.5784195065498352, 0.036920394748449326, 0.9766725897789001, 0.8419930338859558, 0.15143759548664093, 0.9126631617546082, 0.28630539774894714, 0.7062200307846069, 0.6549772024154663, 0.3437469005584717, 0.7179315090179443, 0.2804419994354248, 0.9485284686088562, 0.9240174889564514, 0.9628533124923706, 0.17969036102294922, 0.6227904558181763, 0.1980677843093872, 0.8375941514968872, 0.15057872235774994, 0.008006460964679718, 0.11366919428110123, 0.002029807073995471, 0.5755630731582642, 0.009810734540224075, 0.00011276706209173426, 0.1001371517777443, 0.02988327108323574, 0.11412026733160019, 0.046685561537742615, 0.9420848488807678, 0.02928825467824936, 0.2050177901983261, 0.7468504905700684, 0.07533952593803406, 0.16574695706367493, 0.060271620750427246, 0.6931236386299133, 0.9756912589073181, 0.07460398972034454, 0.7609606981277466, 0.15666837990283966, 0.9683302640914917, 0.05276559293270111, 0.03165935352444649, 0.01641596108675003, 0.14305338263511658, 0.7551342248916626, 0.8797459006309509, 0.10073426365852356, 0.016789043322205544, 0.9730215668678284, 0.9408662915229797, 0.27125486731529236, 0.18257538974285126, 0.12258633226156235, 0.27907952666282654, 0.10954523831605911, 0.03129863739013672, 0.9542538523674011, 0.9976699948310852, 0.1625654101371765, 0.18555445969104767, 0.031199421733617783, 0.34483569860458374, 0.037767719477415085, 0.11166108399629593, 0.1231556087732315, 0.003284149570390582, 0.12027241289615631, 0.16537456214427948, 0.6614982485771179, 0.015034051612019539, 0.06525923311710358, 0.04568146541714668, 0.7015367746353149, 0.18925178050994873, 0.053463827818632126, 0.9356169700622559, 0.6543380618095398, 0.206037238240242, 0.033962182700634, 0.1041506975889206, 0.29941654205322266, 0.6804921627044678, 0.03910849615931511, 0.1340862661600113, 0.027934638783335686, 0.32962873578071594, 0.4413672983646393, 0.01676078327000141, 0.09229977428913116, 0.5807194113731384, 0.10576015710830688, 0.21921196579933167, 0.0019229119643568993, 0.9487316608428955, 0.9687234163284302, 0.14486157894134521, 0.21729236841201782, 0.6156616806983948, 0.8155738115310669, 0.9468018412590027, 0.08398012071847916, 0.095977284014225, 0.8158069252967834, 0.10861649364233017, 0.8906552791595459, 0.8978691697120667, 0.9447426795959473, 0.905107855796814, 0.225890651345253, 0.1490878313779831, 0.0361425019800663, 0.5827978849411011, 0.934454619884491, 0.95726478099823, 0.9618005156517029, 0.9108584523200989, 0.9636139273643494, 0.023994771763682365, 0.959790825843811, 0.24981620907783508, 0.04671359807252884, 0.042651548981666565, 0.6600834727287292, 0.9591919183731079, 0.9824969172477722, 0.057013265788555145, 0.9312167167663574, 0.915376603603363, 0.004576883278787136, 0.07780700922012329, 0.9658637046813965, 0.11458203196525574, 0.07051201909780502, 0.07403761893510818, 0.1004796251654625, 0.2097732573747635, 0.12163323163986206, 0.04935841262340546, 0.044070012867450714, 0.21153604984283447, 0.19205404818058014, 0.06089518591761589, 0.02342122606933117, 0.49496856331825256, 0.12491320073604584, 0.10305339097976685, 0.9565385580062866, 0.9860152006149292, 0.9902668595314026, 0.024744223803281784, 0.4610790014266968, 0.04913993924856186, 0.04879142716526985, 0.34990423917770386, 0.06621693819761276, 0.9593340158462524, 0.9690905213356018, 0.1979828029870987, 0.04232241213321686, 0.7589340806007385, 0.19949579238891602, 0.17236435413360596, 0.05745478719472885, 0.12288940697908401, 0.04468705505132675, 0.052666887640953064, 0.08458621054887772, 0.09097007662057877, 0.17555628716945648, 0.9534196257591248, 0.8660497069358826, 0.03849109634757042, 0.07698219269514084, 0.9306179285049438, 0.0357929989695549, 0.9475836157798767, 0.04672993719577789, 0.016992704942822456, 0.3823358416557312, 0.5480147004127502, 0.12198027968406677, 0.01985725574195385, 0.24679730832576752, 0.03404100984334946, 0.4368596076965332, 0.07659226655960083, 0.0595717653632164, 0.6661069393157959, 0.3337666392326355, 0.9922181367874146, 0.8497864603996277, 0.13547320663928986, 0.9246221780776978, 0.16180917620658875, 0.8335623741149902, 0.9456556439399719, 0.287498414516449, 0.014374920167028904, 0.5400862693786621, 0.09857088327407837, 0.05133900046348572, 0.004107119981199503, 0.564894437789917, 0.42748770117759705, 0.9460170865058899, 0.15175773203372955, 0.7769995927810669, 0.01821092702448368, 0.04856247454881668, 0.6183744668960571, 0.18658693134784698, 0.0576368011534214, 0.027353057637810707, 0.0420064814388752, 0.06740575283765793, 0.18214383721351624, 0.8171858787536621, 0.9680346846580505, 0.01936069317162037, 0.8891808986663818, 0.7290799021720886, 0.11166088283061981, 0.03940972313284874, 0.11822917312383652, 0.1879805475473404, 0.06430913507938385, 0.1289716213941574, 0.05300203338265419, 0.12261137366294861, 0.07243610918521881, 0.029327791184186935, 0.010600406676530838, 0.0879833772778511, 0.10388398915529251, 0.011307100765407085, 0.06642921268939972, 0.06112901121377945, 0.754317045211792, 0.10304877907037735, 0.14014632999897003, 0.9776855707168579, 0.03520240634679794, 0.21121442317962646, 0.677646279335022, 0.06160420924425125, 0.33827143907546997, 0.6582579612731934, 0.9577991962432861, 0.0920414924621582, 0.16158394515514374, 0.07158782333135605, 0.07874660938978195, 0.02352171391248703, 0.5542942881584167, 0.01943098194897175, 0.40495267510414124, 0.44720861315727234, 0.09859717637300491, 0.04577726125717163, 0.9764549136161804, 0.902016282081604, 0.9233178496360779, 0.8497735857963562, 0.09510660171508789, 0.05451231822371483, 0.0007732243975624442, 0.663264274597168, 0.2706594169139862, 0.017845675349235535, 0.026768513023853302, 0.017845675349235535, 0.9630922079086304, 0.03502153605222702, 0.05848269909620285, 0.06073203310370445, 0.026992015540599823, 0.15070541203022003, 0.1810714304447174, 0.06972937285900116, 0.003374001942574978, 0.26992014050483704, 0.04836069419980049, 0.0573580302298069, 0.07197870314121246, 0.34467339515686035, 0.307856023311615, 0.06423459202051163, 0.022717110812664032, 0.013316926546394825, 0.11358555406332016, 0.05483440309762955, 0.021150413900613785, 0.05796780064702034, 0.9864420294761658, 0.13156919181346893, 0.03350519761443138, 0.37901732325553894, 0.15248951315879822, 0.13679927587509155, 0.16638191044330597, 0.11177337169647217, 0.2752936780452728, 0.1862889528274536, 0.15938055515289307, 0.10142398625612259, 0.07244570553302765, 0.08279509097337723, 0.008279508911073208, 0.955681562423706, 0.8080658912658691, 0.18497894704341888, 0.9819226861000061, 0.8502302765846252, 0.04010520130395889, 0.11229456961154938, 0.08669423311948776, 0.12907807528972626, 0.06742884963750839, 0.20613962411880493, 0.1252250075340271, 0.03660423308610916, 0.0250450000166893, 0.034677691757678986, 0.06164923310279846, 0.2254050076007843, 0.9277838468551636, 0.9198768734931946, 0.09735199064016342, 0.13275271654129028, 0.5487111806869507, 0.16815343499183655, 0.04425090551376343, 0.9012390971183777, 0.09323162585496902, 0.01835801638662815, 0.238654226064682, 0.0458950437605381, 0.6976046562194824, 0.0737500712275505, 0.3318753242492676, 0.590000569820404, 0.029894964769482613, 0.9656074047088623, 0.974635899066925, 0.9392862319946289, 0.90008544921875, 0.717952311038971, 0.09240970015525818, 0.056867506355047226, 0.12795189023017883, 0.9505079984664917, 0.10038381069898605, 0.7026866674423218, 0.18251602351665497, 0.04524858668446541, 0.9502203464508057, 0.9817181825637817, 0.012271476909518242, 0.24212951958179474, 0.12650586664676666, 0.09113863855600357, 0.1836375594139099, 0.016323339194059372, 0.2448500692844391, 0.032646678388118744, 0.03128639981150627, 0.004080834798514843, 0.027205564081668854, 0.0662953332066536, 0.6175933480262756, 0.05233842134475708, 0.22331058979034424, 0.015701526775956154, 0.0244245957583189, 0.9926528930664062, 0.9455516934394836, 0.993208110332489, 0.9085159301757812, 0.08912656456232071, 0.3126515746116638, 0.5528342723846436, 0.1325145810842514, 0.9187285304069519, 0.07988943159580231, 0.9738720059394836, 0.08892908692359924, 0.021342981606721878, 0.857276439666748, 0.03201447054743767, 0.9255591034889221, 0.11618608236312866, 0.8713955879211426, 0.14477071166038513, 0.061186108738183975, 0.019120659679174423, 0.04479697346687317, 0.05681567266583443, 0.04698219150304794, 0.02021326869726181, 0.2977359890937805, 0.08850133419036865, 0.12728895246982574, 0.0928717702627182, 0.9957874417304993, 0.03542676940560341, 0.9210959672927856, 0.1956968605518341, 0.006715088151395321, 0.008633685298264027, 0.07386597245931625, 0.025901054963469505, 0.6887761950492859, 0.06111162528395653, 0.1081840917468071, 0.025600815191864967, 0.5400946140289307, 0.06854411959648132, 0.12635241448879242, 0.07019578665494919, 0.9904354214668274, 0.9949274659156799, 0.9597267508506775, 0.13442209362983704, 0.8547216057777405, 0.007608797866851091, 0.9371966123580933, 0.9297490119934082, 0.9407495260238647, 0.9488034248352051, 0.11890919506549835, 0.08677157759666443, 0.790585458278656, 0.9996023178100586, 0.7970421314239502, 0.19846338033676147, 0.11712593585252762, 0.08459094911813736, 0.5986436605453491, 0.9629148840904236, 0.29096701741218567, 0.11895888298749924, 0.012860420159995556, 0.5755038261413574, 0.8177434206008911, 0.054516229778528214, 0.1272045373916626, 0.9572139382362366, 0.034915629774332047, 0.01611490547657013, 0.037601444870233536, 0.2309803068637848, 0.01611490547657013, 0.04834471642971039, 0.0456588976085186, 0.013429087586700916, 0.19337886571884155, 0.018800722435116768, 0.013429087586700916, 0.1154901534318924, 0.21755121648311615, 0.8384318351745605, 0.04962163791060448, 0.033081091940402985, 0.7939462065696716, 0.11578381806612015, 0.970439076423645, 0.474740594625473, 0.19167929887771606, 0.33209553360939026, 0.9976522326469421, 0.9943623542785645, 0.8575854301452637, 0.0070370398461818695, 0.7670373320579529, 0.22518527507781982, 0.985222578048706, 0.9851774573326111, 0.33472195267677307, 0.024611908942461014, 0.4331696033477783, 0.06891334801912308, 0.1329043060541153, 0.6406753063201904, 0.3583854138851166, 0.8399298787117004, 0.0017916627693921328, 0.19081208109855652, 0.056437376886606216, 0.13258305191993713, 0.6181236505508423, 0.3435179889202118, 0.1574457436800003, 0.22614933550357819, 0.2662264406681061, 0.9233749508857727, 0.9111859798431396, 0.08638548105955124, 0.038393545895814896, 0.06718870997428894, 0.11518064141273499, 0.556706428527832, 0.12477903068065643, 0.7978482246398926, 0.9180133938789368, 0.1749950349330902, 0.8166435360908508, 0.05374907702207565, 0.005118959583342075, 0.15100932121276855, 0.7883198261260986, 0.9762473702430725, 0.9781650900840759, 0.048209287226200104, 0.04017440602183342, 0.9079415202140808, 0.789096474647522, 0.10080674290657043, 0.030709339305758476, 0.07877612859010696, 0.9961501955986023, 0.8923017382621765, 0.10367631167173386, 0.062205784022808075, 0.20044086873531342, 0.13132332265377045, 0.034558769315481186, 0.46654340624809265, 0.1040460392832756, 0.25433477759361267, 0.6358368992805481, 0.5430505275726318, 0.09670762717723846, 0.05579286441206932, 0.10042715072631836, 0.15250049531459808, 0.05207333713769913, 0.9883801341056824, 0.13650104403495789, 0.43680331110954285, 0.3685528039932251, 0.05005038157105446, 0.9696272611618042, 0.8483039140701294, 0.1357286274433136, 0.04664988815784454, 0.06997483223676682, 0.8583579063415527, 0.027989931404590607, 0.9824053645133972, 0.17899587750434875, 0.7903714179992676, 0.02789546176791191, 0.8457610011100769, 0.1433493196964264, 0.934115469455719, 0.8868593573570251, 0.9684601426124573, 0.9317713379859924, 0.09634264558553696, 0.9010870456695557, 0.1920848935842514, 0.13182297348976135, 0.08286014944314957, 0.5913201570510864, 0.07503873854875565, 0.06503357738256454, 0.8004132509231567, 0.050025828182697296, 0.17209386825561523, 0.08414368331432343, 0.7370586395263672, 0.000601026345975697, 0.005809921305626631, 0.1444682478904724, 0.1444682478904724, 0.6862241625785828, 0.3979242444038391, 0.08047906309366226, 0.07600799947977066, 0.4068663716316223, 0.031297411769628525, 0.9542553424835205, 0.38502928614616394, 0.06523223221302032, 0.041366782039403915, 0.15751197934150696, 0.12569138407707214, 0.07159635424613953, 0.06523223221302032, 0.07159635424613953, 0.019092360511422157, 0.01005756389349699, 0.2749067544937134, 0.16259728372097015, 0.0808795765042305, 0.47102925181388855, 0.02088993415236473, 0.6963311433792114, 0.04874318093061447, 0.09748636186122894, 0.1392662227153778, 0.9306638240814209, 0.06672000885009766, 0.9118400812149048, 0.018145650625228882, 0.9617194533348083, 0.15260998904705048, 0.36144471168518066, 0.481926292181015, 0.10984424501657486, 0.09964442253112793, 0.03295327350497246, 0.08199088275432587, 0.021968849003314972, 0.009415220469236374, 0.09062150120735168, 0.08081398159265518, 0.00039230086258612573, 0.05060681328177452, 0.3287481367588043, 0.04119158908724785, 0.05256831645965576, 0.05282517522573471, 0.17828495800495148, 0.2905384600162506, 0.4754265546798706, 0.9891232848167419, 0.04740658774971962, 0.9244284629821777, 0.9130289554595947, 0.17192719876766205, 0.07138048857450485, 0.001535064191557467, 0.61556077003479, 0.08366099745035172, 0.05526231229305267, 0.18255126476287842, 0.03319114074110985, 0.7799918055534363, 0.026395324617624283, 0.4692502021789551, 0.026395324617624283, 0.061589088290929794, 0.3108782470226288, 0.09971567243337631, 0.8668290972709656, 0.9343798160552979, 0.9869056940078735, 0.8939830660820007, 0.1898699849843979, 0.7437801361083984, 0.06623371690511703, 0.9408255815505981, 0.9977371096611023, 0.09541823714971542, 0.6130622029304504, 0.29102563858032227, 0.182773619890213, 0.7387100458145142, 0.06854010373353958, 0.9393458962440491, 0.043690506368875504, 0.4222542643547058, 0.04540368542075157, 0.5266827344894409, 0.9590712785720825, 0.7668163180351257, 0.1657981276512146, 0.062174297869205475, 0.9606901407241821, 0.05578708276152611, 0.12223934382200241, 0.7752763628959656, 0.046762701123952866, 0.8784624934196472, 0.975126326084137, 0.9577792882919312, 0.848138689994812, 0.23294661939144135, 0.7642959356307983, 0.37849220633506775, 0.051688361912965775, 0.02167576365172863, 0.00666946591809392, 0.14339351654052734, 0.396833211183548, 0.21086964011192322, 0.7869037985801697, 0.9065122604370117, 0.7834987640380859, 0.05311856046319008, 0.15935568511486053, 0.9862202405929565, 0.9852510094642639, 0.8927046656608582, 0.9326538443565369, 0.27941831946372986, 0.46779024600982666, 0.10674408078193665, 0.03453484922647476, 0.08162783086299896, 0.02511625364422798, 0.05859141796827316, 0.4523257315158844, 0.08202798664569855, 0.0023436567280441523, 0.037498507648706436, 0.01640559732913971, 0.014061939902603626, 0.3374865651130676, 0.8616127371788025, 0.9609993696212769, 0.8468784689903259, 0.15055617690086365, 0.05165909230709076, 0.11325262486934662, 0.02980332262814045, 0.12716084718704224, 0.16689860820770264, 0.10530507564544678, 0.0496722050011158, 0.2384265810251236, 0.04569842666387558, 0.07351486384868622, 0.9357918500900269, 0.08294479548931122, 0.6552638411521912, 0.04976687580347061, 0.06635583192110062, 0.12441719323396683, 0.024883437901735306, 0.7403958439826965, 0.18509896099567413, 0.05552968755364418, 0.28050264716148376, 0.7120451331138611, 0.8892719745635986, 0.23962903022766113, 0.6656361818313599, 0.08875148743391037, 0.04526791721582413, 0.35007190704345703, 0.08751797676086426, 0.09657155722379684, 0.05733936280012131, 0.362143337726593, 0.9304848909378052, 0.16227987408638, 0.06491194665431976, 0.15146121382713318, 0.12982389330863953, 0.07573060691356659, 0.41110900044441223, 0.13873425126075745, 0.7630383968353271, 0.7027062773704529, 0.1003866121172905, 0.1396683305501938, 0.05237562581896782, 0.9840066432952881, 0.9515987038612366, 0.9604781270027161, 0.12429574877023697, 0.7966227531433105, 0.07344748824834824, 0.9212974905967712, 0.18067163228988647, 0.2002699077129364, 0.2370166778564453, 0.3809415400028229, 0.8856834173202515, 0.9943529963493347, 0.8688951730728149, 0.10861189663410187, 0.10694898664951324, 0.14808320999145508, 0.6746013164520264, 0.07404160499572754, 0.22270981967449188, 0.0033240271732211113, 0.08974873274564743, 0.09307275712490082, 0.39888325333595276, 0.10969289392232895, 0.08310067653656006, 0.9592403173446655, 0.13676944375038147, 0.8206167221069336, 0.9398495554924011, 0.044754739850759506, 0.9438211917877197, 0.06714209914207458, 0.06714209914207458, 0.8594188690185547, 0.250113308429718, 0.07459519803524017, 0.28082898259162903, 0.15796630084514618, 0.23256149888038635, 0.1443479210138321, 0.25563907623291016, 0.001101892557926476, 0.07272490859031677, 0.48924025893211365, 0.03746434673666954, 0.6486091613769531, 0.306485652923584, 0.04276544228196144, 0.3161850869655609, 0.6764890551567078, 0.9427715539932251, 0.7888909578323364, 0.07783783972263336, 0.9118147492408752, 0.015935178846120834, 0.6533423066139221, 0.19122214615345, 0.13544902205467224, 0.23330716788768768, 0.6946190595626831, 0.015907306224107742, 0.047721922397613525, 0.12421862035989761, 0.7763664126396179, 0.07246086746454239, 0.02415362186729908, 0.9878731966018677, 0.9780299663543701, 0.1250593066215515, 0.11463769525289536, 0.02431708574295044, 0.39602112770080566, 0.01736934669315815, 0.3161221146583557, 0.0881209671497345, 0.3287954330444336, 0.037901490926742554, 0.31458237767219543, 0.17434686422348022, 0.05685223639011383, 0.983110785484314, 0.9588658213615417, 0.9534093737602234, 0.04991008713841438, 0.9482916593551636, 0.012891302816569805, 0.8604944944381714, 0.0322282575070858, 0.09346194565296173, 0.022461118176579475, 0.06438853591680527, 0.019466301426291466, 0.3728545606136322, 0.06139371916651726, 0.1662122756242752, 0.10781336575746536, 0.15423300862312317, 0.028450747951865196, 0.9608793258666992, 0.9888715744018555, 0.0029845742974430323, 0.27657055854797363, 0.41485583782196045, 0.2457299530506134, 0.04874804615974426, 0.009948581457138062, 0.8486016988754272, 0.9974284172058105, 0.056875117123126984, 0.9410247206687927, 0.9644665718078613, 0.9976528286933899, 0.054421696811914444, 0.07860911637544632, 0.2962959110736847, 0.5744512677192688, 0.9760906100273132, 0.15552660822868347, 0.059817925095558167, 0.1714780479669571, 0.3509318232536316, 0.023927170783281326, 0.23528383672237396, 0.2961333096027374, 0.6461090445518494, 0.040381815284490585, 0.853421151638031, 0.951798677444458, 0.7069433331489563, 0.06646475940942764, 0.09667601436376572, 0.06042250990867615, 0.06646475940942764, 0.11170219630002975, 0.8858243823051453, 0.35200411081314087, 0.016439752653241158, 0.041582901030778885, 0.2881791889667511, 0.008703398518264294, 0.05995674431324005, 0.023209061473608017, 0.20791451632976532, 0.0009670442086644471, 0.9821546673774719, 0.8897370100021362, 0.943737804889679, 0.9525926113128662, 0.9658060073852539, 0.9266791939735413, 0.9536964297294617, 0.9513692855834961, 0.9778226017951965, 0.1957976222038269, 0.03995869681239128, 0.13585957884788513, 0.14385131001472473, 0.11987609416246414, 0.04395456612110138, 0.02397521771490574, 0.29169848561286926, 0.9959863424301147, 0.13715678453445435, 0.8425345420837402, 0.9275046586990356, 0.926190972328186, 0.9722931385040283, 0.12915454804897308, 0.13837987184524536, 0.6365474462509155, 0.09225325286388397, 0.11508557945489883, 0.23207564651966095, 0.139571875333786, 0.06148780509829521, 0.363077312707901, 0.08855876326560974, 0.9967890381813049, 0.030403228476643562, 0.9577017426490784, 0.9824332594871521, 0.14707006514072418, 0.7843736410140991, 0.24512074887752533, 0.13513067364692688, 0.03771088644862175, 0.08484949171543121, 0.10999008268117905, 0.386536568403244, 0.9964956045150757, 0.9611266851425171, 0.9507086277008057, 0.038542240858078, 0.012847413308918476, 0.9966906905174255, 0.974479079246521, 0.0685744509100914, 0.14124290645122528, 0.1965118646621704, 0.0880209431052208, 0.0245639830827713, 0.11565542221069336, 0.04298697039484978, 0.04810446873307228, 0.14431340992450714, 0.06550395488739014, 0.008187994360923767, 0.05629246309399605, 0.2526756823062897, 0.13492392003536224, 0.03802401199936867, 0.09812648594379425, 0.049063242971897125, 0.12511126697063446, 0.017172135412693024, 0.10303280502557755, 0.14841631054878235, 0.01349239144474268, 0.022078458219766617, 0.9122908711433411, 0.044089846312999725, 0.8817968964576721, 0.9671781659126282, 0.9597538113594055, 0.2321656197309494, 0.1540885716676712, 0.2102709859609604, 0.04957272857427597, 0.024786364287137985, 0.03222227469086647, 0.10038477927446365, 0.0020655302796512842, 0.022720834240317345, 0.17102591693401337, 0.9353938698768616, 0.035502880811691284, 0.9585777521133423, 0.2529425024986267, 0.6659098267555237, 0.036134641617536545, 0.04129673168063164, 0.9028486013412476, 0.09382953494787216, 0.07816030830144882, 0.8988435864448547, 0.9330571293830872, 0.24815453588962555, 0.5591748952865601, 0.12904036045074463, 0.05955709144473076, 0.9289865493774414, 0.9322472214698792, 0.04847952723503113, 0.6787133812904358, 0.16698503494262695, 0.07541260123252869, 0.02693307213485241, 0.9689778089523315, 0.211916983127594, 0.43796175718307495, 0.07691801339387894, 0.04866241663694382, 0.15226627886295319, 0.006279021501541138, 0.021976575255393982, 0.043953150510787964, 0.10292989760637283, 0.023937184363603592, 0.25852158665657043, 0.5242243409156799, 0.0885675847530365, 0.5230370759963989, 0.22836829721927643, 0.12155086547136307, 0.04788367450237274, 0.04788367450237274, 0.02946687676012516, 0.8249815106391907, 0.3105534017086029, 0.6599259376525879, 0.9085840582847595, 0.07699865102767944, 0.9221718311309814, 0.15966470539569855, 0.836062490940094, 0.06259710341691971, 0.115354523062706, 0.06406258046627045, 0.03286871314048767, 0.07180871069431305, 0.048151616007089615, 0.5051732659339905, 0.01256129052489996, 0.00020935485372319818, 0.08751032501459122, 0.04013943299651146, 0.008919874206185341, 0.9477366209030151, 0.10215654224157333, 0.8973751068115234, 0.973336935043335, 0.005533319897949696, 0.33476585149765015, 0.07469981908798218, 0.5726985931396484, 0.011066639795899391, 0.7832777500152588, 0.19230172038078308, 0.02345142886042595, 0.8999066948890686, 0.9545486569404602, 0.907916247844696, 0.9891484975814819, 0.13733252882957458, 0.8392543792724609, 0.9857946038246155, 0.9846011400222778, 0.9549755454063416, 0.10223870724439621, 0.11491947621107101, 0.1315629929304123, 0.10223870724439621, 0.0673665925860405, 0.03170192614197731, 0.21636563539505005, 0.09510577470064163, 0.1379033774137497, 0.16938112676143646, 0.009963595308363438, 0.006642397027462721, 0.813693642616272, 0.9545782804489136, 0.044745855033397675, 0.9462010264396667, 0.14514677226543427, 0.8540030717849731, 0.9014989733695984, 0.997226357460022, 0.9949549436569214, 0.37043657898902893, 0.01114095002412796, 0.16525742411613464, 0.0018568249652162194, 0.00835571251809597, 0.07612982392311096, 0.04920586198568344, 0.31751707196235657, 0.032496970146894455, 0.9099151492118835, 0.054161615669727325, 0.9985081553459167, 0.33175498247146606, 0.13185133039951324, 0.5316585898399353, 0.9017391800880432, 0.16938568651676178, 0.16938568651676178, 0.643665611743927, 0.791219174861908, 0.15126249194145203, 0.05236009508371353, 0.9571448564529419, 0.8246338367462158, 0.9442654848098755, 0.17555226385593414, 0.15007996559143066, 0.07159778475761414, 0.5385897159576416, 0.0419948548078537, 0.004589601419866085, 0.017211005091667175, 0.9072557091712952, 0.2099044770002365, 0.04544323682785034, 0.09088647365570068, 0.11469007283449173, 0.12767386436462402, 0.06059098243713379, 0.2791513204574585, 0.012983782216906548, 0.05626305565237999, 0.9903619289398193, 0.8997275233268738, 0.17420151829719543, 0.12835901975631714, 0.07334800809621811, 0.04584250599145889, 0.5592785477638245, 0.018337002024054527, 0.9852961897850037, 0.9392099380493164, 0.8489644527435303, 0.054721858352422714, 0.10944371670484543, 0.8208279013633728, 0.9582447409629822, 0.002191182691603899, 0.9974263310432434, 0.9096381664276123, 0.13524672389030457, 0.13524672389030457, 0.6491842269897461, 0.08114802837371826, 0.7971991896629333, 0.9945918321609497, 0.09450051933526993, 0.8505046963691711, 0.9147590398788452, 0.8887078762054443], \"Term\": [\"$\", \"$\", \"1\", \"1\", \"1\", \"1\", \"10\", \"10\", \"10\", \"10\", \"10\", \"100\", \"100\", \"100\", \"128\", \"16\", \"16\", \"16\", \"18\", \"18\", \"1st\", \"1st\", \"1yr\", \"2\", \"2\", \"2yr\", \"3\", \"3\", \"3\", \"39\", \"4\", \"4\", \"4\", \"4\", \"4th\", \"4th\", \"5\", \"5\", \"5\", \"5\", \"50\", \"50\", \"50\", \"5th\", \"5yr\", \"6\", \"6\", \"6\", \"6\", \"6\", \"6\", \"64\", \"69\", \"7\", \"7\", \"7\", \"7\", \"7th\", \"8\", \"8\", \"8\", \"8\", \"83\", \"9\", \"9\", \"9\", \"9v\", \":D\", \"AA\", \"AA\", \"AAA\", \"AAA\", \"ABC\", \"AMAZON\", \"Alexa\", \"Alkaline\", \"Alkaline\", \"Amazon\", \"Amazon\", \"Amazon\", \"Amazon\", \"Amazon\", \"Amazon\", \"AmazonBasics\", \"AmazonBasics\", \"Android\", \"App\", \"AppStore\", \"Apple\", \"Apple\", \"Barnes\", \"Basic\", \"Basics\", \"Basics\", \"Batteries\", \"Batteries\", \"Best\", \"Best\", \"Black\", \"Bluetooth\", \"Bought\", \"Buy\", \"Buy\", \"Buy\", \"Buy\", \"CHRISTMAS\", \"Charge\", \"Christmas\", \"Christmas\", \"Deal\", \"Deal\", \"Dollar\", \"Dot\", \"Duracel\", \"Duracell\", \"Duracell\", \"Ebooks\", \"Echo\", \"Edition\", \"Energizer\", \"Energizer\", \"Facebook\", \"Facebook\", \"Fire\", \"Fire\", \"Fires\", \"Florida\", \"Friday\", \"GB\", \"GB\", \"GPS\", \"GREAT\", \"Galaxy\", \"Geek\", \"God\", \"God\", \"Google\", \"Google\", \"Google\", \"Granddaughter\", \"Grandson\", \"Grandson\", \"Great\", \"HD\", \"HD\", \"HD8\", \"HDX\", \"HDX\", \"Kids\", \"Kindle\", \"Kindle\", \"Kindle\", \"Love\", \"Love\", \"Mini\", \"Mom\", \"Mom\", \"Mother\", \"Mother\", \"Mouse\", \"Nabi\", \"Netflix\", \"Netflix\", \"Nexus\", \"OS\", \"Oasis\", \"PRICE\", \"Paperwhite\", \"Performance\", \"Performance\", \"Pink\", \"Play\", \"Play\", \"Price\", \"Prime\", \"Prime\", \"Prime\", \"Product\", \"Product\", \"Ray\", \"Rayovac\", \"SD\", \"Samsung\", \"Skype\", \"Son\", \"Squad\", \"Store\", \"Store\", \"Tab\", \"Tablets\", \"Tap\", \"Time\", \"Tree\", \"Tree\", \"Value\", \"Voyage\", \"Webroot\", \"Xbox\", \"Xbox\", \"Xbox\", \"able\", \"able\", \"able\", \"able\", \"able\", \"able\", \"able\", \"able\", \"able\", \"able\", \"able\", \"absolutely\", \"absolutely\", \"absolutely\", \"absolutely\", \"abuse\", \"access\", \"access\", \"access\", \"access\", \"access\", \"acid\", \"activate\", \"activate\", \"active\", \"ad\", \"ad\", \"ad\", \"adapter\", \"add\", \"add\", \"add\", \"add\", \"add\", \"add\", \"add\", \"add\", \"addict\", \"adjust\", \"adjust\", \"adult\", \"adult\", \"advertise\", \"advertise\", \"age\", \"age\", \"airline\", \"alkaline\", \"alkaline\", \"alleviate\", \"allow\", \"allow\", \"allow\", \"allow\", \"allow\", \"alphabet\", \"alternative\", \"alternative\", \"alternative\", \"alternative\", \"alternative\", \"amazed\", \"amazed\", \"amazing\", \"amazing\", \"amazing\", \"amazing\", \"amazing\", \"amazing\", \"amazing\", \"amazing\", \"amazing\", \"amazon\", \"amazon\", \"amazon\", \"amazon\", \"amazon\", \"amazon\", \"amazon\", \"amazon\", \"amazon\", \"ample\", \"android\", \"annoyed\", \"answer\", \"answer\", \"app\", \"app\", \"app\", \"app\", \"appropriate\", \"appropriate\", \"ask\", \"ask\", \"ask\", \"ask\", \"ask\", \"assist\", \"assistance\", \"associate\", \"autistic\", \"auto\", \"avid\", \"avid\", \"awake\", \"awesome\", \"awesome\", \"awesome\", \"awesome\", \"awesome\", \"awesome\", \"awesome\", \"awesome\", \"awesome\", \"awful\", \"background\", \"backlight\", \"backlit\", \"backpack\", \"bad\", \"bad\", \"bad\", \"bad\", \"bad\", \"bang\", \"bang\", \"bank\", \"bargain\", \"bargain\", \"bargain\", \"basic\", \"basic\", \"basic\", \"basic\", \"basics\", \"batch\", \"bath\", \"batt\", \"batt\", \"batter\", \"battery\", \"battery\", \"battery\", \"battery\", \"battery\", \"bc\", \"bc\", \"beat\", \"beat\", \"beat\", \"beat\", \"beauty\", \"bedroom\", \"believe\", \"believe\", \"believe\", \"believe\", \"believe\", \"bend\", \"benefit\", \"benefit\", \"benefit\", \"bestbuy\", \"bezel\", \"big\", \"big\", \"big\", \"big\", \"big\", \"big\", \"big\", \"big\", \"birthday\", \"birthday\", \"birthday\", \"black\", \"black\", \"black\", \"block\", \"bluetooth\", \"bluetooth\", \"bluetooth\", \"book\", \"book\", \"book\", \"book\", \"boot\", \"bored\", \"box\", \"box\", \"boy\", \"boy\", \"boy\", \"boy\", \"boyfriend\", \"brainer\", \"brainer\", \"brand\", \"break\", \"break\", \"break\", \"break\", \"break\", \"broke\", \"browse\", \"browse\", \"bubble\", \"bulk\", \"bulk\", \"bulky\", \"bunny\", \"business\", \"business\", \"button\", \"button\", \"buy\", \"buy\", \"buy\", \"buy\", \"buy\", \"buy\", \"buy\", \"buy\", \"buy\", \"buy\", \"buy\", \"buy\", \"buy\", \"buy\", \"buying\", \"calendar\", \"camera\", \"camera\", \"camera\", \"camera\", \"camera\", \"camera\", \"camera\", \"camera\", \"cancel\", \"candle\", \"candle\", \"candy\", \"card\", \"cardboard\", \"carry\", \"carry\", \"carry\", \"carry\", \"carry\", \"cartoon\", \"case\", \"case\", \"case\", \"case\", \"case\", \"case\", \"case\", \"case\", \"case\", \"case\", \"casing\", \"cat\", \"certificate\", \"challenge\", \"change\", \"change\", \"change\", \"change\", \"change\", \"charge\", \"charge\", \"charge\", \"charge\", \"charge\", \"cheap\", \"cheap\", \"cheap\", \"cheap\", \"cheap\", \"cheap\", \"check\", \"check\", \"check\", \"child\", \"child\", \"child\", \"child\", \"choice\", \"choice\", \"choice\", \"choice\", \"choice\", \"christmas\", \"chrome\", \"church\", \"class\", \"class\", \"clear\", \"clear\", \"clear\", \"clear\", \"clear\", \"clear\", \"clock\", \"clock\", \"close\", \"close\", \"close\", \"clumsy\", \"code\", \"coffee\", \"college\", \"college\", \"come\", \"come\", \"come\", \"come\", \"come\", \"come\", \"come\", \"come\", \"command\", \"command\", \"commodity\", \"compact\", \"compact\", \"comparable\", \"compare\", \"compare\", \"compare\", \"compare\", \"competitor\", \"complaint\", \"complaint\", \"complaint\", \"complaint\", \"complaint\", \"complaint\", \"complaint\", \"complaint\", \"complete\", \"complete\", \"confusing\", \"connect\", \"connect\", \"connect\", \"connect\", \"content\", \"content\", \"content\", \"control\", \"control\", \"control\", \"control\", \"controller\", \"controller\", \"convenient\", \"convenient\", \"convenient\", \"convenient\", \"convenient\", \"copy\", \"cord\", \"cord\", \"cost\", \"cost\", \"cost\", \"cost\", \"cost\", \"cost\", \"cost\", \"counting\", \"cousin\", \"cover\", \"cover\", \"cover\", \"cover\", \"cover\", \"crack\", \"crack\", \"crack\", \"credit\", \"crystal\", \"curfew\", \"customer\", \"customer\", \"customer\", \"cute\", \"dad\", \"dad\", \"daily\", \"daily\", \"daily\", \"daily\", \"daily\", \"dark\", \"dark\", \"darn\", \"date\", \"date\", \"daughter\", \"daughter\", \"daughter\", \"daughter\", \"day\", \"day\", \"day\", \"day\", \"day\", \"day\", \"day\", \"dead\", \"deal\", \"deal\", \"deal\", \"deal\", \"definitely\", \"definitely\", \"definitely\", \"definitely\", \"definitely\", \"delighted\", \"deliver\", \"deliver\", \"deliver\", \"deliver\", \"delivery\", \"delivery\", \"delivery\", \"department\", \"depend\", \"describe\", \"detector\", \"device\", \"device\", \"device\", \"device\", \"device\", \"device\", \"device\", \"device\", \"dictionary\", \"die\", \"die\", \"difference\", \"difference\", \"difference\", \"difference\", \"difference\", \"difficulty\", \"difficulty\", \"dinner\", \"direct\", \"disable\", \"discharge\", \"dish\", \"disposable\", \"dot\", \"download\", \"download\", \"download\", \"download\", \"download\", \"drain\", \"drain\", \"drop\", \"drop\", \"drop\", \"drop\", \"durable\", \"durable\", \"durable\", \"durable\", \"duracel\", \"duracell\", \"duracell\", \"e\", \"e\", \"eReader\", \"ease\", \"ease\", \"ease\", \"ease\", \"east\", \"easy\", \"easy\", \"easy\", \"easy\", \"easy\", \"ebook\", \"ebook\", \"echo\", \"economical\", \"economical\", \"ecosystem\", \"educational\", \"educational\", \"efficient\", \"efficient\", \"email\", \"end\", \"end\", \"end\", \"end\", \"end\", \"end\", \"end\", \"energizer\", \"energizer\", \"engage\", \"enjoy\", \"enjoy\", \"enjoy\", \"enjoy\", \"enjoy\", \"enjoy\", \"enjoy\", \"enlarge\", \"enter\", \"entertain\", \"entertain\", \"entry\", \"episode\", \"equip\", \"equipment\", \"equivalent\", \"equivalent\", \"everyday\", \"everyday\", \"everyday\", \"everytime\", \"exactly\", \"exactly\", \"exceed\", \"excellent\", \"exciting\", \"expand\", \"expandable\", \"expect\", \"expect\", \"expect\", \"expect\", \"expectation\", \"expectation\", \"expensive\", \"expensive\", \"expensive\", \"expensive\", \"expensive\", \"explode\", \"external\", \"external\", \"extra\", \"extra\", \"extra\", \"extra\", \"extra\", \"extreme\", \"extremely\", \"extremely\", \"extremely\", \"extremely\", \"extremely\", \"extremely\", \"eye\", \"eye\", \"face\", \"facebook\", \"family\", \"family\", \"fan\", \"fan\", \"fan\", \"fan\", \"far\", \"far\", \"far\", \"far\", \"far\", \"far\", \"far\", \"far\", \"far\", \"far\", \"far\", \"fast\", \"fast\", \"fast\", \"fast\", \"fast\", \"fast\", \"fast\", \"faster\", \"faster\", \"faster\", \"favorite\", \"favorite\", \"favorite\", \"favorite\", \"favorite\", \"favorite\", \"favorite\", \"feature\", \"feature\", \"feature\", \"feature\", \"feature\", \"feature\", \"feature\", \"feel\", \"feel\", \"feel\", \"feel\", \"feel\", \"fianc\\u221a\", \"fight\", \"find\", \"find\", \"find\", \"find\", \"find\", \"find\", \"find\", \"find\", \"find\", \"find\", \"fine\", \"fine\", \"fine\", \"fine\", \"fine\", \"fine\", \"fine\", \"fingertip\", \"fire\", \"fire\", \"fire\", \"fire\", \"fire\", \"fire\", \"fit\", \"fit\", \"fit\", \"fit\", \"fit\", \"fit\", \"flashlight\", \"flashlight\", \"flight\", \"flight\", \"fluid\", \"foam\", \"foam\", \"folder\", \"food\", \"free\", \"free\", \"free\", \"free\", \"free\", \"friday\", \"friend\", \"friendly\", \"friendly\", \"friendly\", \"frustration\", \"game\", \"game\", \"game\", \"gb\", \"gb\", \"gen\", \"generation\", \"get\", \"get\", \"get\", \"get\", \"get\", \"get\", \"get\", \"get\", \"get\", \"get\", \"get\", \"get\", \"get\", \"gift\", \"girl\", \"girl\", \"girl\", \"girlfriend\", \"give\", \"give\", \"give\", \"give\", \"give\", \"give\", \"give\", \"give\", \"glad\", \"glad\", \"glad\", \"glad\", \"glad\", \"glad\", \"glass\", \"go\", \"go\", \"go\", \"go\", \"go\", \"go\", \"go\", \"go\", \"go\", \"go\", \"go\", \"goal\", \"god\", \"good\", \"good\", \"good\", \"good\", \"good\", \"good\", \"good\", \"good\", \"good\", \"good\", \"google\", \"google\", \"google\", \"got\", \"grand\", \"grand\", \"grandaughter\", \"grandchild\", \"grandchild\", \"granddaughter\", \"granddaughter\", \"grandkid\", \"grandkid\", \"grandma\", \"grandmother\", \"grandparent\", \"grandson\", \"grandson\", \"grandson\", \"graphic\", \"graphic\", \"great\", \"great\", \"great\", \"great\", \"great\", \"great\", \"great\", \"great\", \"great\", \"great\", \"gripe\", \"group\", \"group\", \"group\", \"grow\", \"grow\", \"grow\", \"grow\", \"gun\", \"handy\", \"handy\", \"handy\", \"hang\", \"happy\", \"happy\", \"happy\", \"happy\", \"happy\", \"hd\", \"hd\", \"hd\", \"hd8\", \"hdx\", \"high\", \"high\", \"high\", \"high\", \"high\", \"high\", \"higher\", \"highly\", \"hold\", \"hold\", \"hold\", \"hold\", \"hold\", \"hold\", \"hold\", \"hold\", \"holiday\", \"holiday\", \"holiday\", \"holiday\", \"home\", \"home\", \"home\", \"home\", \"homework\", \"homework\", \"hour\", \"hour\", \"hour\", \"hour\", \"hundred\", \"hundred\", \"husband\", \"husband\", \"husband\", \"husband\", \"husband\", \"husband\", \"iPad\", \"iPad\", \"iPad\", \"iPad\", \"iPad\", \"iPads\", \"icon\", \"idea\", \"idea\", \"idea\", \"implement\", \"impress\", \"improvement\", \"improvement\", \"improvement\", \"inch\", \"inch\", \"incredibly\", \"indestructible\", \"individually\", \"inexpensive\", \"inexpensive\", \"inexpensive\", \"inexpensive\", \"ink\", \"instant\", \"instantly\", \"insurance\", \"interactive\", \"interested\", \"interested\", \"internet\", \"internet\", \"internet\", \"internet\", \"introduce\", \"invest\", \"investment\", \"investment\", \"ipad\", \"ipad\", \"ipad\", \"iphone\", \"issue\", \"issue\", \"issue\", \"issue\", \"issue\", \"issue\", \"issue\", \"issue\", \"issue\", \"item\", \"item\", \"item\", \"item\", \"item\", \"item\", \"jealous\", \"junk\", \"key\", \"kid\", \"kid\", \"kid\", \"kid\", \"kid\", \"kid\", \"kiddo\", \"killer\", \"kindle\", \"kindle\", \"kindle\", \"know\", \"know\", \"know\", \"know\", \"know\", \"know\", \"know\", \"know\", \"know\", \"knowledgeable\", \"lag\", \"lag\", \"lag\", \"lantern\", \"lantern\", \"lap\", \"laptop\", \"laptop\", \"laptop\", \"laptop\", \"large\", \"large\", \"large\", \"large\", \"large\", \"large\", \"large\", \"last\", \"last\", \"lasting\", \"law\", \"law\", \"layer\", \"leak\", \"leak\", \"leakage\", \"learn\", \"learn\", \"learn\", \"learn\", \"learn\", \"learn\", \"learning\", \"learning\", \"leather\", \"library\", \"library\", \"library\", \"library\", \"life\", \"life\", \"life\", \"life\", \"life\", \"life\", \"light\", \"light\", \"lighting\", \"lighting\", \"lightne\", \"lightweight\", \"lightweight\", \"lightweight\", \"lightweight\", \"like\", \"like\", \"like\", \"like\", \"like\", \"like\", \"like\", \"like\", \"like\", \"like\", \"like\", \"like\", \"like\", \"limit\", \"limit\", \"limit\", \"limitation\", \"limited\", \"limited\", \"limited\", \"limited\", \"listen\", \"listen\", \"lithium\", \"little\", \"little\", \"little\", \"little\", \"little\", \"little\", \"little\", \"load\", \"load\", \"load\", \"load\", \"loading\", \"locally\", \"logic\", \"long\", \"long\", \"long\", \"long\", \"longer\", \"longer\", \"longer\", \"longer\", \"longer\", \"longevity\", \"longevity\", \"look\", \"look\", \"look\", \"look\", \"look\", \"look\", \"look\", \"look\", \"look\", \"look\", \"look\", \"lot\", \"lot\", \"lot\", \"lot\", \"lot\", \"lot\", \"lot\", \"lot\", \"lot\", \"loud\", \"love\", \"love\", \"love\", \"love\", \"love\", \"love\", \"low\", \"low\", \"low\", \"low\", \"low\", \"low\", \"low\", \"low\", \"mAh\", \"magazine\", \"magazine\", \"mail\", \"major\", \"major\", \"major\", \"make\", \"make\", \"make\", \"make\", \"make\", \"make\", \"make\", \"make\", \"make\", \"make\", \"manual\", \"map\", \"market\", \"market\", \"market\", \"market\", \"market\", \"match\", \"match\", \"medium\", \"medium\", \"medium\", \"medium\", \"meet\", \"meet\", \"meet\", \"memory\", \"memory\", \"microsd\", \"min\", \"mine\", \"minute\", \"minute\", \"minute\", \"minute\", \"mirror\", \"mode\", \"mode\", \"mode\", \"model\", \"model\", \"mom\", \"mom\", \"money\", \"money\", \"money\", \"money\", \"money\", \"money\", \"money\", \"money\", \"money\", \"money\", \"month\", \"month\", \"month\", \"month\", \"month\", \"month\", \"mother\", \"motion\", \"mouse\", \"movie\", \"movie\", \"music\", \"music\", \"music\", \"name\", \"name\", \"national\", \"navigate\", \"navigate\", \"navigate\", \"navigate\", \"neatly\", \"necessary\", \"necessary\", \"need\", \"need\", \"need\", \"need\", \"need\", \"need\", \"need\", \"need\", \"need\", \"need\", \"need\", \"nephew\", \"net\", \"net\", \"new\", \"new\", \"new\", \"new\", \"new\", \"new\", \"nice\", \"nice\", \"nice\", \"nice\", \"nice\", \"nice\", \"nice\", \"nicely\", \"niece\", \"nook\", \"not\", \"not\", \"not\", \"novice\", \"oasis\", \"obvious\", \"offline\", \"ok\", \"ok\", \"ok\", \"old\", \"onother\", \"open\", \"open\", \"open\", \"open\", \"opening\", \"order\", \"order\", \"order\", \"order\", \"original\", \"original\", \"original\", \"outlast\", \"overall\", \"overall\", \"overall\", \"overall\", \"overall\", \"overall\", \"overall\", \"overall\", \"overall\", \"overall\", \"overall\", \"overall\", \"overall\", \"overly\", \"own\", \"own\", \"own\", \"own\", \"owner\", \"pack\", \"pack\", \"pack\", \"package\", \"packaging\", \"padding\", \"page\", \"page\", \"page\", \"paper\", \"paperwhite\", \"parent\", \"parent\", \"parent\", \"parent\", \"parent\", \"parental\", \"parental\", \"patio\", \"perfect\", \"perfect\", \"perfect\", \"perfect\", \"perfect\", \"performance\", \"performance\", \"performance\", \"performance\", \"performer\", \"permission\", \"person\", \"person\", \"person\", \"person\", \"person\", \"person\", \"personnel\", \"phrase\", \"pic\", \"pic\", \"picture\", \"picture\", \"picture\", \"picture\", \"pin\", \"pink\", \"plastic\", \"plastic\", \"plastic\", \"play\", \"play\", \"play\", \"play\", \"playing\", \"please\", \"pleased\", \"pleased\", \"pleased\", \"pleased\", \"pleased\", \"pleased\", \"plenty\", \"plenty\", \"plenty\", \"plus\", \"plus\", \"plus\", \"plus\", \"plus\", \"plus\", \"pocket\", \"point\", \"point\", \"point\", \"point\", \"pool\", \"portability\", \"portability\", \"portable\", \"portable\", \"portable\", \"portable\", \"positive\", \"power\", \"power\", \"power\", \"powerful\", \"powerful\", \"prefect\", \"preinstalle\", \"preloade\", \"preloaded\", \"present\", \"present\", \"pretty\", \"pretty\", \"pretty\", \"pretty\", \"previous\", \"previous\", \"previous\", \"previous\", \"price\", \"price\", \"price\", \"price\", \"price\", \"pricing\", \"pricing\", \"pricing\", \"prime\", \"prime\", \"prime\", \"prime\", \"prime\", \"prize\", \"problem\", \"problem\", \"problem\", \"problem\", \"problem\", \"problem\", \"problem\", \"problem\", \"problem\", \"product\", \"product\", \"product\", \"product\", \"product\", \"profile\", \"profile\", \"profile\", \"profile\", \"profile\", \"progress\", \"promise\", \"promise\", \"proof\", \"proof\", \"protective\", \"protective\", \"protective\", \"purchase\", \"purchase\", \"purchase\", \"purchase\", \"purchase\", \"purchase\", \"purchase\", \"purchase\", \"purchase\", \"purchase\", \"purchase\", \"purchase\", \"purchase\", \"purpose\", \"purpose\", \"purpose\", \"purpose\", \"purse\", \"push\", \"push\", \"quad\", \"quality\", \"quality\", \"quality\", \"quality\", \"quality\", \"quality\", \"quick\", \"quick\", \"quick\", \"quickly\", \"quickly\", \"quickly\", \"quickly\", \"quickly\", \"quickly\", \"raffle\", \"rain\", \"ram\", \"rc\", \"read\", \"read\", \"read\", \"readable\", \"reader\", \"reading\", \"reading\", \"reading\", \"reasonable\", \"reasonable\", \"reasonable\", \"reasonably\", \"reasonably\", \"receive\", \"receive\", \"receive\", \"receiver\", \"rechargeable\", \"rechargeable\", \"rechargeable\", \"recipient\", \"recommend\", \"recommend\", \"recommend\", \"recommend\", \"recycle\", \"red\", \"refer\", \"remarkably\", \"remote\", \"remote\", \"replace\", \"replace\", \"replace\", \"replace\", \"replace\", \"replace\", \"resolution\", \"resolution\", \"responsibility\", \"responsive\", \"responsive\", \"responsive\", \"restart\", \"result\", \"retail\", \"retailer\", \"return\", \"return\", \"return\", \"return\", \"return\", \"return\", \"review\", \"review\", \"review\", \"review\", \"review\", \"review\", \"review\", \"review\", \"reward\", \"rid\", \"ride\", \"ride\", \"right\", \"right\", \"right\", \"right\", \"right\", \"right\", \"right\", \"right\", \"right\", \"right\", \"rival\", \"room\", \"room\", \"room\", \"room\", \"room\", \"room\", \"rough\", \"rough\", \"rough\", \"rubber\", \"rubber\", \"s2\", \"safe\", \"safe\", \"safe\", \"sale\", \"sale\", \"sale\", \"sale\", \"sale\", \"sale\", \"salesman\", \"satisfied\", \"satisfied\", \"satisfied\", \"satisfied\", \"satisfied\", \"satisfied\", \"satisfy\", \"satisfy\", \"save\", \"save\", \"save\", \"save\", \"savvy\", \"savy\", \"scale\", \"school\", \"school\", \"school\", \"scientific\", \"screen\", \"screen\", \"screen\", \"screen\", \"scroll\", \"sd\", \"seal\", \"seal\", \"search\", \"search\", \"search\", \"search\", \"second\", \"second\", \"second\", \"second\", \"second\", \"second\", \"second\", \"section\", \"secure\", \"secure\", \"selection\", \"selection\", \"series\", \"serve\", \"serve\", \"serve\", \"service\", \"service\", \"service\", \"service\", \"service\", \"set\", \"set\", \"set\", \"set\", \"set\", \"set\", \"setting\", \"setting\", \"setting\", \"setup\", \"setup\", \"seven\", \"shall\", \"ship\", \"ship\", \"shipping\", \"shipping\", \"shipping\", \"shipping\", \"short\", \"short\", \"short\", \"short\", \"show\", \"show\", \"show\", \"show\", \"shrink\", \"side\", \"simple\", \"simple\", \"simple\", \"simple\", \"simple\", \"simple\", \"size\", \"size\", \"size\", \"size\", \"size\", \"size\", \"sized\", \"slide\", \"slip\", \"slot\", \"slot\", \"slow\", \"slow\", \"slow\", \"slow\", \"small\", \"small\", \"small\", \"small\", \"small\", \"small\", \"small\", \"small\", \"small\", \"smoke\", \"social\", \"son\", \"son\", \"son\", \"son\", \"son\", \"son\", \"sooo\", \"sound\", \"space\", \"space\", \"span\", \"speaker\", \"speed\", \"speed\", \"speed\", \"speed\", \"square\", \"star\", \"star\", \"star\", \"star\", \"star\", \"star\", \"step\", \"step\", \"step\", \"stepdaughter\", \"stereo\", \"stop\", \"stop\", \"stop\", \"stop\", \"stop\", \"storage\", \"storage\", \"store\", \"store\", \"store\", \"store\", \"store\", \"store\", \"store\", \"store\", \"store\", \"straight\", \"strap\", \"study\", \"suck\", \"sufficient\", \"suggestion\", \"suit\", \"suitable\", \"sunlight\", \"super\", \"super\", \"super\", \"super\", \"super\", \"super\", \"super\", \"super\", \"surf\", \"surfing\", \"surfing\", \"surgery\", \"sweet\", \"swipe\", \"tab\", \"tab\", \"tab\", \"tab\", \"tablet\", \"tablet\", \"tablet\", \"tablet\", \"tablet\", \"tablet\", \"tap\", \"tech\", \"tech\", \"teenage\", \"teenager\", \"teenager\", \"tell\", \"tell\", \"tell\", \"tell\", \"tell\", \"tell\", \"test\", \"tester\", \"text\", \"text\", \"text\", \"thank\", \"thanks\", \"thing\", \"thing\", \"thing\", \"thing\", \"thing\", \"thing\", \"thing\", \"thing\", \"thing\", \"thing\", \"thing\", \"thing\", \"think\", \"think\", \"think\", \"think\", \"think\", \"think\", \"think\", \"think\", \"think\", \"think\", \"think\", \"thinking\", \"tho\", \"tho\", \"thoroughly\", \"thumb\", \"time\", \"time\", \"time\", \"time\", \"time\", \"time\", \"time\", \"time\", \"time\", \"time\", \"title\", \"tool\", \"tool\", \"touch\", \"touch\", \"touch\", \"touch\", \"toy\", \"toy\", \"transfer\", \"transfer\", \"transmitter\", \"travel\", \"travel\", \"travel\", \"travel\", \"treat\", \"trial\", \"trip\", \"trip\", \"trip\", \"trip\", \"trip\", \"triple\", \"try\", \"try\", \"try\", \"try\", \"try\", \"try\", \"try\", \"try\", \"turn\", \"turn\", \"turn\", \"turn\", \"turn\", \"tv\", \"tv\", \"tv\", \"tv\", \"tv\", \"tv\", \"tween\", \"unbeatable\", \"unbeatable\", \"unlimited\", \"unlimited\", \"unwanted\", \"upgrade\", \"upgrade\", \"use\", \"use\", \"use\", \"use\", \"use\", \"use\", \"use\", \"use\", \"use\", \"use\", \"user\", \"user\", \"user\", \"value\", \"value\", \"versatile\", \"version\", \"version\", \"version\", \"version\", \"version\", \"video\", \"video\", \"video\", \"viewer\", \"viewing\", \"vision\", \"voice\", \"volume\", \"volume\", \"voyage\", \"wall\", \"wallpaper\", \"want\", \"want\", \"want\", \"want\", \"want\", \"want\", \"want\", \"want\", \"want\", \"warranty\", \"warranty\", \"warranty\", \"warranty\", \"watch\", \"watch\", \"watching\", \"web\", \"web\", \"wedding\", \"week\", \"weight\", \"well\", \"well\", \"well\", \"well\", \"well\", \"well\", \"well\", \"well\", \"white\", \"white\", \"white\", \"wife\", \"wifi\", \"wifi\", \"wifi\", \"wii\", \"win\", \"win\", \"win\", \"wireless\", \"wireless\", \"wireless\", \"withstand\", \"wizard\", \"wonderfully\", \"work\", \"work\", \"work\", \"work\", \"work\", \"work\", \"work\", \"worm\", \"worth\", \"worth\", \"worth\", \"worth\", \"worth\", \"worth\", \"worth\", \"worth\", \"worth\", \"wrap\", \"wrapping\", \"wrong\", \"wrong\", \"wrong\", \"wrong\", \"wrong\", \"wrong\", \"xbox\", \"xmas\", \"ya\", \"yay\", \"yay\", \"yay\", \"yeah\", \"year\", \"year\", \"yearly\", \"young\", \"young\", \"young\", \"young\", \"youngster\", \"yr\", \"yrs\", \"yrs\", \"zipper\", \"\\u00a9\"]}, \"R\": 30, \"lambda.step\": 0.01, \"plot.opts\": {\"xlab\": \"PC1\", \"ylab\": \"PC2\"}, \"topic.order\": [3, 6, 13, 1, 4, 11, 14, 15, 5, 7, 12, 10, 8, 9, 2]};\n",
       "\n",
       "function LDAvis_load_lib(url, callback){\n",
       "  var s = document.createElement('script');\n",
       "  s.src = url;\n",
       "  s.async = true;\n",
       "  s.onreadystatechange = s.onload = callback;\n",
       "  s.onerror = function(){console.warn(\"failed to load library \" + url);};\n",
       "  document.getElementsByTagName(\"head\")[0].appendChild(s);\n",
       "}\n",
       "\n",
       "if(typeof(LDAvis) !== \"undefined\"){\n",
       "   // already loaded: just create the visualization\n",
       "   !function(LDAvis){\n",
       "       new LDAvis(\"#\" + \"ldavis_el4586568178931682098578360\", ldavis_el4586568178931682098578360_data);\n",
       "   }(LDAvis);\n",
       "}else if(typeof define === \"function\" && define.amd){\n",
       "   // require.js is available: use it to load d3/LDAvis\n",
       "   require.config({paths: {d3: \"https://cdnjs.cloudflare.com/ajax/libs/d3/3.5.5/d3.min\"}});\n",
       "   require([\"d3\"], function(d3){\n",
       "      window.d3 = d3;\n",
       "      LDAvis_load_lib(\"https://cdn.rawgit.com/bmabey/pyLDAvis/files/ldavis.v1.0.0.js\", function(){\n",
       "        new LDAvis(\"#\" + \"ldavis_el4586568178931682098578360\", ldavis_el4586568178931682098578360_data);\n",
       "      });\n",
       "    });\n",
       "}else{\n",
       "    // require.js not available: dynamically load d3 & LDAvis\n",
       "    LDAvis_load_lib(\"https://cdnjs.cloudflare.com/ajax/libs/d3/3.5.5/d3.min.js\", function(){\n",
       "         LDAvis_load_lib(\"https://cdn.rawgit.com/bmabey/pyLDAvis/files/ldavis.v1.0.0.js\", function(){\n",
       "                 new LDAvis(\"#\" + \"ldavis_el4586568178931682098578360\", ldavis_el4586568178931682098578360_data);\n",
       "            })\n",
       "         });\n",
       "}\n",
       "</script>"
      ],
      "text/plain": [
       "PreparedData(topic_coordinates=              x         y  topics  cluster       Freq\n",
       "topic                                                \n",
       "2     -0.247943 -0.005761       1        1  11.970416\n",
       "5     -0.148115 -0.087153       2        1  10.417922\n",
       "12     0.159268 -0.031917       3        1   9.035160\n",
       "0     -0.049578 -0.108452       4        1   8.295311\n",
       "3     -0.272378  0.224829       5        1   7.595780\n",
       "10     0.089910 -0.154934       6        1   6.739933\n",
       "13    -0.038794 -0.240241       7        1   6.605788\n",
       "14     0.247180  0.038062       8        1   6.228814\n",
       "4      0.193045  0.084073       9        1   5.824438\n",
       "6      0.032520  0.010283      10        1   5.484197\n",
       "11     0.125638  0.004410      11        1   5.362784\n",
       "9      0.092815  0.293484      12        1   4.415195\n",
       "7     -0.126177 -0.126102      13        1   4.328926\n",
       "8      0.057113 -0.041227      14        1   4.309703\n",
       "1     -0.114504  0.140645      15        1   3.385622, topic_info=          Term         Freq        Total Category  logprob  loglift\n",
       "3      battery  9456.000000  9456.000000  Default  30.0000  30.0000\n",
       "21       great  8867.000000  8867.000000  Default  29.0000  29.0000\n",
       "18       price  4991.000000  4991.000000  Default  28.0000  28.0000\n",
       "2072    tablet  7351.000000  7351.000000  Default  27.0000  27.0000\n",
       "84        love  6118.000000  6118.000000  Default  26.0000  26.0000\n",
       "...        ...          ...          ...      ...      ...      ...\n",
       "930    overall    81.192993   372.326111  Topic15  -4.8855   1.8627\n",
       "37    purchase   133.520813  2549.063965  Topic15  -4.3880   0.4364\n",
       "806       free    71.584763   627.647949  Topic15  -5.0114   1.2145\n",
       "8      quality    71.515381  1302.877075  Topic15  -5.0124   0.4832\n",
       "4         item    65.655647   640.444702  Topic15  -5.0979   1.1079\n",
       "\n",
       "[1024 rows x 6 columns], token_table=      Topic      Freq    Term\n",
       "term                         \n",
       "2398      4  0.968444       $\n",
       "2398      6  0.029693       $\n",
       "376       2  0.302859       1\n",
       "376       4  0.106410       1\n",
       "376       9  0.503400       1\n",
       "...     ...       ...     ...\n",
       "1086      9  0.994592      yr\n",
       "2663      3  0.094501     yrs\n",
       "2663     12  0.850505     yrs\n",
       "2310     13  0.914759  zipper\n",
       "3002     15  0.888708       ©\n",
       "\n",
       "[2103 rows x 3 columns], R=30, lambda_step=0.01, plot_opts={'xlab': 'PC1', 'ylab': 'PC2'}, topic_order=[3, 6, 13, 1, 4, 11, 14, 15, 5, 7, 12, 10, 8, 9, 2])"
      ]
     },
     "execution_count": 110,
     "metadata": {},
     "output_type": "execute_result"
    }
   ],
   "source": [
    "pyLDAvis.gensim.prepare(lda, corpora, id2word)"
   ]
  },
  {
   "cell_type": "code",
   "execution_count": 115,
   "metadata": {},
   "outputs": [
    {
     "data": {
      "text/plain": [
       "[(5, 0.92218035)]"
      ]
     },
     "execution_count": 115,
     "metadata": {},
     "output_type": "execute_result"
    }
   ],
   "source": [
    "# What are the documents about?\n",
    "# Eqv. to '.predict' in sklearn\n",
    "# Scoring the topic distribution of a single document\n",
    "\n",
    "lda[corpora[0]]"
   ]
  },
  {
   "cell_type": "code",
   "execution_count": 122,
   "metadata": {},
   "outputs": [
    {
     "data": {
      "text/plain": [
       "list"
      ]
     },
     "execution_count": 122,
     "metadata": {},
     "output_type": "execute_result"
    }
   ],
   "source": [
    "### type(lda) #> gensim LdaMulticore instance\n",
    "### type(lda[corpora]) #> TransformedCorpus\n",
    "### type(lda[corpora][0]) #> List"
   ]
  },
  {
   "cell_type": "code",
   "execution_count": 123,
   "metadata": {},
   "outputs": [],
   "source": [
    "distro = [lda[d] for d in corpora] #> score all docs in corpus"
   ]
  },
  {
   "cell_type": "code",
   "execution_count": 125,
   "metadata": {},
   "outputs": [],
   "source": [
    "def update(doc):\n",
    "    d_dist = {k:0 for k in range (0,15)}\n",
    "    for t in doc:\n",
    "        d_dist[t[0]] = t[1]\n",
    "    return d_dist\n",
    "\n",
    "new_distro = [update(d) for d in distro]"
   ]
  },
  {
   "cell_type": "code",
   "execution_count": 127,
   "metadata": {},
   "outputs": [],
   "source": [
    "doc_topics = pd.DataFrame.from_records(new_distro)\n",
    "doc_topics.columns = topics"
   ]
  },
  {
   "cell_type": "code",
   "execution_count": 128,
   "metadata": {},
   "outputs": [
    {
     "data": {
      "text/html": [
       "<div>\n",
       "<style scoped>\n",
       "    .dataframe tbody tr th:only-of-type {\n",
       "        vertical-align: middle;\n",
       "    }\n",
       "\n",
       "    .dataframe tbody tr th {\n",
       "        vertical-align: top;\n",
       "    }\n",
       "\n",
       "    .dataframe thead th {\n",
       "        text-align: right;\n",
       "    }\n",
       "</style>\n",
       "<table border=\"1\" class=\"dataframe\">\n",
       "  <thead>\n",
       "    <tr style=\"text-align: right;\">\n",
       "      <th></th>\n",
       "      <th>tablet Amazon app Fire $</th>\n",
       "      <th>product excellent good user time</th>\n",
       "      <th>battery long brand buy good</th>\n",
       "      <th>great price good work battery</th>\n",
       "      <th>old year love buy 2</th>\n",
       "      <th>battery charge work use day</th>\n",
       "      <th>tablet kid great good perfect</th>\n",
       "      <th>Amazon come box thank package</th>\n",
       "      <th>tablet use great storage internet</th>\n",
       "      <th>gift love great buy recommend</th>\n",
       "      <th>read book light easy Kindle</th>\n",
       "      <th>kindle Kindle love fire new</th>\n",
       "      <th>game kid app play great</th>\n",
       "      <th>device sound screen Amazon speaker</th>\n",
       "      <th>use love easy tablet buy</th>\n",
       "    </tr>\n",
       "  </thead>\n",
       "  <tbody>\n",
       "    <tr>\n",
       "      <th>0</th>\n",
       "      <td>0.000000</td>\n",
       "      <td>0.000000</td>\n",
       "      <td>0.000000</td>\n",
       "      <td>0.000000</td>\n",
       "      <td>0.000000</td>\n",
       "      <td>0.922180</td>\n",
       "      <td>0.000000</td>\n",
       "      <td>0.000000</td>\n",
       "      <td>0.000000</td>\n",
       "      <td>0.000000</td>\n",
       "      <td>0.000000</td>\n",
       "      <td>0.000000</td>\n",
       "      <td>0.000000</td>\n",
       "      <td>0.000000</td>\n",
       "      <td>0.000000</td>\n",
       "    </tr>\n",
       "    <tr>\n",
       "      <th>1</th>\n",
       "      <td>0.011111</td>\n",
       "      <td>0.177780</td>\n",
       "      <td>0.677772</td>\n",
       "      <td>0.011111</td>\n",
       "      <td>0.011111</td>\n",
       "      <td>0.011111</td>\n",
       "      <td>0.011111</td>\n",
       "      <td>0.011111</td>\n",
       "      <td>0.011111</td>\n",
       "      <td>0.011111</td>\n",
       "      <td>0.011111</td>\n",
       "      <td>0.011111</td>\n",
       "      <td>0.011111</td>\n",
       "      <td>0.011111</td>\n",
       "      <td>0.011111</td>\n",
       "    </tr>\n",
       "    <tr>\n",
       "      <th>2</th>\n",
       "      <td>0.016667</td>\n",
       "      <td>0.016667</td>\n",
       "      <td>0.322898</td>\n",
       "      <td>0.210443</td>\n",
       "      <td>0.016667</td>\n",
       "      <td>0.016667</td>\n",
       "      <td>0.016667</td>\n",
       "      <td>0.016667</td>\n",
       "      <td>0.016667</td>\n",
       "      <td>0.266656</td>\n",
       "      <td>0.016667</td>\n",
       "      <td>0.016667</td>\n",
       "      <td>0.016667</td>\n",
       "      <td>0.016667</td>\n",
       "      <td>0.016667</td>\n",
       "    </tr>\n",
       "    <tr>\n",
       "      <th>3</th>\n",
       "      <td>0.011111</td>\n",
       "      <td>0.011111</td>\n",
       "      <td>0.619844</td>\n",
       "      <td>0.235711</td>\n",
       "      <td>0.011111</td>\n",
       "      <td>0.011111</td>\n",
       "      <td>0.011111</td>\n",
       "      <td>0.011111</td>\n",
       "      <td>0.011111</td>\n",
       "      <td>0.011111</td>\n",
       "      <td>0.011111</td>\n",
       "      <td>0.011111</td>\n",
       "      <td>0.011111</td>\n",
       "      <td>0.011111</td>\n",
       "      <td>0.011111</td>\n",
       "    </tr>\n",
       "    <tr>\n",
       "      <th>4</th>\n",
       "      <td>0.011111</td>\n",
       "      <td>0.011111</td>\n",
       "      <td>0.520895</td>\n",
       "      <td>0.334660</td>\n",
       "      <td>0.011111</td>\n",
       "      <td>0.011111</td>\n",
       "      <td>0.011111</td>\n",
       "      <td>0.011111</td>\n",
       "      <td>0.011111</td>\n",
       "      <td>0.011111</td>\n",
       "      <td>0.011111</td>\n",
       "      <td>0.011111</td>\n",
       "      <td>0.011111</td>\n",
       "      <td>0.011111</td>\n",
       "      <td>0.011111</td>\n",
       "    </tr>\n",
       "  </tbody>\n",
       "</table>\n",
       "</div>"
      ],
      "text/plain": [
       "   tablet Amazon app Fire $  product excellent good user time  \\\n",
       "0                  0.000000                          0.000000   \n",
       "1                  0.011111                          0.177780   \n",
       "2                  0.016667                          0.016667   \n",
       "3                  0.011111                          0.011111   \n",
       "4                  0.011111                          0.011111   \n",
       "\n",
       "   battery long brand buy good  great price good work battery  \\\n",
       "0                     0.000000                       0.000000   \n",
       "1                     0.677772                       0.011111   \n",
       "2                     0.322898                       0.210443   \n",
       "3                     0.619844                       0.235711   \n",
       "4                     0.520895                       0.334660   \n",
       "\n",
       "   old year love buy 2  battery charge work use day  \\\n",
       "0             0.000000                     0.922180   \n",
       "1             0.011111                     0.011111   \n",
       "2             0.016667                     0.016667   \n",
       "3             0.011111                     0.011111   \n",
       "4             0.011111                     0.011111   \n",
       "\n",
       "   tablet kid great good perfect  Amazon come box thank package  \\\n",
       "0                       0.000000                       0.000000   \n",
       "1                       0.011111                       0.011111   \n",
       "2                       0.016667                       0.016667   \n",
       "3                       0.011111                       0.011111   \n",
       "4                       0.011111                       0.011111   \n",
       "\n",
       "   tablet use great storage internet  gift love great buy recommend  \\\n",
       "0                           0.000000                       0.000000   \n",
       "1                           0.011111                       0.011111   \n",
       "2                           0.016667                       0.266656   \n",
       "3                           0.011111                       0.011111   \n",
       "4                           0.011111                       0.011111   \n",
       "\n",
       "   read book light easy Kindle  kindle Kindle love fire new  \\\n",
       "0                     0.000000                     0.000000   \n",
       "1                     0.011111                     0.011111   \n",
       "2                     0.016667                     0.016667   \n",
       "3                     0.011111                     0.011111   \n",
       "4                     0.011111                     0.011111   \n",
       "\n",
       "   game kid app play great  device sound screen Amazon speaker  \\\n",
       "0                 0.000000                            0.000000   \n",
       "1                 0.011111                            0.011111   \n",
       "2                 0.016667                            0.016667   \n",
       "3                 0.011111                            0.011111   \n",
       "4                 0.011111                            0.011111   \n",
       "\n",
       "   use love easy tablet buy  \n",
       "0                  0.000000  \n",
       "1                  0.011111  \n",
       "2                  0.016667  \n",
       "3                  0.011111  \n",
       "4                  0.011111  "
      ]
     },
     "execution_count": 128,
     "metadata": {},
     "output_type": "execute_result"
    }
   ],
   "source": [
    "doc_topics.head()"
   ]
  },
  {
   "cell_type": "code",
   "execution_count": 129,
   "metadata": {},
   "outputs": [],
   "source": [
    "doc_topics['primary_topic'] = doc_topics.idxmax(axis=1)"
   ]
  },
  {
   "cell_type": "code",
   "execution_count": 130,
   "metadata": {},
   "outputs": [
    {
     "data": {
      "text/plain": [
       "great price good work battery         4752\n",
       "battery long brand buy good           4440\n",
       "game kid app play great               2421\n",
       "battery charge work use day           2155\n",
       "use love easy tablet buy              2125\n",
       "tablet Amazon app Fire $              1668\n",
       "tablet kid great good perfect         1639\n",
       "read book light easy Kindle           1530\n",
       "gift love great buy recommend         1381\n",
       "old year love buy 2                   1347\n",
       "kindle Kindle love fire new           1248\n",
       "device sound screen Amazon speaker     995\n",
       "tablet use great storage internet      993\n",
       "product excellent good user time       857\n",
       "Amazon come box thank package          781\n",
       "Name: primary_topic, dtype: int64"
      ]
     },
     "execution_count": 130,
     "metadata": {},
     "output_type": "execute_result"
    }
   ],
   "source": [
    "doc_topics['primary_topic'].value_counts() #> getting idea of most important topics"
   ]
  },
  {
   "cell_type": "markdown",
   "metadata": {},
   "source": [
    "## Selecting the Number of Topics"
   ]
  },
  {
   "cell_type": "code",
   "execution_count": null,
   "metadata": {},
   "outputs": [],
   "source": [
    "from gensim.models.coherencemodel import CoherenceModel\n",
    "\n",
    "def compute_coherence_values(dictionary, corpus, limit, start=2, step=3, passes=5):\n",
    "    \"\"\"\n",
    "    Compute u_mass coherence for various number of topics\n",
    "\n",
    "    Parameters:\n",
    "    ----------\n",
    "    dictionary : Gensim dictionary\n",
    "    corpus : Gensim corpus\n",
    "    limit : Max num of topics\n",
    "    passes: the number of times the entire lda model & coherence values are calculated\n",
    "\n",
    "    Returns:\n",
    "    -------\n",
    "    coherence_values : Coherence values corresponding to the LDA model with respective number of topics\n",
    "    \"\"\"\n",
    "    \n",
    "    coherence_values = []\n",
    "    \n",
    "    for iter_ in range(passes):\n",
    "        for num_topics in range(start, limit, step):\n",
    "            model = LdaMulticore(corpus=corpus, num_topics=num_topics, id2word=dictionary, workers=12)\n",
    "            coherencemodel = CoherenceModel(model=model,dictionary=dictionary,corpus=corpus, coherence='u_mass')\n",
    "            coherence_values.append({'pass': iter_, \n",
    "                                     'num_topics': num_topics, \n",
    "                                     'coherence_score': coherencemodel.get_coherence()\n",
    "                                    })\n",
    "\n",
    "    return coherence_values"
   ]
  },
  {
   "cell_type": "code",
   "execution_count": null,
   "metadata": {},
   "outputs": [],
   "source": [
    "# Can take a long time to run.\n",
    "coherence_values = compute_coherence_values(dictionary=id2word, \n",
    "                                                        corpus=corpora,\n",
    "                                                        start=3, \n",
    "                                                        limit=40, \n",
    "                                                        step=2,\n",
    "                                                        passes=1)"
   ]
  },
  {
   "cell_type": "markdown",
   "metadata": {},
   "source": [
    "## Stretch Goals\n",
    "\n",
    "* Incorporate Named Entity Recognition in your analysis\n",
    "* Incorporate some custom pre-processing from our previous lessons (like spacy lemmatization)\n",
    "* Analyze a dataset of interest to you with topic modeling"
   ]
  }
 ],
 "metadata": {
  "kernelspec": {
   "display_name": "U4-S1-NLP (Python3)",
   "language": "python",
   "name": "u4-s1-nlp"
  },
  "language_info": {
   "codemirror_mode": {
    "name": "ipython",
    "version": 3
   },
   "file_extension": ".py",
   "mimetype": "text/x-python",
   "name": "python",
   "nbconvert_exporter": "python",
   "pygments_lexer": "ipython3",
   "version": "3.8.0"
  }
 },
 "nbformat": 4,
 "nbformat_minor": 4
}
